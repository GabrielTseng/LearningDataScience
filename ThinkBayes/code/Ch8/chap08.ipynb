{
 "cells": [
  {
   "cell_type": "markdown",
   "metadata": {},
   "source": [
    "# Think Bayes: Chapter 8\n",
    "\n",
    "Note: this exercise has been taken from the Think Bayes [book](http://www.greenteapress.com/thinkbayes/thinkbayes.pdf)"
   ]
  },
  {
   "cell_type": "code",
   "execution_count": 1,
   "metadata": {
    "collapsed": true
   },
   "outputs": [],
   "source": [
    "from __future__ import print_function, division\n",
    "\n",
    "% matplotlib inline\n",
    "import warnings\n",
    "warnings.filterwarnings('ignore')\n",
    "\n",
    "import math\n",
    "import numpy as np\n",
    "\n",
    "import os, sys\n",
    "\n",
    "sys.path.insert(1, os.path.join(sys.path[0], '..'))\n",
    "from thinkbayes2 import Pmf, Cdf, Suite, Joint\n",
    "import thinkplot"
   ]
  },
  {
   "cell_type": "markdown",
   "metadata": {},
   "source": [
    "** Question **\n",
    "\n",
    "Unstable particles are emitted from a source and decay at a distance x, a\n",
    "real number that has an exponential probability distribution with [parameter]\n",
    "λ. Decay events can only be observed if they occur in a window\n",
    "extending from x = 1 cm to x = 20 cm. N decays are observed at\n",
    "locations {1.5, 2, 3, 4, 5, 12} cm. What is the posterior distribution of\n",
    "λ?"
   ]
  },
  {
   "cell_type": "markdown",
   "metadata": {},
   "source": [
    "** Solution **\n",
    "\n",
    "During the hockey problem, where the exponential distribution described the time between goals (in games), the $\\lambda$ parameter described the average number of goals per game.\n",
    "\n",
    "Here, the exponential distribution describes the 'distance between decay events', so analogously the $\\lambda$ parameter would describe the average number of decay events per unit distance.\n",
    "\n",
    "A decay event will only be observed if it occurs between 1 and 20 cm from the decay source; without more information, I'll assume my posterior of $\\lambda$ to be a uniform distribution between $\\frac{1}{20}$ and 1."
   ]
  },
  {
   "cell_type": "code",
   "execution_count": 2,
   "metadata": {},
   "outputs": [],
   "source": [
    "from thinkbayes2 import MakeExponentialPmf, MakeUniformPmf"
   ]
  },
  {
   "cell_type": "code",
   "execution_count": 3,
   "metadata": {
    "collapsed": true
   },
   "outputs": [],
   "source": [
    "def EvalExponentialPdf(x, lam):\n",
    "    return lam * math.exp(-lam * x)"
   ]
  },
  {
   "cell_type": "code",
   "execution_count": 4,
   "metadata": {
    "collapsed": true
   },
   "outputs": [],
   "source": [
    "class ParticleLam(Suite):\n",
    "    def __init__(self):\n",
    "        pmf = MakeUniformPmf(low=1/20, high=1, n=101)\n",
    "        Suite.__init__(self, pmf)\n",
    "        \n",
    "    def Likelihood(self, data, hypo):\n",
    "        lam = hypo\n",
    "        like = EvalExponentialPdf(x=data, lam=lam)\n",
    "        return like"
   ]
  },
  {
   "cell_type": "code",
   "execution_count": 5,
   "metadata": {},
   "outputs": [
    {
     "data": {
      "text/plain": [
       "6.3071025122425967e-08"
      ]
     },
     "execution_count": 5,
     "metadata": {},
     "output_type": "execute_result"
    }
   ],
   "source": [
    "particle_lam = ParticleLam()\n",
    "particle_lam.UpdateSet((1.5, 2, 3, 4, 5, 12))"
   ]
  },
  {
   "cell_type": "code",
   "execution_count": 6,
   "metadata": {},
   "outputs": [
    {
     "data": {
      "image/png": "[encoded data removed]",
      "text/plain": [
       "<matplotlib.figure.Figure at 0x105163710>"
      ]
     },
     "metadata": {},
     "output_type": "display_data"
    }
   ],
   "source": [
    "thinkplot.Pmf(MakeUniformPmf(low=1/20, high=1, n=101), label='Prior')\n",
    "thinkplot.Pmf(particle_lam, label='Posterior')\n",
    "thinkplot.Config(xlabel='Values of $\\lambda$', ylabel='Probability')"
   ]
  }
 ],
 "metadata": {
  "kernelspec": {
   "display_name": "Python 3",
   "language": "python",
   "name": "python3"
  },
  "language_info": {
   "codemirror_mode": {
    "name": "ipython",
    "version": 2
   },
   "file_extension": ".py",
   "mimetype": "text/x-python",
   "name": "python",
   "nbconvert_exporter": "python",
   "pygments_lexer": "ipython2",
   "version": "2.7.13"
  }
 },
 "nbformat": 4,
 "nbformat_minor": 2
}
