{
 "cells": [
  {
   "cell_type": "markdown",
   "metadata": {},
   "source": [
    "# Exploring MovieLens : A Deep and Wide model\n"
   ]
  },
  {
   "cell_type": "code",
   "execution_count": 1,
   "metadata": {
    "collapsed": false
   },
   "outputs": [
    {
     "name": "stderr",
     "output_type": "stream",
     "text": [
      "Using Theano backend.\n",
      "WARNING (theano.sandbox.cuda): The cuda backend is deprecated and will be removed in the next release (v0.10).  Please switch to the gpuarray backend. You can get more information about how to switch at this URL:\n",
      " https://github.com/Theano/Theano/wiki/Converting-to-the-new-gpu-back-end%28gpuarray%29\n",
      "\n",
      "Using gpu device 0: Tesla K80 (CNMeM is disabled, cuDNN 5103)\n"
     ]
    }
   ],
   "source": [
    "import pandas as pd\n",
    "import numpy as np \n",
    "\n",
    "from sklearn.cluster import AffinityPropagation, KMeans\n",
    "from sklearn.decomposition import PCA\n",
    "from sklearn.manifold import TSNE\n",
    "\n",
    "from mpl_toolkits.mplot3d import Axes3D\n",
    "import matplotlib.pyplot as plt\n",
    "import matplotlib.lines as mlines\n",
    "\n",
    "from scipy import stats\n",
    "from scipy.spatial.distance import pdist\n",
    "\n",
    "from mpl_toolkits.axes_grid1.inset_locator import zoomed_inset_axes\n",
    "from mpl_toolkits.axes_grid1.inset_locator import mark_inset\n",
    "\n",
    "from itertools import cycle\n",
    "\n",
    "import string\n",
    "\n",
    "from collections import Counter\n",
    "\n",
    "from keras.layers.embeddings import Embedding\n",
    "from keras.layers import Input, merge\n",
    "from keras.models import Model\n",
    "from keras.layers.core import Flatten, Dropout, Dense\n",
    "from keras.optimizers import Adam\n",
    "from keras.layers.normalization import BatchNormalization\n",
    "\n",
    "from keras.regularizers import l1, l2\n",
    "\n",
    "from keras.layers.recurrent import GRU, LSTM\n",
    "\n",
    "from keras import backend as K"
   ]
  },
  {
   "cell_type": "markdown",
   "metadata": {},
   "source": [
    "## Importing the data"
   ]
  },
  {
   "cell_type": "code",
   "execution_count": 2,
   "metadata": {
    "collapsed": false
   },
   "outputs": [
    {
     "data": {
      "text/plain": [
       "(   userId  movieId  rating   timestamp\n",
       " 0       1       31     2.5  1260759144\n",
       " 1       1     1029     3.0  1260759179\n",
       " 2       1     1061     3.0  1260759182\n",
       " 3       1     1129     2.0  1260759185\n",
       " 4       1     1172     4.0  1260759205,\n",
       "    movieId                               title  \\\n",
       " 0        1                    Toy Story (1995)   \n",
       " 1        2                      Jumanji (1995)   \n",
       " 2        3             Grumpier Old Men (1995)   \n",
       " 3        4            Waiting to Exhale (1995)   \n",
       " 4        5  Father of the Bride Part II (1995)   \n",
       " \n",
       "                                         genres  \n",
       " 0  Adventure|Animation|Children|Comedy|Fantasy  \n",
       " 1                   Adventure|Children|Fantasy  \n",
       " 2                               Comedy|Romance  \n",
       " 3                         Comedy|Drama|Romance  \n",
       " 4                                       Comedy  )"
      ]
     },
     "execution_count": 2,
     "metadata": {},
     "output_type": "execute_result"
    }
   ],
   "source": [
    "org_ratings = pd.read_csv('data/MovieLens/ratings.csv')\n",
    "org_movies = pd.read_csv('data/MovieLens/movies.csv')\n",
    "org_ratings.head(), org_movies.head()"
   ]
  },
  {
   "cell_type": "code",
   "execution_count": 3,
   "metadata": {
    "collapsed": false
   },
   "outputs": [
    {
     "data": {
      "text/plain": [
       "(671, 9066, 10)"
      ]
     },
     "execution_count": 3,
     "metadata": {},
     "output_type": "execute_result"
    }
   ],
   "source": [
    "users = org_ratings.userId.unique()\n",
    "movies = org_ratings.movieId.unique()\n",
    "rating = org_ratings.rating.unique()\n",
    "len(users), len(movies), len(rating)"
   ]
  },
  {
   "cell_type": "code",
   "execution_count": 4,
   "metadata": {
    "collapsed": true
   },
   "outputs": [],
   "source": [
    "userid2idx = {o:i for i,o in enumerate(users)}\n",
    "movieid2idx = {o:i for i,o in enumerate(movies)}\n",
    "movieidx2id = {i:o for i,o in enumerate(movies)}"
   ]
  },
  {
   "cell_type": "code",
   "execution_count": 5,
   "metadata": {
    "collapsed": true
   },
   "outputs": [],
   "source": [
    "new_ratings = org_ratings.copy()\n",
    "\n",
    "new_ratings.movieId = org_ratings.movieId.apply(lambda x: movieid2idx[x])\n",
    "new_ratings.userId = org_ratings.userId.apply(lambda x: userid2idx[x])"
   ]
  },
  {
   "cell_type": "code",
   "execution_count": 6,
   "metadata": {
    "collapsed": true
   },
   "outputs": [],
   "source": [
    "new_ratings = new_ratings.drop('timestamp', axis = 1)"
   ]
  },
  {
   "cell_type": "code",
   "execution_count": 7,
   "metadata": {
    "collapsed": true
   },
   "outputs": [],
   "source": [
    "msk = np.random.rand(len(new_ratings)) < 0.8\n",
    "\n",
    "train = new_ratings[msk]\n",
    "valid = new_ratings[~msk]"
   ]
  },
  {
   "cell_type": "code",
   "execution_count": 8,
   "metadata": {
    "collapsed": false
   },
   "outputs": [
    {
     "name": "stdout",
     "output_type": "stream",
     "text": [
      "((80194, 3), (19810, 3))\n",
      "   userId  movieId  rating\n",
      "0       0        0     2.5\n",
      "1       0        1     3.0\n",
      "2       0        2     3.0\n",
      "4       0        4     4.0\n",
      "5       0        5     2.0\n"
     ]
    }
   ],
   "source": [
    "print(train.shape, valid.shape)\n",
    "print(train.head())"
   ]
  },
  {
   "cell_type": "markdown",
   "metadata": {},
   "source": [
    "## Training a wide an deep neural net "
   ]
  },
  {
   "cell_type": "code",
   "execution_count": 39,
   "metadata": {
    "collapsed": false
   },
   "outputs": [],
   "source": [
    "# Multi layer LSTM model\n",
    "\n",
    "user_input = Input(shape=(1,), dtype='float32', name='user_input')\n",
    "movie_input = Input(shape = (1,), dtype = 'float32', name = 'movie_input')\n",
    "\n",
    "#The 'deep' part of the neural net\n",
    "user_embed = Embedding(len(users), 55, input_length =1)(user_input)\n",
    "movie_embed = Embedding(len(movies), 55, input_length =1)(movie_input)\n",
    "x = merge([user_embed, movie_embed], mode='concat')\n",
    "\n",
    "x = Dropout(0.8)(x)\n",
    "BatchNormalization()\n",
    "x = LSTM(40)(x)\n",
    "x = Dropout(0.8)(x)\n",
    "BatchNormalization()\n",
    "\n",
    "#The 'wide' part of the neural net \n",
    "y = merge([user_input, movie_input], mode = 'concat', name = 'wide_layer')\n",
    "\n",
    "y = Dense(2)(y)\n",
    "y = Dropout(0.8)(y)\n",
    "BatchNormalization()\n",
    "\n",
    "final = merge([x, y], mode = 'concat', name = 'final_merge')\n",
    "BatchNormalization()\n",
    "\n",
    "preds = Dense(1)(final)\n",
    "\n",
    "deepwide_nn = Model([user_input, movie_input], preds)\n",
    "deepwide_nn.compile(Adam(0.001), loss='mse')"
   ]
  },
  {
   "cell_type": "code",
   "execution_count": 37,
   "metadata": {
    "collapsed": false
   },
   "outputs": [
    {
     "name": "stdout",
     "output_type": "stream",
     "text": [
      "____________________________________________________________________________________________________\n",
      "Layer (type)                     Output Shape          Param #     Connected to                     \n",
      "====================================================================================================\n",
      "user_input (InputLayer)          (None, 1)             0                                            \n",
      "____________________________________________________________________________________________________\n",
      "movie_input (InputLayer)         (None, 1)             0                                            \n",
      "____________________________________________________________________________________________________\n",
      "embedding_23 (Embedding)         (None, 1, 55)         36905       user_input[0][0]                 \n",
      "____________________________________________________________________________________________________\n",
      "embedding_24 (Embedding)         (None, 1, 55)         498630      movie_input[0][0]                \n",
      "____________________________________________________________________________________________________\n",
      "merge_22 (Merge)                 (None, 1, 110)        0           embedding_23[0][0]               \n",
      "                                                                   embedding_24[0][0]               \n",
      "____________________________________________________________________________________________________\n",
      "dropout_23 (Dropout)             (None, 1, 110)        0           merge_22[0][0]                   \n",
      "____________________________________________________________________________________________________\n",
      "lstm_12 (LSTM)                   (None, 40)            24160       dropout_23[0][0]                 \n",
      "____________________________________________________________________________________________________\n",
      "dropout_24 (Dropout)             (None, 40)            0           lstm_12[0][0]                    \n",
      "____________________________________________________________________________________________________\n",
      "wide_layer (Merge)               (None, 2)             0           user_input[0][0]                 \n",
      "                                                                   movie_input[0][0]                \n",
      "____________________________________________________________________________________________________\n",
      "final_merge (Merge)              (None, 42)            0           dropout_24[0][0]                 \n",
      "                                                                   wide_layer[0][0]                 \n",
      "____________________________________________________________________________________________________\n",
      "dense_12 (Dense)                 (None, 1)             43          final_merge[0][0]                \n",
      "====================================================================================================\n",
      "Total params: 559,738\n",
      "Trainable params: 559,738\n",
      "Non-trainable params: 0\n",
      "____________________________________________________________________________________________________\n"
     ]
    }
   ],
   "source": [
    "deepwide_nn.summary()"
   ]
  },
  {
   "cell_type": "code",
   "execution_count": 40,
   "metadata": {
    "collapsed": false
   },
   "outputs": [
    {
     "name": "stdout",
     "output_type": "stream",
     "text": [
      "Train on 80194 samples, validate on 19810 samples\n",
      "Epoch 1/10\n",
      "80194/80194 [==============================] - 13s - loss: 577008.0162 - val_loss: 135.3444\n",
      "Epoch 2/10\n",
      "80194/80194 [==============================] - 13s - loss: 194.3416 - val_loss: 27.0442\n",
      "Epoch 3/10\n",
      "80194/80194 [==============================] - 13s - loss: 19.8109 - val_loss: 5.8146\n",
      "Epoch 4/10\n",
      "80194/80194 [==============================] - 13s - loss: 6.7377 - val_loss: 2.4411\n",
      "Epoch 5/10\n",
      "80194/80194 [==============================] - 13s - loss: 4.0549 - val_loss: 1.7613\n",
      "Epoch 6/10\n",
      "80194/80194 [==============================] - 13s - loss: 3.0887 - val_loss: 1.4030\n",
      "Epoch 7/10\n",
      "80194/80194 [==============================] - 13s - loss: 2.6257 - val_loss: 1.2682\n",
      "Epoch 8/10\n",
      "80194/80194 [==============================] - 13s - loss: 2.3438 - val_loss: 1.1066\n",
      "Epoch 9/10\n",
      "80194/80194 [==============================] - 13s - loss: 2.1175 - val_loss: 0.9598\n",
      "Epoch 10/10\n",
      "80194/80194 [==============================] - 13s - loss: 1.9428 - val_loss: 0.8915\n"
     ]
    }
   ],
   "source": [
    "deepwide_hist = deepwide_nn.fit([train.userId, train.movieId], train.rating, batch_size=64, nb_epoch=10, \n",
    "          validation_data=([valid.userId, valid.movieId], valid.rating))"
   ]
  },
  {
   "cell_type": "code",
   "execution_count": 41,
   "metadata": {
    "collapsed": true
   },
   "outputs": [],
   "source": [
    "deepwide_nn.compile(Adam(0.0001), loss='mse')"
   ]
  },
  {
   "cell_type": "code",
   "execution_count": 42,
   "metadata": {
    "collapsed": false
   },
   "outputs": [
    {
     "name": "stdout",
     "output_type": "stream",
     "text": [
      "Train on 80194 samples, validate on 19810 samples\n",
      "Epoch 1/10\n",
      "80194/80194 [==============================] - 15s - loss: 1.6964 - val_loss: 0.9553\n",
      "Epoch 2/10\n",
      "80194/80194 [==============================] - 13s - loss: 1.6275 - val_loss: 0.9662\n",
      "Epoch 3/10\n",
      "80194/80194 [==============================] - 13s - loss: 1.5579 - val_loss: 0.8704\n",
      "Epoch 4/10\n",
      "80194/80194 [==============================] - 13s - loss: 1.4958 - val_loss: 0.8630\n",
      "Epoch 5/10\n",
      "80194/80194 [==============================] - 13s - loss: 1.4428 - val_loss: 0.8786\n",
      "Epoch 6/10\n",
      "80194/80194 [==============================] - 13s - loss: 1.3843 - val_loss: 0.8678\n",
      "Epoch 7/10\n",
      "80194/80194 [==============================] - 13s - loss: 1.3449 - val_loss: 0.8476\n",
      "Epoch 8/10\n",
      "80194/80194 [==============================] - 13s - loss: 1.2815 - val_loss: 0.8857\n",
      "Epoch 9/10\n",
      "80194/80194 [==============================] - 13s - loss: 1.2481 - val_loss: 0.8436\n",
      "Epoch 10/10\n",
      "80194/80194 [==============================] - 13s - loss: 1.2060 - val_loss: 0.8500\n"
     ]
    }
   ],
   "source": [
    "deepwide_hist2 = deepwide_nn.fit([train.userId, train.movieId], train.rating, batch_size=64, nb_epoch=10, \n",
    "          validation_data=([valid.userId, valid.movieId], valid.rating))"
   ]
  },
  {
   "cell_type": "code",
   "execution_count": 43,
   "metadata": {
    "collapsed": false
   },
   "outputs": [
    {
     "name": "stdout",
     "output_type": "stream",
     "text": [
      "Train on 80194 samples, validate on 19810 samples\n",
      "Epoch 1/10\n",
      "80194/80194 [==============================] - 13s - loss: 1.1634 - val_loss: 0.8317\n",
      "Epoch 2/10\n",
      "80194/80194 [==============================] - 13s - loss: 1.1344 - val_loss: 0.8291\n",
      "Epoch 3/10\n",
      "80194/80194 [==============================] - 13s - loss: 1.0966 - val_loss: 0.8297\n",
      "Epoch 4/10\n",
      "80194/80194 [==============================] - 13s - loss: 1.0668 - val_loss: 0.8298\n",
      "Epoch 5/10\n",
      "80194/80194 [==============================] - 13s - loss: 1.0409 - val_loss: 0.8212\n",
      "Epoch 6/10\n",
      "80194/80194 [==============================] - 13s - loss: 1.0150 - val_loss: 0.8183\n",
      "Epoch 7/10\n",
      "80194/80194 [==============================] - 13s - loss: 0.9876 - val_loss: 0.8280\n",
      "Epoch 8/10\n",
      "80194/80194 [==============================] - 13s - loss: 0.9611 - val_loss: 0.8357\n",
      "Epoch 9/10\n",
      "80194/80194 [==============================] - 13s - loss: 0.9483 - val_loss: 0.8150\n",
      "Epoch 10/10\n",
      "80194/80194 [==============================] - 13s - loss: 0.9253 - val_loss: 0.8127\n"
     ]
    }
   ],
   "source": [
    "deepwide_hist3 = deepwide_nn.fit([train.userId, train.movieId], train.rating, batch_size=64, nb_epoch=10, \n",
    "          validation_data=([valid.userId, valid.movieId], valid.rating))"
   ]
  },
  {
   "cell_type": "code",
   "execution_count": 44,
   "metadata": {
    "collapsed": false
   },
   "outputs": [
    {
     "name": "stdout",
     "output_type": "stream",
     "text": [
      "Train on 80194 samples, validate on 19810 samples\n",
      "Epoch 1/10\n",
      "80194/80194 [==============================] - 13s - loss: 0.9123 - val_loss: 0.8134\n",
      "Epoch 2/10\n",
      "80194/80194 [==============================] - 13s - loss: 0.8963 - val_loss: 0.8084\n",
      "Epoch 3/10\n",
      "80194/80194 [==============================] - 13s - loss: 0.8836 - val_loss: 0.8088\n",
      "Epoch 4/10\n",
      "80194/80194 [==============================] - 13s - loss: 0.8715 - val_loss: 0.8079\n",
      "Epoch 5/10\n",
      "80194/80194 [==============================] - 13s - loss: 0.8612 - val_loss: 0.8052\n",
      "Epoch 6/10\n",
      "80194/80194 [==============================] - 13s - loss: 0.8526 - val_loss: 0.8024\n",
      "Epoch 7/10\n",
      "80194/80194 [==============================] - 13s - loss: 0.8396 - val_loss: 0.8017\n",
      "Epoch 8/10\n",
      "80194/80194 [==============================] - 13s - loss: 0.8348 - val_loss: 0.8001\n",
      "Epoch 9/10\n",
      "80194/80194 [==============================] - 13s - loss: 0.8346 - val_loss: 0.8000\n",
      "Epoch 10/10\n",
      "80194/80194 [==============================] - 13s - loss: 0.8228 - val_loss: 0.7977\n"
     ]
    }
   ],
   "source": [
    "deepwide_hist4 = deepwide_nn.fit([train.userId, train.movieId], train.rating, batch_size=64, nb_epoch=10, \n",
    "          validation_data=([valid.userId, valid.movieId], valid.rating))"
   ]
  },
  {
   "cell_type": "code",
   "execution_count": 45,
   "metadata": {
    "collapsed": false
   },
   "outputs": [
    {
     "name": "stdout",
     "output_type": "stream",
     "text": [
      "Train on 80194 samples, validate on 19810 samples\n",
      "Epoch 1/5\n",
      "80194/80194 [==============================] - 13s - loss: 0.8160 - val_loss: 0.7976\n",
      "Epoch 2/5\n",
      "80194/80194 [==============================] - 13s - loss: 0.8164 - val_loss: 0.7981\n",
      "Epoch 3/5\n",
      "80194/80194 [==============================] - 13s - loss: 0.8084 - val_loss: 0.7959\n",
      "Epoch 4/5\n",
      "80194/80194 [==============================] - 13s - loss: 0.8060 - val_loss: 0.7940\n",
      "Epoch 5/5\n",
      "80194/80194 [==============================] - 13s - loss: 0.7991 - val_loss: 0.7927\n"
     ]
    }
   ],
   "source": [
    "deepwide_hist5 = deepwide_nn.fit([train.userId, train.movieId], train.rating, batch_size=64, nb_epoch=5, \n",
    "          validation_data=([valid.userId, valid.movieId], valid.rating))"
   ]
  },
  {
   "cell_type": "code",
   "execution_count": 46,
   "metadata": {
    "collapsed": false
   },
   "outputs": [
    {
     "name": "stdout",
     "output_type": "stream",
     "text": [
      "Train on 80194 samples, validate on 19810 samples\n",
      "Epoch 1/5\n",
      "80194/80194 [==============================] - 13s - loss: 0.7966 - val_loss: 0.7917\n",
      "Epoch 2/5\n",
      "80194/80194 [==============================] - 13s - loss: 0.7970 - val_loss: 0.7919\n",
      "Epoch 3/5\n",
      "80194/80194 [==============================] - 13s - loss: 0.7910 - val_loss: 0.7904\n",
      "Epoch 4/5\n",
      "80194/80194 [==============================] - 13s - loss: 0.7862 - val_loss: 0.7915\n",
      "Epoch 5/5\n",
      "80194/80194 [==============================] - 13s - loss: 0.7818 - val_loss: 0.7905\n"
     ]
    }
   ],
   "source": [
    "deepwide_hist6 = deepwide_nn.fit([train.userId, train.movieId], train.rating, batch_size=64, nb_epoch=5, \n",
    "          validation_data=([valid.userId, valid.movieId], valid.rating))"
   ]
  },
  {
   "cell_type": "code",
   "execution_count": 47,
   "metadata": {
    "collapsed": true
   },
   "outputs": [],
   "source": [
    "deepwide_nn.compile(Adam(0.00001), loss='mse')"
   ]
  },
  {
   "cell_type": "code",
   "execution_count": 48,
   "metadata": {
    "collapsed": false
   },
   "outputs": [
    {
     "name": "stdout",
     "output_type": "stream",
     "text": [
      "Train on 80194 samples, validate on 19810 samples\n",
      "Epoch 1/5\n",
      "80194/80194 [==============================] - 13s - loss: 0.7803 - val_loss: 0.7899\n",
      "Epoch 2/5\n",
      "80194/80194 [==============================] - 13s - loss: 0.7782 - val_loss: 0.7894\n",
      "Epoch 3/5\n",
      "80194/80194 [==============================] - 13s - loss: 0.7797 - val_loss: 0.7892\n",
      "Epoch 4/5\n",
      "80194/80194 [==============================] - 13s - loss: 0.7762 - val_loss: 0.7892\n",
      "Epoch 5/5\n",
      "80194/80194 [==============================] - 13s - loss: 0.7804 - val_loss: 0.7888\n"
     ]
    }
   ],
   "source": [
    "deepwide_hist7 = deepwide_nn.fit([train.userId, train.movieId], train.rating, batch_size=64, nb_epoch=5, \n",
    "          validation_data=([valid.userId, valid.movieId], valid.rating))"
   ]
  },
  {
   "cell_type": "code",
   "execution_count": 49,
   "metadata": {
    "collapsed": false
   },
   "outputs": [
    {
     "name": "stdout",
     "output_type": "stream",
     "text": [
      "Train on 80194 samples, validate on 19810 samples\n",
      "Epoch 1/5\n",
      "80194/80194 [==============================] - 13s - loss: 0.7814 - val_loss: 0.7891\n",
      "Epoch 2/5\n",
      "80194/80194 [==============================] - 13s - loss: 0.7773 - val_loss: 0.7886\n",
      "Epoch 3/5\n",
      "80194/80194 [==============================] - 13s - loss: 0.7802 - val_loss: 0.7889\n",
      "Epoch 4/5\n",
      "80194/80194 [==============================] - 13s - loss: 0.7814 - val_loss: 0.7886\n",
      "Epoch 5/5\n",
      "80194/80194 [==============================] - 13s - loss: 0.7807 - val_loss: 0.7890\n"
     ]
    }
   ],
   "source": [
    "deepwide_hist8 = deepwide_nn.fit([train.userId, train.movieId], train.rating, batch_size=64, nb_epoch=5, \n",
    "          validation_data=([valid.userId, valid.movieId], valid.rating))"
   ]
  },
  {
   "cell_type": "code",
   "execution_count": 51,
   "metadata": {
    "collapsed": false
   },
   "outputs": [
    {
     "data": {
      "text/plain": [
       "<matplotlib.figure.Figure at 0x7f556e7954d0>"
      ]
     },
     "metadata": {},
     "output_type": "display_data"
    },
    {
     "data": {
      "image/png": "[encoded data removed]",
      "text/plain": [
       "<matplotlib.figure.Figure at 0x7f556e795a90>"
      ]
     },
     "metadata": {},
     "output_type": "display_data"
    }
   ],
   "source": [
    "val_loss = deepwide_hist2.history['val_loss'] + deepwide_hist3.history['val_loss'] + deepwide_hist4.history['val_loss'] + deepwide_hist5.history['val_loss'] + deepwide_hist6.history['val_loss'] + deepwide_hist7.history['val_loss']\n",
    "\n",
    "loss = deepwide_hist2.history['loss'] + deepwide_hist3.history['loss'] + deepwide_hist4.history['loss'] + deepwide_hist5.history['loss'] + deepwide_hist6.history['loss'] + deepwide_hist7.history['loss']    \n",
    "    \n",
    "plt.clf()\n",
    "plt.figure(figsize = (10,7))\n",
    "plt.plot(val_loss, label = 'validation loss')\n",
    "plt.plot(loss, label = 'loss')\n",
    "plt.legend()\n",
    "plt.xlabel('Epochs')\n",
    "plt.ylabel('MSE loss')\n",
    "plt.show()"
   ]
  },
  {
   "cell_type": "code",
   "execution_count": null,
   "metadata": {
    "collapsed": true
   },
   "outputs": [],
   "source": []
  }
 ],
 "metadata": {
  "anaconda-cloud": {},
  "kernelspec": {
   "display_name": "Python 2",
   "language": "python",
   "name": "python2"
  },
  "language_info": {
   "codemirror_mode": {
    "name": "ipython",
    "version": 2
   },
   "file_extension": ".py",
   "mimetype": "text/x-python",
   "name": "python",
   "nbconvert_exporter": "python",
   "pygments_lexer": "ipython2",
   "version": "2.7.13"
  }
 },
 "nbformat": 4,
 "nbformat_minor": 1
}
