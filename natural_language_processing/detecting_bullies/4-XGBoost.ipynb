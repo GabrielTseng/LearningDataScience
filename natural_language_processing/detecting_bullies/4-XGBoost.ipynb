{
 "cells": [
  {
   "cell_type": "markdown",
   "metadata": {},
   "source": [
    "# Detecting Insults in Social Commentary\n",
    "\n",
    "Because this dataset is far too small to use a neural network (which was my last approach to NLP), I'm going to experiment with some machine learning algorithms from scikit-learn to identify insults in social commentary.\n",
    "\n",
    "When this competition ran on Kaggle 5 years ago, the best AUC ROC score was 0.84249 on the private test set (which I also have access to, and will be using as my test set). Let's see if, using all of the new tools available (i.e. GloVe vectrs), I can better this score.\n",
    "\n",
    "## XGBoost"
   ]
  },
  {
   "cell_type": "code",
   "execution_count": 24,
   "metadata": {
    "collapsed": false
   },
   "outputs": [],
   "source": [
    "% matplotlib inline\n",
    "\n",
    "import pandas as pd \n",
    "import numpy as np \n",
    "\n",
    "import matplotlib.pyplot as plt\n",
    "\n",
    "import xgboost as xgb\n",
    "\n",
    "from sklearn.metrics import roc_auc_score\n",
    "\n",
    "from tqdm import *"
   ]
  },
  {
   "cell_type": "markdown",
   "metadata": {},
   "source": [
    "Loading the data"
   ]
  },
  {
   "cell_type": "code",
   "execution_count": 106,
   "metadata": {
    "collapsed": true
   },
   "outputs": [],
   "source": [
    "glove_comments = np.load('glove_array.npy')\n",
    "data = pd.read_csv('train.csv')"
   ]
  },
  {
   "cell_type": "code",
   "execution_count": 107,
   "metadata": {
    "collapsed": true
   },
   "outputs": [],
   "source": [
    "y_labels = np.asarray(data.Insult)"
   ]
  },
  {
   "cell_type": "markdown",
   "metadata": {},
   "source": [
    "Making a training and validation set"
   ]
  },
  {
   "cell_type": "code",
   "execution_count": 108,
   "metadata": {
    "collapsed": true
   },
   "outputs": [],
   "source": [
    "msk = np.random.rand(len(data)) < 0.8\n",
    "\n",
    "glove_train = glove_comments[msk]\n",
    "glove_valid = glove_comments[~msk]\n",
    "\n",
    "labels_train = y_labels[msk]\n",
    "labels_valid = y_labels[~msk]"
   ]
  },
  {
   "cell_type": "markdown",
   "metadata": {},
   "source": [
    "Training with XGBoost"
   ]
  },
  {
   "cell_type": "code",
   "execution_count": 304,
   "metadata": {
    "collapsed": false
   },
   "outputs": [],
   "source": [
    "param = {'max_depth':3, 'eta':0.2, 'silent':1, 'objective':'binary:logistic',}\n",
    "num_round = 7"
   ]
  },
  {
   "cell_type": "markdown",
   "metadata": {},
   "source": [
    "In order to train the data, I need to make it a data matrix, which is the data type used by XGBoost. "
   ]
  },
  {
   "cell_type": "code",
   "execution_count": 305,
   "metadata": {
    "collapsed": true
   },
   "outputs": [],
   "source": [
    "train_data = xgb.DMatrix(glove_train, label = labels_train)"
   ]
  },
  {
   "cell_type": "code",
   "execution_count": 306,
   "metadata": {
    "collapsed": true
   },
   "outputs": [],
   "source": [
    "bst = xgb.train(param, train_data, num_round)"
   ]
  },
  {
   "cell_type": "code",
   "execution_count": 307,
   "metadata": {
    "collapsed": true
   },
   "outputs": [],
   "source": [
    "test_data = xgb.DMatrix(glove_valid)"
   ]
  },
  {
   "cell_type": "code",
   "execution_count": 308,
   "metadata": {
    "collapsed": false
   },
   "outputs": [],
   "source": [
    "preds = bst.predict(test_data)"
   ]
  },
  {
   "cell_type": "code",
   "execution_count": 309,
   "metadata": {
    "collapsed": false
   },
   "outputs": [
    {
     "data": {
      "text/plain": [
       "0.82056358667017915"
      ]
     },
     "execution_count": 309,
     "metadata": {},
     "output_type": "execute_result"
    }
   ],
   "source": [
    "roc_auc_score(labels_valid, preds)"
   ]
  },
  {
   "cell_type": "markdown",
   "metadata": {},
   "source": [
    "This is less good than the SVC classifier from sklearn. Lets peak under the hood to see what's up. "
   ]
  },
  {
   "cell_type": "code",
   "execution_count": 312,
   "metadata": {
    "collapsed": false
   },
   "outputs": [],
   "source": [
    "def auc_vs_m_xgb(X_train, Y_train, X_cv, Y_cv, param, num_round, plot=True):\n",
    "    error_cv = []\n",
    "    error_train = []\n",
    "    valid_data = xgb.DMatrix(glove_valid)\n",
    "    \n",
    "    for m in tqdm(range(10, len(X_train)-1, 100)):\n",
    "        \n",
    "        train_data = xgb.DMatrix(X_train[:m,:], Y_train[:m])\n",
    "        bst = xgb.train(param, train_data, num_round)\n",
    "        predicted_cv = bst.predict(valid_data)\n",
    "        error_cv.append(roc_auc_score(Y_cv, predicted_cv))\n",
    "        \n",
    "        train_test_data = xgb.DMatrix(X_train[:m,:])\n",
    "        \n",
    "        predicted_train = bst.predict(train_test_data)\n",
    "        error_train.append(roc_auc_score(Y_train[:m], predicted_train))\n",
    "\n",
    "    if plot: \n",
    "        m = range(10, len(X_train)-1, 100)\n",
    "        plt.plot(m, error_cv, label = 'cv')\n",
    "        plt.plot(m, error_train, label = 'train')\n",
    "        plt.xlabel(\"Training set size\")\n",
    "        plt.ylabel(\"AUC ROC score\")\n",
    "        plt.legend()\n",
    "        plt.show()\n",
    "    \n",
    "    return error_cv, error_train"
   ]
  },
  {
   "cell_type": "code",
   "execution_count": 313,
   "metadata": {
    "collapsed": false,
    "scrolled": true
   },
   "outputs": [
    {
     "name": "stderr",
     "output_type": "stream",
     "text": [
      "100%|██████████| 32/32 [00:14<00:00,  1.36it/s]\n"
     ]
    },
    {
     "data": {
      "image/png": "[encoded data removed]",
      "text/plain": [
       "<matplotlib.figure.Figure at 0x1145f9e90>"
      ]
     },
     "metadata": {},
     "output_type": "display_data"
    }
   ],
   "source": [
    "error_cv, error_train = auc_vs_m_xgb(glove_train, labels_train, glove_valid, labels_valid, param, num_round, plot=True)"
   ]
  },
  {
   "cell_type": "code",
   "execution_count": 314,
   "metadata": {
    "collapsed": false,
    "scrolled": true
   },
   "outputs": [
    {
     "data": {
      "text/plain": [
       "0.81756701132771348"
      ]
     },
     "execution_count": 314,
     "metadata": {},
     "output_type": "execute_result"
    }
   ],
   "source": [
    "error_cv[-1]"
   ]
  },
  {
   "cell_type": "code",
   "execution_count": null,
   "metadata": {
    "collapsed": true
   },
   "outputs": [],
   "source": []
  }
 ],
 "metadata": {
  "kernelspec": {
   "display_name": "Python 2",
   "language": "python",
   "name": "python2"
  },
  "language_info": {
   "codemirror_mode": {
    "name": "ipython",
    "version": 2
   },
   "file_extension": ".py",
   "mimetype": "text/x-python",
   "name": "python",
   "nbconvert_exporter": "python",
   "pygments_lexer": "ipython2",
   "version": "2.7.13"
  }
 },
 "nbformat": 4,
 "nbformat_minor": 2
}
