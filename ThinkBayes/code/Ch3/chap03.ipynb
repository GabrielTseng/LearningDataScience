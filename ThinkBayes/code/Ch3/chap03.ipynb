{
 "cells": [
  {
   "cell_type": "markdown",
   "metadata": {},
   "source": [
    "# Think Bayes: Chapter 3\n",
    "\n",
    "This notebook presents example code and exercise solutions for Think Bayes.\n",
    "\n",
    "Copyright 2016 Allen B. Downey\n",
    "\n",
    "MIT License: https://opensource.org/licenses/MIT"
   ]
  },
  {
   "cell_type": "markdown",
   "metadata": {},
   "source": [
    "## Exercises"
   ]
  },
  {
   "cell_type": "markdown",
   "metadata": {},
   "source": [
    "**Exercise:** To write a likelihood function for the locomotive problem, we had\n",
    "to answer this question:  \"If the railroad has `N` locomotives, what\n",
    "is the probability that we see number 60?\"\n",
    "\n",
    "The answer depends on what sampling process we use when we observe the\n",
    "locomotive.  In this chapter, I resolved the ambiguity by specifying\n",
    "that there is only one train-operating company (or only one that we\n",
    "care about).\n",
    "\n",
    "But suppose instead that there are many companies with different\n",
    "numbers of trains.  And suppose that you are equally likely to see any\n",
    "train operated by any company.\n",
    "In that case, the likelihood function is different because you\n",
    "are more likely to see a train operated by a large company.\n",
    "\n",
    "As an exercise, implement the likelihood function for this variation\n",
    "of the locomotive problem, and compare the results."
   ]
  },
  {
   "cell_type": "markdown",
   "metadata": {},
   "source": [
    "** Solution **\n",
    "\n",
    "So to start, it'll be helpful to make explicit what I am trying to find. I want to find the number of trains operated by a specific company when I have observed one of their locomotives, and its number. However, there are many locomotive companies operating trains. \n",
    "\n",
    "Previously, my likelihood function $L(D|H)$ was $\\frac{1}{N}$ if the train number observed (the data D) is smaller than N, and 0 otherwise (since a company with $N=20$ trains has 0 probability of having a train numbered 60).\n",
    "\n",
    "Now, my likelihood function consists of two probabilities:\n",
    "* The probability that I will see a train labelled D from my company, given my hypotheses H\n",
    "* The probability that I will see *any* train run by this company\n",
    "\n",
    "Since $P(A, B) = P(A)P(B)$, I can just multiply them together to get the likelihood.\n",
    "\n",
    "What is the likelihood I will see *any* train run by this company? Assuming uniform distributions, this will be $\\frac{N}{\\textrm{Total number of trains}}$. Let's define T, the total number of other trains. Then, this likelihood becomes $\\frac{N}{\\textrm{N+T}}$. Then, I can define my likelihood function,\n",
    "\n",
    "\n",
    "$ L(D | H) = (\\frac{N}{N+T} \\times \\frac{1}{N}) \\textrm{ if N $\\geq$ D else 0} $\n",
    "\n",
    "I can express this in a `Pmf` object."
   ]
  },
  {
   "cell_type": "code",
   "execution_count": 29,
   "metadata": {
    "collapsed": true
   },
   "outputs": [],
   "source": [
    "class GeneralTrains(Pmf):\n",
    "    \"\"\"Map from a company size N to a probability\"\"\"\n",
    "    def __init__(self, hypos):\n",
    "        \"\"\"Initialize the distribution.\n",
    "\n",
    "        hypos: sequence of hypotheses\n",
    "        \"\"\"\n",
    "        Pmf.__init__(self)\n",
    "        for hypo in hypos:\n",
    "            self.Set(hypo, 1/hypo)\n",
    "        self.Normalize()\n",
    "\n",
    "    def Update(self, data, T):\n",
    "        \"\"\"Updates each hypothesis based on the data.\n",
    "\n",
    "        data: any representation of the data\n",
    "        \"\"\"\n",
    "        for hypo in self.Values():\n",
    "            like = self.Likelihood(data, hypo, T)\n",
    "            self.Mult(hypo, like)\n",
    "        self.Normalize()\n",
    "    \n",
    "    def Likelihood(self, data, hypo, T):\n",
    "        \"\"\"Compute the likelihood of the data under the hypothesis.\n",
    "\n",
    "        hypo: integer company size\n",
    "        data: integer label of the train observed\n",
    "        \"\"\"\n",
    "        if hypo < data:\n",
    "            return 0\n",
    "        else:\n",
    "            return (1/hypo)*(hypo/(hypo+T))"
   ]
  },
  {
   "cell_type": "markdown",
   "metadata": {},
   "source": [
    "Now, I can run this for different values of T"
   ]
  },
  {
   "cell_type": "code",
   "execution_count": 31,
   "metadata": {
    "collapsed": true
   },
   "outputs": [],
   "source": [
    "T = 100000"
   ]
  },
  {
   "cell_type": "code",
   "execution_count": 32,
   "metadata": {
    "collapsed": true,
    "scrolled": false
   },
   "outputs": [],
   "source": [
    "general_train = GeneralTrains(hypos=range(1, 1001))\n",
    "general_train.Update(60, T)"
   ]
  },
  {
   "cell_type": "code",
   "execution_count": 33,
   "metadata": {},
   "outputs": [
    {
     "data": {
      "image/png": "[encoded data removed]",
      "text/plain": [
       "<matplotlib.figure.Figure at 0x1a1154e750>"
      ]
     },
     "metadata": {},
     "output_type": "display_data"
    }
   ],
   "source": [
    "thinkplot.Pdf(general_train)"
   ]
  },
  {
   "cell_type": "code",
   "execution_count": 46,
   "metadata": {
    "collapsed": true
   },
   "outputs": [],
   "source": [
    "T = 10"
   ]
  },
  {
   "cell_type": "code",
   "execution_count": 47,
   "metadata": {
    "collapsed": true
   },
   "outputs": [],
   "source": [
    "general_train = GeneralTrains(hypos=range(1, 1001))\n",
    "general_train.Update(60, 100)"
   ]
  },
  {
   "cell_type": "code",
   "execution_count": 48,
   "metadata": {},
   "outputs": [
    {
     "data": {
      "image/png": "[encoded data removed]",
      "text/plain": [
       "<matplotlib.figure.Figure at 0x100ecf710>"
      ]
     },
     "metadata": {},
     "output_type": "display_data"
    }
   ],
   "source": [
    "thinkplot.Pdf(general_train)"
   ]
  },
  {
   "cell_type": "markdown",
   "metadata": {},
   "source": [
    "Interestingly, this seems to converge for very large values of `T` to the case where we assume a uniform prior of N, and for small values of N to the case where we assume the power law (as expected)."
   ]
  },
  {
   "cell_type": "markdown",
   "metadata": {},
   "source": [
    "**Exercise:** Suppose I capture and tag 10 rock hyraxes.  Some time later, I capture another 10 hyraxes and find that two of them are already tagged.  How many hyraxes are there in this environment?\n",
    "\n",
    "As always with problems like this, we have to make some modeling assumptions. \n",
    "\n",
    "1) For simplicity, you can assume that the environment is reasonably isolated, so the number of hyraxes does not change between observations.\n",
    "\n",
    "2) And you can assume that each hyrax is equally likely to be captured during each phase of the experiment, regardless of whether it has been tagged.  In reality, it is possible that tagged animals would avoid traps in the future, or possible that the same behavior that got them caught the first time makes them more likely to be caught again.  But let's start simple.\n",
    "\n",
    "I suggest the following notation:\n",
    "\n",
    "*  `N`: total population of hyraxes \n",
    "*  `K`: number of hyraxes tagged in the first round \n",
    "*  `n`: number of hyraxes caught in the second round\n",
    "*  `k`: number of hyraxes in the second round that had been tagged\n",
    "\n",
    "So `N` is the hypothesis and `(K, n, k)` make up the data.  The probability of the data, given the hypothesis, is the probability of finding `k` tagged hyraxes out of `n` if (in the population) `K` out of `N` are tagged. \n",
    "\n",
    "If you are familiar with the hypergeometric distribution, you can use the hypergeometric PMF to compute the likelihood function.  Otherwise, you can figure it out using combinatorics."
   ]
  },
  {
   "cell_type": "markdown",
   "metadata": {
    "collapsed": true
   },
   "source": [
    "**Solution**\n",
    "\n",
    "As with the locomotive example, my hypotheses are going to be some range of N. My data is going to be that I saw `k` tagged hydraxes, where I know K are tagged.\n",
    "\n",
    "To solve this, I can use [combinations](https://www.mathsisfun.com/combinatorics/combinations-permutations.html) (the hint was 'combinatorics'). \n",
    "\n",
    "What I am solving for is a combination without repetition (since the same tagged hydrax can't be in multiple traps). First, lets consider how many total different ways there are of catching the hydraxes. I am choosing `n` out of `N` of them, so this is easy: $\\frac{N!}{n!(N-n)!}$.\n",
    "\n",
    "Out of these $\\frac{N!}{n!(N-n)!}$ ways, how many of them will yield `k` already tagged Hydraxes?\n",
    "\n",
    "If in my sample of `n` hydraxes, `k` have been tagged, then that means `n-k` have not been tagged. \n",
    "\n",
    "This means there are two samplings happening here; my sampling of tagged hydraxes, and untagged ones (and each of these samplings are independent, so I can multiply them together).\n",
    "\n",
    "For my tagged hydraxes, I have chosen `k` from `K`, or $\\frac{K!}{k!(K-k)!}$\n",
    "\n",
    "For my untagged hydraxes, I have chosen `n-k` from `N-K`, or $\\frac{(N-K)!}{(n-k)!(N-K)!}$\n",
    "\n",
    "Multiplying them together yields $\\frac{K!}{k!(K-k)!} \\frac{(N-K)!}{((n-k)!(N-K-n+k)!}$."
   ]
  },
  {
   "cell_type": "code",
   "execution_count": 73,
   "metadata": {
    "collapsed": true
   },
   "outputs": [],
   "source": [
    "from math import factorial as fac"
   ]
  },
  {
   "cell_type": "code",
   "execution_count": 74,
   "metadata": {
    "collapsed": true
   },
   "outputs": [],
   "source": [
    "class Hydrax(Pmf):\n",
    "    \"\"\"Map from a population size N to a probability\"\"\"\n",
    "    def __init__(self, hypos):\n",
    "        \"\"\"Initialize the distribution.\n",
    "\n",
    "        hypos: sequence of hypotheses\n",
    "        \"\"\"\n",
    "        Pmf.__init__(self)\n",
    "        for hypo in hypos:\n",
    "            # note: populations of animals\n",
    "            # probably don't follow a power law,\n",
    "            # so I'll change this back to a uniform\n",
    "            # distribution\n",
    "            self.Set(hypo, 1)\n",
    "        self.Normalize()\n",
    "\n",
    "    def Update(self, k, n, K):\n",
    "        \"\"\"Updates each hypothesis based on the data.\n",
    "\n",
    "        data: any representation of the data\n",
    "        \"\"\"\n",
    "        for hypo in self.Values():\n",
    "            like = self.Likelihood(hypo, k, n, K)\n",
    "            self.Mult(hypo, like)\n",
    "        self.Normalize()\n",
    "    \n",
    "    def Likelihood(self, hypo, k, n, K):\n",
    "        \"\"\"Compute the likelihood of the data under the hypothesis.\n",
    "\n",
    "        hypo: integer population size\n",
    "        data: integer label of the train observed\n",
    "        \"\"\"\n",
    "        if hypo < (K + (n-k)):\n",
    "            return 0\n",
    "        else:\n",
    "            normalizing = fac(hypo) / (fac(n)*fac(hypo-n))\n",
    "            sampling_tagged = fac(K) / (fac(k)*(fac(K-k)))\n",
    "            sampling_untagged = fac(hypo-K) / (fac(n-k)*fac(hypo-K-n+k))\n",
    "        return (sampling_tagged*sampling_untagged) / normalizing"
   ]
  },
  {
   "cell_type": "code",
   "execution_count": 75,
   "metadata": {
    "collapsed": true
   },
   "outputs": [],
   "source": [
    "hydrax = Hydrax(hypos = range(1, 1001))\n",
    "hydrax.Update(k=2, K=10, n=10)"
   ]
  },
  {
   "cell_type": "code",
   "execution_count": 76,
   "metadata": {},
   "outputs": [
    {
     "data": {
      "image/png": "[encoded data removed]",
      "text/plain": [
       "<matplotlib.figure.Figure at 0x1097695d0>"
      ]
     },
     "metadata": {},
     "output_type": "display_data"
    }
   ],
   "source": [
    "thinkplot.Pdf(hydrax)"
   ]
  },
  {
   "cell_type": "markdown",
   "metadata": {},
   "source": [
    "I can find the mean of this distribution"
   ]
  },
  {
   "cell_type": "code",
   "execution_count": 77,
   "metadata": {},
   "outputs": [
    {
     "data": {
      "text/plain": [
       "185.63813036305478"
      ]
     },
     "execution_count": 77,
     "metadata": {},
     "output_type": "execute_result"
    }
   ],
   "source": [
    "hydrax.Mean()"
   ]
  },
  {
   "cell_type": "markdown",
   "metadata": {},
   "source": [
    "and the confidence intervals"
   ]
  },
  {
   "cell_type": "code",
   "execution_count": 78,
   "metadata": {},
   "outputs": [
    {
     "data": {
      "text/plain": [
       "(36, 618)"
      ]
     },
     "execution_count": 78,
     "metadata": {},
     "output_type": "execute_result"
    }
   ],
   "source": [
    "hydrax.Percentile(5), hydrax.Percentile(95)"
   ]
  }
 ],
 "metadata": {
  "kernelspec": {
   "display_name": "Python [default]",
   "language": "python",
   "name": "python2"
  },
  "language_info": {
   "codemirror_mode": {
    "name": "ipython",
    "version": 2
   },
   "file_extension": ".py",
   "mimetype": "text/x-python",
   "name": "python",
   "nbconvert_exporter": "python",
   "pygments_lexer": "ipython2",
   "version": "2.7.13"
  }
 },
 "nbformat": 4,
 "nbformat_minor": 1
}
