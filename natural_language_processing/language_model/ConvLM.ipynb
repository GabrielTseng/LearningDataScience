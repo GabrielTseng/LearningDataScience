{
 "cells": [
  {
   "cell_type": "markdown",
   "metadata": {},
   "source": [
    "# ConvLM\n",
    "\n",
    "A temporal convolutional language model is trained"
   ]
  },
  {
   "cell_type": "code",
   "execution_count": 1,
   "metadata": {},
   "outputs": [],
   "source": [
    "# % load_ext autoreload\n",
    "# % autoreload 2\n",
    "%matplotlib inline"
   ]
  },
  {
   "cell_type": "code",
   "execution_count": 2,
   "metadata": {},
   "outputs": [],
   "source": [
    "from pathlib import Path\n",
    "import pickle\n",
    "import numpy as np\n",
    "from tqdm import tqdm\n",
    "from collections import defaultdict\n",
    "import matplotlib.pyplot as plt\n",
    "\n",
    "import torch\n",
    "from torch import nn"
   ]
  },
  {
   "cell_type": "code",
   "execution_count": 3,
   "metadata": {},
   "outputs": [],
   "source": [
    "from lm.data import LMDataLoader\n",
    "from lm.models import ConvLM, accuracy, perplexity\n",
    "from lm.schedulers import OneCycle"
   ]
  },
  {
   "cell_type": "code",
   "execution_count": 4,
   "metadata": {},
   "outputs": [],
   "source": [
    "device = torch.device(\"cuda:0\")\n",
    "# device = torch.device('cpu')"
   ]
  },
  {
   "cell_type": "markdown",
   "metadata": {},
   "source": [
    "Loading the data, making dataloaders"
   ]
  },
  {
   "cell_type": "code",
   "execution_count": 5,
   "metadata": {},
   "outputs": [],
   "source": [
    "dict_path = Path('word2int.pickle')\n",
    "with dict_path.open('rb') as file:\n",
    "    d = pickle.load(file)"
   ]
  },
  {
   "cell_type": "code",
   "execution_count": 6,
   "metadata": {},
   "outputs": [],
   "source": [
    "xtrain = np.load('wikitext_train_int_tokens.npy')\n",
    "xval = np.load('wikitext_valtest_int_tokens.npy')"
   ]
  },
  {
   "cell_type": "code",
   "execution_count": 7,
   "metadata": {},
   "outputs": [],
   "source": [
    "xtrain_tensor = torch.from_numpy(xtrain).long()\n",
    "xval_tensor = torch.from_numpy(xval).long()\n",
    "\n",
    "if device.type == 'cuda':\n",
    "    xtrain_tensor = xtrain_tensor.cuda()\n",
    "    xval_tensor = xval_tensor.cuda()"
   ]
  },
  {
   "cell_type": "code",
   "execution_count": 8,
   "metadata": {},
   "outputs": [],
   "source": [
    "train_dataloader = LMDataLoader(xtrain_tensor, 70, 64)\n",
    "val_dataloader = LMDataLoader(xval_tensor, 70, 64)"
   ]
  },
  {
   "cell_type": "code",
   "execution_count": 9,
   "metadata": {},
   "outputs": [],
   "source": [
    "vocab_size = len(d)\n",
    "padding_idx = d['_pad_']"
   ]
  },
  {
   "cell_type": "code",
   "execution_count": 10,
   "metadata": {},
   "outputs": [],
   "source": [
    "embedding_dropout=0.1\n",
    "num_blocks=3\n",
    "kernel_size=2\n",
    "num_layers=2"
   ]
  },
  {
   "cell_type": "code",
   "execution_count": 11,
   "metadata": {},
   "outputs": [],
   "source": [
    "model = ConvLM(num_layers=num_layers, embedding_dropout=embedding_dropout, num_blocks=num_blocks, \n",
    "               vocab_size=vocab_size, kernel_size=kernel_size, padding_idx=padding_idx).cuda()"
   ]
  },
  {
   "cell_type": "code",
   "execution_count": 12,
   "metadata": {},
   "outputs": [
    {
     "data": {
      "text/plain": [
       "ConvLM(\n",
       "  (embedding): VDEmbedding(\n",
       "    (embedding): Embedding(30002, 400, padding_idx=0)\n",
       "  )\n",
       "  (TCNBlock_0): TCNBlock(\n",
       "    (conv1): WDConv(\n",
       "      (conv): Conv1d(400, 1150, kernel_size=(2,), stride=(1,), padding=(1,))\n",
       "    )\n",
       "    (conv2): WDConv(\n",
       "      (conv): Conv1d(1150, 400, kernel_size=(2,), stride=(1,), padding=(1,))\n",
       "    )\n",
       "  )\n",
       "  (TCNBlock_1): TCNBlock(\n",
       "    (conv1): WDConv(\n",
       "      (conv): Conv1d(400, 1150, kernel_size=(2,), stride=(1,), padding=(2,), dilation=(2,))\n",
       "    )\n",
       "    (conv2): WDConv(\n",
       "      (conv): Conv1d(1150, 400, kernel_size=(2,), stride=(1,), padding=(2,), dilation=(2,))\n",
       "    )\n",
       "  )\n",
       "  (TCNBlock_2): TCNBlock(\n",
       "    (conv1): WDConv(\n",
       "      (conv): Conv1d(400, 1150, kernel_size=(2,), stride=(1,), padding=(4,), dilation=(4,))\n",
       "    )\n",
       "    (conv2): WDConv(\n",
       "      (conv): Conv1d(1150, 400, kernel_size=(2,), stride=(1,), padding=(4,), dilation=(4,))\n",
       "    )\n",
       "  )\n",
       "  (decoder): Linear(in_features=400, out_features=30002, bias=True)\n",
       "  (emb_drop): VariationalDropout()\n",
       ")"
      ]
     },
     "execution_count": 12,
     "metadata": {},
     "output_type": "execute_result"
    }
   ],
   "source": [
    "model"
   ]
  },
  {
   "cell_type": "markdown",
   "metadata": {},
   "source": [
    "Finally, define our losses"
   ]
  },
  {
   "cell_type": "code",
   "execution_count": 13,
   "metadata": {},
   "outputs": [],
   "source": [
    "crit = nn.CrossEntropyLoss()"
   ]
  },
  {
   "cell_type": "markdown",
   "metadata": {},
   "source": [
    "Now, a first round of training, to make sure everything actually works."
   ]
  },
  {
   "cell_type": "code",
   "execution_count": 14,
   "metadata": {},
   "outputs": [],
   "source": [
    "optimizer = torch.optim.Adam(model.parameters())"
   ]
  },
  {
   "cell_type": "code",
   "execution_count": 15,
   "metadata": {},
   "outputs": [
    {
     "name": "stderr",
     "output_type": "stream",
     "text": [
      " 92%|█████████▏| 471/514 [00:50<00:04,  9.26it/s]\n"
     ]
    }
   ],
   "source": [
    "starting_learning_rate = 1e-5\n",
    "ending_learning_rate = 1\n",
    "\n",
    "info = defaultdict(list)\n",
    "\n",
    "for batch_number, batch in (enumerate(tqdm(train_dataloader))):\n",
    "    \n",
    "    addition = (batch_number / len(train_dataloader)) * (ending_learning_rate - starting_learning_rate)\n",
    "    learning_rate = starting_learning_rate + addition\n",
    "    # update the optimizer learning rates\n",
    "    for g in optimizer.param_groups:\n",
    "        g['lr'] = learning_rate\n",
    "    info['lr'].append(learning_rate)\n",
    "    # Zero the gradients of my optimizer - 'reset' it\n",
    "    optimizer.zero_grad()\n",
    "\n",
    "    x, y = batch\n",
    "    pred = model(x)\n",
    "\n",
    "    loss = crit(pred, y)\n",
    "    acc = accuracy(pred, y)\n",
    "\n",
    "    info['loss'].append(loss.item())\n",
    "    info['accuracy'].append(acc)\n",
    "    \n",
    "    loss.backward()\n",
    "    optimizer.step()"
   ]
  },
  {
   "cell_type": "code",
   "execution_count": 16,
   "metadata": {},
   "outputs": [
    {
     "data": {
      "image/png": "[encoded data removed]",
      "text/plain": [
       "<Figure size 720x360 with 2 Axes>"
      ]
     },
     "metadata": {},
     "output_type": "display_data"
    }
   ],
   "source": [
    "fig, axes = plt.subplots(1, 2, figsize=(10,5))\n",
    "\n",
    "# First, lets plot the results from the whole test\n",
    "axes[0].plot(info['lr'], info['loss'])\n",
    "axes[0].set_xlabel('Learning Rate')\n",
    "axes[0].set_ylabel('Total loss')\n",
    "axes[0].set_xscale('log')\n",
    "\n",
    "# then, clipped\n",
    "axes[1].plot(info['lr'][:12], info['loss'][:12])\n",
    "axes[1].set_xlabel('Learning Rate')\n",
    "axes[1].set_ylabel('Total loss')\n",
    "axes[1].set_xscale('log')"
   ]
  },
  {
   "cell_type": "code",
   "execution_count": 15,
   "metadata": {},
   "outputs": [],
   "source": [
    "scheduler = OneCycle(optimizer, len(train_dataloader), upswing=2, downswing=18, min_lr=1e-5,\n",
    "                     max_lr=1e-2)"
   ]
  },
  {
   "cell_type": "code",
   "execution_count": 16,
   "metadata": {},
   "outputs": [],
   "source": [
    "num_epochs = scheduler.num_epochs()"
   ]
  },
  {
   "cell_type": "code",
   "execution_count": 18,
   "metadata": {
    "scrolled": false
   },
   "outputs": [
    {
     "name": "stderr",
     "output_type": "stream",
     "text": [
      " 92%|█████████▏| 472/514 [01:15<00:06,  6.27it/s]\n",
      "  0%|          | 1/514 [00:00<01:22,  6.21it/s]"
     ]
    },
    {
     "name": "stdout",
     "output_type": "stream",
     "text": [
      "TRAINING: loss: 7.7578, accuracy: 0.05485\n",
      "VALIDATION: loss: 6.898719787597656, accuracy: 0.0765\n"
     ]
    },
    {
     "name": "stderr",
     "output_type": "stream",
     "text": [
      " 92%|█████████▏| 474/514 [01:14<00:06,  6.39it/s]\n",
      "  0%|          | 1/514 [00:00<01:23,  6.17it/s]"
     ]
    },
    {
     "name": "stdout",
     "output_type": "stream",
     "text": [
      "TRAINING: loss: 7.24082, accuracy: 0.07793\n",
      "VALIDATION: loss: 6.87598991394043, accuracy: 0.08289\n"
     ]
    },
    {
     "name": "stderr",
     "output_type": "stream",
     "text": [
      " 92%|█████████▏| 471/514 [01:13<00:06,  6.43it/s]\n",
      "  0%|          | 1/514 [00:00<01:18,  6.52it/s]"
     ]
    },
    {
     "name": "stdout",
     "output_type": "stream",
     "text": [
      "TRAINING: loss: 7.32725, accuracy: 0.0835\n",
      "VALIDATION: loss: 6.849390029907227, accuracy: 0.09141\n"
     ]
    },
    {
     "name": "stderr",
     "output_type": "stream",
     "text": [
      " 92%|█████████▏| 474/514 [01:13<00:06,  6.46it/s]\n",
      "  0%|          | 1/514 [00:00<01:24,  6.09it/s]"
     ]
    },
    {
     "name": "stdout",
     "output_type": "stream",
     "text": [
      "TRAINING: loss: 7.31458, accuracy: 0.08587\n",
      "VALIDATION: loss: 6.800350189208984, accuracy: 0.09389\n"
     ]
    },
    {
     "name": "stderr",
     "output_type": "stream",
     "text": [
      " 92%|█████████▏| 474/514 [01:13<00:06,  6.46it/s]\n",
      "  0%|          | 1/514 [00:00<01:19,  6.44it/s]"
     ]
    },
    {
     "name": "stdout",
     "output_type": "stream",
     "text": [
      "TRAINING: loss: 7.27546, accuracy: 0.0862\n",
      "VALIDATION: loss: 6.910260200500488, accuracy: 0.09271\n"
     ]
    },
    {
     "name": "stderr",
     "output_type": "stream",
     "text": [
      " 92%|█████████▏| 471/514 [01:13<00:06,  6.44it/s]\n",
      "  0%|          | 1/514 [00:00<01:23,  6.16it/s]"
     ]
    },
    {
     "name": "stdout",
     "output_type": "stream",
     "text": [
      "TRAINING: loss: 7.2565, accuracy: 0.08569\n",
      "VALIDATION: loss: 6.84004020690918, accuracy: 0.09346\n"
     ]
    },
    {
     "name": "stderr",
     "output_type": "stream",
     "text": [
      " 92%|█████████▏| 474/514 [01:13<00:06,  6.48it/s]\n",
      "  0%|          | 1/514 [00:00<01:20,  6.40it/s]"
     ]
    },
    {
     "name": "stdout",
     "output_type": "stream",
     "text": [
      "TRAINING: loss: 7.23133, accuracy: 0.08689\n",
      "VALIDATION: loss: 6.814620018005371, accuracy: 0.08943\n"
     ]
    },
    {
     "name": "stderr",
     "output_type": "stream",
     "text": [
      " 92%|█████████▏| 473/514 [01:13<00:06,  6.46it/s]\n",
      "  0%|          | 1/514 [00:00<01:19,  6.45it/s]"
     ]
    },
    {
     "name": "stdout",
     "output_type": "stream",
     "text": [
      "TRAINING: loss: 7.1632, accuracy: 0.08671\n",
      "VALIDATION: loss: 6.869939804077148, accuracy: 0.08774\n"
     ]
    },
    {
     "name": "stderr",
     "output_type": "stream",
     "text": [
      " 92%|█████████▏| 471/514 [01:13<00:06,  6.44it/s]\n",
      "  0%|          | 1/514 [00:00<01:23,  6.12it/s]"
     ]
    },
    {
     "name": "stdout",
     "output_type": "stream",
     "text": [
      "TRAINING: loss: 7.19864, accuracy: 0.08712\n",
      "VALIDATION: loss: 6.877610206604004, accuracy: 0.09463\n"
     ]
    },
    {
     "name": "stderr",
     "output_type": "stream",
     "text": [
      " 92%|█████████▏| 472/514 [01:12<00:06,  6.48it/s]\n",
      "  0%|          | 1/514 [00:00<01:22,  6.20it/s]"
     ]
    },
    {
     "name": "stdout",
     "output_type": "stream",
     "text": [
      "TRAINING: loss: 7.14562, accuracy: 0.08736\n",
      "VALIDATION: loss: 6.837029933929443, accuracy: 0.09284\n"
     ]
    },
    {
     "name": "stderr",
     "output_type": "stream",
     "text": [
      " 93%|█████████▎| 476/514 [01:13<00:05,  6.49it/s]\n",
      "  0%|          | 1/514 [00:00<01:19,  6.48it/s]"
     ]
    },
    {
     "name": "stdout",
     "output_type": "stream",
     "text": [
      "TRAINING: loss: 7.12527, accuracy: 0.08439\n",
      "VALIDATION: loss: 6.824319839477539, accuracy: 0.09433\n"
     ]
    },
    {
     "name": "stderr",
     "output_type": "stream",
     "text": [
      " 92%|█████████▏| 474/514 [01:13<00:06,  6.48it/s]\n",
      "  0%|          | 1/514 [00:00<01:21,  6.29it/s]"
     ]
    },
    {
     "name": "stdout",
     "output_type": "stream",
     "text": [
      "TRAINING: loss: 7.05062, accuracy: 0.08867\n",
      "VALIDATION: loss: 6.8538498878479, accuracy: 0.09702\n"
     ]
    },
    {
     "name": "stderr",
     "output_type": "stream",
     "text": [
      " 92%|█████████▏| 472/514 [01:13<00:06,  6.46it/s]\n",
      "  0%|          | 1/514 [00:00<01:20,  6.37it/s]"
     ]
    },
    {
     "name": "stdout",
     "output_type": "stream",
     "text": [
      "TRAINING: loss: 7.08358, accuracy: 0.08855\n",
      "VALIDATION: loss: 6.854640007019043, accuracy: 0.08765\n"
     ]
    },
    {
     "name": "stderr",
     "output_type": "stream",
     "text": [
      " 91%|█████████ | 466/514 [01:12<00:07,  6.40it/s]\n",
      "  0%|          | 1/514 [00:00<01:19,  6.45it/s]"
     ]
    },
    {
     "name": "stdout",
     "output_type": "stream",
     "text": [
      "TRAINING: loss: 7.0674, accuracy: 0.08859\n",
      "VALIDATION: loss: 6.838019847869873, accuracy: 0.08894\n"
     ]
    },
    {
     "name": "stderr",
     "output_type": "stream",
     "text": [
      " 92%|█████████▏| 473/514 [01:13<00:06,  6.48it/s]\n",
      "  0%|          | 1/514 [00:00<01:23,  6.11it/s]"
     ]
    },
    {
     "name": "stdout",
     "output_type": "stream",
     "text": [
      "TRAINING: loss: 7.05376, accuracy: 0.08883\n",
      "VALIDATION: loss: 6.852240085601807, accuracy: 0.08738\n"
     ]
    },
    {
     "name": "stderr",
     "output_type": "stream",
     "text": [
      " 92%|█████████▏| 471/514 [01:13<00:06,  6.44it/s]\n",
      "  0%|          | 1/514 [00:00<01:21,  6.28it/s]"
     ]
    },
    {
     "name": "stdout",
     "output_type": "stream",
     "text": [
      "TRAINING: loss: 7.07382, accuracy: 0.08692\n",
      "VALIDATION: loss: 6.7896199226379395, accuracy: 0.09598\n"
     ]
    },
    {
     "name": "stderr",
     "output_type": "stream",
     "text": [
      " 92%|█████████▏| 473/514 [01:13<00:06,  6.47it/s]\n",
      "  0%|          | 1/514 [00:00<01:22,  6.25it/s]"
     ]
    },
    {
     "name": "stdout",
     "output_type": "stream",
     "text": [
      "TRAINING: loss: 7.04725, accuracy: 0.08883\n",
      "VALIDATION: loss: 6.831140041351318, accuracy: 0.09509\n"
     ]
    },
    {
     "name": "stderr",
     "output_type": "stream",
     "text": [
      " 92%|█████████▏| 475/514 [01:13<00:05,  6.50it/s]\n",
      "  0%|          | 1/514 [00:00<01:23,  6.15it/s]"
     ]
    },
    {
     "name": "stdout",
     "output_type": "stream",
     "text": [
      "TRAINING: loss: 7.05571, accuracy: 0.09069\n",
      "VALIDATION: loss: 6.8021697998046875, accuracy: 0.09773\n"
     ]
    },
    {
     "name": "stderr",
     "output_type": "stream",
     "text": [
      " 92%|█████████▏| 472/514 [01:13<00:06,  6.46it/s]\n",
      "  0%|          | 1/514 [00:00<01:20,  6.37it/s]"
     ]
    },
    {
     "name": "stdout",
     "output_type": "stream",
     "text": [
      "TRAINING: loss: 7.03671, accuracy: 0.0916\n",
      "VALIDATION: loss: 6.834109783172607, accuracy: 0.0936\n"
     ]
    },
    {
     "name": "stderr",
     "output_type": "stream",
     "text": [
      " 91%|█████████▏| 470/514 [01:12<00:06,  6.46it/s]\n"
     ]
    },
    {
     "name": "stdout",
     "output_type": "stream",
     "text": [
      "TRAINING: loss: 7.05627, accuracy: 0.09039\n",
      "VALIDATION: loss: 6.768249988555908, accuracy: 0.10324\n"
     ]
    }
   ],
   "source": [
    "overall_train = defaultdict(list)\n",
    "overall_val = defaultdict(list)\n",
    "\n",
    "for epoch in range(num_epochs):\n",
    "    # set the model to train\n",
    "    model.train()\n",
    "    # keep track of training scores, so they can be displayed later\n",
    "    train_scores = defaultdict(list)\n",
    "    \n",
    "    for batch_number, batch in (enumerate(tqdm(train_dataloader))):\n",
    "        # Zero the gradients of my optimizer - 'reset' it\n",
    "        optimizer.zero_grad()\n",
    "        \n",
    "        x, y = batch\n",
    "        pred = model(x)\n",
    "        \n",
    "        loss = crit(pred, y)\n",
    "        acc = accuracy(pred, y)\n",
    "        \n",
    "        train_scores['loss'].append(loss.item())\n",
    "        train_scores['accuracy'].append(acc)\n",
    "        train_scores['perplexity'].append(perplexity(loss))\n",
    "        \n",
    "        total_loss = loss\n",
    "        total_loss.backward()\n",
    "        optimizer.step()\n",
    "        scheduler.step()\n",
    "        \n",
    "    train_output_strings = []\n",
    "    for key, val in train_scores.items():\n",
    "        mean_value = np.array(val).mean()\n",
    "        train_output_strings.append('{}: {}'.format(key, round(mean_value, 5)))\n",
    "        overall_train[key].append(mean_value)\n",
    "        \n",
    "    if val_dataloader:\n",
    "        model.eval()\n",
    "        val_scores = defaultdict(list)\n",
    "        with torch.no_grad():\n",
    "            for batch_number, batch in enumerate(val_dataloader):\n",
    "                x, y = batch\n",
    "                pred = model(x)\n",
    "                val_loss = crit(pred, y)\n",
    "                acc = accuracy(pred, y)\n",
    "                \n",
    "                val_scores['loss'].append(val_loss)\n",
    "                val_scores['accuracy'].append(acc)\n",
    "                val_scores['perplexity'].append(perplexity(val_loss))\n",
    "                \n",
    "        val_output_strings = []\n",
    "        for key, val in val_scores.items():\n",
    "            mean_value = np.array(val).mean()\n",
    "            val_output_strings.append('{}: {}'.format(key, round(mean_value, 5)))\n",
    "            overall_val[key].append(mean_value)\n",
    "        print('TRAINING: {}, {}, {}'.format(*train_output_strings))\n",
    "        print('VALIDATION: {}, {}, {}'.format(*val_output_strings))"
   ]
  },
  {
   "cell_type": "code",
   "execution_count": 19,
   "metadata": {},
   "outputs": [],
   "source": [
    "model_information = {'state_dict': model.state_dict(),\n",
    "                     'val_acc': overall_val['accuracy'],\n",
    "                      'val_loss': overall_val['loss'],\n",
    "                      'train_acc': overall_train['accuracy'],\n",
    "                    'train_loss': overall_train['loss'],\n",
    "                    'num_blocks': num_blocks,\n",
    "                    'embedding_dropout': embedding_dropout,\n",
    "                    'kernel_size': kernel_size,\n",
    "                    'num_layers': num_layers}\n",
    "torch.save(model_information, 'ConvLM_B3_L2_K2.pth.tar')"
   ]
  },
  {
   "cell_type": "code",
   "execution_count": 20,
   "metadata": {},
   "outputs": [
    {
     "data": {
      "text/plain": [
       "<matplotlib.legend.Legend at 0x7f3bbf72b9e8>"
      ]
     },
     "execution_count": 20,
     "metadata": {},
     "output_type": "execute_result"
    },
    {
     "data": {
      "image/png": "[encoded data removed]",
      "text/plain": [
       "<Figure size 1296x360 with 3 Axes>"
      ]
     },
     "metadata": {},
     "output_type": "display_data"
    }
   ],
   "source": [
    "fig, axes = plt.subplots(1, 3, figsize=(18,5))\n",
    "\n",
    "# First, lets plot accuracy\n",
    "axes[0].plot(range(len(overall_val['accuracy'])), overall_val['accuracy'], label='Validation')\n",
    "axes[0].plot(range(len(overall_train['accuracy'])), overall_train['accuracy'], label='Train')\n",
    "axes[0].set_xlabel('Epoch')\n",
    "axes[0].set_ylabel('Accuracy')\n",
    "axes[0].legend()\n",
    "\n",
    "# then, loss\n",
    "axes[1].plot(range(len(overall_val['loss'])), overall_val['loss'], label='Validation')\n",
    "axes[1].plot(range(len(overall_train['loss'])), overall_train['loss'], label='Train')\n",
    "axes[1].set_xlabel('Epoch')\n",
    "axes[1].set_ylabel('Loss')\n",
    "axes[1].legend()\n",
    "\n",
    "# finally, perplexity\n",
    "axes[2].plot(range(len(overall_val['perplexity'])), overall_val['perplexity'], label='Validation')\n",
    "axes[2].plot(range(len(overall_train['perplexity'])), overall_train['perplexity'], label='Train')\n",
    "axes[2].set_xlabel('Epoch')\n",
    "axes[2].set_ylabel('Perplexity')\n",
    "axes[2].legend()"
   ]
  }
 ],
 "metadata": {
  "kernelspec": {
   "display_name": "Environment (conda_fastai)",
   "language": "python",
   "name": "conda_fastai"
  },
  "language_info": {
   "codemirror_mode": {
    "name": "ipython",
    "version": 3
   },
   "file_extension": ".py",
   "mimetype": "text/x-python",
   "name": "python",
   "nbconvert_exporter": "python",
   "pygments_lexer": "ipython3",
   "version": "3.6.6"
  }
 },
 "nbformat": 4,
 "nbformat_minor": 2
}
