{
 "cells": [
  {
   "cell_type": "markdown",
   "metadata": {},
   "source": [
    "# Think Bayes: Chapter 9\n",
    "Note: this exercise has been taken from the Think Bayes [book](http://www.greenteapress.com/thinkbayes/thinkbayes.pdf)"
   ]
  },
  {
   "cell_type": "code",
   "execution_count": 19,
   "metadata": {
    "collapsed": true
   },
   "outputs": [],
   "source": [
    "from __future__ import print_function, division\n",
    "\n",
    "% matplotlib inline\n",
    "import matplotlib.pyplot as plt\n",
    "import warnings\n",
    "warnings.filterwarnings('ignore')\n",
    "\n",
    "import math\n",
    "import numpy as np\n",
    "\n",
    "import os, sys\n",
    "\n",
    "sys.path.insert(1, os.path.join(sys.path[0], '..'))\n",
    "import thinkbayes2\n",
    "from thinkbayes2 import Pmf, Cdf, Suite, Joint\n",
    "import thinkplot"
   ]
  },
  {
   "cell_type": "markdown",
   "metadata": {},
   "source": [
    "** Question **\n",
    "\n",
    "An “effect size” is a statistic intended to measure the difference between two groups (see http://en.wikipedia.org/wiki/Effect_size ). For example, we could use data from the BRFSS to estimate the difference in height between men and women. \n",
    "\n",
    "By sampling values from the posterior distributions of µ and σ, we could generate the posterior distribution of this difference. But it might be better to use a dimensionless measure of effect size, rather than a difference measured in cm. \n",
    "\n",
    "One option is to use divide through by the standard deviation (similar to what we did with the coefficient of variation). If the parameters for Group 1 are ($µ_1$, $σ_1$), and the parameters for Group 2 are ($µ_2$, $σ_2$), the dimensionless effect size is \n",
    "\\begin{equation}\n",
    "\\frac{µ_1 − µ_2}{ (σ_1 + σ_2)/2}\n",
    "\\end{equation}\n",
    "Write a function that takes joint distributions of mu and sigma for two groups and returns the posterior distribution of effect size."
   ]
  },
  {
   "cell_type": "markdown",
   "metadata": {
    "collapsed": true
   },
   "source": [
    "**Solution **"
   ]
  },
  {
   "cell_type": "markdown",
   "metadata": {},
   "source": [
    "The first step is to reproduce the distributions. For this, I'll take the code from the book, and remove what I don't need."
   ]
  },
  {
   "cell_type": "markdown",
   "metadata": {},
   "source": [
    "#### 1. Read the height data"
   ]
  },
  {
   "cell_type": "code",
   "execution_count": 5,
   "metadata": {
    "collapsed": true
   },
   "outputs": [],
   "source": [
    "import brfss"
   ]
  },
  {
   "cell_type": "code",
   "execution_count": 6,
   "metadata": {
    "collapsed": true
   },
   "outputs": [],
   "source": [
    "def ReadHeights(nrows=None):\n",
    "    \"\"\"Read the BRFSS dataset, extract the heights and pickle them.\n",
    "\n",
    "    nrows: number of rows to read\n",
    "    \"\"\"\n",
    "    resp = brfss.ReadBrfss(nrows=nrows).dropna(subset=['sex', 'htm3'])\n",
    "    groups = resp.groupby('sex')\n",
    "\n",
    "    d = {}\n",
    "    for name, group in groups:\n",
    "        d[name] = group.htm3.values\n",
    "\n",
    "    return d"
   ]
  },
  {
   "cell_type": "code",
   "execution_count": 8,
   "metadata": {},
   "outputs": [],
   "source": [
    "d = ReadHeights(nrows=None)\n",
    "labels = {1:'male', 2:'female'}"
   ]
  },
  {
   "cell_type": "markdown",
   "metadata": {},
   "source": [
    "We've read the data as a dictionary of arrays, with the data at `'1'` representing the male heights, and the data at `'2'` representing the female heights."
   ]
  },
  {
   "cell_type": "code",
   "execution_count": 10,
   "metadata": {},
   "outputs": [
    {
     "data": {
      "text/plain": [
       "{1: array([ 170.,  185.,  183., ...,  191.,  178.,  178.]),\n",
       " 2: array([ 157.,  163.,  165., ...,  165.,  170.,  157.])}"
      ]
     },
     "execution_count": 10,
     "metadata": {},
     "output_type": "execute_result"
    }
   ],
   "source": [
    "d"
   ]
  },
  {
   "cell_type": "markdown",
   "metadata": {},
   "source": [
    "#### 2. Calculate the posterior distributions "
   ]
  },
  {
   "cell_type": "code",
   "execution_count": 11,
   "metadata": {
    "collapsed": true
   },
   "outputs": [],
   "source": [
    "import variability"
   ]
  },
  {
   "cell_type": "code",
   "execution_count": 21,
   "metadata": {},
   "outputs": [
    {
     "name": "stdout",
     "output_type": "stream",
     "text": [
      "classical estimators 178.360941611 7.41263320715\n",
      "median, s 178.360941611 7.41263320715\n",
      "classical estimators 163.338578245 7.14926824257\n",
      "median, s 163.338578245 7.14926824257\n"
     ]
    }
   ],
   "source": [
    "num_points=30\n",
    "suites = {}\n",
    "for key, xs in d.items():\n",
    "    label = labels[key]\n",
    "    xs = thinkbayes2.Jitter(xs, 1.3)\n",
    "\n",
    "    mus, sigmas = variability.FindPriorRanges(xs, num_points, median_flag=True)\n",
    "    suite = variability.Height(mus, sigmas, label)\n",
    "    suites[label] = suite\n",
    "    \n",
    "    # run the update\n",
    "    suite.Log()\n",
    "    suite.LogUpdateSetMedianIPR(xs)\n",
    "    suite.Exp()\n",
    "    suite.Normalize()\n"
   ]
  },
  {
   "cell_type": "markdown",
   "metadata": {},
   "source": [
    "I now have suites with posterior distributions for both males and females. Lets plot the marginals for $\\mu$ and $\\sigma$ for one gender."
   ]
  },
  {
   "cell_type": "code",
   "execution_count": 25,
   "metadata": {},
   "outputs": [
    {
     "data": {
      "image/png": "[encoded data removed]",
      "text/plain": [
       "<matplotlib.figure.Figure at 0x1141e9350>"
      ]
     },
     "metadata": {},
     "output_type": "display_data"
    },
    {
     "data": {
      "text/plain": [
       "<matplotlib.figure.Figure at 0x1123be790>"
      ]
     },
     "metadata": {},
     "output_type": "display_data"
    }
   ],
   "source": [
    "variability.PlotMarginals(suites['female'])"
   ]
  },
  {
   "cell_type": "markdown",
   "metadata": {},
   "source": [
    "In order to find the effect size, I can just iterate through all $\\mu$ $\\sigma$ pairs, and calculate their effect size - and associated probability."
   ]
  },
  {
   "cell_type": "code",
   "execution_count": 31,
   "metadata": {},
   "outputs": [],
   "source": [
    "pmf = Pmf()\n",
    "for fvals, fprob in suites['female'].Items():\n",
    "    fmu, fsigma = fvals\n",
    "    for mvals, mprob in suites['male'].Items():\n",
    "        mmu, msigma = mvals\n",
    "        \n",
    "        diff = 2*(mmu - fmu)/(msigma + fsigma)\n",
    "        pmf.Incr(diff, fprob*mprob)"
   ]
  },
  {
   "cell_type": "code",
   "execution_count": 35,
   "metadata": {},
   "outputs": [
    {
     "data": {
      "image/png": "[encoded data removed]",
      "text/plain": [
       "<matplotlib.figure.Figure at 0x1126c87d0>"
      ]
     },
     "metadata": {},
     "output_type": "display_data"
    }
   ],
   "source": [
    "thinkplot.Plot(pmf)\n",
    "thinkplot.Config(xlabel='Dimensionless effect size', ylabel='Pmf',\n",
    "                 title='Effect on height of being male instead of female')"
   ]
  }
 ],
 "metadata": {
  "kernelspec": {
   "display_name": "Python 3",
   "language": "python",
   "name": "python3"
  },
  "language_info": {
   "codemirror_mode": {
    "name": "ipython",
    "version": 2
   },
   "file_extension": ".py",
   "mimetype": "text/x-python",
   "name": "python",
   "nbconvert_exporter": "python",
   "pygments_lexer": "ipython2",
   "version": "2.7.13"
  }
 },
 "nbformat": 4,
 "nbformat_minor": 2
}
