{
 "cells": [
  {
   "cell_type": "markdown",
   "metadata": {},
   "source": [
    "# Implementing and Training ResNet"
   ]
  },
  {
   "cell_type": "markdown",
   "metadata": {},
   "source": [
    "## Setup"
   ]
  },
  {
   "cell_type": "code",
   "execution_count": 1,
   "metadata": {
    "collapsed": false
   },
   "outputs": [
    {
     "name": "stderr",
     "output_type": "stream",
     "text": [
      "Using Theano backend.\n",
      "WARNING (theano.sandbox.cuda): The cuda backend is deprecated and will be removed in the next release (v0.10).  Please switch to the gpuarray backend. You can get more information about how to switch at this URL:\n",
      " https://github.com/Theano/Theano/wiki/Converting-to-the-new-gpu-back-end%28gpuarray%29\n",
      "\n",
      "Using gpu device 0: Tesla K80 (CNMeM is disabled, cuDNN 5103)\n"
     ]
    }
   ],
   "source": [
    "%matplotlib inline\n",
    "\n",
    "from __future__ import division, print_function\n",
    "\n",
    "import os, json\n",
    "from glob import glob\n",
    "import numpy as np\n",
    "from scipy import misc, ndimage\n",
    "from scipy.ndimage.interpolation import zoom\n",
    "\n",
    "from keras.applications.resnet50 import ResNet50, preprocess_input\n",
    "from keras.preprocessing import image\n",
    "from keras.models import Model, load_model\n",
    "from keras.layers.core import Flatten, Dense, Dropout, Lambda\n",
    "from keras.layers import Input, Activation, merge, GlobalAveragePooling2D\n",
    "from keras.optimizers import Adam\n",
    "from keras.callbacks import History, ModelCheckpoint, EarlyStopping, LearningRateScheduler\n",
    "from keras.layers.normalization import BatchNormalization\n",
    "from keras.layers.convolutional import Convolution2D, MaxPooling2D, ZeroPadding2D, AveragePooling2D\n",
    "import keras.preprocessing.image as image\n",
    "from keras.utils.data_utils import get_file\n",
    "from keras.utils.layer_utils import convert_all_kernels_in_model\n",
    "from keras.applications.resnet50 import identity_block, conv_block\n",
    "\n",
    "import numpy as np\n",
    "\n",
    "import matplotlib.pyplot as plt"
   ]
  },
  {
   "cell_type": "markdown",
   "metadata": {},
   "source": [
    "Building the ResNet model, to add the preprocessing function. "
   ]
  },
  {
   "cell_type": "code",
   "execution_count": 2,
   "metadata": {
    "collapsed": true
   },
   "outputs": [],
   "source": [
    "def ResNet_inv():\n",
    "    RN_mean = np.array([123.68, 116.779, 103.939], dtype=np.float32).reshape((3,1,1))\n",
    "    def RN_preprocess(x, RN_mean):\n",
    "        RN_mean = np.asarray(RN_mean)\n",
    "        x = x - RN_mean\n",
    "        return x[:, ::-1] # reverse axis bgr->rgb\n",
    "    \n",
    "    img_input = Input(shape =(3,224,224))\n",
    "    bn_axis = 1\n",
    "    \n",
    "    x = Lambda(RN_preprocess, arguments={'RN_mean': RN_mean.tolist()})(img_input)\n",
    "    x = ZeroPadding2D((3, 3))(x)\n",
    "    x = Convolution2D(64, 7, 7, subsample=(2, 2), name='conv1')(x)\n",
    "    x = BatchNormalization(axis=bn_axis, name='bn_conv1')(x)\n",
    "    x = Activation('relu')(x)\n",
    "    x = MaxPooling2D((3, 3), strides=(2, 2))(x)\n",
    "\n",
    "    x = conv_block(x, 3, [64, 64, 256], stage=2, block='a', strides=(1, 1))\n",
    "    x = identity_block(x, 3, [64, 64, 256], stage=2, block='b')\n",
    "    x = identity_block(x, 3, [64, 64, 256], stage=2, block='c')\n",
    "\n",
    "    x = conv_block(x, 3, [128, 128, 512], stage=3, block='a')\n",
    "    for n in ['b','c','d']: x = identity_block(x, 3, [128, 128, 512], stage=3, block=n)\n",
    "    x = conv_block(x, 3, [256, 256, 1024], stage=4, block='a')\n",
    "    for n in ['b','c','d', 'e', 'f']: x = identity_block(x, 3, [256, 256, 1024], stage=4, block=n)\n",
    "\n",
    "    x = conv_block(x, 3, [512, 512, 2048], stage=5, block='a')\n",
    "    x = identity_block(x, 3, [512, 512, 2048], stage=5, block='b')\n",
    "    x = identity_block(x, 3, [512, 512, 2048], stage=5, block='c')\n",
    "\n",
    "    model_base = Model(img_input, x)\n",
    "    \n",
    "    #convert_all_kernels_in_model(model_base)\n",
    "    \n",
    "    wpath = model_base.load_weights(get_file(fname = 'resnet_nt.h5', \n",
    "                                             origin = 'http://files.fast.ai/models/resnet_nt.h5',\n",
    "                                             cache_subdir='models'))\n",
    "    y = model_base.output\n",
    "\n",
    "    y = GlobalAveragePooling2D()(y)\n",
    "\n",
    "    preds = Dense(2, activation = 'softmax')(y)\n",
    "\n",
    "    ResNet = Model(input=model_base.input, output=preds)\n",
    "    \n",
    "    return ResNet"
   ]
  },
  {
   "cell_type": "markdown",
   "metadata": {},
   "source": [
    "Now that I have this first model, let's just finetune it quickly, to see how it does."
   ]
  },
  {
   "cell_type": "code",
   "execution_count": 3,
   "metadata": {
    "collapsed": false,
    "scrolled": true
   },
   "outputs": [
    {
     "name": "stderr",
     "output_type": "stream",
     "text": [
      "/home/ubuntu/anaconda2/lib/python2.7/site-packages/keras/layers/core.py:622: UserWarning: `output_shape` argument not specified for layer lambda_1 and cannot be automatically inferred with the Theano backend. Defaulting to output shape `(None, 3, 224, 224)` (same as input shape). If the expected output shape is different, specify it via the `output_shape` argument.\n",
      "  .format(self.name, input_shape))\n"
     ]
    }
   ],
   "source": [
    "ResNet = ResNet_inv()"
   ]
  },
  {
   "cell_type": "code",
   "execution_count": null,
   "metadata": {
    "collapsed": true
   },
   "outputs": [],
   "source": [
    "for layer in ResNet.layers[:-2]: layer.trainable = False\n",
    "\n",
    "ResNet.compile(optimizer=Adam(lr=0.0001),loss='categorical_crossentropy', metrics=['accuracy'])"
   ]
  },
  {
   "cell_type": "markdown",
   "metadata": {},
   "source": [
    "A note on preprocessing: \n",
    "\n",
    "Rather than rewriting the model to include a Lambda layer, I could just have added a preprocessing function, defining 'preprocess input' in the same way as in the model. \n",
    "\n",
    "I also use data augmentation, as I did in for the VGG model. "
   ]
  },
  {
   "cell_type": "code",
   "execution_count": 4,
   "metadata": {
    "collapsed": false
   },
   "outputs": [
    {
     "name": "stdout",
     "output_type": "stream",
     "text": [
      "Found 2095 images belonging to 2 classes.\n",
      "Found 200 images belonging to 2 classes.\n"
     ]
    }
   ],
   "source": [
    "batch_size = 32\n",
    "\n",
    "train_gen = image.ImageDataGenerator(horizontal_flip = True,\n",
    "                               rotation_range = 30,\n",
    "                               shear_range = 0.2,\n",
    "                               zoom_range = 0.2,\n",
    "                                height_shift_range = 0.1,\n",
    "                                width_shift_range = 0.1, \n",
    "                               #preprocessing_function=preprocess_input\n",
    "                                )\n",
    "\n",
    "\n",
    "batches = train_gen.flow_from_directory(\"data/invasive/train\", \n",
    "                                        target_size = (224, 224), \n",
    "                                        batch_size = batch_size, \n",
    "                                        )\n",
    "\n",
    "valid_gen = image.ImageDataGenerator(#preprocessing_function = preprocess_input\n",
    "                                    )\n",
    "\n",
    "valid_batches = valid_gen.flow_from_directory(\"data/invasive/valid\", \n",
    "                                              target_size = (224, 224), \n",
    "                                              batch_size = batch_size, \n",
    "                                              shuffle = False, \n",
    "                                             )"
   ]
  },
  {
   "cell_type": "markdown",
   "metadata": {},
   "source": [
    "## First try: Only training the last layer\n",
    "\n",
    "Let's quickly try training the model, to see how ResNet does at its base. "
   ]
  },
  {
   "cell_type": "code",
   "execution_count": 6,
   "metadata": {
    "collapsed": false,
    "scrolled": false
   },
   "outputs": [
    {
     "name": "stdout",
     "output_type": "stream",
     "text": [
      "Epoch 1/15\n",
      "2095/2095 [==============================] - 98s - loss: 0.6456 - acc: 0.6353 - val_loss: 0.7265 - val_acc: 0.5750\n",
      "Epoch 2/15\n",
      "2095/2095 [==============================] - 76s - loss: 0.4822 - acc: 0.7599 - val_loss: 0.5197 - val_acc: 0.7150\n",
      "Epoch 3/15\n",
      "2095/2095 [==============================] - 80s - loss: 0.4096 - acc: 0.8153 - val_loss: 0.4208 - val_acc: 0.8000\n",
      "Epoch 4/15\n",
      "2095/2095 [==============================] - 79s - loss: 0.3740 - acc: 0.8368 - val_loss: 0.3792 - val_acc: 0.8500\n",
      "Epoch 5/15\n",
      "2095/2095 [==============================] - 77s - loss: 0.3516 - acc: 0.8396 - val_loss: 0.3543 - val_acc: 0.8600\n",
      "Epoch 6/15\n",
      "2095/2095 [==============================] - 77s - loss: 0.3345 - acc: 0.8544 - val_loss: 0.3354 - val_acc: 0.8650\n",
      "Epoch 7/15\n",
      "2095/2095 [==============================] - 75s - loss: 0.3242 - acc: 0.8568 - val_loss: 0.3231 - val_acc: 0.8700\n",
      "Epoch 8/15\n",
      "2095/2095 [==============================] - 79s - loss: 0.3211 - acc: 0.8578 - val_loss: 0.3100 - val_acc: 0.8650\n",
      "Epoch 9/15\n",
      "2095/2095 [==============================] - 78s - loss: 0.2941 - acc: 0.8816 - val_loss: 0.3054 - val_acc: 0.8700\n",
      "Epoch 10/15\n",
      "2095/2095 [==============================] - 79s - loss: 0.2910 - acc: 0.8692 - val_loss: 0.2917 - val_acc: 0.8750\n",
      "Epoch 11/15\n",
      "2095/2095 [==============================] - 78s - loss: 0.2913 - acc: 0.8797 - val_loss: 0.2845 - val_acc: 0.8750\n",
      "Epoch 12/15\n",
      "2095/2095 [==============================] - 77s - loss: 0.2864 - acc: 0.8711 - val_loss: 0.2805 - val_acc: 0.8750\n",
      "Epoch 13/15\n",
      "2095/2095 [==============================] - 77s - loss: 0.2722 - acc: 0.8759 - val_loss: 0.2758 - val_acc: 0.8850\n",
      "Epoch 14/15\n",
      "2095/2095 [==============================] - 76s - loss: 0.2681 - acc: 0.8883 - val_loss: 0.2678 - val_acc: 0.8850\n",
      "Epoch 15/15\n",
      "2095/2095 [==============================] - 79s - loss: 0.2776 - acc: 0.8764 - val_loss: 0.2597 - val_acc: 0.8950\n"
     ]
    }
   ],
   "source": [
    "ResHistory = History()\n",
    "\n",
    "ResHistory = ResNet.fit_generator(generator =batches, \n",
    "                                  samples_per_epoch=batches.nb_sample, \n",
    "                                  nb_epoch = 15, \n",
    "                                  validation_data=valid_batches, \n",
    "                                  nb_val_samples=valid_batches.nb_sample, \n",
    "                                  callbacks = ([ResHistory,\n",
    "                                                EarlyStopping(monitor='val_acc', patience = 3),\n",
    "                                                ModelCheckpoint('/home/ubuntu/INV-RES.model',\n",
    "                                                                monitor='val_acc', \n",
    "                                                                save_best_only=True)\n",
    "                                               ]))"
   ]
  },
  {
   "cell_type": "code",
   "execution_count": 7,
   "metadata": {
    "collapsed": false,
    "scrolled": true
   },
   "outputs": [
    {
     "data": {
      "text/plain": [
       "<function matplotlib.pyplot.show>"
      ]
     },
     "execution_count": 7,
     "metadata": {},
     "output_type": "execute_result"
    },
    {
     "data": {
      "image/png": "[encoded data removed]",
      "text/plain": [
       "<matplotlib.figure.Figure at 0x7fc35d4637d0>"
      ]
     },
     "metadata": {},
     "output_type": "display_data"
    }
   ],
   "source": [
    "plt.plot(range(1, 16), ResHistory.history['acc'], label = 'accuracy')\n",
    "plt.plot(range(1,16), ResHistory.history['val_acc'], label = 'validation accuracy')\n",
    "plt.legend(loc = 'lower right')\n",
    "plt.xlabel(\"epochs\")\n",
    "plt.ylabel(\"Accuracy(%)\")\n",
    "plt.show"
   ]
  },
  {
   "cell_type": "markdown",
   "metadata": {},
   "source": [
    "Not bad for a first run! But there's defintely plenty I can do to improve. Let's try training more layers, with this as a 'base trained' model: "
   ]
  },
  {
   "cell_type": "code",
   "execution_count": 14,
   "metadata": {
    "collapsed": false
   },
   "outputs": [
    {
     "name": "stdout",
     "output_type": "stream",
     "text": [
      "th\n"
     ]
    }
   ],
   "source": [
    "ResNet = load_model('/home/ubuntu/invasive_ResNet_base_trained.model')"
   ]
  },
  {
   "cell_type": "markdown",
   "metadata": {
    "collapsed": true
   },
   "source": [
    "To try and improve this model, let's allow more layers to be trained (all the way to the last convolutional block). "
   ]
  },
  {
   "cell_type": "code",
   "execution_count": 8,
   "metadata": {
    "collapsed": true
   },
   "outputs": [],
   "source": [
    "for layer in ResNet.layers[-7:]: layer.trainable = True"
   ]
  },
  {
   "cell_type": "markdown",
   "metadata": {},
   "source": [
    "Because I am allowing more layers to be trained, I'll need to reduce the learning rate to avoid havign my model diverge. "
   ]
  },
  {
   "cell_type": "code",
   "execution_count": 9,
   "metadata": {
    "collapsed": true
   },
   "outputs": [],
   "source": [
    "ResNet.compile(optimizer=Adam(lr=0.00001),loss='categorical_crossentropy', metrics=['accuracy'])"
   ]
  },
  {
   "cell_type": "markdown",
   "metadata": {},
   "source": [
    "## Training ResNet\n",
    "\n",
    "Okay! Let's train this model. "
   ]
  },
  {
   "cell_type": "code",
   "execution_count": null,
   "metadata": {
    "collapsed": false
   },
   "outputs": [
    {
     "name": "stdout",
     "output_type": "stream",
     "text": [
      "Epoch 1/15\n",
      "2095/2095 [==============================] - 86s - loss: 0.2554 - acc: 0.8931 - val_loss: 0.2612 - val_acc: 0.8900\n",
      "Epoch 2/15\n",
      "2095/2095 [==============================] - 79s - loss: 0.2641 - acc: 0.8916 - val_loss: 0.2513 - val_acc: 0.9050\n",
      "Epoch 3/15\n",
      " 608/2095 [=======>......................] - ETA: 35s - loss: 0.2259 - acc: 0.9079"
     ]
    }
   ],
   "source": [
    "ResHistory1 = History()\n",
    "\n",
    "ResHistory1 = ResNet.fit_generator(generator =batches, \n",
    "                                  samples_per_epoch=batches.nb_sample, \n",
    "                                  nb_epoch = 15, \n",
    "                                  validation_data=valid_batches, \n",
    "                                  nb_val_samples=valid_batches.nb_sample, \n",
    "                                  callbacks = ([ResHistory1,\n",
    "                                                #EarlyStopping(monitor='val_acc', patience = 3),\n",
    "                                                ModelCheckpoint('/home/ubuntu/INV-RES.model',\n",
    "                                                                monitor='val_acc', \n",
    "                                                                save_best_only=True)\n",
    "                                               ]))"
   ]
  },
  {
   "cell_type": "code",
   "execution_count": 19,
   "metadata": {
    "collapsed": true
   },
   "outputs": [],
   "source": [
    "acc =  ResHistory.history['acc'] +  ResHistory1.history['acc']\n",
    "val_acc =  ResHistory.history['val_acc'] +  ResHistory1.history['val_acc']"
   ]
  },
  {
   "cell_type": "code",
   "execution_count": 22,
   "metadata": {
    "collapsed": false
   },
   "outputs": [
    {
     "data": {
      "text/plain": [
       "<function matplotlib.pyplot.show>"
      ]
     },
     "execution_count": 22,
     "metadata": {},
     "output_type": "execute_result"
    },
    {
     "data": {
      "image/png": "[encoded data removed]",
      "text/plain": [
       "<matplotlib.figure.Figure at 0x7f17611a7e90>"
      ]
     },
     "metadata": {},
     "output_type": "display_data"
    }
   ],
   "source": [
    "plt.plot(range(1, 31), acc, label = 'accuracy')\n",
    "plt.plot(range(1,31), val_acc, label = 'validation accuracy')\n",
    "plt.legend(loc = 'lower right')\n",
    "plt.xlabel(\"epochs\")\n",
    "plt.ylabel(\"Accuracy(%)\")\n",
    "plt.axvline(x = 15, color = 'r')\n",
    "plt.show"
   ]
  },
  {
   "cell_type": "code",
   "execution_count": 23,
   "metadata": {
    "collapsed": false
   },
   "outputs": [
    {
     "name": "stdout",
     "output_type": "stream",
     "text": [
      "Epoch 1/15\n",
      "2095/2095 [==============================] - 89s - loss: 0.2393 - acc: 0.8955 - val_loss: 0.2155 - val_acc: 0.9050\n",
      "Epoch 2/15\n",
      "2095/2095 [==============================] - 80s - loss: 0.2389 - acc: 0.8964 - val_loss: 0.2119 - val_acc: 0.9050\n",
      "Epoch 3/15\n",
      "2095/2095 [==============================] - 78s - loss: 0.2310 - acc: 0.9050 - val_loss: 0.2101 - val_acc: 0.9200\n",
      "Epoch 4/15\n",
      "2095/2095 [==============================] - 80s - loss: 0.2251 - acc: 0.9041 - val_loss: 0.2071 - val_acc: 0.9100\n",
      "Epoch 5/15\n",
      "2095/2095 [==============================] - 81s - loss: 0.2260 - acc: 0.9103 - val_loss: 0.2058 - val_acc: 0.9150\n",
      "Epoch 6/15\n",
      "2095/2095 [==============================] - 81s - loss: 0.2228 - acc: 0.9103 - val_loss: 0.2066 - val_acc: 0.9150\n",
      "Epoch 7/15\n",
      "2095/2095 [==============================] - 77s - loss: 0.2212 - acc: 0.9098 - val_loss: 0.2056 - val_acc: 0.9150\n"
     ]
    }
   ],
   "source": [
    "ResHistory2 = History()\n",
    "\n",
    "ResHistory2 = ResNet.fit_generator(generator =batches, \n",
    "                                  samples_per_epoch=batches.nb_sample, \n",
    "                                  nb_epoch = 15, \n",
    "                                  validation_data=valid_batches, \n",
    "                                  nb_val_samples=valid_batches.nb_sample, \n",
    "                                  callbacks = ([ResHistory2,\n",
    "                                                EarlyStopping(monitor='val_acc', patience = 3),\n",
    "                                                ModelCheckpoint('/home/ubuntu/INV-RES.model',\n",
    "                                                                monitor='val_acc', \n",
    "                                                                save_best_only=True)\n",
    "                                               ]))"
   ]
  },
  {
   "cell_type": "code",
   "execution_count": 24,
   "metadata": {
    "collapsed": true
   },
   "outputs": [],
   "source": [
    "acc = acc + ResHistory2.history['acc']\n",
    "val_acc = val_acc + ResHistory2.history['val_acc']"
   ]
  },
  {
   "cell_type": "code",
   "execution_count": 27,
   "metadata": {
    "collapsed": false
   },
   "outputs": [
    {
     "data": {
      "text/plain": [
       "<function matplotlib.pyplot.show>"
      ]
     },
     "execution_count": 27,
     "metadata": {},
     "output_type": "execute_result"
    },
    {
     "data": {
      "image/png": "[encoded data removed]",
      "text/plain": [
       "<matplotlib.figure.Figure at 0x7f1765ae2b50>"
      ]
     },
     "metadata": {},
     "output_type": "display_data"
    }
   ],
   "source": [
    "plt.plot(range(1, 31), acc, label = 'accuracy')\n",
    "plt.plot(range(1,31), val_acc, label = 'validation accuracy')\n",
    "plt.legend(loc = 'lower right')\n",
    "plt.xlabel(\"epochs\")\n",
    "plt.ylabel(\"Accuracy(%)\")\n",
    "plt.axvline(x = 15, color = 'r')\n",
    "plt.show"
   ]
  },
  {
   "cell_type": "code",
   "execution_count": null,
   "metadata": {
    "collapsed": true
   },
   "outputs": [],
   "source": []
  }
 ],
 "metadata": {
  "anaconda-cloud": {},
  "kernelspec": {
   "display_name": "Python 2",
   "language": "python",
   "name": "python2"
  },
  "language_info": {
   "codemirror_mode": {
    "name": "ipython",
    "version": 2
   },
   "file_extension": ".py",
   "mimetype": "text/x-python",
   "name": "python",
   "nbconvert_exporter": "python",
   "pygments_lexer": "ipython2",
   "version": "2.7.13"
  }
 },
 "nbformat": 4,
 "nbformat_minor": 1
}
