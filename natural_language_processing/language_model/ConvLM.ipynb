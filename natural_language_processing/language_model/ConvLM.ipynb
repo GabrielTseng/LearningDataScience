{
 "cells": [
  {
   "cell_type": "markdown",
   "metadata": {},
   "source": [
    "# ConvLM\n",
    "\n",
    "A temporal convolutional language model is trained"
   ]
  },
  {
   "cell_type": "code",
   "execution_count": 1,
   "metadata": {},
   "outputs": [],
   "source": [
    "# % load_ext autoreload\n",
    "# % autoreload 2\n",
    "%matplotlib inline"
   ]
  },
  {
   "cell_type": "code",
   "execution_count": 2,
   "metadata": {},
   "outputs": [],
   "source": [
    "from pathlib import Path\n",
    "import pickle\n",
    "import numpy as np\n",
    "from tqdm import tqdm\n",
    "from collections import defaultdict\n",
    "import matplotlib.pyplot as plt\n",
    "\n",
    "import torch\n",
    "from torch import nn"
   ]
  },
  {
   "cell_type": "code",
   "execution_count": 3,
   "metadata": {},
   "outputs": [],
   "source": [
    "from lm.data import LMDataLoader\n",
    "from lm.models import ConvLM, accuracy\n",
    "from lm.schedulers import OneCycle"
   ]
  },
  {
   "cell_type": "code",
   "execution_count": 4,
   "metadata": {},
   "outputs": [],
   "source": [
    "device = torch.device(\"cuda:0\")\n",
    "# device = torch.device('cpu')"
   ]
  },
  {
   "cell_type": "markdown",
   "metadata": {},
   "source": [
    "Loading the data, making dataloaders"
   ]
  },
  {
   "cell_type": "code",
   "execution_count": 5,
   "metadata": {},
   "outputs": [],
   "source": [
    "dict_path = Path('word2int.pickle')\n",
    "with dict_path.open('rb') as file:\n",
    "    d = pickle.load(file)"
   ]
  },
  {
   "cell_type": "code",
   "execution_count": 6,
   "metadata": {},
   "outputs": [],
   "source": [
    "xtrain = np.load('wikitext_train_int_tokens.npy')\n",
    "xval = np.load('wikitext_valtest_int_tokens.npy')"
   ]
  },
  {
   "cell_type": "code",
   "execution_count": 7,
   "metadata": {},
   "outputs": [],
   "source": [
    "xtrain_tensor = torch.from_numpy(xtrain).long()\n",
    "xval_tensor = torch.from_numpy(xval).long()\n",
    "\n",
    "if device.type == 'cuda':\n",
    "    xtrain_tensor = xtrain_tensor.cuda()\n",
    "    xval_tensor = xval_tensor.cuda()"
   ]
  },
  {
   "cell_type": "code",
   "execution_count": 8,
   "metadata": {},
   "outputs": [],
   "source": [
    "train_dataloader = LMDataLoader(xtrain_tensor, 70, 64)\n",
    "val_dataloader = LMDataLoader(xval_tensor, 70, 64)"
   ]
  },
  {
   "cell_type": "code",
   "execution_count": 9,
   "metadata": {},
   "outputs": [],
   "source": [
    "vocab_size = len(d)\n",
    "padding_idx = d['_pad_']"
   ]
  },
  {
   "cell_type": "code",
   "execution_count": 10,
   "metadata": {},
   "outputs": [],
   "source": [
    "model = ConvLM(embedding_dropout=0.1, num_blocks=2, vocab_size=vocab_size, padding_idx=padding_idx).cuda()"
   ]
  },
  {
   "cell_type": "code",
   "execution_count": 11,
   "metadata": {},
   "outputs": [
    {
     "data": {
      "text/plain": [
       "ConvLM(\n",
       "  (embedding): VDEmbedding(\n",
       "    (embedding): Embedding(30002, 400, padding_idx=0)\n",
       "  )\n",
       "  (TCNBlock_0): TCNBlock(\n",
       "    (conv1): WDConv(\n",
       "      (conv): Conv1d(400, 1150, kernel_size=(2,), stride=(1,), padding=(1,))\n",
       "    )\n",
       "    (conv2): WDConv(\n",
       "      (conv): Conv1d(1150, 1150, kernel_size=(2,), stride=(1,), padding=(1,))\n",
       "    )\n",
       "    (conv3): WDConv(\n",
       "      (conv): Conv1d(1150, 400, kernel_size=(2,), stride=(1,), padding=(1,))\n",
       "    )\n",
       "  )\n",
       "  (TCNBlock_1): TCNBlock(\n",
       "    (conv1): WDConv(\n",
       "      (conv): Conv1d(400, 1150, kernel_size=(2,), stride=(1,), padding=(2,), dilation=(2,))\n",
       "    )\n",
       "    (conv2): WDConv(\n",
       "      (conv): Conv1d(1150, 1150, kernel_size=(2,), stride=(1,), padding=(2,), dilation=(2,))\n",
       "    )\n",
       "    (conv3): WDConv(\n",
       "      (conv): Conv1d(1150, 400, kernel_size=(2,), stride=(1,), padding=(2,), dilation=(2,))\n",
       "    )\n",
       "  )\n",
       "  (decoder): Linear(in_features=400, out_features=30002, bias=True)\n",
       "  (emb_drop): VariationalDropout()\n",
       ")"
      ]
     },
     "execution_count": 11,
     "metadata": {},
     "output_type": "execute_result"
    }
   ],
   "source": [
    "model"
   ]
  },
  {
   "cell_type": "markdown",
   "metadata": {},
   "source": [
    "Finally, define our losses"
   ]
  },
  {
   "cell_type": "code",
   "execution_count": 12,
   "metadata": {},
   "outputs": [],
   "source": [
    "crit = nn.CrossEntropyLoss()"
   ]
  },
  {
   "cell_type": "markdown",
   "metadata": {},
   "source": [
    "Now, a first round of training, to make sure everything actually works."
   ]
  },
  {
   "cell_type": "code",
   "execution_count": 13,
   "metadata": {},
   "outputs": [],
   "source": [
    "optimizer = torch.optim.Adam(model.parameters())"
   ]
  },
  {
   "cell_type": "code",
   "execution_count": 14,
   "metadata": {},
   "outputs": [
    {
     "name": "stderr",
     "output_type": "stream",
     "text": [
      " 92%|█████████▏| 475/514 [01:45<00:08,  4.51it/s]\n"
     ]
    }
   ],
   "source": [
    "starting_learning_rate = 1e-5\n",
    "ending_learning_rate = 1\n",
    "\n",
    "info = defaultdict(list)\n",
    "\n",
    "for batch_number, batch in (enumerate(tqdm(train_dataloader))):\n",
    "    \n",
    "    addition = (batch_number / len(train_dataloader)) * (ending_learning_rate - starting_learning_rate)\n",
    "    learning_rate = starting_learning_rate + addition\n",
    "    # update the optimizer learning rates\n",
    "    for g in optimizer.param_groups:\n",
    "        g['lr'] = learning_rate\n",
    "    info['lr'].append(learning_rate)\n",
    "    # Zero the gradients of my optimizer - 'reset' it\n",
    "    optimizer.zero_grad()\n",
    "\n",
    "    x, y = batch\n",
    "    pred = model(x)\n",
    "\n",
    "    loss = crit(pred, y)\n",
    "    acc = accuracy(pred, y)\n",
    "\n",
    "    info['loss'].append(loss.item())\n",
    "    info['accuracy'].append(acc)\n",
    "    \n",
    "    loss.backward()\n",
    "    optimizer.step()"
   ]
  },
  {
   "cell_type": "code",
   "execution_count": 16,
   "metadata": {},
   "outputs": [
    {
     "data": {
      "image/png": "[encoded data removed]",
      "text/plain": [
       "<Figure size 720x360 with 2 Axes>"
      ]
     },
     "metadata": {},
     "output_type": "display_data"
    }
   ],
   "source": [
    "fig, axes = plt.subplots(1, 2, figsize=(10,5))\n",
    "\n",
    "# First, lets plot the results from the whole test\n",
    "axes[0].plot(info['lr'], info['loss'])\n",
    "axes[0].set_xlabel('Learning Rate')\n",
    "axes[0].set_ylabel('Total loss')\n",
    "axes[0].set_xscale('log')\n",
    "\n",
    "# then, clipped\n",
    "axes[1].plot(info['lr'][:12], info['loss'][:12])\n",
    "axes[1].set_xlabel('Learning Rate')\n",
    "axes[1].set_ylabel('Total loss')\n",
    "axes[1].set_xscale('log')"
   ]
  },
  {
   "cell_type": "code",
   "execution_count": 14,
   "metadata": {},
   "outputs": [],
   "source": [
    "scheduler = OneCycle(optimizer, len(train_dataloader), upswing=2, downswing=18, min_lr=1e-5,\n",
    "                     max_lr=1e-2)"
   ]
  },
  {
   "cell_type": "code",
   "execution_count": 15,
   "metadata": {},
   "outputs": [],
   "source": [
    "num_epochs = scheduler.num_epochs()"
   ]
  },
  {
   "cell_type": "code",
   "execution_count": 16,
   "metadata": {
    "scrolled": false
   },
   "outputs": [
    {
     "name": "stderr",
     "output_type": "stream",
     "text": [
      " 92%|█████████▏| 474/514 [01:47<00:09,  4.39it/s]\n",
      "  0%|          | 1/514 [00:00<01:35,  5.35it/s]"
     ]
    },
    {
     "name": "stdout",
     "output_type": "stream",
     "text": [
      "TRAINING: loss: 7.80028, accuracy: 0.0591\n",
      "VALIDATION: loss: 6.96737003326416, accuracy: 0.07976\n"
     ]
    },
    {
     "name": "stderr",
     "output_type": "stream",
     "text": [
      " 91%|█████████▏| 470/514 [01:47<00:10,  4.38it/s]\n",
      "  0%|          | 0/514 [00:00<?, ?it/s]"
     ]
    },
    {
     "name": "stdout",
     "output_type": "stream",
     "text": [
      "TRAINING: loss: 7.24588, accuracy: 0.07723\n",
      "VALIDATION: loss: 6.88838005065918, accuracy: 0.088\n"
     ]
    },
    {
     "name": "stderr",
     "output_type": "stream",
     "text": [
      " 92%|█████████▏| 473/514 [01:46<00:09,  4.43it/s]\n",
      "  0%|          | 0/514 [00:00<?, ?it/s]"
     ]
    },
    {
     "name": "stdout",
     "output_type": "stream",
     "text": [
      "TRAINING: loss: 7.34353, accuracy: 0.08533\n",
      "VALIDATION: loss: 6.883699893951416, accuracy: 0.08849\n"
     ]
    },
    {
     "name": "stderr",
     "output_type": "stream",
     "text": [
      " 91%|█████████ | 469/514 [01:46<00:10,  4.41it/s]\n",
      "  0%|          | 0/514 [00:00<?, ?it/s]"
     ]
    },
    {
     "name": "stdout",
     "output_type": "stream",
     "text": [
      "TRAINING: loss: 7.32825, accuracy: 0.08452\n",
      "VALIDATION: loss: 6.880410194396973, accuracy: 0.08768\n"
     ]
    },
    {
     "name": "stderr",
     "output_type": "stream",
     "text": [
      " 92%|█████████▏| 475/514 [01:46<00:08,  4.45it/s]\n",
      "  0%|          | 1/514 [00:00<01:38,  5.21it/s]"
     ]
    },
    {
     "name": "stdout",
     "output_type": "stream",
     "text": [
      "TRAINING: loss: 7.31579, accuracy: 0.08878\n",
      "VALIDATION: loss: 6.9026198387146, accuracy: 0.08333\n"
     ]
    },
    {
     "name": "stderr",
     "output_type": "stream",
     "text": [
      " 93%|█████████▎| 478/514 [01:46<00:08,  4.48it/s]\n",
      "  0%|          | 0/514 [00:00<?, ?it/s]"
     ]
    },
    {
     "name": "stdout",
     "output_type": "stream",
     "text": [
      "TRAINING: loss: 7.26816, accuracy: 0.08519\n",
      "VALIDATION: loss: 6.91264009475708, accuracy: 0.09256\n"
     ]
    },
    {
     "name": "stderr",
     "output_type": "stream",
     "text": [
      " 92%|█████████▏| 472/514 [01:46<00:09,  4.44it/s]\n",
      "  0%|          | 1/514 [00:00<01:38,  5.22it/s]"
     ]
    },
    {
     "name": "stdout",
     "output_type": "stream",
     "text": [
      "TRAINING: loss: 7.2766, accuracy: 0.08633\n",
      "VALIDATION: loss: 6.930669784545898, accuracy: 0.08973\n"
     ]
    },
    {
     "name": "stderr",
     "output_type": "stream",
     "text": [
      " 91%|█████████ | 469/514 [01:46<00:10,  4.41it/s]\n",
      "  0%|          | 1/514 [00:00<01:06,  7.70it/s]"
     ]
    },
    {
     "name": "stdout",
     "output_type": "stream",
     "text": [
      "TRAINING: loss: 7.25719, accuracy: 0.08749\n",
      "VALIDATION: loss: 6.799739837646484, accuracy: 0.09054\n"
     ]
    },
    {
     "name": "stderr",
     "output_type": "stream",
     "text": [
      " 92%|█████████▏| 475/514 [01:46<00:08,  4.45it/s]\n",
      "  0%|          | 0/514 [00:00<?, ?it/s]"
     ]
    },
    {
     "name": "stdout",
     "output_type": "stream",
     "text": [
      "TRAINING: loss: 7.20522, accuracy: 0.08918\n",
      "VALIDATION: loss: 6.885419845581055, accuracy: 0.09777\n"
     ]
    },
    {
     "name": "stderr",
     "output_type": "stream",
     "text": [
      " 92%|█████████▏| 474/514 [01:46<00:08,  4.46it/s]\n",
      "  0%|          | 0/514 [00:00<?, ?it/s]"
     ]
    },
    {
     "name": "stdout",
     "output_type": "stream",
     "text": [
      "TRAINING: loss: 7.20115, accuracy: 0.08627\n",
      "VALIDATION: loss: 6.824550151824951, accuracy: 0.09072\n"
     ]
    },
    {
     "name": "stderr",
     "output_type": "stream",
     "text": [
      " 93%|█████████▎| 476/514 [01:46<00:08,  4.47it/s]\n",
      "  0%|          | 0/514 [00:00<?, ?it/s]"
     ]
    },
    {
     "name": "stdout",
     "output_type": "stream",
     "text": [
      "TRAINING: loss: 7.12202, accuracy: 0.08745\n",
      "VALIDATION: loss: 6.848649978637695, accuracy: 0.09891\n"
     ]
    },
    {
     "name": "stderr",
     "output_type": "stream",
     "text": [
      " 92%|█████████▏| 472/514 [01:46<00:09,  4.44it/s]\n",
      "  0%|          | 0/514 [00:00<?, ?it/s]"
     ]
    },
    {
     "name": "stdout",
     "output_type": "stream",
     "text": [
      "TRAINING: loss: 7.17554, accuracy: 0.08769\n",
      "VALIDATION: loss: 6.839089870452881, accuracy: 0.0933\n"
     ]
    },
    {
     "name": "stderr",
     "output_type": "stream",
     "text": [
      " 92%|█████████▏| 475/514 [01:46<00:08,  4.47it/s]\n",
      "  0%|          | 0/514 [00:00<?, ?it/s]"
     ]
    },
    {
     "name": "stdout",
     "output_type": "stream",
     "text": [
      "TRAINING: loss: 7.14471, accuracy: 0.09076\n",
      "VALIDATION: loss: 6.857379913330078, accuracy: 0.08765\n"
     ]
    },
    {
     "name": "stderr",
     "output_type": "stream",
     "text": [
      " 92%|█████████▏| 475/514 [01:46<00:08,  4.47it/s]\n",
      "  0%|          | 0/514 [00:00<?, ?it/s]"
     ]
    },
    {
     "name": "stdout",
     "output_type": "stream",
     "text": [
      "TRAINING: loss: 7.15161, accuracy: 0.08891\n",
      "VALIDATION: loss: 6.901659965515137, accuracy: 0.09405\n"
     ]
    },
    {
     "name": "stderr",
     "output_type": "stream",
     "text": [
      " 93%|█████████▎| 476/514 [01:46<00:08,  4.47it/s]\n",
      "  0%|          | 0/514 [00:00<?, ?it/s]"
     ]
    },
    {
     "name": "stdout",
     "output_type": "stream",
     "text": [
      "TRAINING: loss: 7.14893, accuracy: 0.0904\n",
      "VALIDATION: loss: 6.991730213165283, accuracy: 0.0909\n"
     ]
    },
    {
     "name": "stderr",
     "output_type": "stream",
     "text": [
      " 93%|█████████▎| 476/514 [01:46<00:08,  4.47it/s]\n",
      "  0%|          | 0/514 [00:00<?, ?it/s]"
     ]
    },
    {
     "name": "stdout",
     "output_type": "stream",
     "text": [
      "TRAINING: loss: 7.12413, accuracy: 0.09089\n",
      "VALIDATION: loss: 6.893129825592041, accuracy: 0.0911\n"
     ]
    },
    {
     "name": "stderr",
     "output_type": "stream",
     "text": [
      " 92%|█████████▏| 474/514 [01:46<00:08,  4.47it/s]\n",
      "  0%|          | 1/514 [00:00<00:55,  9.27it/s]"
     ]
    },
    {
     "name": "stdout",
     "output_type": "stream",
     "text": [
      "TRAINING: loss: 7.05349, accuracy: 0.09019\n",
      "VALIDATION: loss: 6.88431978225708, accuracy: 0.09581\n"
     ]
    },
    {
     "name": "stderr",
     "output_type": "stream",
     "text": [
      " 91%|█████████▏| 470/514 [01:46<00:09,  4.42it/s]\n",
      "  0%|          | 0/514 [00:00<?, ?it/s]"
     ]
    },
    {
     "name": "stdout",
     "output_type": "stream",
     "text": [
      "TRAINING: loss: 7.07313, accuracy: 0.09455\n",
      "VALIDATION: loss: 6.9388298988342285, accuracy: 0.09006\n"
     ]
    },
    {
     "name": "stderr",
     "output_type": "stream",
     "text": [
      " 93%|█████████▎| 479/514 [01:46<00:07,  4.49it/s]\n",
      "  0%|          | 0/514 [00:00<?, ?it/s]"
     ]
    },
    {
     "name": "stdout",
     "output_type": "stream",
     "text": [
      "TRAINING: loss: 7.06954, accuracy: 0.09062\n",
      "VALIDATION: loss: 6.831429958343506, accuracy: 0.0936\n"
     ]
    },
    {
     "name": "stderr",
     "output_type": "stream",
     "text": [
      " 92%|█████████▏| 472/514 [01:46<00:09,  4.44it/s]\n"
     ]
    },
    {
     "name": "stdout",
     "output_type": "stream",
     "text": [
      "TRAINING: loss: 7.04457, accuracy: 0.08703\n",
      "VALIDATION: loss: 6.887360095977783, accuracy: 0.08839\n"
     ]
    }
   ],
   "source": [
    "overall_train = defaultdict(list)\n",
    "overall_val = defaultdict(list)\n",
    "\n",
    "for epoch in range(num_epochs):\n",
    "    # set the model to train\n",
    "    model.train()\n",
    "    # keep track of training scores, so they can be displayed later\n",
    "    train_scores = defaultdict(list)\n",
    "    \n",
    "    for batch_number, batch in (enumerate(tqdm(train_dataloader))):\n",
    "        # Zero the gradients of my optimizer - 'reset' it\n",
    "        optimizer.zero_grad()\n",
    "        \n",
    "        x, y = batch\n",
    "        pred = model(x)\n",
    "        \n",
    "        loss = crit(pred, y)\n",
    "        acc = accuracy(pred, y)\n",
    "        \n",
    "        train_scores['loss'].append(loss.item())\n",
    "        train_scores['accuracy'].append(acc)\n",
    "        \n",
    "        total_loss = loss\n",
    "        total_loss.backward()\n",
    "        optimizer.step()\n",
    "        scheduler.step()\n",
    "        \n",
    "    train_output_strings = []\n",
    "    for key, val in train_scores.items():\n",
    "        mean_value = np.array(val).mean()\n",
    "        train_output_strings.append('{}: {}'.format(key, round(mean_value, 5)))\n",
    "        overall_train[key].append(mean_value)\n",
    "        \n",
    "    if val_dataloader:\n",
    "        model.eval()\n",
    "        val_scores = defaultdict(list)\n",
    "        with torch.no_grad():\n",
    "            for batch_number, batch in enumerate(val_dataloader):\n",
    "                x, y = batch\n",
    "                pred = model(x)\n",
    "                val_loss = crit(pred, y)\n",
    "                acc = accuracy(pred, y)\n",
    "                \n",
    "                val_scores['loss'].append(val_loss)\n",
    "                val_scores['accuracy'].append(acc)\n",
    "                \n",
    "        val_output_strings = []\n",
    "        for key, val in val_scores.items():\n",
    "            mean_value = np.array(val).mean()\n",
    "            val_output_strings.append('{}: {}'.format(key, round(mean_value, 5)))\n",
    "            overall_val[key].append(mean_value)\n",
    "        print('TRAINING: {}, {}'.format(*train_output_strings))\n",
    "        print('VALIDATION: {}, {}'.format(*val_output_strings))"
   ]
  },
  {
   "cell_type": "code",
   "execution_count": 17,
   "metadata": {},
   "outputs": [],
   "source": [
    "model_information = {'state_dict': model.state_dict()}\n",
    "torch.save(model_information, 'ConvLM.pth.tar')"
   ]
  },
  {
   "cell_type": "code",
   "execution_count": 18,
   "metadata": {},
   "outputs": [
    {
     "data": {
      "text/plain": [
       "<matplotlib.legend.Legend at 0x7f3b8a398940>"
      ]
     },
     "execution_count": 18,
     "metadata": {},
     "output_type": "execute_result"
    },
    {
     "data": {
      "image/png": "[encoded data removed]",
      "text/plain": [
       "<Figure size 864x360 with 2 Axes>"
      ]
     },
     "metadata": {},
     "output_type": "display_data"
    }
   ],
   "source": [
    "fig, axes = plt.subplots(1, 2, figsize=(12,5))\n",
    "\n",
    "# First, lets plot accuracy\n",
    "axes[0].plot(range(len(overall_val['accuracy'])), overall_val['accuracy'], label='Validation')\n",
    "axes[0].plot(range(len(overall_train['accuracy'])), overall_train['accuracy'], label='Train')\n",
    "axes[0].set_xlabel('Epoch')\n",
    "axes[0].set_ylabel('Accuracy')\n",
    "axes[0].legend()\n",
    "\n",
    "# then, loss\n",
    "axes[1].plot(range(len(overall_val['loss'])), overall_val['loss'], label='Validation')\n",
    "axes[1].plot(range(len(overall_train['loss'])), overall_train['loss'], label='Train')\n",
    "axes[1].set_xlabel('Epoch')\n",
    "axes[1].set_ylabel('Loss')\n",
    "axes[1].legend()"
   ]
  }
 ],
 "metadata": {
  "kernelspec": {
   "display_name": "Environment (conda_fastai)",
   "language": "python",
   "name": "conda_fastai"
  },
  "language_info": {
   "codemirror_mode": {
    "name": "ipython",
    "version": 3
   },
   "file_extension": ".py",
   "mimetype": "text/x-python",
   "name": "python",
   "nbconvert_exporter": "python",
   "pygments_lexer": "ipython3",
   "version": "3.6.6"
  }
 },
 "nbformat": 4,
 "nbformat_minor": 2
}
