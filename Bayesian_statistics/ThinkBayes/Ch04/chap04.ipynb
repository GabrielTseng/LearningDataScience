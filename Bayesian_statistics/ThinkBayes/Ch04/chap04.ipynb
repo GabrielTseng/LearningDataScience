{
 "cells": [
  {
   "cell_type": "markdown",
   "metadata": {},
   "source": [
    "# Think Bayes solutions: Chapter 4\n",
    "\n",
    "This notebook presents solutions to exercises in Think Bayes.\n",
    "\n",
    "Copyright 2016 Allen B. Downey\n",
    "\n",
    "MIT License: https://opensource.org/licenses/MIT"
   ]
  },
  {
   "cell_type": "code",
   "execution_count": 1,
   "metadata": {
    "collapsed": true
   },
   "outputs": [],
   "source": [
    "from __future__ import print_function, division\n",
    "\n",
    "import numpy as np\n",
    "import random\n",
    "import os\n",
    "import sys\n",
    "\n",
    "sys.path.insert(1, os.path.join(sys.path[0], '..'))\n",
    "import thinkbayes2\n",
    "from thinkbayes2 import Pmf, Cdf, Suite\n",
    "import thinkplot\n",
    "\n",
    "from Beta import Beta\n",
    "\n",
    "% matplotlib inline"
   ]
  },
  {
   "cell_type": "markdown",
   "metadata": {},
   "source": [
    "**Exercise:** One way to construct priors is to make a Beta distribution and adjust the parameters until it has the shape you want.  Then when you do an update, the data get added to the parameters of the prior.  Since the parameters of the prior play the same mathematical role as the data, they are sometimes called \"precounts\".\n",
    "\n",
    "Suppose you believe that most coins are fair or unlikely to deviate from 50% by more than a few percentage points.  Construct a prior that captures this belief and update it with the Euro data.  How much effect does it have on the posterior, compared to the uniform prior?\n",
    "\n",
    "Hint: A Beta distribution with parameters `(1, 1)` is uniform from 0 to 1."
   ]
  },
  {
   "cell_type": "markdown",
   "metadata": {},
   "source": [
    "**Solution**\n",
    "\n",
    "The Beta distribution is roughly described by $\\textrm{Beta}(x) = x^{\\alpha -1}(1-x)^{\\beta -1}$. What I want is a distribution which is peaked around the center, and with symmetrical, slim tails (like a narrow Gaussian distribution).\n",
    "\n",
    "The mean of a Beta distribution is $\\textrm{Mean} = \\frac{\\alpha}{\\alpha + \\beta}$, and the mode is $\\textrm{Mode} = \\frac{\\alpha -1}{\\alpha + \\beta -2}$. I want both of these to be equal to 0.5.\n",
    "\n",
    "In addition, the variance of the Beta distribution is $\\textrm{Variance} = \\frac{\\alpha \\beta}{(\\alpha + \\beta)^2 (\\alpha + \\beta + 1)}$. Since I don't believe this will deviate from 0.5 by much, I want this to be small, say 0.01.\n",
    "\n",
    "Now, I have a set of equations with which I can solve for $\\alpha$ and $\\beta$.\n",
    "\n",
    "From my mean, since $\\frac{\\alpha}{\\alpha + \\beta} = 0.5$, its clear that $\\alpha = \\beta$. Substituting this into my equation for the variance,\n",
    "\n",
    "$0.01 = \\frac{\\alpha^2}{2\\alpha^2(2\\alpha + 1)}$\n",
    "\n",
    "Solving for $\\alpha$ yields $\\alpha = \\frac{0.98}{0.04} = 24.5$. This is the value of my $\\alpha$ and $\\beta$ parameters!"
   ]
  },
  {
   "cell_type": "code",
   "execution_count": 2,
   "metadata": {},
   "outputs": [
    {
     "data": {
      "image/png": "[encoded data removed]",
      "text/plain": [
       "<matplotlib.figure.Figure at 0x10b2d45d0>"
      ]
     },
     "metadata": {},
     "output_type": "display_data"
    }
   ],
   "source": [
    "centered_beta = Beta(alpha=24.5, beta=24.5, label='centered prior')\n",
    "thinkplot.Pdf(centered_beta.MakePmf())"
   ]
  },
  {
   "cell_type": "markdown",
   "metadata": {},
   "source": [
    "I can use this with the coin experiment:"
   ]
  },
  {
   "cell_type": "code",
   "execution_count": 3,
   "metadata": {},
   "outputs": [
    {
     "data": {
      "text/plain": [
       "0.5501672240802675"
      ]
     },
     "execution_count": 3,
     "metadata": {},
     "output_type": "execute_result"
    }
   ],
   "source": [
    "centered_beta.Update((140, 110))\n",
    "centered_beta.Mean()"
   ]
  },
  {
   "cell_type": "markdown",
   "metadata": {},
   "source": [
    "Comparing this with a uniform prior,"
   ]
  },
  {
   "cell_type": "code",
   "execution_count": 4,
   "metadata": {
    "collapsed": true
   },
   "outputs": [],
   "source": [
    "uniform_beta = Beta(alpha=1, beta=1, label='centered_prior')\n",
    "uniform_beta.Update((140, 110))"
   ]
  },
  {
   "cell_type": "code",
   "execution_count": 5,
   "metadata": {},
   "outputs": [
    {
     "data": {
      "image/png": "[encoded data removed]",
      "text/plain": [
       "<matplotlib.figure.Figure at 0x113e089d0>"
      ]
     },
     "metadata": {},
     "output_type": "display_data"
    }
   ],
   "source": [
    "thinkplot.Pdfs([centered_beta.MakePmf(), uniform_beta.MakePmf()]) \n",
    "thinkplot.Config(xlabel='x', ylabel='Probability')"
   ]
  },
  {
   "cell_type": "markdown",
   "metadata": {},
   "source": [
    "So the centered prior yields a very similar distribution to the uniform prior. We can better quantify the differences in these distributions by comparing their means, and credible intervals."
   ]
  },
  {
   "cell_type": "code",
   "execution_count": 6,
   "metadata": {},
   "outputs": [
    {
     "name": "stdout",
     "output_type": "stream",
     "text": [
      "Means \n",
      "Uniform prior: 0.559523809524 \n",
      "Centered prior: 0.55016722408\n"
     ]
    }
   ],
   "source": [
    "print ('Means \\nUniform prior: {} \\nCentered prior: {}'.format(uniform_beta.Mean(), centered_beta.Mean()))"
   ]
  },
  {
   "cell_type": "markdown",
   "metadata": {},
   "source": [
    "The peaks are not identical, but there is a less than 2% difference between the means."
   ]
  },
  {
   "cell_type": "code",
   "execution_count": 7,
   "metadata": {},
   "outputs": [
    {
     "name": "stdout",
     "output_type": "stream",
     "text": [
      "Credible Interavals \n",
      "Uniform prior: [ 0.50790363  0.6106057 ]\n",
      "Centered prior: [ 0.50272228  0.59722994]\n"
     ]
    }
   ],
   "source": [
    "print ('Credible Interavals \\nUniform prior: {}\\nCentered prior: {}'.format(uniform_beta.Percentile([5, 95]),\n",
    "                                                                             centered_beta.Percentile([5, 95])))"
   ]
  },
  {
   "cell_type": "markdown",
   "metadata": {
    "collapsed": true
   },
   "source": [
    "**Exercise:**  At the 2016 Summer Olympics in the Women's Skeet event, Kim Rhode faced Wei Meng in the bronze medal match.  They each hit 15 of 25 skeets, sending the match into sudden death.  In the first round, both hit 1 of 2 skeets.  In the next two rounds, they each hit 2 skeets.  Finally, in the fourth round, Rhode hit 2 and Wei hit 1, so Rhode won the bronze medal, making her the first Summer Olympian to win an individual medal at six consecutive summer games.\n",
    "\n",
    "But after all that shooting, what is the probability that Rhode is actually a better shooter than Wei?  If the same match were held again, what is the probability that Rhode would win?\n",
    "\n",
    "As always, you will have to make some modeling decisions, but one approach is to estimate, for each shooter, the probability of hitting a skeet.  Then, to estimate the probability that Rhode is a better shooter, you can draw samples from the two posterior distributions and compare them.  To estimate the probability of winning a rematch, you could draw samples from the posterior distributions and simulate a round of 25 shots."
   ]
  },
  {
   "cell_type": "markdown",
   "metadata": {},
   "source": [
    "**Solution**\n",
    "I can model my hypotheses as some percentage chance, $x$, that Rhode and Meng would hit the skeets. In the language of the coin flip, hitting a skeet would be 'heads', and missing it would be 'tails'.\n",
    "\n",
    "In this simulation, Rhode would have $(15 + 1 + 2 + 2) = 20$ heads and $(10 + 1 + 1) = 12$ tails.\n",
    "Meng would have $19$ heads and $13$ tails.\n",
    "\n",
    "In terms of the prior, I don't think a uniform prior is entirely appropriate here, since it's silly that professional athletes will have the same likelihood of getting 0 shots as getting all of them.\n",
    "\n",
    "A little bit of searching yielded these [two](https://www.thehighroad.org/index.php?threads/skeet-score-good-bad-average.595866/) [forums](https://www.thehighroad.org/index.php?threads/skeet-score-good-bad-average.595866/), which seem to suggest that\n",
    "\n",
    "1. scores have a very high variance (*\"I won a tournament w/ a 79 once and came in 6th w/ a 92....it all depends on the difficulty of the targets. Period.\"*)\n",
    "2. scores ranging from 60% - 80% seem to be normal (for the hobbyists who frequent online skeet shooting forums).\n",
    "\n",
    "Its not much, but its a start. Let's shoot for a mode of 75, and a variance of 0.05. Solving for the mode,\n",
    "\n",
    "$\\frac{\\alpha -1}{\\alpha + \\beta -2} = 0.75$, so that $\\alpha = 3\\beta -2$.\n",
    "\n",
    "Plugging this into the variance, $\\frac{(3\\beta -2)\\beta}{(4\\beta -2)^2(4\\beta -1)} = 0.2$, which yields $\\beta = 1.43$. This gives me $\\alpha = 2.29$.\n",
    "\n",
    "(To test swamping, and to see if we have enough data for the prior to not be that important, I am also going to do this with uniform priors and compare the results)."
   ]
  },
  {
   "cell_type": "code",
   "execution_count": 8,
   "metadata": {},
   "outputs": [
    {
     "data": {
      "image/png": "[encoded data removed]",
      "text/plain": [
       "<matplotlib.figure.Figure at 0x113d5fc90>"
      ]
     },
     "metadata": {},
     "output_type": "display_data"
    }
   ],
   "source": [
    "skewed_Rhode = Beta(alpha=2.29, beta=1.43, label='skewed Rhode')\n",
    "skewed_Meng = Beta(alpha=2.29, beta=1.43, label='skewed Meng')\n",
    "uniform_Rhode = Beta(label='uniform Rhode')\n",
    "uniform_Meng = Beta(label='uniform Meng')\n",
    "\n",
    "# let's see what this prior looks like\n",
    "thinkplot.Pdfs([skewed_Rhode.MakePmf(), uniform_Rhode.MakePmf()]) \n",
    "thinkplot.Config(title='priors', xlabel='x', ylabel='Probability')"
   ]
  },
  {
   "cell_type": "code",
   "execution_count": 9,
   "metadata": {
    "collapsed": true
   },
   "outputs": [],
   "source": [
    "skewed_Rhode.Update((20, 12))\n",
    "skewed_Meng.Update((19, 13))\n",
    "\n",
    "uniform_Rhode.Update((20, 12))\n",
    "uniform_Meng.Update((19, 13))"
   ]
  },
  {
   "cell_type": "code",
   "execution_count": 10,
   "metadata": {},
   "outputs": [
    {
     "data": {
      "image/png": "[encoded data removed]",
      "text/plain": [
       "<matplotlib.figure.Figure at 0x1140b7750>"
      ]
     },
     "metadata": {},
     "output_type": "display_data"
    }
   ],
   "source": [
    "thinkplot.Pdfs([skewed_Rhode.MakePmf(), skewed_Meng.MakePmf(),\n",
    "                uniform_Rhode.MakePmf(), uniform_Meng.MakePmf()]) \n",
    "thinkplot.Config(title='posterior', xlabel='x', ylabel='Probability')"
   ]
  },
  {
   "cell_type": "code",
   "execution_count": 11,
   "metadata": {},
   "outputs": [
    {
     "data": {
      "text/plain": [
       "(0.624020156774916, 0.5960246360582306, 0.6176470588235294, 0.5882352941176471)"
      ]
     },
     "execution_count": 11,
     "metadata": {},
     "output_type": "execute_result"
    }
   ],
   "source": [
    "skewed_Rhode.Mean(), skewed_Meng.Mean(), uniform_Rhode.Mean(), uniform_Meng.Mean()"
   ]
  },
  {
   "cell_type": "markdown",
   "metadata": {},
   "source": [
    "Considering that there is relatively little data to work with here - 32 datapoints - it's interesting that such different priors yield such similar posteriors. Both have a similar conclusion; that Rhode is a slightly better shooter than Meng. Who would win in a rematch?"
   ]
  },
  {
   "cell_type": "code",
   "execution_count": 12,
   "metadata": {
    "collapsed": true
   },
   "outputs": [],
   "source": [
    "skewed_rhodes = skewed_Rhode.Sample(25)\n",
    "skewed_meng = skewed_Meng.Sample(25)\n",
    "\n",
    "num_rhodes_skewed = len(skewed_rhodes[skewed_rhodes > 0.5])\n",
    "num_meng_skewed = len(skewed_meng[skewed_meng > 0.5])"
   ]
  },
  {
   "cell_type": "code",
   "execution_count": 13,
   "metadata": {},
   "outputs": [
    {
     "name": "stdout",
     "output_type": "stream",
     "text": [
      "25 22\n"
     ]
    }
   ],
   "source": [
    "print (num_rhodes_skewed, num_meng_skewed)"
   ]
  },
  {
   "cell_type": "markdown",
   "metadata": {},
   "source": [
    "Rhodes again, narrowly, according to the skewed prior."
   ]
  },
  {
   "cell_type": "code",
   "execution_count": 14,
   "metadata": {
    "collapsed": true
   },
   "outputs": [],
   "source": [
    "uniform_rhodes = uniform_Rhode.Sample(25)\n",
    "uniform_meng = uniform_Meng.Sample(25)\n",
    "\n",
    "num_rhodes_uniform = len(uniform_rhodes[uniform_rhodes > 0.5])\n",
    "num_meng_uniform = len(uniform_meng[uniform_meng > 0.5])"
   ]
  },
  {
   "cell_type": "code",
   "execution_count": 15,
   "metadata": {},
   "outputs": [
    {
     "name": "stdout",
     "output_type": "stream",
     "text": [
      "21 17\n"
     ]
    }
   ],
   "source": [
    "print (num_rhodes_uniform, num_meng_uniform)"
   ]
  },
  {
   "cell_type": "markdown",
   "metadata": {},
   "source": [
    "This yields a Rhodes win as well."
   ]
  },
  {
   "cell_type": "markdown",
   "metadata": {},
   "source": [
    "**Exercise** Suppose that instead of observing coin tosses directly, you measure the outcome using an instrument that is not always correct. Specifically, suppose there is a probability `y` that an actual heads is reported as tails, or actual tails reported as heads.\n",
    "\n",
    "Write a class that estimates the bias of a coin given a series of outcomes and the value of `y`.\n",
    "\n",
    "How does the spread of the posterior distribution depend on `y`?"
   ]
  },
  {
   "cell_type": "markdown",
   "metadata": {},
   "source": [
    "** Solution **"
   ]
  },
  {
   "cell_type": "code",
   "execution_count": 18,
   "metadata": {
    "collapsed": true
   },
   "outputs": [],
   "source": [
    "class FunkyCoin(Beta):\n",
    "    def Update(self, data, y):\n",
    "        \"\"\"Updates a Beta distribution.\n",
    "\n",
    "        data: pair of int (heads, tails)\n",
    "        y: The probability the coin-reading machine lied\n",
    "        \"\"\"\n",
    "        heads, tails = data\n",
    "        true_heads = (1 - y) * heads + y * tails\n",
    "        true_tails = (1 - y) * tails + y * heads\n",
    "        self.alpha += true_heads\n",
    "        self.beta += true_tails"
   ]
  },
  {
   "cell_type": "markdown",
   "metadata": {},
   "source": [
    "Let's consider the following values of y, for the same coin experiment as above (140 heads, 110 tails): `[0.3, 0.5, 0.8]`.\n",
    "\n",
    "As we've seen, with this many datapoints the priors get swamped, so lets just use a uniform distribution."
   ]
  },
  {
   "cell_type": "code",
   "execution_count": 19,
   "metadata": {
    "collapsed": true
   },
   "outputs": [],
   "source": [
    "possible_y = [0.3, 0.5, 0.8]\n",
    "funky_coins = []\n",
    "for y in possible_y:\n",
    "    single_coin = FunkyCoin(label='y: {}'.format(str(y)))\n",
    "    single_coin.Update((140, 110), y)\n",
    "    funky_coins.append(single_coin.MakePmf())"
   ]
  },
  {
   "cell_type": "code",
   "execution_count": 20,
   "metadata": {},
   "outputs": [
    {
     "data": {
      "image/png": "[encoded data removed]",
      "text/plain": [
       "<matplotlib.figure.Figure at 0x114232b10>"
      ]
     },
     "metadata": {},
     "output_type": "display_data"
    }
   ],
   "source": [
    "thinkplot.Pdfs(funky_coins) \n",
    "thinkplot.Config(title='posterior', xlabel='x', ylabel='Probability')"
   ]
  },
  {
   "cell_type": "markdown",
   "metadata": {},
   "source": [
    "So as y increases, the coin becomes less skewed. This makes sense, when you consider what actually happens. Lets calculate what `true_heads` and `true_tails` become for different values of `y`:"
   ]
  },
  {
   "cell_type": "code",
   "execution_count": 21,
   "metadata": {
    "collapsed": true
   },
   "outputs": [],
   "source": [
    "def true_values(data, y):\n",
    "    heads, tails = data\n",
    "    true_heads = (1 - y) * heads + y * tails\n",
    "    true_tails = (1 - y) * tails + y * heads\n",
    "    print ('for {}, true_heads: {}, true_tails: {}'.format(y, true_heads, true_tails))"
   ]
  },
  {
   "cell_type": "code",
   "execution_count": 22,
   "metadata": {},
   "outputs": [
    {
     "name": "stdout",
     "output_type": "stream",
     "text": [
      "for 0.3, true_heads: 131.0, true_tails: 119.0\n",
      "for 0.5, true_heads: 125.0, true_tails: 125.0\n",
      "for 0.8, true_heads: 116.0, true_tails: 134.0\n"
     ]
    }
   ],
   "source": [
    "for y in possible_y:\n",
    "    true_values((140, 110), y)"
   ]
  },
  {
   "cell_type": "markdown",
   "metadata": {},
   "source": [
    "As y increases, a greater proportion of heads and tails are exchanged. Since there are more heads than tails (in the observed data), this means heads 'gives' more values than tails, so as y increases, this means more and more tails actually occured."
   ]
  },
  {
   "cell_type": "markdown",
   "metadata": {},
   "source": [
    "**Exercise** This exercise is inspired by a question posted by a “redditor” named dominosci on Reddit’s statistics “subreddit” at http://reddit.com/r/statistics.\n",
    "\n",
    "Reddit is an online forum with many interest groups called subreddits. Users, called redditors, post links to online content and other web pages. Other redditors vote on the links, giving an “upvote” to high-quality links and a “downvote” to links that are bad or irrelevant.\n",
    "\n",
    "A problem, identified by dominosci, is that some redditors are more reliable than others, and Reddit does not take this into account.\n",
    "\n",
    "The challenge is to devise a system so that when a redditor casts a vote, the estimated quality of the link is updated in accordance with the reliability of the redditor, and the estimated reliability of the redditor is updated in accordance with the quality of the link.\n",
    "\n",
    "One approach is to model the quality of the link as the probability of garnering an upvote, and to model the reliability of the redditor as the probability of correctly giving an upvote to a high-quality item.\n",
    "\n",
    "Write class definitions for redditors and links and an update function that updates both objects whenever a redditor casts a vote."
   ]
  },
  {
   "cell_type": "code",
   "execution_count": 23,
   "metadata": {
    "collapsed": true
   },
   "outputs": [],
   "source": [
    "import pandas as pd\n",
    "from random import choice\n",
    "from string import ascii_uppercase\n",
    "from datetime import datetime, timedelta"
   ]
  },
  {
   "cell_type": "code",
   "execution_count": 24,
   "metadata": {
    "collapsed": true
   },
   "outputs": [],
   "source": [
    "class Link(Beta):\n",
    "    def __init__(self, alpha=1, beta=1, label=None):\n",
    "        \"\"\"Initializes a Beta distribution.\"\"\"\n",
    "        self.alpha = alpha\n",
    "        self.beta = beta\n",
    "        self.label = label if label is not None else '_nolegend_'\n",
    "        \n",
    "        self.visited_users = set()\n",
    "        self.upvoted_users = set()\n",
    "        \n",
    "    def Update(self, data):\n",
    "        \"\"\"Updates a Beta distribution.\n",
    "\n",
    "        data: pair of int (upvotes, total_views)\n",
    "        \"\"\"\n",
    "        upvotes, total_views = data\n",
    "        non_upvotes = total_views - upvotes\n",
    "        self.alpha += upvotes\n",
    "        self.beta += non_upvotes"
   ]
  },
  {
   "cell_type": "code",
   "execution_count": 25,
   "metadata": {
    "collapsed": true
   },
   "outputs": [],
   "source": [
    "class User(Beta):\n",
    "    def __init__(self, alpha=1, beta=1, label=None):\n",
    "        \"\"\"Initializes a Beta distribution.\"\"\"\n",
    "        self.alpha = alpha\n",
    "        self.beta = beta\n",
    "        self.label = label if label is not None else '_nolegend_'\n",
    "        \n",
    "        self.upvotes = set()\n",
    "        \n",
    "    def Update(self, data):\n",
    "        \"\"\"Updates a Beta distribution.\n",
    "\n",
    "        data: pair of int (high_quality_upvotes, low_quality_upvotes)\n",
    "            (where non_upvote is a view, but not an upvote)\n",
    "        \"\"\"\n",
    "        hq_upvotes, lq_upvotes = data\n",
    "        self.alpha += hq_upvotes\n",
    "        self.beta += lq_upvotes"
   ]
  },
  {
   "cell_type": "markdown",
   "metadata": {},
   "source": [
    "So now, I need to simulate a 'session', within which a bunch of users interact with some links.\n",
    "\n",
    "For simplicity, I'll model any link with a mean probability over 0.5 as a high quality link."
   ]
  },
  {
   "cell_type": "code",
   "execution_count": 26,
   "metadata": {
    "collapsed": true
   },
   "outputs": [],
   "source": [
    "class Session(object):\n",
    "    \"\"\" A reddit session\n",
    "    \"\"\"\n",
    "    def __init__(self, links=None, users=None):\n",
    "        self.links = {}\n",
    "        if links:\n",
    "            for link in links:\n",
    "                self.links[link] = Link(label=link)\n",
    "        \n",
    "        self.users = {}\n",
    "        if users:\n",
    "            for user in users:\n",
    "                self.users[user] = User(label=user)\n",
    "    \n",
    "    def generate_random_data(self, num_links=100, num_users=10, num_actions=1000, upvote_ratio=0.3):\n",
    "        \"\"\"Generates a random dataframe of user-link interactions\n",
    "        \n",
    "        num_links: the number of links randomly generate (if none were defined when\n",
    "            the class was initialized)\n",
    "        num_uers: the number of users randomly generate (if none were defined when\n",
    "            the class was initialized)\n",
    "        num_actions: the number of actions to generate\n",
    "        upvote_ratio: The ratio of viewed links which should also be upvotes\n",
    "        \n",
    "        returns:\n",
    "            a dataframe of random activity, which can be input into Update()\n",
    "        \"\"\"\n",
    "        \n",
    "        # check if users and links have already been defined\n",
    "        # if not, randomly create them\n",
    "        if len(self.users) == 0:\n",
    "            for i in range(num_users):\n",
    "                username = ''.join(choice(ascii_uppercase) for i in range(8))\n",
    "                self.users[username] = User(label=username)\n",
    "        if len(self.links) == 0:\n",
    "            for i in range(num_links):\n",
    "                link = ''.join(choice(ascii_uppercase) for i in range(8))\n",
    "                self.links[link] = Link(label=link)\n",
    "        \n",
    "        # randomly create user-link interactions\n",
    "        user_sequence = []\n",
    "        link_sequence = []\n",
    "        upvote_sequence = []\n",
    "        date_sequence = []\n",
    "        event_timestamp = datetime.now()\n",
    "        \n",
    "        for i in range(num_actions):\n",
    "            user_sequence.append(random.choice(self.users.keys()))\n",
    "            link_sequence.append(random.choice(self.links.keys()))\n",
    "            date_sequence.append(event_timestamp)\n",
    "            event_timestamp += timedelta(days=1)\n",
    "        \n",
    "        upvote_sequence = np.array([False]*num_actions)\n",
    "            \n",
    "        mask = np.random.rand(num_actions) < 0.3\n",
    "        upvote_sequence[mask] = True\n",
    "            \n",
    "        return pd.DataFrame(data={'timestamp': date_sequence,\n",
    "                                  'user': user_sequence,\n",
    "                                  'link': link_sequence,\n",
    "                                  'upvote': upvote_sequence})\n",
    "        \n",
    "    \n",
    "    def simulate_session(self, activity):\n",
    "        \"\"\"Simulates a session. The priors for all links and users\n",
    "        are then updated.\n",
    "        \n",
    "        activity: A dataframe with the following 4 headers:\n",
    "        ['timestamp', 'user', 'link', 'upvote']\n",
    "        (This can be generated using `generate_random_data`)\n",
    "        \"\"\"\n",
    "        activity = activity.sort_values('timestamp', ascending=False)\n",
    "        \n",
    "        # First, update the links' and users' attributes\n",
    "        for _, action in activity.iterrows():\n",
    "            if action.upvote:\n",
    "                self.users[action.user].upvotes.add(action.link)\n",
    "                self.links[action.link].upvoted_users.add(action.user)\n",
    "            \n",
    "            self.links[action.link].visited_users.add(action.user)\n",
    "        \n",
    "        # Next, run Update() for both the links\n",
    "        self.good_links = set()\n",
    "        for link in self.links:\n",
    "            num_unique_visits = len(self.links[link].visited_users)\n",
    "            num_upvotes = len(self.links[link].upvoted_users)\n",
    "            self.links[link].Update((num_upvotes, num_unique_visits))\n",
    "            link_score = self.links[link].Mean()\n",
    "            if link_score > 0.5:\n",
    "                self.good_links.add(link)\n",
    "                \n",
    "        for user in self.users:\n",
    "            num_total_upvotes = len(self.users[user].upvotes)\n",
    "            num_hq_upvotes = len(self.good_links.intersection(self.users[user].upvotes))\n",
    "            num_lq_upvotes = num_total_upvotes - num_hq_upvotes\n",
    "            self.users[user].Update((num_hq_upvotes, num_lq_upvotes))\n",
    "            "
   ]
  },
  {
   "cell_type": "code",
   "execution_count": 27,
   "metadata": {
    "collapsed": true
   },
   "outputs": [],
   "source": [
    "reddit_session = Session()"
   ]
  },
  {
   "cell_type": "code",
   "execution_count": 28,
   "metadata": {
    "collapsed": true
   },
   "outputs": [],
   "source": [
    "random_data = reddit_session.generate_random_data()"
   ]
  },
  {
   "cell_type": "code",
   "execution_count": 29,
   "metadata": {},
   "outputs": [
    {
     "data": {
      "text/html": [
       "<div>\n",
       "<style>\n",
       "    .dataframe thead tr:only-child th {\n",
       "        text-align: right;\n",
       "    }\n",
       "\n",
       "    .dataframe thead th {\n",
       "        text-align: left;\n",
       "    }\n",
       "\n",
       "    .dataframe tbody tr th {\n",
       "        vertical-align: top;\n",
       "    }\n",
       "</style>\n",
       "<table border=\"1\" class=\"dataframe\">\n",
       "  <thead>\n",
       "    <tr style=\"text-align: right;\">\n",
       "      <th></th>\n",
       "      <th>link</th>\n",
       "      <th>timestamp</th>\n",
       "      <th>upvote</th>\n",
       "      <th>user</th>\n",
       "    </tr>\n",
       "  </thead>\n",
       "  <tbody>\n",
       "    <tr>\n",
       "      <th>0</th>\n",
       "      <td>ZBCLUUVI</td>\n",
       "      <td>2018-03-09 14:54:27.045967</td>\n",
       "      <td>True</td>\n",
       "      <td>YMWHHTIJ</td>\n",
       "    </tr>\n",
       "    <tr>\n",
       "      <th>1</th>\n",
       "      <td>ZGAASZEF</td>\n",
       "      <td>2018-03-10 14:54:27.045967</td>\n",
       "      <td>False</td>\n",
       "      <td>PMQLMKUL</td>\n",
       "    </tr>\n",
       "    <tr>\n",
       "      <th>2</th>\n",
       "      <td>TVOSGHAH</td>\n",
       "      <td>2018-03-11 14:54:27.045967</td>\n",
       "      <td>False</td>\n",
       "      <td>PMQLMKUL</td>\n",
       "    </tr>\n",
       "    <tr>\n",
       "      <th>3</th>\n",
       "      <td>QZHSIGEL</td>\n",
       "      <td>2018-03-12 14:54:27.045967</td>\n",
       "      <td>True</td>\n",
       "      <td>PMQLMKUL</td>\n",
       "    </tr>\n",
       "    <tr>\n",
       "      <th>4</th>\n",
       "      <td>ZDENVMAV</td>\n",
       "      <td>2018-03-13 14:54:27.045967</td>\n",
       "      <td>False</td>\n",
       "      <td>ENATHMET</td>\n",
       "    </tr>\n",
       "  </tbody>\n",
       "</table>\n",
       "</div>"
      ],
      "text/plain": [
       "       link                  timestamp  upvote      user\n",
       "0  ZBCLUUVI 2018-03-09 14:54:27.045967    True  YMWHHTIJ\n",
       "1  ZGAASZEF 2018-03-10 14:54:27.045967   False  PMQLMKUL\n",
       "2  TVOSGHAH 2018-03-11 14:54:27.045967   False  PMQLMKUL\n",
       "3  QZHSIGEL 2018-03-12 14:54:27.045967    True  PMQLMKUL\n",
       "4  ZDENVMAV 2018-03-13 14:54:27.045967   False  ENATHMET"
      ]
     },
     "execution_count": 29,
     "metadata": {},
     "output_type": "execute_result"
    }
   ],
   "source": [
    "random_data.head()"
   ]
  },
  {
   "cell_type": "markdown",
   "metadata": {},
   "source": [
    "Now, I can see how the strengths of a link and a user evolve from the start to the end of the session."
   ]
  },
  {
   "cell_type": "code",
   "execution_count": 30,
   "metadata": {},
   "outputs": [
    {
     "name": "stdout",
     "output_type": "stream",
     "text": [
      "MWTQEZBE ENATHMET\n"
     ]
    }
   ],
   "source": [
    "random_link = random_data.iloc[random.choice(range(0, 1000))].link\n",
    "random_user = random_data.iloc[random.choice(range(0, 1000))].user\n",
    "print (random_link, random_user)"
   ]
  },
  {
   "cell_type": "code",
   "execution_count": 31,
   "metadata": {},
   "outputs": [
    {
     "data": {
      "image/png": "[encoded data removed]",
      "text/plain": [
       "<matplotlib.figure.Figure at 0x1143a5a50>"
      ]
     },
     "metadata": {},
     "output_type": "display_data"
    }
   ],
   "source": [
    "thinkplot.Pmf(reddit_session.users[random_user].MakePmf())\n",
    "thinkplot.Config(title='prior for {}'.format(random_user), xlabel='x', ylabel='Probability')"
   ]
  },
  {
   "cell_type": "code",
   "execution_count": 32,
   "metadata": {},
   "outputs": [
    {
     "data": {
      "image/png": "[encoded data removed]",
      "text/plain": [
       "<matplotlib.figure.Figure at 0x1140ebb50>"
      ]
     },
     "metadata": {},
     "output_type": "display_data"
    }
   ],
   "source": [
    "thinkplot.Pmf(reddit_session.links[random_link].MakePmf())\n",
    "thinkplot.Config(title='prior for {}'.format(random_link), xlabel='x', ylabel='Probability')"
   ]
  },
  {
   "cell_type": "markdown",
   "metadata": {},
   "source": [
    "These are uniform priors, as expected. The session can now be run"
   ]
  },
  {
   "cell_type": "code",
   "execution_count": 33,
   "metadata": {
    "collapsed": true
   },
   "outputs": [],
   "source": [
    "reddit_session.simulate_session(random_data)"
   ]
  },
  {
   "cell_type": "code",
   "execution_count": 36,
   "metadata": {},
   "outputs": [
    {
     "data": {
      "image/png": "[encoded data removed]",
      "text/plain": [
       "<matplotlib.figure.Figure at 0x1141e3b50>"
      ]
     },
     "metadata": {},
     "output_type": "display_data"
    }
   ],
   "source": [
    "thinkplot.Pmf(reddit_session.users[random_user].MakePmf())\n",
    "thinkplot.Config(title='User: posterior for {}'.format(random_user), xlabel='x', ylabel='Probability')"
   ]
  },
  {
   "cell_type": "code",
   "execution_count": 37,
   "metadata": {},
   "outputs": [
    {
     "data": {
      "image/png": "[encoded data removed]",
      "text/plain": [
       "<matplotlib.figure.Figure at 0x1143b7c10>"
      ]
     },
     "metadata": {},
     "output_type": "display_data"
    }
   ],
   "source": [
    "thinkplot.Pmf(reddit_session.links[random_link].MakePmf())\n",
    "thinkplot.Config(title='Link: posterior for {}'.format(random_link), xlabel='x', ylabel='Probability')"
   ]
  }
 ],
 "metadata": {
  "kernelspec": {
   "display_name": "Python 3",
   "language": "python",
   "name": "python3"
  },
  "language_info": {
   "codemirror_mode": {
    "name": "ipython",
    "version": 2
   },
   "file_extension": ".py",
   "mimetype": "text/x-python",
   "name": "python",
   "nbconvert_exporter": "python",
   "pygments_lexer": "ipython2",
   "version": "2.7.13"
  }
 },
 "nbformat": 4,
 "nbformat_minor": 1
}
