{
 "cells": [
  {
   "cell_type": "markdown",
   "metadata": {},
   "source": [
    "# Think Bayes: Chapter 2\n",
    "\n",
    "This notebook presents example code and exercise solutions for Think Bayes.\n",
    "\n",
    "Copyright 2016 Allen B. Downey\n",
    "\n",
    "MIT License: https://opensource.org/licenses/MIT"
   ]
  },
  {
   "cell_type": "code",
   "execution_count": 1,
   "metadata": {
    "collapsed": true
   },
   "outputs": [],
   "source": [
    "from __future__ import print_function, division\n",
    "\n",
    "% matplotlib inline\n",
    "\n",
    "import sys\n",
    "import os\n",
    "\n",
    "sys.path.insert(0, os.path.abspath(os.path.join(os.getcwd(), '..')))\n",
    "from thinkbayes2 import Hist, Pmf, Suite"
   ]
  },
  {
   "cell_type": "markdown",
   "metadata": {},
   "source": [
    "## Exercises"
   ]
  },
  {
   "cell_type": "markdown",
   "metadata": {},
   "source": [
    "**Exercise:** This one is from one of my favorite books, David MacKay's \"Information Theory, Inference, and Learning Algorithms\":\n",
    "\n",
    "> Elvis Presley had a twin brother who died at birth.  What is the probability that Elvis was an identical twin?\"\n",
    "    \n",
    "To answer this one, you need some background information: According to the Wikipedia article on twins:  ``Twins are estimated to be approximately 1.9% of the world population, with monozygotic twins making up 0.2% of the total---and 8% of all twins.''"
   ]
  },
  {
   "cell_type": "markdown",
   "metadata": {},
   "source": [
    "**Solution**\n",
    "\n",
    "We can start by defining our hypotheses: \n",
    "* A. Elvis was an identical twin\n",
    "* B. Elvis was not an identical twin\n",
    "\n",
    "The data D is that Elvis had a brother, not a sister. \n",
    "\n",
    "I am going to start by doing this by hand.\n",
    "\n",
    "```\n",
    "  | Prior p(H) | Likelihood p(D given H) | p(H) p(D given H) | Posterior P(H given D)\n",
    "  |------------|-------------------------|-------------------|------------------------\n",
    " A|  0.08      |   1                     | 0.08              |  0.15\n",
    " B|  0.92      |  0.5                    | 0.46              |  0.85\n",
    " ```"
   ]
  },
  {
   "cell_type": "markdown",
   "metadata": {},
   "source": [
    "Next, I am going to do this using a Pmf function"
   ]
  },
  {
   "cell_type": "code",
   "execution_count": 44,
   "metadata": {
    "collapsed": true
   },
   "outputs": [],
   "source": [
    "class Elvis_Pmf(Pmf):\n",
    "    \"\"\"Map from twin type (identical or not) to a probability\"\"\"\n",
    "\n",
    "    def __init__(self):\n",
    "        \"\"\"Initialize the distribution.\n",
    "\n",
    "        hypos: sequence of hypotheses\n",
    "        \"\"\"\n",
    "        Pmf.__init__(self)\n",
    "        \n",
    "        self.Set('identical', 0.08)\n",
    "        self.Set('non-identical', 0.92)\n",
    "        self.Normalize()\n",
    "\n",
    "    def Update(self, data):\n",
    "        \"\"\"Updates each hypothesis based on the data.\n",
    "\n",
    "        data: any representation of the data\n",
    "        \"\"\"\n",
    "        for hypo in self.Values():\n",
    "            like = self.Likelihood(data, hypo)\n",
    "            self.Mult(hypo, like)\n",
    "        self.Normalize()\n",
    "\n",
    "    def Likelihood(self, data, hypo):\n",
    "        \"\"\"Compute the likelihood of the data under the hypothesis.\n",
    "\n",
    "        hypo: {'identical', 'non-identical'}; the type of twin Elvis was\n",
    "        data: 'brother' or 'sister'; the type of sibling Elvis had\n",
    "        \"\"\"\n",
    "        if hypo == 'identical':\n",
    "            if data == 'brother':\n",
    "                return 1\n",
    "            else:\n",
    "                return 0\n",
    "        elif hypo == 'non-identical':\n",
    "            return 0.5"
   ]
  },
  {
   "cell_type": "code",
   "execution_count": 45,
   "metadata": {},
   "outputs": [
    {
     "name": "stdout",
     "output_type": "stream",
     "text": [
      "identical 0.148148148148\n",
      "non-identical 0.851851851852\n"
     ]
    }
   ],
   "source": [
    "elvis_pmf = Elvis_Pmf()\n",
    "elvis_pmf.Update('brother')\n",
    "elvis_pmf.Print()"
   ]
  },
  {
   "cell_type": "markdown",
   "metadata": {},
   "source": [
    "As expected! Finally, I am going to use a `Suite`. Here, I'll need to override the `__init__` method (since my priors don't have an equal probability)"
   ]
  },
  {
   "cell_type": "code",
   "execution_count": 55,
   "metadata": {
    "collapsed": true
   },
   "outputs": [],
   "source": [
    "class Elvis_Suite(Suite):\n",
    "    \"\"\"Map from twin type (identical or not) to a probability\"\"\"\n",
    "\n",
    "    def __init__(self):\n",
    "        \"\"\"Initialize the distribution.\n",
    "\n",
    "        hypos: sequence of hypotheses\n",
    "        \"\"\"\n",
    "        Suite.__init__(self)\n",
    "        \n",
    "        self.Set('identical', 0.08)\n",
    "        self.Set('non-identical', 0.92)\n",
    "        self.Normalize()\n",
    "\n",
    "    def Likelihood(self, data, hypo):\n",
    "        \"\"\"Compute the likelihood of the data under the hypothesis.\n",
    "\n",
    "        hypo: {'identical', 'non-identical'}; the type of twin Elvis was\n",
    "        data: 'brother' or 'sister'; the type of sibling Elvis had\n",
    "        \"\"\"\n",
    "        if hypo == 'identical':\n",
    "            if data == 'brother':\n",
    "                return 1\n",
    "            else:\n",
    "                return 0\n",
    "        elif hypo == 'non-identical':\n",
    "            return 0.5"
   ]
  },
  {
   "cell_type": "code",
   "execution_count": 56,
   "metadata": {},
   "outputs": [
    {
     "name": "stdout",
     "output_type": "stream",
     "text": [
      "identical 0.148148148148\n",
      "non-identical 0.851851851852\n"
     ]
    }
   ],
   "source": [
    "elvis_suite = Elvis_Suite()\n",
    "elvis_suite.Update('brother')\n",
    "elvis_suite.Print()"
   ]
  },
  {
   "cell_type": "markdown",
   "metadata": {
    "collapsed": true
   },
   "source": [
    "**Exercise:** Let's consider a more general version of the Monty Hall problem where Monty is more unpredictable.  As before, Monty never opens the door you chose (let's call it A) and never opens the door with the prize.  So if you choose the door with the prize, Monty has to decide which door to open.  Suppose he opens B with probability `p` and C with probability `1-p`.  If you choose A and Monty opens B, what is the probability that the car is behind A, in terms of `p`?  What if Monty opens C?\n",
    "\n",
    "Hint: you might want to use SymPy to do the algebra for you. "
   ]
  },
  {
   "cell_type": "code",
   "execution_count": 46,
   "metadata": {
    "collapsed": true
   },
   "outputs": [],
   "source": [
    "from sympy import symbols\n",
    "p = symbols('p')"
   ]
  },
  {
   "cell_type": "markdown",
   "metadata": {},
   "source": [
    "** Solution ** "
   ]
  },
  {
   "cell_type": "code",
   "execution_count": 49,
   "metadata": {
    "collapsed": true
   },
   "outputs": [],
   "source": [
    "class general_Monty(Pmf):\n",
    "    \"\"\"Map from a door choice to a probability\"\"\"\n",
    "    def __init__(self, hypos):\n",
    "        \"\"\"Initialize the distribution.\n",
    "\n",
    "        hypos: sequence of hypotheses\n",
    "        \"\"\"\n",
    "        Pmf.__init__(self)\n",
    "        for hypo in hypos:\n",
    "            self.Set(hypo, 1)\n",
    "        self.Normalize()\n",
    "\n",
    "    def Update(self, data, p):\n",
    "        \"\"\"Updates each hypothesis based on the data.\n",
    "\n",
    "        data: any representation of the data\n",
    "        \"\"\"\n",
    "        for hypo in self.Values():\n",
    "            like = self.Likelihood(data, hypo, p)\n",
    "            self.Mult(hypo, like)\n",
    "        self.Normalize()\n",
    "    \n",
    "    def Likelihood(self, data, hypo, p):\n",
    "        \"\"\"Compute the likelihood of the data under the hypothesis.\n",
    "\n",
    "        hypo: string name of the door where the prize is\n",
    "        data: string name of the door Monty opened\n",
    "        \"\"\"\n",
    "        if hypo == data:\n",
    "            return 0\n",
    "        elif hypo == 'A':\n",
    "            if data == 'B':\n",
    "                return p\n",
    "            if data == 'C':\n",
    "                return 1 - p\n",
    "        else:\n",
    "            return 1"
   ]
  },
  {
   "cell_type": "code",
   "execution_count": 51,
   "metadata": {
    "scrolled": true
   },
   "outputs": [
    {
     "name": "stdout",
     "output_type": "stream",
     "text": [
      "A 0.333333333333333*p/(0.333333333333333*p + 0.333333333333333)\n",
      "B 0\n",
      "C 0.333333333333333/(0.333333333333333*p + 0.333333333333333)\n"
     ]
    }
   ],
   "source": [
    "gM = general_Monty('ABC')\n",
    "gM.Update('B', p)\n",
    "gM.Print()"
   ]
  },
  {
   "cell_type": "markdown",
   "metadata": {},
   "source": [
    "Alternatively, I could return a real value for p, say 0.75"
   ]
  },
  {
   "cell_type": "code",
   "execution_count": 52,
   "metadata": {},
   "outputs": [
    {
     "name": "stdout",
     "output_type": "stream",
     "text": [
      "A 0.428571428571\n",
      "B 0.0\n",
      "C 0.571428571429\n"
     ]
    }
   ],
   "source": [
    "gM = general_Monty('ABC')\n",
    "gM.Update('B', 0.75)\n",
    "gM.Print()"
   ]
  },
  {
   "cell_type": "markdown",
   "metadata": {},
   "source": [
    "Finally, consider the case where Monty is random, as the original story went"
   ]
  },
  {
   "cell_type": "code",
   "execution_count": 53,
   "metadata": {},
   "outputs": [
    {
     "name": "stdout",
     "output_type": "stream",
     "text": [
      "A 0.333333333333\n",
      "B 0.0\n",
      "C 0.666666666667\n"
     ]
    }
   ],
   "source": [
    "gM = general_Monty('ABC')\n",
    "gM.Update('B', 0.5)\n",
    "gM.Print()"
   ]
  },
  {
   "cell_type": "markdown",
   "metadata": {},
   "source": [
    "Or that he always goes for B, if he can"
   ]
  },
  {
   "cell_type": "code",
   "execution_count": 54,
   "metadata": {},
   "outputs": [
    {
     "name": "stdout",
     "output_type": "stream",
     "text": [
      "A 0.5\n",
      "B 0.0\n",
      "C 0.5\n"
     ]
    }
   ],
   "source": [
    "gM = general_Monty('ABC')\n",
    "gM.Update('B', 1)\n",
    "gM.Print()"
   ]
  },
  {
   "cell_type": "markdown",
   "metadata": {
    "collapsed": true
   },
   "source": [
    "**Exercise:** According to the CDC, ``Compared to nonsmokers, men who smoke are about 23 times more likely to develop lung cancer and women who smoke are about 13 times more likely.''  Also, among adults in the U.S. in 2014:\n",
    "\n",
    "> Nearly 19 of every 100 adult men (18.8%) smoke\n",
    "\n",
    "> Nearly 15 of every 100 adult women (14.8%) smoke\n",
    "\n",
    "If you learn that a woman has been diagnosed with lung cancer, and you know nothing else about her, what is the probability that she is a smoker?"
   ]
  },
  {
   "cell_type": "markdown",
   "metadata": {},
   "source": [
    "** Solution **\n",
    "My hypotheses are that \n",
    "* A. She is a smoker\n",
    "* B. She isn't a smoker\n",
    "\n",
    "and my data D is that she has been diagnosed with Lung Cancer"
   ]
  },
  {
   "cell_type": "code",
   "execution_count": 60,
   "metadata": {
    "collapsed": true
   },
   "outputs": [],
   "source": [
    "class DoTheySmoke(Suite):\n",
    "    \n",
    "    def __init__(self, gender):\n",
    "        \"\"\"Initialize the distributions\n",
    "        \n",
    "        gender = {'male', 'female'}\n",
    "        \"\"\"\n",
    "        Suite.__init__(self)\n",
    "        self.Set('smoker', 0.148)\n",
    "        self.Set('non-smoker', 0.852)\n",
    "        self.Normalize()\n",
    "        \n",
    "        self.gender = gender\n",
    "        \n",
    "    def Likelihood(self, data, hypo):\n",
    "        \"\"\"Compute the likelihood of the data under the hypothesis.\n",
    "\n",
    "        hypo: smoker or non smoker\n",
    "        data: True or False, True if she has lung cancer, False if not\n",
    "        \"\"\"\n",
    "        if data:\n",
    "            if hypo == 'smoker':\n",
    "                if self.gender == 'male':\n",
    "                    return 25\n",
    "                else:\n",
    "                    return 13\n",
    "            else:\n",
    "                return 1"
   ]
  },
  {
   "cell_type": "code",
   "execution_count": 62,
   "metadata": {},
   "outputs": [
    {
     "name": "stdout",
     "output_type": "stream",
     "text": [
      "non-smoker 0.306916426513\n",
      "smoker 0.693083573487\n"
     ]
    }
   ],
   "source": [
    "smoker_suite = DoTheySmoke('female')\n",
    "smoker_suite.Update(True)\n",
    "smoker_suite.Print()"
   ]
  },
  {
   "cell_type": "markdown",
   "metadata": {},
   "source": [
    "And for men?"
   ]
  },
  {
   "cell_type": "code",
   "execution_count": 63,
   "metadata": {},
   "outputs": [
    {
     "name": "stdout",
     "output_type": "stream",
     "text": [
      "non-smoker 0.187170474517\n",
      "smoker 0.812829525483\n"
     ]
    }
   ],
   "source": [
    "smoker_suite = DoTheySmoke('male')\n",
    "smoker_suite.Update(True)\n",
    "smoker_suite.Print()"
   ]
  },
  {
   "cell_type": "markdown",
   "metadata": {},
   "source": [
    "**Exercise** In Section 2.3 I said that the solution to the cookie problem generalizes to the case where we draw multiple cookies with replacement.\n",
    "\n",
    "But in the more likely scenario where we eat the cookies we draw, the likelihood of each draw depends on the previous draws.\n",
    "\n",
    "Modify the solution in this chapter to handle selection without replacement. Hint: add instance variables to Cookie to represent the hypothetical state of the bowls, and modify Likelihood accordingly. You might want to define a Bowl object."
   ]
  },
  {
   "cell_type": "code",
   "execution_count": 72,
   "metadata": {
    "collapsed": true
   },
   "outputs": [],
   "source": [
    "class Cookies(Suite):\n",
    "    \n",
    "    def __init__(self, cookie_values):\n",
    "        \"\"\"Initialize the distributions\n",
    "        \n",
    "        cookie_values: a dictionary \n",
    "            {'bowl_name': {'cookie_type': number of cookies}}\n",
    "        \"\"\"\n",
    "        Suite.__init__(self)\n",
    "        for bowl in cookie_values:\n",
    "            self.Set(bowl, 1)\n",
    "        self.Normalize()\n",
    "        \n",
    "        self.cookie_values = cookie_values\n",
    "        \n",
    "    def Likelihood(self, data, hypo):\n",
    "        \"\"\"Compute the likelihood of the data under the hypothesis.\n",
    "\n",
    "        hypo: the bowl name\n",
    "        data: the cookie drawn\n",
    "        \"\"\"\n",
    "        cookies_in_bowl = self.cookie_values[hypo]\n",
    "        num_drawn_cookies = cookies_in_bowl.get(data, 0)\n",
    "        \n",
    "        # find the ratio\n",
    "        num_other_cookies = 0\n",
    "        for key, value in cookies_in_bowl.items():\n",
    "            if key == data:\n",
    "                continue\n",
    "            else:\n",
    "                num_other_cookies += value\n",
    "        \n",
    "        # update the number of cookies\n",
    "        cookies_in_bowl[data] = max(0, num_drawn_cookies - 1)\n",
    "        \n",
    "        return num_drawn_cookies / max(1, num_other_cookies)"
   ]
  },
  {
   "cell_type": "code",
   "execution_count": 73,
   "metadata": {
    "collapsed": true
   },
   "outputs": [],
   "source": [
    "cookies = Cookies({'bowl_1': {\n",
    "                   'vanilla': 20,\n",
    "                   'chocolate': 30},\n",
    "                   'bowl_2': {\n",
    "                   'vanilla': 20,\n",
    "                   'chocolate': 20}})"
   ]
  },
  {
   "cell_type": "code",
   "execution_count": 74,
   "metadata": {},
   "outputs": [
    {
     "name": "stdout",
     "output_type": "stream",
     "text": [
      "bowl_1 0.4\n",
      "bowl_2 0.6\n"
     ]
    }
   ],
   "source": [
    "cookies.Update('vanilla')\n",
    "cookies.Print()"
   ]
  }
 ],
 "metadata": {
  "kernelspec": {
   "display_name": "Python [default]",
   "language": "python",
   "name": "python2"
  },
  "language_info": {
   "codemirror_mode": {
    "name": "ipython",
    "version": 2
   },
   "file_extension": ".py",
   "mimetype": "text/x-python",
   "name": "python",
   "nbconvert_exporter": "python",
   "pygments_lexer": "ipython2",
   "version": "2.7.13"
  }
 },
 "nbformat": 4,
 "nbformat_minor": 1
}
