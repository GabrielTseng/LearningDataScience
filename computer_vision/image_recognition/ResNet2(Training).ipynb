{
 "cells": [
  {
   "cell_type": "markdown",
   "metadata": {},
   "source": [
    "# Training ResNet\n",
    "(This is just further finetuning the ResNet model defined in the first ResNet notebook)"
   ]
  },
  {
   "cell_type": "code",
   "execution_count": 1,
   "metadata": {
    "collapsed": false
   },
   "outputs": [
    {
     "name": "stderr",
     "output_type": "stream",
     "text": [
      "Using Theano backend.\n",
      "WARNING (theano.sandbox.cuda): The cuda backend is deprecated and will be removed in the next release (v0.10).  Please switch to the gpuarray backend. You can get more information about how to switch at this URL:\n",
      " https://github.com/Theano/Theano/wiki/Converting-to-the-new-gpu-back-end%28gpuarray%29\n",
      "\n",
      "Using gpu device 0: Tesla K80 (CNMeM is disabled, cuDNN 5103)\n"
     ]
    }
   ],
   "source": [
    "%matplotlib inline\n",
    "\n",
    "from __future__ import division, print_function\n",
    "\n",
    "import os, json\n",
    "from glob import glob\n",
    "import numpy as np\n",
    "from scipy import misc, ndimage\n",
    "from scipy.ndimage.interpolation import zoom\n",
    "\n",
    "from keras.applications.resnet50 import ResNet50, preprocess_input\n",
    "from keras.preprocessing import image\n",
    "from keras.models import Model, load_model\n",
    "from keras.layers.core import Flatten, Dense, Dropout, Lambda\n",
    "from keras.layers import Input, Activation, merge, GlobalAveragePooling2D\n",
    "from keras.optimizers import Adam\n",
    "from keras.callbacks import History, ModelCheckpoint, EarlyStopping, LearningRateScheduler\n",
    "from keras.layers.normalization import BatchNormalization\n",
    "from keras.layers.convolutional import Convolution2D, MaxPooling2D, ZeroPadding2D, AveragePooling2D\n",
    "import keras.preprocessing.image as image\n",
    "from keras.utils.data_utils import get_file\n",
    "from keras.utils.layer_utils import convert_all_kernels_in_model\n",
    "from keras.applications.resnet50 import identity_block, conv_block\n",
    "\n",
    "import numpy as np\n",
    "\n",
    "import matplotlib.pyplot as plt"
   ]
  },
  {
   "cell_type": "code",
   "execution_count": 2,
   "metadata": {
    "collapsed": false,
    "scrolled": true
   },
   "outputs": [
    {
     "name": "stderr",
     "output_type": "stream",
     "text": [
      "/home/ubuntu/anaconda2/lib/python2.7/site-packages/keras/layers/core.py:622: UserWarning: `output_shape` argument not specified for layer lambda_1 and cannot be automatically inferred with the Theano backend. Defaulting to output shape `(None, 3, 224, 224)` (same as input shape). If the expected output shape is different, specify it via the `output_shape` argument.\n",
      "  .format(self.name, input_shape))\n"
     ]
    }
   ],
   "source": [
    "ResNet = load_model('/home/ubuntu/INV-RES.model')"
   ]
  },
  {
   "cell_type": "code",
   "execution_count": null,
   "metadata": {
    "collapsed": true
   },
   "outputs": [],
   "source": [
    "for layer in ResNet.layers[:-7]: layer.trainable = False\n",
    "\n",
    "ResNet.compile(optimizer=Adam(lr=0.001),loss='categorical_crossentropy', metrics=['accuracy'])"
   ]
  },
  {
   "cell_type": "code",
   "execution_count": 4,
   "metadata": {
    "collapsed": false
   },
   "outputs": [
    {
     "name": "stdout",
     "output_type": "stream",
     "text": [
      "Found 2095 images belonging to 2 classes.\n",
      "Found 200 images belonging to 2 classes.\n"
     ]
    }
   ],
   "source": [
    "batch_size = 32\n",
    "\n",
    "train_gen = image.ImageDataGenerator(horizontal_flip = True,\n",
    "                               rotation_range = 30,\n",
    "                               shear_range = 0.2,\n",
    "                               zoom_range = 0.2,\n",
    "                                height_shift_range = 0.1,\n",
    "                                width_shift_range = 0.1, \n",
    "                               #preprocessing_function=preprocess_input\n",
    "                                )\n",
    "\n",
    "\n",
    "batches = train_gen.flow_from_directory(\"data/invasive/train\", \n",
    "                                        target_size = (224, 224), \n",
    "                                        batch_size = batch_size, \n",
    "                                        )\n",
    "\n",
    "valid_gen = image.ImageDataGenerator(#preprocessing_function = preprocess_input\n",
    "                                    )\n",
    "\n",
    "valid_batches = valid_gen.flow_from_directory(\"data/invasive/valid\", \n",
    "                                              target_size = (224, 224), \n",
    "                                              batch_size = batch_size, \n",
    "                                              shuffle = False, \n",
    "                                             )"
   ]
  },
  {
   "cell_type": "code",
   "execution_count": 6,
   "metadata": {
    "collapsed": false
   },
   "outputs": [
    {
     "name": "stdout",
     "output_type": "stream",
     "text": [
      "Epoch 1/15\n",
      "2095/2095 [==============================] - 88s - loss: 0.2729 - acc: 0.8854 - val_loss: 0.3060 - val_acc: 0.8950\n",
      "Epoch 2/15\n",
      "2095/2095 [==============================] - 80s - loss: 0.2307 - acc: 0.9036 - val_loss: 0.2239 - val_acc: 0.9100\n",
      "Epoch 3/15\n",
      "2095/2095 [==============================] - 79s - loss: 0.2057 - acc: 0.9150 - val_loss: 0.2132 - val_acc: 0.9150\n",
      "Epoch 4/15\n",
      "2095/2095 [==============================] - 78s - loss: 0.1794 - acc: 0.9265 - val_loss: 0.1990 - val_acc: 0.9400\n",
      "Epoch 5/15\n",
      "2095/2095 [==============================] - 80s - loss: 0.1674 - acc: 0.9303 - val_loss: 0.2976 - val_acc: 0.9050\n",
      "Epoch 6/15\n",
      "2095/2095 [==============================] - 78s - loss: 0.1446 - acc: 0.9422 - val_loss: 0.1765 - val_acc: 0.9450\n",
      "Epoch 7/15\n",
      "2095/2095 [==============================] - 77s - loss: 0.1621 - acc: 0.9337 - val_loss: 0.1808 - val_acc: 0.9350\n",
      "Epoch 8/15\n",
      "2095/2095 [==============================] - 78s - loss: 0.1234 - acc: 0.9489 - val_loss: 0.1863 - val_acc: 0.9350\n",
      "Epoch 9/15\n",
      "2095/2095 [==============================] - 78s - loss: 0.1530 - acc: 0.9422 - val_loss: 0.1741 - val_acc: 0.9400\n",
      "Epoch 10/15\n",
      "2095/2095 [==============================] - 80s - loss: 0.1360 - acc: 0.9475 - val_loss: 0.1736 - val_acc: 0.9350\n"
     ]
    }
   ],
   "source": [
    "ResHistory = History()\n",
    "\n",
    "ResHistory = ResNet.fit_generator(generator =batches, \n",
    "                                  samples_per_epoch=batches.nb_sample, \n",
    "                                  nb_epoch = 15, \n",
    "                                  validation_data=valid_batches, \n",
    "                                  nb_val_samples=valid_batches.nb_sample, \n",
    "                                  callbacks = ([ResHistory,\n",
    "                                                EarlyStopping(monitor='val_acc', patience = 3),\n",
    "                                                ModelCheckpoint('/home/ubuntu/INV-RES2.model',\n",
    "                                                                monitor='val_acc', \n",
    "                                                                save_best_only=True)\n",
    "                                               ]))"
   ]
  },
  {
   "cell_type": "code",
   "execution_count": 9,
   "metadata": {
    "collapsed": true
   },
   "outputs": [],
   "source": [
    "ResNet.compile(optimizer=Adam(lr=0.001),loss='categorical_crossentropy', metrics=['accuracy'])"
   ]
  },
  {
   "cell_type": "code",
   "execution_count": 10,
   "metadata": {
    "collapsed": false
   },
   "outputs": [
    {
     "name": "stdout",
     "output_type": "stream",
     "text": [
      "Epoch 1/10\n",
      "2095/2095 [==============================] - 87s - loss: 0.1442 - acc: 0.9399 - val_loss: 0.1875 - val_acc: 0.9450\n",
      "Epoch 2/10\n",
      "2095/2095 [==============================] - 77s - loss: 0.1314 - acc: 0.9427 - val_loss: 0.2270 - val_acc: 0.9350\n",
      "Epoch 3/10\n",
      "2095/2095 [==============================] - 79s - loss: 0.1337 - acc: 0.9442 - val_loss: 0.1748 - val_acc: 0.9600\n",
      "Epoch 4/10\n",
      "2095/2095 [==============================] - 77s - loss: 0.1387 - acc: 0.9451 - val_loss: 0.2111 - val_acc: 0.9500\n",
      "Epoch 5/10\n",
      "2095/2095 [==============================] - 77s - loss: 0.1191 - acc: 0.9537 - val_loss: 0.1694 - val_acc: 0.9500\n",
      "Epoch 6/10\n",
      "2095/2095 [==============================] - 79s - loss: 0.1340 - acc: 0.9480 - val_loss: 0.1648 - val_acc: 0.9450\n",
      "Epoch 7/10\n",
      "2095/2095 [==============================] - 78s - loss: 0.1030 - acc: 0.9628 - val_loss: 0.1661 - val_acc: 0.9450\n",
      "Epoch 8/10\n",
      "2095/2095 [==============================] - 80s - loss: 0.1092 - acc: 0.9561 - val_loss: 0.2083 - val_acc: 0.9450\n",
      "Epoch 9/10\n",
      "2095/2095 [==============================] - 77s - loss: 0.1075 - acc: 0.9575 - val_loss: 0.1581 - val_acc: 0.9550\n",
      "Epoch 10/10\n",
      "2095/2095 [==============================] - 79s - loss: 0.1167 - acc: 0.9508 - val_loss: 0.2161 - val_acc: 0.9300\n"
     ]
    }
   ],
   "source": [
    "ResHistory2 = History()\n",
    "\n",
    "ResHistory2 = ResNet.fit_generator(generator =batches, \n",
    "                                  samples_per_epoch=batches.nb_sample, \n",
    "                                  nb_epoch = 10, \n",
    "                                  validation_data=valid_batches, \n",
    "                                  nb_val_samples=valid_batches.nb_sample, \n",
    "                                  callbacks = ([ResHistory2,\n",
    "                                                #EarlyStopping(monitor='val_acc', patience = 3),\n",
    "                                                ModelCheckpoint('/home/ubuntu/INV-RES2.model',\n",
    "                                                                monitor='val_acc', \n",
    "                                                                save_best_only=True)\n",
    "                                               ]))"
   ]
  },
  {
   "cell_type": "code",
   "execution_count": 11,
   "metadata": {
    "collapsed": true
   },
   "outputs": [],
   "source": [
    "ResNet.compile(optimizer=Adam(lr=0.0001),loss='categorical_crossentropy', metrics=['accuracy'])"
   ]
  },
  {
   "cell_type": "code",
   "execution_count": 12,
   "metadata": {
    "collapsed": false
   },
   "outputs": [
    {
     "name": "stdout",
     "output_type": "stream",
     "text": [
      "Epoch 1/10\n",
      "2095/2095 [==============================] - 90s - loss: 0.0967 - acc: 0.9618 - val_loss: 0.1582 - val_acc: 0.9600\n",
      "Epoch 2/10\n",
      "2095/2095 [==============================] - 80s - loss: 0.0872 - acc: 0.9704 - val_loss: 0.1494 - val_acc: 0.9650\n",
      "Epoch 3/10\n",
      "2095/2095 [==============================] - 80s - loss: 0.0977 - acc: 0.9604 - val_loss: 0.1475 - val_acc: 0.9650\n",
      "Epoch 4/10\n",
      "2095/2095 [==============================] - 79s - loss: 0.0919 - acc: 0.9695 - val_loss: 0.1409 - val_acc: 0.9650\n",
      "Epoch 5/10\n",
      "2095/2095 [==============================] - 79s - loss: 0.0909 - acc: 0.9666 - val_loss: 0.1423 - val_acc: 0.9650\n",
      "Epoch 6/10\n",
      "2095/2095 [==============================] - 79s - loss: 0.0832 - acc: 0.9685 - val_loss: 0.1489 - val_acc: 0.9700\n",
      "Epoch 7/10\n",
      "2095/2095 [==============================] - 82s - loss: 0.0858 - acc: 0.9666 - val_loss: 0.1441 - val_acc: 0.9650\n",
      "Epoch 8/10\n",
      "2095/2095 [==============================] - 80s - loss: 0.0799 - acc: 0.9733 - val_loss: 0.1539 - val_acc: 0.9650\n",
      "Epoch 9/10\n",
      "2095/2095 [==============================] - 76s - loss: 0.0881 - acc: 0.9661 - val_loss: 0.1499 - val_acc: 0.9600\n",
      "Epoch 10/10\n",
      "2095/2095 [==============================] - 76s - loss: 0.0737 - acc: 0.9747 - val_loss: 0.1605 - val_acc: 0.9600\n"
     ]
    }
   ],
   "source": [
    "ResHistory3 = History()\n",
    "\n",
    "ResHistory3 = ResNet.fit_generator(generator =batches, \n",
    "                                  samples_per_epoch=batches.nb_sample, \n",
    "                                  nb_epoch = 10, \n",
    "                                  validation_data=valid_batches, \n",
    "                                  nb_val_samples=valid_batches.nb_sample, \n",
    "                                  callbacks = ([ResHistory3,\n",
    "                                                #EarlyStopping(monitor='val_acc', patience = 3),\n",
    "                                                ModelCheckpoint('/home/ubuntu/INV-RES2.model',\n",
    "                                                                monitor='val_acc', \n",
    "                                                                save_best_only=True)\n",
    "                                               ]))"
   ]
  },
  {
   "cell_type": "code",
   "execution_count": 13,
   "metadata": {
    "collapsed": false
   },
   "outputs": [
    {
     "name": "stdout",
     "output_type": "stream",
     "text": [
      "Epoch 1/10\n",
      "2095/2095 [==============================] - 85s - loss: 0.0827 - acc: 0.9656 - val_loss: 0.1663 - val_acc: 0.9600\n",
      "Epoch 2/10\n",
      "2095/2095 [==============================] - 77s - loss: 0.0806 - acc: 0.9709 - val_loss: 0.1494 - val_acc: 0.9550\n",
      "Epoch 3/10\n",
      "2095/2095 [==============================] - 78s - loss: 0.0742 - acc: 0.9723 - val_loss: 0.1415 - val_acc: 0.9650\n",
      "Epoch 4/10\n",
      "2095/2095 [==============================] - 78s - loss: 0.0727 - acc: 0.9728 - val_loss: 0.1608 - val_acc: 0.9600\n",
      "Epoch 5/10\n",
      "2095/2095 [==============================] - 77s - loss: 0.0691 - acc: 0.9761 - val_loss: 0.1438 - val_acc: 0.9600\n",
      "Epoch 6/10\n",
      "2095/2095 [==============================] - 76s - loss: 0.0748 - acc: 0.9718 - val_loss: 0.1433 - val_acc: 0.9650\n",
      "Epoch 7/10\n",
      "2095/2095 [==============================] - 77s - loss: 0.0836 - acc: 0.9666 - val_loss: 0.1580 - val_acc: 0.9650\n",
      "Epoch 8/10\n",
      "2095/2095 [==============================] - 76s - loss: 0.0682 - acc: 0.9766 - val_loss: 0.1434 - val_acc: 0.9650\n",
      "Epoch 9/10\n",
      "2095/2095 [==============================] - 76s - loss: 0.0757 - acc: 0.9766 - val_loss: 0.1552 - val_acc: 0.9600\n",
      "Epoch 10/10\n",
      "2095/2095 [==============================] - 79s - loss: 0.0781 - acc: 0.9714 - val_loss: 0.1534 - val_acc: 0.9600\n"
     ]
    }
   ],
   "source": [
    "ResHistory4 = History()\n",
    "\n",
    "ResHistory4 = ResNet.fit_generator(generator =batches, \n",
    "                                  samples_per_epoch=batches.nb_sample, \n",
    "                                  nb_epoch = 10, \n",
    "                                  validation_data=valid_batches, \n",
    "                                  nb_val_samples=valid_batches.nb_sample, \n",
    "                                  callbacks = ([ResHistory4,\n",
    "                                                #EarlyStopping(monitor='val_acc', patience = 3),\n",
    "                                                ModelCheckpoint('/home/ubuntu/INV-RES2.model',\n",
    "                                                                monitor='val_acc', \n",
    "                                                                save_best_only=True)\n",
    "                                               ]))"
   ]
  },
  {
   "cell_type": "code",
   "execution_count": 15,
   "metadata": {
    "collapsed": false
   },
   "outputs": [],
   "source": [
    "acc = ResHistory.history['acc'] +  ResHistory2.history['acc'] + ResHistory3.history['acc'] +  ResHistory.history['acc']"
   ]
  },
  {
   "cell_type": "code",
   "execution_count": null,
   "metadata": {
    "collapsed": true
   },
   "outputs": [],
   "source": []
  }
 ],
 "metadata": {
  "anaconda-cloud": {},
  "kernelspec": {
   "display_name": "Python 2",
   "language": "python",
   "name": "python2"
  },
  "language_info": {
   "codemirror_mode": {
    "name": "ipython",
    "version": 2
   },
   "file_extension": ".py",
   "mimetype": "text/x-python",
   "name": "python",
   "nbconvert_exporter": "python",
   "pygments_lexer": "ipython2",
   "version": "2.7.13"
  }
 },
 "nbformat": 4,
 "nbformat_minor": 1
}
