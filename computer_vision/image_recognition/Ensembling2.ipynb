{
 "cells": [
  {
   "cell_type": "markdown",
   "metadata": {},
   "source": [
    "# Ensembling"
   ]
  },
  {
   "cell_type": "code",
   "execution_count": 1,
   "metadata": {
    "collapsed": true
   },
   "outputs": [],
   "source": [
    "from sklearn import metrics, svm, linear_model, ensemble\n",
    "import optunity\n",
    "\n",
    "import matplotlib.pyplot as plt\n",
    "\n",
    "import optunity\n",
    "import optunity.metrics\n",
    "import numpy as np\n",
    "\n",
    "# k nearest neighbours\n",
    "from sklearn.neighbors import KNeighborsClassifier\n",
    "# support vector machine classifier\n",
    "from sklearn.svm import SVC\n",
    "# Naive Bayes\n",
    "from sklearn.naive_bayes import GaussianNB\n",
    "# Random Forest\n",
    "from sklearn.ensemble import RandomForestClassifier"
   ]
  },
  {
   "cell_type": "markdown",
   "metadata": {},
   "source": [
    "## Loading all the data"
   ]
  },
  {
   "cell_type": "code",
   "execution_count": 2,
   "metadata": {
    "collapsed": false
   },
   "outputs": [],
   "source": [
    "X_train = np.load(\"X_train2.npy\")\n",
    "X_valid = np.load(\"X_valid2.npy\")\n",
    "X_test = np.load(\"X_test2.npy\")\n",
    "\n",
    "Y_train = np.load(\"Y_train2.npy\")\n",
    "Y_valid = np.load(\"Y_valid2.npy\")\n",
    "filenames = np.load(\"filenames_test2.npy\")"
   ]
  },
  {
   "cell_type": "markdown",
   "metadata": {},
   "source": [
    "Making the data for optunity"
   ]
  },
  {
   "cell_type": "code",
   "execution_count": 3,
   "metadata": {
    "collapsed": false
   },
   "outputs": [
    {
     "data": {
      "text/plain": [
       "((2295, 3), (2295,))"
      ]
     },
     "execution_count": 3,
     "metadata": {},
     "output_type": "execute_result"
    }
   ],
   "source": [
    "data = np.concatenate((X_train, X_valid))\n",
    "labels = np.concatenate((Y_train, Y_valid))\n",
    "\n",
    "data.shape, labels.shape"
   ]
  },
  {
   "cell_type": "markdown",
   "metadata": {},
   "source": [
    "## Training and optimizing"
   ]
  },
  {
   "cell_type": "code",
   "execution_count": 4,
   "metadata": {
    "collapsed": true
   },
   "outputs": [],
   "source": [
    "def roc_score(model, X_valid, Y_valid):\n",
    "    return metrics.roc_auc_score(Y_valid, model.predict(X_valid))"
   ]
  },
  {
   "cell_type": "code",
   "execution_count": 5,
   "metadata": {
    "collapsed": true
   },
   "outputs": [],
   "source": [
    "LogReg = linear_model.LogisticRegression()\n",
    "\n",
    "SVM = svm.SVC(C = 0.5)\n",
    "\n",
    "LinSVC = svm.LinearSVC(C = 0.5)"
   ]
  },
  {
   "cell_type": "code",
   "execution_count": 116,
   "metadata": {
    "collapsed": false
   },
   "outputs": [],
   "source": [
    "LogReg.C = 0.5"
   ]
  },
  {
   "cell_type": "code",
   "execution_count": 117,
   "metadata": {
    "collapsed": false
   },
   "outputs": [
    {
     "data": {
      "text/plain": [
       "0.5"
      ]
     },
     "execution_count": 117,
     "metadata": {},
     "output_type": "execute_result"
    }
   ],
   "source": [
    "LogReg.C"
   ]
  },
  {
   "cell_type": "code",
   "execution_count": 118,
   "metadata": {
    "collapsed": false
   },
   "outputs": [
    {
     "data": {
      "text/plain": [
       "LinearSVC(C=0.5, class_weight=None, dual=True, fit_intercept=True,\n",
       "     intercept_scaling=1, loss='squared_hinge', max_iter=1000,\n",
       "     multi_class='ovr', penalty='l2', random_state=None, tol=0.0001,\n",
       "     verbose=0)"
      ]
     },
     "execution_count": 118,
     "metadata": {},
     "output_type": "execute_result"
    }
   ],
   "source": [
    "LogReg.fit(X_train, Y_train)\n",
    "SVM.fit(X_train, Y_train)\n",
    "LinSVC.fit(X_train, Y_train)"
   ]
  },
  {
   "cell_type": "code",
   "execution_count": 22,
   "metadata": {
    "collapsed": false
   },
   "outputs": [],
   "source": [
    "def find_C(model_init, X_train, Y_train, X_valid, Y_valid, C = [0.001, 0.003, 0.01, 0.03, 0.1, 0.3, 1] , plot = True):\n",
    "    roc = []\n",
    "    for i in range(len(C)):\n",
    "        model = model_init\n",
    "        model.C = C[i]\n",
    "        model.fit(X_train, Y_train)\n",
    "        \n",
    "        roc.append(roc_score(model, X_valid, Y_valid))\n",
    "    if plot: \n",
    "        plt.plot(C, roc)\n",
    "        plt.xlabel(\"C value\")\n",
    "        plt.ylabel(\"AUC ROC score\")\n",
    "        plt.show()\n",
    "    return C, roc"
   ]
  },
  {
   "cell_type": "code",
   "execution_count": 24,
   "metadata": {
    "collapsed": false
   },
   "outputs": [
    {
     "data": {
      "image/png": "[encoded data removed]",
      "text/plain": [
       "<matplotlib.figure.Figure at 0x1113a55d0>"
      ]
     },
     "metadata": {},
     "output_type": "display_data"
    },
    {
     "data": {
      "text/plain": [
       "[0.5,\n",
       " 0.89500000000000002,\n",
       " 0.96499999999999997,\n",
       " 0.96999999999999997,\n",
       " 0.96999999999999997,\n",
       " 0.96999999999999997,\n",
       " 0.96999999999999997]"
      ]
     },
     "execution_count": 24,
     "metadata": {},
     "output_type": "execute_result"
    }
   ],
   "source": [
    "C_linreg, roc_linreg = find_C(linear_model.LogisticRegression(), X_train, Y_train, X_valid, Y_valid )\n",
    "roc_linreg"
   ]
  },
  {
   "cell_type": "markdown",
   "metadata": {},
   "source": [
    "## Using Optunity to optimize the classifier"
   ]
  },
  {
   "cell_type": "code",
   "execution_count": 6,
   "metadata": {
    "collapsed": true
   },
   "outputs": [],
   "source": [
    "def train_svm(data, labels, kernel, C, gamma, degree, coef0):\n",
    "    \"\"\"A generic SVM training function, with arguments based on the chosen kernel.\"\"\"\n",
    "    if kernel == 'linear':\n",
    "        model = SVC(kernel=kernel, C=C)\n",
    "    elif kernel == 'poly':\n",
    "        model = SVC(kernel=kernel, C=C, degree=degree, coef0=coef0)\n",
    "    elif kernel == 'rbf':\n",
    "        model = SVC(kernel=kernel, C=C, gamma=gamma)\n",
    "    else:\n",
    "        raise ArgumentError(\"Unknown kernel function: %s\" % kernel)\n",
    "    model.fit(data, labels)\n",
    "    return model"
   ]
  },
  {
   "cell_type": "code",
   "execution_count": 7,
   "metadata": {
    "collapsed": true
   },
   "outputs": [],
   "source": [
    "search = {'algorithm': {'k-nn': {'n_neighbors': [1, 5]},\n",
    "                        'SVM': {'kernel': {'linear': {'C': [0, 2]},\n",
    "                                           'rbf': {'gamma': [0, 1], 'C': [0, 10]},\n",
    "                                           'poly': {'degree': [2, 5], 'C': [0, 50], 'coef0': [0, 1]}\n",
    "                                           }\n",
    "                                },\n",
    "                        'naive-bayes': None,\n",
    "                        #'random-forest': {'n_estimators': [10, 30],\n",
    "                        #                  'max_features': [0, 20.0]}\n",
    "                        }\n",
    "         }"
   ]
  },
  {
   "cell_type": "code",
   "execution_count": 8,
   "metadata": {
    "collapsed": true
   },
   "outputs": [],
   "source": [
    "@optunity.cross_validated(x=data, y=labels, num_folds=5)\n",
    "def performance(x_train, y_train, x_test, y_test,\n",
    "                algorithm, n_neighbors=None, n_estimators=None, max_features=None,\n",
    "                kernel=None, C=None, gamma=None, degree=None, coef0=None):\n",
    "    # fit the model\n",
    "    if algorithm == 'k-nn':\n",
    "        model = KNeighborsClassifier(n_neighbors=int(n_neighbors))\n",
    "        model.fit(x_train, y_train)\n",
    "    elif algorithm == 'SVM':\n",
    "        model = train_svm(x_train, y_train, kernel, C, gamma, degree, coef0)\n",
    "    elif algorithm == 'naive-bayes':\n",
    "        model = GaussianNB()\n",
    "        model.fit(x_train, y_train)\n",
    "    elif algorithm == 'random-forest':\n",
    "        model = RandomForestClassifier(n_estimators=int(n_estimators),\n",
    "                                       max_features=int(max_features))\n",
    "        model.fit(x_train, y_train)\n",
    "    else:\n",
    "        raise ArgumentError('Unknown algorithm: %s' % algorithm)\n",
    "\n",
    "    # predict the test set\n",
    "    if algorithm == 'SVM':\n",
    "        predictions = model.decision_function(x_test)\n",
    "    else:\n",
    "        predictions = model.predict_proba(x_test)[:, 1]\n",
    "\n",
    "    return optunity.metrics.roc_auc(y_test, predictions, positive=True)"
   ]
  },
  {
   "cell_type": "code",
   "execution_count": 9,
   "metadata": {
    "collapsed": false
   },
   "outputs": [
    {
     "data": {
      "text/plain": [
       "0.9930369274377984"
      ]
     },
     "execution_count": 9,
     "metadata": {},
     "output_type": "execute_result"
    }
   ],
   "source": [
    "performance(x_train = X_train, y_train = Y_train, \n",
    "            x_test = X_valid,  y_test = Y_valid, algorithm='k-nn', n_neighbors=3)"
   ]
  },
  {
   "cell_type": "code",
   "execution_count": 32,
   "metadata": {
    "collapsed": false
   },
   "outputs": [],
   "source": [
    "optimal_configuration, info, sug = optunity.maximize_structured(performance,\n",
    "                                                              search_space=search,\n",
    "                                                              num_evals=300)"
   ]
  },
  {
   "cell_type": "code",
   "execution_count": 33,
   "metadata": {
    "collapsed": false
   },
   "outputs": [
    {
     "data": {
      "text/plain": [
       "{'algorithm': [0.0, 3.0],\n",
       " 'algorithm|SVM|kernel': [0.0, 3.0],\n",
       " 'algorithm|SVM|kernel|linear|C': [0, 2],\n",
       " 'algorithm|SVM|kernel|poly|C': [0, 50],\n",
       " 'algorithm|SVM|kernel|poly|coef0': [0, 1],\n",
       " 'algorithm|SVM|kernel|poly|degree': [2, 5],\n",
       " 'algorithm|SVM|kernel|rbf|C': [0, 10],\n",
       " 'algorithm|SVM|kernel|rbf|gamma': [0, 1],\n",
       " 'algorithm|k-nn|n_neighbors': [1, 5],\n",
       " 'num_generations': 15,\n",
       " 'num_particles': 20,\n",
       " 'solver_name': 'particle swarm'}"
      ]
     },
     "execution_count": 33,
     "metadata": {},
     "output_type": "execute_result"
    }
   ],
   "source": [
    "sug"
   ]
  },
  {
   "cell_type": "code",
   "execution_count": 35,
   "metadata": {
    "collapsed": false
   },
   "outputs": [
    {
     "name": "stdout",
     "output_type": "stream",
     "text": [
      "Solution\n",
      "========\n",
      "kernel \t poly\n",
      "C \t 33.7897135417\n",
      "coef0 \t 0.522399215087\n",
      "degree \t 2.70070937083\n",
      "algorithm \t SVM\n"
     ]
    }
   ],
   "source": [
    "solution = dict([(k, v) for k, v in optimal_configuration.items() if v is not None])\n",
    "print('Solution\\n========')\n",
    "print(\"\\n\".join(map(lambda x: \"%s \\t %s\" % (x[0], str(x[1])), solution.items())))"
   ]
  },
  {
   "cell_type": "code",
   "execution_count": 36,
   "metadata": {
    "collapsed": false,
    "scrolled": true
   },
   "outputs": [
    {
     "name": "stdout",
     "output_type": "stream",
     "text": [
      "{'kernel': 'poly', 'C': 33.78971354166666, 'algorithm': 'SVM', 'degree': 2.7007093708339083, 'n_neighbors': None, 'coef0': 0.5223992150867972, 'gamma': None}\n",
      "0.998286413492\n"
     ]
    }
   ],
   "source": [
    "print(optimal_configuration)\n",
    "print(info.optimum)"
   ]
  },
  {
   "cell_type": "markdown",
   "metadata": {},
   "source": [
    "## Training on the data"
   ]
  },
  {
   "cell_type": "code",
   "execution_count": 37,
   "metadata": {
    "collapsed": true
   },
   "outputs": [],
   "source": [
    "SVM = svm.SVC( kernel = optimal_configuration['kernel'], C =  optimal_configuration['C'], \n",
    "              coef0 = optimal_configuration['coef0'], \n",
    "             degree = optimal_configuration['degree']      \n",
    "             )"
   ]
  },
  {
   "cell_type": "code",
   "execution_count": 38,
   "metadata": {
    "collapsed": false
   },
   "outputs": [
    {
     "data": {
      "text/plain": [
       "SVC(C=33.7897135417, cache_size=200, class_weight=None, coef0=0.522399215087,\n",
       "  decision_function_shape=None, degree=2.70070937083, gamma='auto',\n",
       "  kernel='poly', max_iter=-1, probability=False, random_state=None,\n",
       "  shrinking=True, tol=0.001, verbose=False)"
      ]
     },
     "execution_count": 38,
     "metadata": {},
     "output_type": "execute_result"
    }
   ],
   "source": [
    "SVM.fit(X_train, Y_train)"
   ]
  },
  {
   "cell_type": "code",
   "execution_count": 39,
   "metadata": {
    "collapsed": true
   },
   "outputs": [],
   "source": [
    "preds = SVM.predict(X_test)"
   ]
  },
  {
   "cell_type": "code",
   "execution_count": 40,
   "metadata": {
    "collapsed": true
   },
   "outputs": [],
   "source": [
    "preds2 = SVM.decision_function(X_test)"
   ]
  },
  {
   "cell_type": "code",
   "execution_count": 41,
   "metadata": {
    "collapsed": true
   },
   "outputs": [],
   "source": [
    "valid = SVM.predict(X_valid)"
   ]
  },
  {
   "cell_type": "code",
   "execution_count": 42,
   "metadata": {
    "collapsed": true
   },
   "outputs": [],
   "source": [
    "valid2 = SVM.decision_function(X_valid)"
   ]
  },
  {
   "cell_type": "code",
   "execution_count": 45,
   "metadata": {
    "collapsed": false
   },
   "outputs": [
    {
     "data": {
      "text/plain": [
       "0.98659999999999992"
      ]
     },
     "execution_count": 45,
     "metadata": {},
     "output_type": "execute_result"
    }
   ],
   "source": [
    "metrics.roc_auc_score(Y_valid,valid2)"
   ]
  },
  {
   "cell_type": "code",
   "execution_count": 19,
   "metadata": {
    "collapsed": false
   },
   "outputs": [
    {
     "data": {
      "text/plain": [
       "False"
      ]
     },
     "execution_count": 19,
     "metadata": {},
     "output_type": "execute_result"
    }
   ],
   "source": [
    "np.array_equal(preds, preds2)"
   ]
  },
  {
   "cell_type": "code",
   "execution_count": 20,
   "metadata": {
    "collapsed": true
   },
   "outputs": [],
   "source": [
    "ids = [int(f[5:f.find('.')]) for f in filenames]\n",
    "combined2 = np.column_stack((ids, preds2))"
   ]
  },
  {
   "cell_type": "code",
   "execution_count": 21,
   "metadata": {
    "collapsed": true
   },
   "outputs": [],
   "source": [
    "np.savetxt(\"inv3.csv\", combined2, fmt=\"%d,%.5f\", header = 'name,invasive')"
   ]
  },
  {
   "cell_type": "code",
   "execution_count": null,
   "metadata": {
    "collapsed": true
   },
   "outputs": [],
   "source": []
  }
 ],
 "metadata": {
  "kernelspec": {
   "display_name": "Python 2",
   "language": "python",
   "name": "python2"
  },
  "language_info": {
   "codemirror_mode": {
    "name": "ipython",
    "version": 2
   },
   "file_extension": ".py",
   "mimetype": "text/x-python",
   "name": "python",
   "nbconvert_exporter": "python",
   "pygments_lexer": "ipython2",
   "version": "2.7.13"
  }
 },
 "nbformat": 4,
 "nbformat_minor": 2
}
