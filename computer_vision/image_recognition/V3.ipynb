{
 "cells": [
  {
   "cell_type": "markdown",
   "metadata": {},
   "source": [
    "# Implementing Inception V3\n",
    "\n",
    "Inception V3 is a third model which was trained on the ImageNet corpus. \n",
    "\n",
    "I chose this as the 3rd model to train, because it's (conveniantly) already in Keras"
   ]
  },
  {
   "cell_type": "markdown",
   "metadata": {},
   "source": [
    "## Setup"
   ]
  },
  {
   "cell_type": "code",
   "execution_count": 1,
   "metadata": {
    "collapsed": false
   },
   "outputs": [
    {
     "name": "stderr",
     "output_type": "stream",
     "text": [
      "Using Theano backend.\n",
      "WARNING (theano.sandbox.cuda): The cuda backend is deprecated and will be removed in the next release (v0.10).  Please switch to the gpuarray backend. You can get more information about how to switch at this URL:\n",
      " https://github.com/Theano/Theano/wiki/Converting-to-the-new-gpu-back-end%28gpuarray%29\n",
      "\n",
      "Using gpu device 0: Tesla K80 (CNMeM is disabled, cuDNN 5103)\n"
     ]
    }
   ],
   "source": [
    "%matplotlib inline\n",
    "\n",
    "from __future__ import division, print_function\n",
    "\n",
    "import os, json\n",
    "from glob import glob\n",
    "import numpy as np\n",
    "from scipy import misc, ndimage\n",
    "from scipy.ndimage.interpolation import zoom\n",
    "\n",
    "from keras.applications.inception_v3 import InceptionV3\n",
    "from keras.preprocessing import image\n",
    "from keras.models import Model, load_model\n",
    "from keras.layers import Dense, GlobalAveragePooling2D\n",
    "from keras import backend as K\n",
    "from keras.callbacks import History, ModelCheckpoint, EarlyStopping, LearningRateScheduler\n",
    "from keras.optimizers import Adam\n",
    "\n",
    "\n",
    "import numpy as np\n",
    "\n",
    "import matplotlib.pyplot as plt"
   ]
  },
  {
   "cell_type": "markdown",
   "metadata": {},
   "source": [
    "To create this, I can just call the Keras method InceptionV3(). Since I plan on finetunint the top, I don't include the top. "
   ]
  },
  {
   "cell_type": "code",
   "execution_count": 2,
   "metadata": {
    "collapsed": false
   },
   "outputs": [],
   "source": [
    "base_model = InceptionV3(weights='imagenet', include_top=False)"
   ]
  },
  {
   "cell_type": "markdown",
   "metadata": {},
   "source": [
    "Now, given this base model, I can add layers to finetune. "
   ]
  },
  {
   "cell_type": "code",
   "execution_count": 3,
   "metadata": {
    "collapsed": false
   },
   "outputs": [],
   "source": [
    "x = base_model.output\n",
    "x = GlobalAveragePooling2D()(x)\n",
    "# let's add a fully-connected layer\n",
    "x = Dense(1024, activation='relu')(x)\n",
    "# and a logistic layer -- let's say we have 200 classes\n",
    "predictions = Dense(2, activation='softmax')(x)\n",
    "V3 = Model(input=base_model.input, output=predictions)"
   ]
  },
  {
   "cell_type": "code",
   "execution_count": 4,
   "metadata": {
    "collapsed": true
   },
   "outputs": [],
   "source": [
    "for layer in base_model.layers: layer.trainable = False"
   ]
  },
  {
   "cell_type": "code",
   "execution_count": 6,
   "metadata": {
    "collapsed": false
   },
   "outputs": [
    {
     "name": "stdout",
     "output_type": "stream",
     "text": [
      "Found 2095 images belonging to 2 classes.\n",
      "Found 200 images belonging to 2 classes.\n"
     ]
    }
   ],
   "source": [
    "batch_size = 32\n",
    "\n",
    "train_gen = image.ImageDataGenerator(horizontal_flip = True,\n",
    "                               rotation_range = 30,\n",
    "                               shear_range = 0.2,\n",
    "                               zoom_range = 0.2,\n",
    "                                height_shift_range = 0.1,\n",
    "                                width_shift_range = 0.1, \n",
    "                               #preprocessing_function=preprocess_input\n",
    "                                )\n",
    "\n",
    "\n",
    "batches = train_gen.flow_from_directory(\"data/invasive/train\", \n",
    "                                        target_size = (224, 224), \n",
    "                                        batch_size = batch_size, \n",
    "                                        )\n",
    "\n",
    "valid_gen = image.ImageDataGenerator(#preprocessing_function = preprocess_input\n",
    "                                    )\n",
    "\n",
    "valid_batches = valid_gen.flow_from_directory(\"data/invasive/valid\", \n",
    "                                              target_size = (224, 224), \n",
    "                                              batch_size = batch_size, \n",
    "                                              shuffle = False, \n",
    "                                             )"
   ]
  },
  {
   "cell_type": "markdown",
   "metadata": {},
   "source": [
    "## First try: Only training the last layer"
   ]
  },
  {
   "cell_type": "code",
   "execution_count": 6,
   "metadata": {
    "collapsed": false
   },
   "outputs": [],
   "source": [
    "V3.compile(optimizer=Adam(lr=0.0001),loss='categorical_crossentropy', metrics=['accuracy'])"
   ]
  },
  {
   "cell_type": "code",
   "execution_count": 7,
   "metadata": {
    "collapsed": false,
    "scrolled": false
   },
   "outputs": [
    {
     "name": "stdout",
     "output_type": "stream",
     "text": [
      "Epoch 1/15\n",
      "2095/2095 [==============================] - 98s - loss: 0.4610 - acc: 0.7652 - val_loss: 0.3992 - val_acc: 0.8050\n",
      "Epoch 2/15\n",
      "2095/2095 [==============================] - 78s - loss: 0.3404 - acc: 0.8487 - val_loss: 0.3969 - val_acc: 0.8150\n",
      "Epoch 3/15\n",
      "2095/2095 [==============================] - 81s - loss: 0.3347 - acc: 0.8482 - val_loss: 0.2949 - val_acc: 0.8900\n",
      "Epoch 4/15\n",
      "2095/2095 [==============================] - 79s - loss: 0.3221 - acc: 0.8616 - val_loss: 0.2786 - val_acc: 0.8850\n",
      "Epoch 5/15\n",
      "2095/2095 [==============================] - 79s - loss: 0.3070 - acc: 0.8616 - val_loss: 0.3276 - val_acc: 0.8800\n",
      "Epoch 6/15\n",
      "2095/2095 [==============================] - 79s - loss: 0.3073 - acc: 0.8606 - val_loss: 0.3255 - val_acc: 0.8600\n",
      "Epoch 7/15\n",
      "2095/2095 [==============================] - 76s - loss: 0.2832 - acc: 0.8735 - val_loss: 0.3172 - val_acc: 0.8700\n",
      "Epoch 8/15\n",
      "2095/2095 [==============================] - 81s - loss: 0.2902 - acc: 0.8768 - val_loss: 0.3968 - val_acc: 0.8550\n",
      "Epoch 9/15\n",
      "2095/2095 [==============================] - 79s - loss: 0.3060 - acc: 0.8587 - val_loss: 0.3151 - val_acc: 0.8700\n",
      "Epoch 10/15\n",
      "2095/2095 [==============================] - 75s - loss: 0.3011 - acc: 0.8663 - val_loss: 0.3733 - val_acc: 0.8800\n",
      "Epoch 11/15\n",
      "2095/2095 [==============================] - 77s - loss: 0.2821 - acc: 0.8797 - val_loss: 0.4022 - val_acc: 0.8750\n",
      "Epoch 12/15\n",
      "2095/2095 [==============================] - 78s - loss: 0.2873 - acc: 0.8768 - val_loss: 0.4054 - val_acc: 0.8550\n",
      "Epoch 13/15\n",
      "2095/2095 [==============================] - 79s - loss: 0.2692 - acc: 0.8831 - val_loss: 0.4006 - val_acc: 0.8550\n",
      "Epoch 14/15\n",
      "2095/2095 [==============================] - 75s - loss: 0.2812 - acc: 0.8740 - val_loss: 0.3845 - val_acc: 0.8550\n",
      "Epoch 15/15\n",
      "2095/2095 [==============================] - 78s - loss: 0.3013 - acc: 0.8702 - val_loss: 0.3704 - val_acc: 0.8800\n"
     ]
    }
   ],
   "source": [
    "V3History = History()\n",
    "\n",
    "V3History = V3.fit_generator(generator =batches, \n",
    "                                  samples_per_epoch=batches.nb_sample, \n",
    "                                  nb_epoch = 15, \n",
    "                                  validation_data=valid_batches, \n",
    "                                  nb_val_samples=valid_batches.nb_sample, \n",
    "                                  callbacks = ([V3History,\n",
    "                                                ModelCheckpoint('/home/ubuntu/INV-V32.model',\n",
    "                                                                monitor='val_acc', \n",
    "                                                                save_best_only=True)\n",
    "                                               ]))"
   ]
  },
  {
   "cell_type": "code",
   "execution_count": 9,
   "metadata": {
    "collapsed": false,
    "scrolled": true
   },
   "outputs": [
    {
     "data": {
      "text/plain": [
       "<function matplotlib.pyplot.show>"
      ]
     },
     "execution_count": 9,
     "metadata": {},
     "output_type": "execute_result"
    },
    {
     "data": {
      "image/png": "[encoded data removed]",
      "text/plain": [
       "<matplotlib.figure.Figure at 0x7ff16cc39850>"
      ]
     },
     "metadata": {},
     "output_type": "display_data"
    }
   ],
   "source": [
    "plt.plot(range(1, 16), V3History.history['loss'], label = 'loss')\n",
    "plt.plot(range(1,16), V3History.history['val_loss'], label = 'validation loss')\n",
    "plt.legend(loc = 'upper right')\n",
    "plt.xlabel(\"epochs\")\n",
    "plt.ylabel(\"Loss\")\n",
    "plt.show"
   ]
  },
  {
   "cell_type": "markdown",
   "metadata": {},
   "source": [
    "Not bad for a first run! But there's defintely plenty I can do to improve. Let's try training more layers"
   ]
  },
  {
   "cell_type": "markdown",
   "metadata": {
    "collapsed": true
   },
   "source": [
    "### Then, allowing up until the last convolutional block to be trained"
   ]
  },
  {
   "cell_type": "code",
   "execution_count": 2,
   "metadata": {
    "collapsed": false
   },
   "outputs": [],
   "source": [
    "V3 = load_model('/home/ubuntu/INV-V32.model')"
   ]
  },
  {
   "cell_type": "code",
   "execution_count": 3,
   "metadata": {
    "collapsed": false
   },
   "outputs": [],
   "source": [
    "for layer in V3.layers[:-24]: layer.trainable = False"
   ]
  },
  {
   "cell_type": "code",
   "execution_count": 4,
   "metadata": {
    "collapsed": true
   },
   "outputs": [],
   "source": [
    "V3.compile(optimizer=Adam(lr=0.00001),loss='categorical_crossentropy', metrics=['accuracy'])"
   ]
  },
  {
   "cell_type": "markdown",
   "metadata": {},
   "source": [
    "Without decreasing the learning rate, "
   ]
  },
  {
   "cell_type": "code",
   "execution_count": 7,
   "metadata": {
    "collapsed": false
   },
   "outputs": [
    {
     "name": "stdout",
     "output_type": "stream",
     "text": [
      "Epoch 1/15\n",
      "2095/2095 [==============================] - 101s - loss: 0.2837 - acc: 0.8711 - val_loss: 0.3415 - val_acc: 0.8900\n",
      "Epoch 2/15\n",
      "2095/2095 [==============================] - 79s - loss: 0.2721 - acc: 0.8735 - val_loss: 0.3414 - val_acc: 0.8950\n",
      "Epoch 3/15\n",
      "2095/2095 [==============================] - 81s - loss: 0.2555 - acc: 0.8888 - val_loss: 0.3392 - val_acc: 0.9050\n",
      "Epoch 4/15\n",
      "2095/2095 [==============================] - 82s - loss: 0.2613 - acc: 0.8916 - val_loss: 0.3488 - val_acc: 0.9000\n",
      "Epoch 5/15\n",
      "2095/2095 [==============================] - 82s - loss: 0.2569 - acc: 0.8921 - val_loss: 0.3401 - val_acc: 0.9100\n",
      "Epoch 6/15\n",
      "2095/2095 [==============================] - 81s - loss: 0.2710 - acc: 0.8831 - val_loss: 0.3421 - val_acc: 0.9050\n",
      "Epoch 7/15\n",
      "2095/2095 [==============================] - 80s - loss: 0.2786 - acc: 0.8802 - val_loss: 0.3463 - val_acc: 0.8950\n",
      "Epoch 8/15\n",
      "2095/2095 [==============================] - 80s - loss: 0.2649 - acc: 0.8916 - val_loss: 0.3369 - val_acc: 0.8950\n",
      "Epoch 9/15\n",
      "2095/2095 [==============================] - 78s - loss: 0.2466 - acc: 0.9002 - val_loss: 0.3448 - val_acc: 0.8950\n",
      "Epoch 10/15\n",
      "2095/2095 [==============================] - 80s - loss: 0.2677 - acc: 0.8802 - val_loss: 0.3384 - val_acc: 0.8950\n",
      "Epoch 11/15\n",
      "2095/2095 [==============================] - 79s - loss: 0.2722 - acc: 0.8759 - val_loss: 0.3399 - val_acc: 0.8900\n",
      "Epoch 12/15\n",
      "2095/2095 [==============================] - 80s - loss: 0.2623 - acc: 0.8940 - val_loss: 0.3370 - val_acc: 0.8950\n",
      "Epoch 13/15\n",
      "2095/2095 [==============================] - 78s - loss: 0.2667 - acc: 0.8854 - val_loss: 0.3446 - val_acc: 0.8850\n",
      "Epoch 14/15\n",
      "2095/2095 [==============================] - 79s - loss: 0.2707 - acc: 0.8759 - val_loss: 0.3423 - val_acc: 0.8900\n",
      "Epoch 15/15\n",
      "2095/2095 [==============================] - 79s - loss: 0.2747 - acc: 0.8778 - val_loss: 0.3429 - val_acc: 0.8950\n"
     ]
    }
   ],
   "source": [
    "V3History1 = History()\n",
    "\n",
    "V3History1 = V3.fit_generator(generator =batches, \n",
    "                                  samples_per_epoch=batches.nb_sample, \n",
    "                                  nb_epoch = 15, \n",
    "                                  validation_data=valid_batches, \n",
    "                                  nb_val_samples=valid_batches.nb_sample, \n",
    "                                  callbacks = ([V3History1,\n",
    "                                                ModelCheckpoint('/home/ubuntu/INV-V32.model',\n",
    "                                                                monitor='val_acc', \n",
    "                                                                save_best_only=True)\n",
    "                                               ]))"
   ]
  },
  {
   "cell_type": "code",
   "execution_count": 10,
   "metadata": {
    "collapsed": true
   },
   "outputs": [],
   "source": [
    "loss =  V3History1.history['loss']\n",
    "val_loss = V3History1.history['val_loss']"
   ]
  },
  {
   "cell_type": "code",
   "execution_count": 12,
   "metadata": {
    "collapsed": false
   },
   "outputs": [
    {
     "data": {
      "text/plain": [
       "<function matplotlib.pyplot.show>"
      ]
     },
     "execution_count": 12,
     "metadata": {},
     "output_type": "execute_result"
    },
    {
     "data": {
      "image/png": "[encoded data removed]",
      "text/plain": [
       "<matplotlib.figure.Figure at 0x7fc0278fe210>"
      ]
     },
     "metadata": {},
     "output_type": "display_data"
    }
   ],
   "source": [
    "plt.plot(range(1, 16), loss, label = 'loss')\n",
    "plt.plot(range(1,16), val_loss, label = 'validation loss')\n",
    "plt.legend(loc = 'upper right')\n",
    "plt.xlabel(\"epochs\")\n",
    "plt.ylabel(\"Loss\")\n",
    "#plt.axvline(x = 15, color = 'r')\n",
    "plt.show"
   ]
  },
  {
   "cell_type": "code",
   "execution_count": null,
   "metadata": {
    "collapsed": true
   },
   "outputs": [],
   "source": []
  }
 ],
 "metadata": {
  "anaconda-cloud": {},
  "kernelspec": {
   "display_name": "Python 2",
   "language": "python",
   "name": "python2"
  },
  "language_info": {
   "codemirror_mode": {
    "name": "ipython",
    "version": 2
   },
   "file_extension": ".py",
   "mimetype": "text/x-python",
   "name": "python",
   "nbconvert_exporter": "python",
   "pygments_lexer": "ipython2",
   "version": "2.7.13"
  }
 },
 "nbformat": 4,
 "nbformat_minor": 1
}
