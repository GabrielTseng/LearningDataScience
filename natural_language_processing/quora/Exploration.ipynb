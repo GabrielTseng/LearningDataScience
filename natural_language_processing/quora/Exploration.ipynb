{
 "cells": [
  {
   "cell_type": "markdown",
   "metadata": {},
   "source": [
    "# Kaggle Competition: Quora Question Pairs\n",
    "\n",
    "Link to competition : \n",
    "https://www.kaggle.com/c/quora-question-pairs\n",
    "\n",
    "Contents: \n",
    "0. Setup \n",
    "1. My First NLP Neural Network\n",
    "2. Cleaning the text, and using this for my second NLP neural network\n",
    "3. Adding leaky features"
   ]
  },
  {
   "cell_type": "code",
   "execution_count": 1,
   "metadata": {
    "collapsed": false
   },
   "outputs": [
    {
     "name": "stderr",
     "output_type": "stream",
     "text": [
      "Using Theano backend.\n",
      "WARNING (theano.sandbox.cuda): The cuda backend is deprecated and will be removed in the next release (v0.10).  Please switch to the gpuarray backend. You can get more information about how to switch at this URL:\n",
      " https://github.com/Theano/Theano/wiki/Converting-to-the-new-gpu-back-end%28gpuarray%29\n",
      "\n",
      "Using gpu device 0: Tesla K80 (CNMeM is disabled, cuDNN 5103)\n"
     ]
    }
   ],
   "source": [
    "% matplotlib inline \n",
    "\n",
    "import re\n",
    "\n",
    "import pandas as pd\n",
    "import numpy as np \n",
    "\n",
    "from itertools import cycle\n",
    "import string\n",
    "import os\n",
    "from collections import Counter\n",
    "from tqdm import *\n",
    "\n",
    "import cPickle as pickle\n",
    "\n",
    "import bcolz\n",
    "\n",
    "import seaborn as sns\n",
    "import matplotlib.pyplot as plt\n",
    "\n",
    "from keras.layers.embeddings import Embedding\n",
    "from keras.layers import Input, merge, TimeDistributed\n",
    "from keras.models import Model\n",
    "from keras.layers.core import Flatten, Dropout, Dense\n",
    "from keras.optimizers import Adam, Nadam\n",
    "from keras.layers.normalization import BatchNormalization\n",
    "from keras.layers.convolutional import Convolution1D, Conv1D\n",
    "\n",
    "from keras.regularizers import l1, l2\n",
    "\n",
    "from keras.layers.recurrent import GRU, LSTM\n",
    "\n",
    "from keras import backend as K\n",
    "\n",
    "from keras.preprocessing.text import Tokenizer \n",
    "from keras.preprocessing.sequence import pad_sequences\n",
    "\n",
    "from keras.utils.np_utils import to_categorical\n",
    "import gc"
   ]
  },
  {
   "cell_type": "markdown",
   "metadata": {},
   "source": [
    "## Importing the data"
   ]
  },
  {
   "cell_type": "code",
   "execution_count": 2,
   "metadata": {
    "collapsed": true
   },
   "outputs": [],
   "source": [
    "train = pd.read_csv('data/Quora/train.csv')"
   ]
  },
  {
   "cell_type": "code",
   "execution_count": 3,
   "metadata": {
    "collapsed": false
   },
   "outputs": [
    {
     "data": {
      "text/html": [
       "<div>\n",
       "<style>\n",
       "    .dataframe thead tr:only-child th {\n",
       "        text-align: right;\n",
       "    }\n",
       "\n",
       "    .dataframe thead th {\n",
       "        text-align: left;\n",
       "    }\n",
       "\n",
       "    .dataframe tbody tr th {\n",
       "        vertical-align: top;\n",
       "    }\n",
       "</style>\n",
       "<table border=\"1\" class=\"dataframe\">\n",
       "  <thead>\n",
       "    <tr style=\"text-align: right;\">\n",
       "      <th></th>\n",
       "      <th>id</th>\n",
       "      <th>qid1</th>\n",
       "      <th>qid2</th>\n",
       "      <th>question1</th>\n",
       "      <th>question2</th>\n",
       "      <th>is_duplicate</th>\n",
       "    </tr>\n",
       "  </thead>\n",
       "  <tbody>\n",
       "    <tr>\n",
       "      <th>0</th>\n",
       "      <td>0</td>\n",
       "      <td>1</td>\n",
       "      <td>2</td>\n",
       "      <td>What is the step by step guide to invest in sh...</td>\n",
       "      <td>What is the step by step guide to invest in sh...</td>\n",
       "      <td>0</td>\n",
       "    </tr>\n",
       "    <tr>\n",
       "      <th>1</th>\n",
       "      <td>1</td>\n",
       "      <td>3</td>\n",
       "      <td>4</td>\n",
       "      <td>What is the story of Kohinoor (Koh-i-Noor) Dia...</td>\n",
       "      <td>What would happen if the Indian government sto...</td>\n",
       "      <td>0</td>\n",
       "    </tr>\n",
       "    <tr>\n",
       "      <th>2</th>\n",
       "      <td>2</td>\n",
       "      <td>5</td>\n",
       "      <td>6</td>\n",
       "      <td>How can I increase the speed of my internet co...</td>\n",
       "      <td>How can Internet speed be increased by hacking...</td>\n",
       "      <td>0</td>\n",
       "    </tr>\n",
       "    <tr>\n",
       "      <th>3</th>\n",
       "      <td>3</td>\n",
       "      <td>7</td>\n",
       "      <td>8</td>\n",
       "      <td>Why am I mentally very lonely? How can I solve...</td>\n",
       "      <td>Find the remainder when [math]23^{24}[/math] i...</td>\n",
       "      <td>0</td>\n",
       "    </tr>\n",
       "    <tr>\n",
       "      <th>4</th>\n",
       "      <td>4</td>\n",
       "      <td>9</td>\n",
       "      <td>10</td>\n",
       "      <td>Which one dissolve in water quikly sugar, salt...</td>\n",
       "      <td>Which fish would survive in salt water?</td>\n",
       "      <td>0</td>\n",
       "    </tr>\n",
       "  </tbody>\n",
       "</table>\n",
       "</div>"
      ],
      "text/plain": [
       "   id  qid1  qid2                                          question1  \\\n",
       "0   0     1     2  What is the step by step guide to invest in sh...   \n",
       "1   1     3     4  What is the story of Kohinoor (Koh-i-Noor) Dia...   \n",
       "2   2     5     6  How can I increase the speed of my internet co...   \n",
       "3   3     7     8  Why am I mentally very lonely? How can I solve...   \n",
       "4   4     9    10  Which one dissolve in water quikly sugar, salt...   \n",
       "\n",
       "                                           question2  is_duplicate  \n",
       "0  What is the step by step guide to invest in sh...             0  \n",
       "1  What would happen if the Indian government sto...             0  \n",
       "2  How can Internet speed be increased by hacking...             0  \n",
       "3  Find the remainder when [math]23^{24}[/math] i...             0  \n",
       "4            Which fish would survive in salt water?             0  "
      ]
     },
     "execution_count": 3,
     "metadata": {},
     "output_type": "execute_result"
    }
   ],
   "source": [
    "train.head()"
   ]
  },
  {
   "cell_type": "markdown",
   "metadata": {},
   "source": [
    "## Preprocessing"
   ]
  },
  {
   "cell_type": "markdown",
   "metadata": {},
   "source": [
    "So I want to take as inputs questions 1 and 2, and as outputs 1 if it is a duplicate, and 0 if it is not. \n",
    "\n",
    "The first thing I want to be able to do is take each question, and turn it into embeddings. First, I'm going to turn them into an array of words, using Keras' tokenizer. A challenge when I do this is that I need to set a max number of words. There are empty cells in question 2 (for some reason??). I'm just going to ignore them. "
   ]
  },
  {
   "cell_type": "code",
   "execution_count": 4,
   "metadata": {
    "collapsed": false
   },
   "outputs": [
    {
     "name": "stdout",
     "output_type": "stream",
     "text": [
      "2 questions in question 2 are null\n"
     ]
    }
   ],
   "source": [
    "num = 0 \n",
    "for i in train.question2.isnull():\n",
    "    if i == True:\n",
    "        num += 1\n",
    "print str(num) + \" questions in question 2 are null\""
   ]
  },
  {
   "cell_type": "code",
   "execution_count": 5,
   "metadata": {
    "collapsed": false
   },
   "outputs": [
    {
     "name": "stdout",
     "output_type": "stream",
     "text": [
      "0 questions in question 1 are null\n"
     ]
    }
   ],
   "source": [
    "num = 0 \n",
    "for i in train.question1.isnull():\n",
    "    if i == True:\n",
    "        num += 1\n",
    "print str(num) + \" questions in question 1 are null\""
   ]
  },
  {
   "cell_type": "code",
   "execution_count": 6,
   "metadata": {
    "collapsed": false
   },
   "outputs": [
    {
     "data": {
      "text/plain": [
       "404290"
      ]
     },
     "execution_count": 6,
     "metadata": {},
     "output_type": "execute_result"
    }
   ],
   "source": [
    "len(train)"
   ]
  },
  {
   "cell_type": "code",
   "execution_count": 7,
   "metadata": {
    "collapsed": true
   },
   "outputs": [],
   "source": [
    "train = train[train.question2.notnull()]\n",
    "train = train[train.question1.notnull()]"
   ]
  },
  {
   "cell_type": "code",
   "execution_count": 8,
   "metadata": {
    "collapsed": false
   },
   "outputs": [
    {
     "data": {
      "text/plain": [
       "404288"
      ]
     },
     "execution_count": 8,
     "metadata": {},
     "output_type": "execute_result"
    }
   ],
   "source": [
    "len(train)"
   ]
  },
  {
   "cell_type": "code",
   "execution_count": 9,
   "metadata": {
    "collapsed": false
   },
   "outputs": [
    {
     "name": "stdout",
     "output_type": "stream",
     "text": [
      "The longest question length is 237 words\n",
      "The mean question lengths are 10.9422317754 and 11.1820410203\n"
     ]
    }
   ],
   "source": [
    "MAX_Q1_LENGTH = np.amax(train.question1.apply(lambda x: len(x.split())))\n",
    "MAX_Q2_LENGTH = np.amax(train.question2.apply(lambda y: len(y.split())))\n",
    "\n",
    "Mean_q1_length = train.question1.apply(lambda x: len(x.split())).mean()\n",
    "Mean_q2_length = train.question2.apply(lambda x: len(x.split())).mean()\n",
    "\n",
    "print \"The longest question length is \" + str(np.amax(np.asarray([MAX_Q1_LENGTH, MAX_Q2_LENGTH]))) + \" words\"\n",
    "print \"The mean question lengths are \" + str(Mean_q1_length) + \" and \" +  str(Mean_q2_length)"
   ]
  },
  {
   "cell_type": "code",
   "execution_count": 10,
   "metadata": {
    "collapsed": true
   },
   "outputs": [],
   "source": [
    "q1_lengths = np.asarray([train.question1.apply(lambda x: len(x.split()))])[0]\n",
    "q2_lengths = np.asarray([train.question2.apply(lambda x: len(x.split()))])[0]"
   ]
  },
  {
   "cell_type": "code",
   "execution_count": 11,
   "metadata": {
    "collapsed": false
   },
   "outputs": [
    {
     "data": {
      "text/plain": [
       "(0, 50)"
      ]
     },
     "execution_count": 11,
     "metadata": {},
     "output_type": "execute_result"
    },
    {
     "name": "stderr",
     "output_type": "stream",
     "text": [
      "/home/ubuntu/anaconda2/lib/python2.7/site-packages/matplotlib/font_manager.py:1297: UserWarning: findfont: Font family [u'sans-serif'] not found. Falling back to DejaVu Sans\n",
      "  (prop.get_family(), self.defaultFamily[fontext]))\n"
     ]
    },
    {
     "data": {
      "image/png": "[encoded data removed]",
      "text/plain": [
       "<matplotlib.figure.Figure at 0x7f3b1f76e6d0>"
      ]
     },
     "metadata": {},
     "output_type": "display_data"
    }
   ],
   "source": [
    "sns.distplot(q1_lengths)\n",
    "sns.distplot(q2_lengths)\n",
    "plt.xlabel('Question Lengths')\n",
    "plt.xlim(0,50)"
   ]
  },
  {
   "cell_type": "markdown",
   "metadata": {},
   "source": [
    "237 words takes a LONG time to train, and most questions are far shorter. 35 words is a reasonable limit, as very few questions are longer than this. "
   ]
  },
  {
   "cell_type": "code",
   "execution_count": 9,
   "metadata": {
    "collapsed": true
   },
   "outputs": [],
   "source": [
    "MAX_LENGTH = 35"
   ]
  },
  {
   "cell_type": "markdown",
   "metadata": {},
   "source": [
    "So I want to turn all of the words in all of my Quora questions into an array, with each word associated with an index. "
   ]
  },
  {
   "cell_type": "code",
   "execution_count": 15,
   "metadata": {
    "collapsed": false
   },
   "outputs": [],
   "source": [
    "tokenizer = Tokenizer(nb_words = 20000)\n",
    "tokenizer.fit_on_texts(train.question1 + train.question2)"
   ]
  },
  {
   "cell_type": "code",
   "execution_count": 16,
   "metadata": {
    "collapsed": false
   },
   "outputs": [],
   "source": [
    "q1sequence = tokenizer.texts_to_sequences(train.question1)\n",
    "q2sequence = tokenizer.texts_to_sequences(train.question2)"
   ]
  },
  {
   "cell_type": "code",
   "execution_count": 17,
   "metadata": {
    "collapsed": false
   },
   "outputs": [],
   "source": [
    "word_index = tokenizer.word_index"
   ]
  },
  {
   "cell_type": "code",
   "execution_count": 18,
   "metadata": {
    "collapsed": false
   },
   "outputs": [
    {
     "data": {
      "text/plain": [
       "{'icici': 4000,\n",
       " 'daiict': 28264,\n",
       " 'utnapishtim': 42163,\n",
       " 'sonja': 55750,\n",
       " 'devonians': 55751,\n",
       " 'vani': 21311,\n",
       " 'woods': 11688,\n",
       " 'spiders': 5377,\n",
       " 'hanging': 5495,\n",
       " 'paiza': 55752,\n",
       " 'woody': 19376,\n",
       " 'localized': 13595,\n",
       " 'regularize': 55753,\n",
       " 'disobeying': 31248,\n",
       " \"'guess'\": 55754,\n",
       " ...}"
      ]
     },
     "execution_count": 18,
     "metadata": {},
     "output_type": "execute_result"
    }
   ],
   "source": [
    "word_index"
   ]
  },
  {
   "cell_type": "markdown",
   "metadata": {},
   "source": [
    "So we have now turned our words into indices based on how commonly they occur in the text (I **haven't** implemented word embeddings yet!). I now want all of my sequences to be the same length, since neural nets require uniformly sized inputs. "
   ]
  },
  {
   "cell_type": "code",
   "execution_count": 19,
   "metadata": {
    "collapsed": false
   },
   "outputs": [],
   "source": [
    "q1_input = pad_sequences(q1sequence, maxlen = MAX_LENGTH)\n",
    "q2_input = pad_sequences(q2sequence, maxlen = MAX_LENGTH)"
   ]
  },
  {
   "cell_type": "code",
   "execution_count": 24,
   "metadata": {
    "collapsed": false
   },
   "outputs": [
    {
     "data": {
      "text/plain": [
       "array([0, 0, 0, ..., 0, 0, 0])"
      ]
     },
     "execution_count": 24,
     "metadata": {},
     "output_type": "execute_result"
    }
   ],
   "source": [
    "labels = np.asarray(train.is_duplicate)\n",
    "labels"
   ]
  },
  {
   "cell_type": "markdown",
   "metadata": {},
   "source": [
    "Awesome. So now, I can turn my arrays into my train and validation subsets. "
   ]
  },
  {
   "cell_type": "code",
   "execution_count": 21,
   "metadata": {
    "collapsed": false
   },
   "outputs": [],
   "source": [
    "msk = np.random.rand(len(train)) < 0.8\n",
    "\n",
    "q1_train = q1_input[msk]\n",
    "q1_valid = q1_input[~msk]\n",
    "\n",
    "q2_train = q2_input[msk]\n",
    "q2_valid = q2_input[~msk]\n",
    "\n",
    "labels_train = labels[msk]\n",
    "labels_valid = labels[~msk]"
   ]
  },
  {
   "cell_type": "markdown",
   "metadata": {},
   "source": [
    "Awesome! Now, I want to turn this array of word indices into an array of embeddings, as calculated in GloVe. "
   ]
  },
  {
   "cell_type": "code",
   "execution_count": 10,
   "metadata": {
    "collapsed": false,
    "scrolled": true
   },
   "outputs": [
    {
     "name": "stdout",
     "output_type": "stream",
     "text": [
      "Found 400000 word vectors.\n"
     ]
    }
   ],
   "source": [
    "embeddings_index = {}\n",
    "f = open('data/glove.6B.300d.txt')\n",
    "for line in f:\n",
    "    values = line.split()\n",
    "    word = values[0]\n",
    "    coefs = np.asarray(values[1:], dtype='float32')\n",
    "    embeddings_index[word] = coefs\n",
    "f.close()\n",
    "\n",
    "print('Found %s word vectors.' % len(embeddings_index))"
   ]
  },
  {
   "cell_type": "code",
   "execution_count": 11,
   "metadata": {
    "collapsed": true
   },
   "outputs": [],
   "source": [
    "EMBEDDING_DIM = 300"
   ]
  },
  {
   "cell_type": "markdown",
   "metadata": {},
   "source": [
    "Now that I have the embeddings, I want to turn these into weights, where each word index in my sample of questions can be turned into its appropriate 50-dimensional embedding. "
   ]
  },
  {
   "cell_type": "code",
   "execution_count": 27,
   "metadata": {
    "collapsed": false
   },
   "outputs": [],
   "source": [
    "embedding_matrix = np.zeros((len(word_index) + 1, EMBEDDING_DIM))\n",
    "for word, i in word_index.items():\n",
    "    embedding_vector = embeddings_index.get(word)\n",
    "    if embedding_vector is not None:\n",
    "        # words not found in embedding index will be all-zeros.\n",
    "        embedding_matrix[i] = embedding_vector"
   ]
  },
  {
   "cell_type": "code",
   "execution_count": 28,
   "metadata": {
    "collapsed": false,
    "scrolled": true
   },
   "outputs": [
    {
     "data": {
      "text/plain": [
       "array([ -1.88789994e-01,   2.50649989e-01,  -6.05459988e-01,\n",
       "        -2.40860000e-01,   1.28209993e-01,   3.69299985e-02,\n",
       "        -4.22960013e-01,  -8.34050030e-02,   1.41049996e-01,\n",
       "         1.06870003e-01,  -5.46899974e-01,   9.27890018e-02,\n",
       "         2.53780000e-02,   1.61369994e-01,  -2.55959988e-01,\n",
       "        -2.48830006e-01,   7.82350004e-01,   9.27449986e-02,\n",
       "         8.40749964e-02,   1.28600001e-01,  -7.39170015e-02,\n",
       "         1.95130005e-01,   2.72949994e-01,  -1.01570003e-01,\n",
       "        -1.35900006e-01,  -5.36090016e-01,   3.47059988e-03,\n",
       "         1.27379999e-01,   2.80669987e-01,   6.26619995e-01,\n",
       "         1.23100001e-02,   9.57920030e-02,   1.63680002e-01,\n",
       "         7.46719986e-02,   7.01099992e-01,   7.94999972e-02,\n",
       "        -4.66800004e-01,   2.39789993e-01,   2.52359986e-01,\n",
       "         5.09989977e-01,  -2.84509987e-01,   7.06160009e-01,\n",
       "        -3.82990018e-02,  -1.12170003e-01,  -1.14080003e-02,\n",
       "         3.88399988e-01,   1.78330004e-01,  -3.12680006e-01,\n",
       "        -1.27920002e-01,  -2.96350002e-01,   5.83970010e-01,\n",
       "        -4.18260008e-01,  -2.77220011e-01,   2.20770001e-01,\n",
       "         6.48620009e-01,  -7.37859979e-02,  -3.60159986e-02,\n",
       "         6.20010018e-01,  -1.24040004e-02,   2.24219993e-01,\n",
       "        -2.27550007e-02,   1.57440007e-01,  -4.51320000e-02,\n",
       "        -4.73540016e-02,   6.67509973e-01,  -1.34729996e-01,\n",
       "         2.37900004e-01,   2.15259999e-01,   3.29820007e-01,\n",
       "         4.21710014e-01,  -3.12009990e-01,  -2.96310008e-01,\n",
       "         5.93360007e-01,   1.19560003e-01,   4.91679996e-01,\n",
       "        -9.43209976e-02,   1.21859998e-01,  -4.79369998e-01,\n",
       "         7.32500032e-02,   6.52279973e-01,  -4.34599996e-01,\n",
       "        -6.54370010e-01,   4.84670013e-01,   1.50590003e-01,\n",
       "         6.86570033e-02,   7.66870007e-02,  -4.41989988e-01,\n",
       "         7.01740026e-01,   9.66100022e-02,  -2.50809997e-01,\n",
       "        -2.82119997e-02,  -1.43839996e-02,   4.22699988e-01,\n",
       "         3.30210000e-01,   4.74849999e-01,   1.75600007e-01,\n",
       "        -1.26440004e-01,   9.59400013e-02,   3.46469998e-01,\n",
       "         9.14010033e-03,  -3.22070003e-01,   1.80059999e-01,\n",
       "        -3.09920013e-01,  -3.56509984e-02,   4.67040002e-01,\n",
       "         1.18029997e-01,   6.89909980e-02,  -7.09749997e-01,\n",
       "         1.92609996e-01,  -2.57719994e-01,   3.67080003e-01,\n",
       "         4.07169998e-01,  -5.11619985e-01,   1.27529994e-01,\n",
       "         1.19769998e-01,   8.60240012e-02,   1.14859998e-01,\n",
       "        -5.87939978e-01,  -2.45609999e-01,   1.30339995e-01,\n",
       "        -3.94030005e-01,  -3.11870009e-01,   1.87059995e-02,\n",
       "         3.28480005e-01,  -2.50120014e-01,   2.07589999e-01,\n",
       "        -6.56690001e-01,   1.30220000e-02,  -1.53200001e-01,\n",
       "        -3.54209989e-01,   2.63769999e-02,   2.30390001e-02,\n",
       "         4.78009991e-02,   2.27970004e-01,  -8.69250000e-02,\n",
       "        -1.00989997e-01,   3.35469991e-01,   2.11830005e-01,\n",
       "        -1.70479998e-01,  -7.40189999e-02,   1.33800000e-01,\n",
       "         3.44610006e-01,   9.15580019e-02,   5.14540017e-01,\n",
       "         3.39120001e-01,  -4.38699991e-01,   8.28730017e-02,\n",
       "         3.67810011e-01,  -8.00030008e-02,   8.41419995e-02,\n",
       "        -5.12380004e-01,   5.06169975e-01,   3.40930000e-02,\n",
       "        -1.62259996e-01,  -3.85949999e-01,   6.31550014e-01,\n",
       "         6.55019999e-01,   1.96879998e-01,   6.62410036e-02,\n",
       "         4.19510007e-01,   8.71929973e-02,   4.26799990e-02,\n",
       "        -1.10789999e-01,   1.39660001e-01,   2.26119995e-01,\n",
       "        -9.93530005e-02,   8.33360016e-01,   8.75620022e-02,\n",
       "        -1.08740004e-02,  -1.58889994e-01,  -4.35030013e-01,\n",
       "         2.10460007e-01,   4.56840008e-01,  -7.22509995e-02,\n",
       "        -3.47259998e-01,  -1.49220005e-01,   2.69080013e-01,\n",
       "        -7.77370017e-03,  -1.45400003e-01,  -1.63729995e-01,\n",
       "         3.04159999e-01,   3.96780014e-01,   3.63029987e-01,\n",
       "        -6.60160005e-01,   2.17759997e-01,  -1.06029999e+00,\n",
       "         7.14010000e-01,   1.50419995e-01,   8.02529976e-02,\n",
       "         2.27019995e-01,  -1.00639999e-01,   3.42469990e-01,\n",
       "         5.09329975e-01,   2.86830008e-01,  -2.28389993e-01,\n",
       "         4.09579992e-01,   2.95439988e-01,   5.81649989e-02,\n",
       "        -2.03339994e-01,   6.15209997e-01,   2.39820004e-01,\n",
       "         3.63959998e-01,   6.29199982e-01,   3.38140018e-02,\n",
       "        -5.93750000e-01,   1.04869999e-01,  -5.19070029e-01,\n",
       "         3.53410006e-01,  -2.98469990e-01,  -3.43879998e-01,\n",
       "         5.73230028e-01,  -1.28319999e-02,  -2.61439998e-02,\n",
       "         2.15440001e-02,  -2.65210003e-01,   4.75409999e-02,\n",
       "        -7.62550011e-02,  -2.06870005e-01,  -2.48520002e-01,\n",
       "         2.94790000e-01,  -3.15789998e-01,   2.65659988e-01,\n",
       "        -2.84829997e-02,   1.02109998e-01,  -5.12030013e-02,\n",
       "         5.60039997e-01,  -3.31200004e-01,   9.45070013e-02,\n",
       "         7.99370036e-02,   4.38529998e-03,   3.34339999e-02,\n",
       "         2.68279999e-01,  -1.10470003e-03,  -1.63790006e-02,\n",
       "        -7.61689991e-02,  -1.78529993e-01,   2.30640005e-02,\n",
       "        -2.58300006e-01,   3.65229994e-01,  -3.78280014e-01,\n",
       "         9.86040011e-02,   1.38129994e-01,  -1.65010005e-01,\n",
       "         5.32239974e-01,  -9.72749963e-02,   5.96220009e-02,\n",
       "         6.15580022e-01,   7.21549988e-02,  -1.84939995e-01,\n",
       "         2.72899985e-01,   2.75209993e-01,  -2.29959995e-01,\n",
       "        -1.24370001e-01,  -3.00339997e-01,  -2.91949987e-01,\n",
       "         3.09100002e-01,  -4.57810014e-02,   7.89420009e-01,\n",
       "        -9.55170020e-02,  -2.27339998e-01,  -1.72780007e-01,\n",
       "         1.55579999e-01,   1.76200002e-01,   4.26290005e-01,\n",
       "         3.57059985e-01,   4.02749985e-01,  -2.15639994e-02,\n",
       "         4.40770000e-01,  -7.02250004e-01,  -2.03740001e-01,\n",
       "         1.56859994e-01,   1.09580001e-02,   3.17950010e-01,\n",
       "         3.98430005e-02,  -3.50760013e-01,  -1.31130004e+00,\n",
       "         7.89499998e-01,  -2.94959992e-01,   3.23650002e-01,\n",
       "        -4.30810004e-01,   1.60549998e-01,  -4.15450007e-01,\n",
       "         6.03910014e-02,   2.53199995e-01,  -8.14880013e-01,\n",
       "        -2.16169998e-01,  -2.63909996e-01,  -2.96460003e-01,\n",
       "        -2.72340000e-01,  -2.78210014e-01,  -4.42589998e-01,\n",
       "        -4.74489987e-01,   7.31030032e-02,  -8.80979970e-02,\n",
       "        -3.09489995e-01,  -5.03880024e-01,   2.24910006e-01,\n",
       "         2.66559988e-01,   6.84449971e-01,   2.25150004e-01])"
      ]
     },
     "execution_count": 28,
     "metadata": {},
     "output_type": "execute_result"
    }
   ],
   "source": [
    "embedding_matrix[i]"
   ]
  },
  {
   "cell_type": "markdown",
   "metadata": {},
   "source": [
    "Wow that was INSANELY easier than I had made it be. \n",
    "\n",
    "Now I can train a neural network!"
   ]
  },
  {
   "cell_type": "code",
   "execution_count": 29,
   "metadata": {
    "collapsed": true
   },
   "outputs": [],
   "source": [
    "embedding_layer = Embedding(len(word_index) + 1,\n",
    "                            EMBEDDING_DIM,\n",
    "                            weights=[embedding_matrix],\n",
    "                            input_length=MAX_LENGTH,\n",
    "                            trainable=False)"
   ]
  },
  {
   "cell_type": "markdown",
   "metadata": {},
   "source": [
    "## My first NLP Neural Network"
   ]
  },
  {
   "cell_type": "code",
   "execution_count": 30,
   "metadata": {
    "collapsed": false
   },
   "outputs": [],
   "source": [
    "q1_input = Input(shape=(MAX_LENGTH,), dtype = 'int32')\n",
    "q1_embedded = embedding_layer(q1_input)\n",
    "q1 = BatchNormalization(axis =1)(q1_embedded)\n",
    "\n",
    "q1 = LSTM(225, dropout_U = 0.2, dropout_W = 0.2, consume_less='gpu' )(q1)\n",
    "q1 = Dropout(0.5)(q1)\n",
    "\n",
    "#########################\n",
    "\n",
    "q2_input = Input(shape=(MAX_LENGTH,), dtype = 'int32')\n",
    "q2_embedded = embedding_layer(q2_input)\n",
    "q2 = BatchNormalization(axis = 1)(q2_embedded)\n",
    "\n",
    "q2 = LSTM(225, dropout_U = 0.2, dropout_W = 0.2,  consume_less='gpu')(q2)\n",
    "q2 = Dropout(0.5)(q2)\n",
    "\n",
    "#########################\n",
    "\n",
    "x = merge([q1, q2], mode = 'concat')\n",
    "x = BatchNormalization()(x)\n",
    "\n",
    "x = Dense(125)(x)\n",
    "x = Dropout(0.5)(x)\n",
    "x = BatchNormalization()(x)\n",
    "\n",
    "preds = Dense(1, activation = 'sigmoid')(x)"
   ]
  },
  {
   "cell_type": "code",
   "execution_count": 31,
   "metadata": {
    "collapsed": true
   },
   "outputs": [],
   "source": [
    "nlp_nn = Model([q1_input, q2_input], preds)\n",
    "nlp_nn.compile(Adam(0.001), loss = 'binary_crossentropy')"
   ]
  },
  {
   "cell_type": "code",
   "execution_count": 32,
   "metadata": {
    "collapsed": false,
    "scrolled": true
   },
   "outputs": [
    {
     "name": "stdout",
     "output_type": "stream",
     "text": [
      "Train on 322894 samples, validate on 81394 samples\n",
      "Epoch 1/5\n",
      "322894/322894 [==============================] - 130s - loss: 0.6974 - val_loss: 1.8058\n",
      "Epoch 2/5\n",
      "322894/322894 [==============================] - 131s - loss: 0.6780 - val_loss: 2.0172\n",
      "Epoch 3/5\n",
      "322894/322894 [==============================] - 131s - loss: 0.6685 - val_loss: 1.7993\n",
      "Epoch 4/5\n",
      "322894/322894 [==============================] - 131s - loss: 0.6639 - val_loss: 1.5349\n",
      "Epoch 5/5\n",
      "322894/322894 [==============================] - 131s - loss: 0.6615 - val_loss: 1.4161\n"
     ]
    }
   ],
   "source": [
    "nlp_hist = nlp_nn.fit([q1_train, q2_train], labels_train, batch_size = 2048, nb_epoch = 5, \n",
    "                     validation_data=([q1_valid, q2_valid],labels_valid))"
   ]
  },
  {
   "cell_type": "code",
   "execution_count": 44,
   "metadata": {
    "collapsed": false
   },
   "outputs": [
    {
     "data": {
      "image/png": "[encoded data removed]",
      "text/plain": [
       "<matplotlib.figure.Figure at 0x7f8cc03e6710>"
      ]
     },
     "metadata": {},
     "output_type": "display_data"
    }
   ],
   "source": [
    "plt.plot(range(1,6), nlp_hist.history['val_loss'], label = 'val_loss')\n",
    "plt.plot(range(1,6), nlp_hist.history['loss'], label = 'loss')\n",
    "plt.title(\"My first NLP neural network\")\n",
    "plt.xlabel(\"Epochs\")\n",
    "plt.ylabel(\"Log Loss\")\n",
    "plt.legend()\n",
    "plt.show()"
   ]
  },
  {
   "cell_type": "markdown",
   "metadata": {},
   "source": [
    "Okay, not a great start. Considering I just picked the words from the dataset, this makes sense; there's plenty more to do."
   ]
  },
  {
   "cell_type": "markdown",
   "metadata": {
    "collapsed": true
   },
   "source": [
    "The first thing which could be affecting the strength of my neural network is the zeroed values in the embedding matrix (remember if a word is not in the GloVe dictionary, I just set it to zeroes). Lets take a look at some of the words which are zeroed out. "
   ]
  },
  {
   "cell_type": "code",
   "execution_count": 34,
   "metadata": {
    "collapsed": false
   },
   "outputs": [],
   "source": [
    "not_found = []\n",
    "for word, i in word_index.items():\n",
    "    embedding_vector = embeddings_index.get(word)\n",
    "    if embedding_vector is None:\n",
    "        # words not found in embedding index will be all-zeros.\n",
    "        not_found.append(word)"
   ]
  },
  {
   "cell_type": "code",
   "execution_count": 37,
   "metadata": {
    "collapsed": false
   },
   "outputs": [
    {
     "name": "stdout",
     "output_type": "stream",
     "text": [
      "Out of 96500 words, 36169 don't have Glove equivalents.\n"
     ]
    }
   ],
   "source": [
    "print \"Out of \" + str(len(word_index.items())) + \" words, \" + str(len(not_found)) + \" don't have Glove equivalents.\""
   ]
  },
  {
   "cell_type": "markdown",
   "metadata": {},
   "source": [
    "So there are 36,000 words which aren't assigned values, and are all zeroed. This may be contributing to the low performance of my neural network. Let's take a look at some of the words which aren't being embedded. "
   ]
  },
  {
   "cell_type": "markdown",
   "metadata": {},
   "source": [
    "Okay, so part of the problem is the text itself, which is full of eccentricities. Luckily, someone on Kaggle (a 'Kaggler?') has already written a method to clean up this text, so lets jump on that train. "
   ]
  },
  {
   "cell_type": "markdown",
   "metadata": {},
   "source": [
    "## Cleaning up the text \n",
    "https://www.kaggle.com/currie32/the-importance-of-cleaning-text"
   ]
  },
  {
   "cell_type": "code",
   "execution_count": 12,
   "metadata": {
    "collapsed": false
   },
   "outputs": [],
   "source": [
    "import nltk\n",
    "from nltk.corpus import stopwords\n",
    "from nltk.stem import SnowballStemmer\n",
    "import re\n",
    "from string import punctuation"
   ]
  },
  {
   "cell_type": "code",
   "execution_count": 13,
   "metadata": {
    "collapsed": true
   },
   "outputs": [],
   "source": [
    "stop_words = ['the','a','an','and','but','if','or','because','as','what','which','this','that','these','those','then',\n",
    "              'just','so','than','such','both','through','about','for','is','of','while','during','to','What','Which',\n",
    "              'Is','If','While','This']"
   ]
  },
  {
   "cell_type": "code",
   "execution_count": 14,
   "metadata": {
    "collapsed": true
   },
   "outputs": [],
   "source": [
    "def text_to_wordlist(text, remove_stop_words=True, stem_words=False):\n",
    "    # Clean the text, with the option to remove stop_words and to stem words.\n",
    "\n",
    "    # Clean the text\n",
    "    text = re.sub(r\"[^A-Za-z0-9]\", \" \", text)\n",
    "    text = re.sub(r\"what's\", \"\", text)\n",
    "    text = re.sub(r\"What's\", \"\", text)\n",
    "    text = re.sub(r\"\\'s\", \" \", text)\n",
    "    text = re.sub(r\"\\'ve\", \" have \", text)\n",
    "    text = re.sub(r\"can't\", \"cannot \", text)\n",
    "    text = re.sub(r\"n't\", \" not \", text)\n",
    "    text = re.sub(r\"I'm\", \"I am\", text)\n",
    "    text = re.sub(r\" m \", \" am \", text)\n",
    "    text = re.sub(r\"\\'re\", \" are \", text)\n",
    "    text = re.sub(r\"\\'d\", \" would \", text)\n",
    "    text = re.sub(r\"\\'ll\", \" will \", text)\n",
    "    text = re.sub(r\"60k\", \" 60000 \", text)\n",
    "    text = re.sub(r\" e g \", \" eg \", text)\n",
    "    text = re.sub(r\" b g \", \" bg \", text)\n",
    "    text = re.sub(r\"\\0s\", \"0\", text)\n",
    "    text = re.sub(r\" 9 11 \", \"911\", text)\n",
    "    text = re.sub(r\"e-mail\", \"email\", text)\n",
    "    text = re.sub(r\"\\s{2,}\", \" \", text)\n",
    "    text = re.sub(r\"quikly\", \"quickly\", text)\n",
    "    text = re.sub(r\" usa \", \" America \", text)\n",
    "    text = re.sub(r\" USA \", \" America \", text)\n",
    "    text = re.sub(r\" u s \", \" America \", text)\n",
    "    text = re.sub(r\" uk \", \" England \", text)\n",
    "    text = re.sub(r\" UK \", \" England \", text)\n",
    "    text = re.sub(r\"india\", \"India\", text)\n",
    "    text = re.sub(r\"switzerland\", \"Switzerland\", text)\n",
    "    text = re.sub(r\"china\", \"China\", text)\n",
    "    text = re.sub(r\"chinese\", \"Chinese\", text) \n",
    "    text = re.sub(r\"imrovement\", \"improvement\", text)\n",
    "    text = re.sub(r\"intially\", \"initially\", text)\n",
    "    text = re.sub(r\"quora\", \"Quora\", text)\n",
    "    text = re.sub(r\" dms \", \"direct messages \", text)  \n",
    "    text = re.sub(r\"demonitization\", \"demonetization\", text) \n",
    "    text = re.sub(r\"actived\", \"active\", text)\n",
    "    text = re.sub(r\"kms\", \" kilometers \", text)\n",
    "    text = re.sub(r\"KMs\", \" kilometers \", text)\n",
    "    text = re.sub(r\" cs \", \" computer science \", text) \n",
    "    text = re.sub(r\" upvotes \", \" up votes \", text)\n",
    "    text = re.sub(r\" iPhone \", \" phone \", text)\n",
    "    text = re.sub(r\"\\0rs \", \" rs \", text) \n",
    "    text = re.sub(r\"calender\", \"calendar\", text)\n",
    "    text = re.sub(r\"ios\", \"operating system\", text)\n",
    "    text = re.sub(r\"gps\", \"GPS\", text)\n",
    "    text = re.sub(r\"gst\", \"GST\", text)\n",
    "    text = re.sub(r\"programing\", \"programming\", text)\n",
    "    text = re.sub(r\"bestfriend\", \"best friend\", text)\n",
    "    text = re.sub(r\"dna\", \"DNA\", text)\n",
    "    text = re.sub(r\"III\", \"3\", text) \n",
    "    text = re.sub(r\"the US\", \"America\", text)\n",
    "    text = re.sub(r\"Astrology\", \"astrology\", text)\n",
    "    text = re.sub(r\"Method\", \"method\", text)\n",
    "    text = re.sub(r\"Find\", \"find\", text) \n",
    "    text = re.sub(r\"banglore\", \"Banglore\", text)\n",
    "    text = re.sub(r\" J K \", \" JK \", text)\n",
    "    \n",
    "    # Remove punctuation from text\n",
    "    text = ''.join([c for c in text if c not in punctuation])\n",
    "    \n",
    "    # Optionally, remove stop words\n",
    "    if remove_stop_words:\n",
    "        text = text.split()\n",
    "        text = [w for w in text if not w in stop_words]\n",
    "        text = \" \".join(text)\n",
    "    \n",
    "    # Optionally, shorten words to their stems\n",
    "    if stem_words:\n",
    "        text = text.split()\n",
    "        stemmer = SnowballStemmer('english')\n",
    "        stemmed_words = [stemmer.stem(word) for word in text]\n",
    "        text = \" \".join(stemmed_words)\n",
    "    \n",
    "    # Return a list of words\n",
    "    return(text)"
   ]
  },
  {
   "cell_type": "code",
   "execution_count": 15,
   "metadata": {
    "collapsed": true
   },
   "outputs": [],
   "source": [
    "def process_questions(question_list, questions, question_list_name, dataframe):\n",
    "    '''transform questions and display progress'''\n",
    "    for question in tqdm(questions):\n",
    "        question_list.append(text_to_wordlist(question))"
   ]
  },
  {
   "cell_type": "code",
   "execution_count": 16,
   "metadata": {
    "collapsed": false,
    "scrolled": true
   },
   "outputs": [
    {
     "name": "stderr",
     "output_type": "stream",
     "text": [
      "100%|██████████| 404288/404288 [00:39<00:00, 10285.21it/s]\n"
     ]
    }
   ],
   "source": [
    "train_question1 = []\n",
    "process_questions(train_question1, train.question1, 'train_question1', train)"
   ]
  },
  {
   "cell_type": "code",
   "execution_count": 17,
   "metadata": {
    "collapsed": false,
    "scrolled": true
   },
   "outputs": [
    {
     "name": "stderr",
     "output_type": "stream",
     "text": [
      "100%|██████████| 404288/404288 [00:39<00:00, 10308.32it/s]\n"
     ]
    }
   ],
   "source": [
    "train_question2 = []\n",
    "process_questions(train_question2, train.question2, 'train_question2', train)"
   ]
  },
  {
   "cell_type": "markdown",
   "metadata": {},
   "source": [
    "Great. Let's try preparing the data for my neural network again. "
   ]
  },
  {
   "cell_type": "code",
   "execution_count": 18,
   "metadata": {
    "collapsed": true
   },
   "outputs": [],
   "source": [
    "cleaned_tokenizer = Tokenizer(nb_words = 20000)\n",
    "cleaned_tokenizer.fit_on_texts(train_question1 + train_question2)"
   ]
  },
  {
   "cell_type": "code",
   "execution_count": 19,
   "metadata": {
    "collapsed": true
   },
   "outputs": [],
   "source": [
    "clean_q1sequence = cleaned_tokenizer.texts_to_sequences(train_question1)\n",
    "clean_q2sequence = cleaned_tokenizer.texts_to_sequences(train_question2)"
   ]
  },
  {
   "cell_type": "code",
   "execution_count": 20,
   "metadata": {
    "collapsed": true
   },
   "outputs": [],
   "source": [
    "clean_word_index = cleaned_tokenizer.word_index"
   ]
  },
  {
   "cell_type": "code",
   "execution_count": 21,
   "metadata": {
    "collapsed": false
   },
   "outputs": [],
   "source": [
    "clean_not_found = []\n",
    "for word, i in clean_word_index.items():\n",
    "    embedding_vector = embeddings_index.get(word)\n",
    "    if embedding_vector is None:\n",
    "        # words not found in embedding index will be all-zeros.\n",
    "        clean_not_found.append(word)"
   ]
  },
  {
   "cell_type": "code",
   "execution_count": 22,
   "metadata": {
    "collapsed": false
   },
   "outputs": [
    {
     "name": "stdout",
     "output_type": "stream",
     "text": [
      "Out of 85424 words, 24657 don't have Glove equivalents.\n"
     ]
    }
   ],
   "source": [
    "print \"Out of \" + str(len(clean_word_index.items())) + \" words, \" + str(len(clean_not_found)) + \" don't have Glove equivalents.\""
   ]
  },
  {
   "cell_type": "markdown",
   "metadata": {},
   "source": [
    "So by reducing the number of unique words, and rewriting some of the words, we've reduced the % of words not being recognized from 37% to 29%. Success!"
   ]
  },
  {
   "cell_type": "code",
   "execution_count": 23,
   "metadata": {
    "collapsed": true
   },
   "outputs": [],
   "source": [
    "clean_q1_input = pad_sequences(clean_q1sequence, maxlen = MAX_LENGTH)\n",
    "clean_q2_input = pad_sequences(clean_q2sequence, maxlen = MAX_LENGTH)"
   ]
  },
  {
   "cell_type": "code",
   "execution_count": 25,
   "metadata": {
    "collapsed": false
   },
   "outputs": [],
   "source": [
    "msk = np.random.rand(len(train)) < 0.8\n",
    "\n",
    "clean_q1_train = clean_q1_input[msk]\n",
    "clean_q1_valid = clean_q1_input[~msk]\n",
    "\n",
    "clean_q2_train = clean_q2_input[msk]\n",
    "clean_q2_valid = clean_q2_input[~msk]\n",
    "\n",
    "clean_labels_train = labels[msk]\n",
    "clean_labels_valid = labels[~msk]"
   ]
  },
  {
   "cell_type": "markdown",
   "metadata": {},
   "source": [
    "## My 2nd NLP Neural Network\n",
    "Spoiler: It's identical to my first one!"
   ]
  },
  {
   "cell_type": "code",
   "execution_count": 27,
   "metadata": {
    "collapsed": true
   },
   "outputs": [],
   "source": [
    "clean_embedding_matrix = np.zeros((len(clean_word_index) + 1, EMBEDDING_DIM))\n",
    "for word, i in clean_word_index.items():\n",
    "    embedding_vector = embeddings_index.get(word)\n",
    "    if embedding_vector is not None:\n",
    "        # words not found in embedding index will be all-zeros.\n",
    "        clean_embedding_matrix[i] = embedding_vector"
   ]
  },
  {
   "cell_type": "code",
   "execution_count": 28,
   "metadata": {
    "collapsed": true
   },
   "outputs": [],
   "source": [
    "clean_embedding_layer = Embedding(len(clean_word_index) + 1,\n",
    "                            EMBEDDING_DIM,\n",
    "                            weights=[clean_embedding_matrix],\n",
    "                            input_length=MAX_LENGTH,\n",
    "                            trainable=False)"
   ]
  },
  {
   "cell_type": "code",
   "execution_count": 37,
   "metadata": {
    "collapsed": true
   },
   "outputs": [],
   "source": [
    "clean_q1_input = Input(shape=(MAX_LENGTH,), dtype = 'int32')\n",
    "q1_embedded = clean_embedding_layer(clean_q1_input)\n",
    "q1 = BatchNormalization(axis =1)(q1_embedded)\n",
    "\n",
    "q1 = LSTM(225, dropout_U = 0.2, dropout_W = 0.2, consume_less='gpu' )(q1)\n",
    "q1 = Dropout(0.5)(q1)\n",
    "\n",
    "#########################\n",
    "\n",
    "clean_q2_input = Input(shape=(MAX_LENGTH,), dtype = 'int32')\n",
    "q2_embedded = clean_embedding_layer(clean_q2_input)\n",
    "q2 = BatchNormalization(axis = 1)(q2_embedded)\n",
    "\n",
    "q2 = LSTM(225, dropout_U = 0.2, dropout_W = 0.2,  consume_less='gpu')(q2)\n",
    "q2 = Dropout(0.5)(q2)\n",
    "\n",
    "#########################\n",
    "\n",
    "x = merge([q1, q2], mode = 'concat')\n",
    "x = BatchNormalization()(x)\n",
    "\n",
    "x = Dense(125)(x)\n",
    "x = Dropout(0.5)(x)\n",
    "x = BatchNormalization()(x)\n",
    "\n",
    "clean_preds = Dense(1, activation = 'sigmoid')(x)"
   ]
  },
  {
   "cell_type": "code",
   "execution_count": 55,
   "metadata": {
    "collapsed": false
   },
   "outputs": [],
   "source": [
    "clean_nlp_nn = Model([clean_q1_input, clean_q2_input], clean_preds)\n",
    "clean_nlp_nn.compile(Adam(0.001), loss = 'binary_crossentropy')"
   ]
  },
  {
   "cell_type": "code",
   "execution_count": 57,
   "metadata": {
    "collapsed": false
   },
   "outputs": [
    {
     "name": "stdout",
     "output_type": "stream",
     "text": [
      "Train on 323690 samples, validate on 80598 samples\n",
      "Epoch 1/5\n",
      "323690/323690 [==============================] - 131s - loss: 0.7066 - val_loss: 1.7292\n",
      "Epoch 2/5\n",
      "323690/323690 [==============================] - 131s - loss: 0.6801 - val_loss: 1.6089\n",
      "Epoch 3/5\n",
      "323690/323690 [==============================] - 131s - loss: 0.6759 - val_loss: 1.4448\n",
      "Epoch 4/5\n",
      "323690/323690 [==============================] - 132s - loss: 0.6717 - val_loss: 1.1553\n",
      "Epoch 5/5\n",
      "323690/323690 [==============================] - 132s - loss: 0.6688 - val_loss: 1.0955\n"
     ]
    }
   ],
   "source": [
    "clean_nlp_hist = clean_nlp_nn.fit([clean_q1_train, clean_q2_train], clean_labels_train, batch_size = 2048, nb_epoch = 5, \n",
    "                     validation_data=([clean_q1_valid, clean_q2_valid],clean_labels_valid))"
   ]
  },
  {
   "cell_type": "code",
   "execution_count": 61,
   "metadata": {
    "collapsed": false
   },
   "outputs": [
    {
     "data": {
      "image/png": "[encoded data removed]",
      "text/plain": [
       "<matplotlib.figure.Figure at 0x7f8c9fd97fd0>"
      ]
     },
     "metadata": {},
     "output_type": "display_data"
    }
   ],
   "source": [
    "plt.plot(range(1,6), clean_nlp_hist.history['val_loss'], label = 'val_loss')\n",
    "plt.plot(range(1,6), clean_nlp_hist.history['loss'], label = 'loss')\n",
    "plt.plot(range(1,6), nlp_hist.history['val_loss'], label = 'old val_loss')\n",
    "plt.title(\"My second NLP neural network \\n (with text cleaned!)\")\n",
    "plt.xlabel(\"Epochs\")\n",
    "plt.ylabel(\"Log Loss\")\n",
    "plt.legend()\n",
    "plt.show()"
   ]
  },
  {
   "cell_type": "markdown",
   "metadata": {},
   "source": [
    "As Jeremy from fast.ai says, 'overfitting is only bad if its affecting your validation results'; here, the validation loss seem to be dropping quite quickly! So we're doing better, but there's still a lot of improving which can happen. \n",
    "\n",
    "It's worth noting that although these scores are pretty awful, I've only trained my network for 5 epochs; many of the better scores on Kaggle were trained for ~200 epochs, and I'm confident that training this network more would reduce the loss significantly, as the validation loss hasn't converged at all. "
   ]
  },
  {
   "cell_type": "markdown",
   "metadata": {},
   "source": [
    "## Adding leaky features"
   ]
  },
  {
   "cell_type": "markdown",
   "metadata": {
    "collapsed": true
   },
   "source": [
    "So far, my neural network has only been built on the input words. However, the questions contain far more information, which I'm not taking advantage of at all. In this case, there are two additional features which are very predictive of whether or not a question is a duplicate: \n",
    "\n",
    "1 [Frequency](https://www.kaggle.com/jturkewitz/magic-features-0-03-gain), which is the frequency of a question in the dataset\n",
    "\n",
    "2 [Interesection](https://www.kaggle.com/tour1st/magic-feature-v2-0-045-gain), which defines how many questions have indices common to others. \n",
    "\n",
    "To incorporate these into my network, I'm going to make an additional input to my neural network, 'leaky features'. "
   ]
  },
  {
   "cell_type": "markdown",
   "metadata": {},
   "source": [
    "First, I want to isolate the questions:"
   ]
  },
  {
   "cell_type": "code",
   "execution_count": 29,
   "metadata": {
    "collapsed": false
   },
   "outputs": [
    {
     "name": "stdout",
     "output_type": "stream",
     "text": [
      "(404288, 2)\n"
     ]
    }
   ],
   "source": [
    "ques = train[['question1', 'question2']]\n",
    "print(ques.shape)"
   ]
  },
  {
   "cell_type": "markdown",
   "metadata": {},
   "source": [
    "Then, I want to add them all to a dictionary: "
   ]
  },
  {
   "cell_type": "code",
   "execution_count": 30,
   "metadata": {
    "collapsed": false
   },
   "outputs": [
    {
     "name": "stderr",
     "output_type": "stream",
     "text": [
      "100%|██████████| 404288/404288 [03:21<00:00, 2001.51it/s]\n"
     ]
    }
   ],
   "source": [
    "from collections import defaultdict\n",
    "q_dict = defaultdict(set)\n",
    "for i in tqdm(range(ques.shape[0])):\n",
    "        q_dict[ques.iloc[i].question1].add(ques.iloc[i].question2)\n",
    "        q_dict[ques.iloc[i].question2].add(ques.iloc[i].question1)"
   ]
  },
  {
   "cell_type": "markdown",
   "metadata": {},
   "source": [
    "Excellent. I can now use this dictionary to define these leaky features. "
   ]
  },
  {
   "cell_type": "code",
   "execution_count": 31,
   "metadata": {
    "collapsed": false
   },
   "outputs": [],
   "source": [
    "def q1_freq(row):\n",
    "    return(len(q_dict[row['question1']]))\n",
    "    \n",
    "def q2_freq(row):\n",
    "    return(len(q_dict[row['question2']]))\n",
    "    \n",
    "def q1_q2_intersect(row):\n",
    "    return(len(set(q_dict[row['question1']]).intersection(set(q_dict[row['question2']]))))\n",
    "\n",
    "train['q1_q2_intersect'] = train.apply(q1_q2_intersect, axis=1, raw=True)\n",
    "train['q1_freq'] = train.apply(q1_freq, axis=1, raw=True)\n",
    "train['q2_freq'] = train.apply(q2_freq, axis=1, raw=True)"
   ]
  },
  {
   "cell_type": "code",
   "execution_count": 32,
   "metadata": {
    "collapsed": false
   },
   "outputs": [
    {
     "data": {
      "text/html": [
       "<div>\n",
       "<style>\n",
       "    .dataframe thead tr:only-child th {\n",
       "        text-align: right;\n",
       "    }\n",
       "\n",
       "    .dataframe thead th {\n",
       "        text-align: left;\n",
       "    }\n",
       "\n",
       "    .dataframe tbody tr th {\n",
       "        vertical-align: top;\n",
       "    }\n",
       "</style>\n",
       "<table border=\"1\" class=\"dataframe\">\n",
       "  <thead>\n",
       "    <tr style=\"text-align: right;\">\n",
       "      <th></th>\n",
       "      <th>id</th>\n",
       "      <th>qid1</th>\n",
       "      <th>qid2</th>\n",
       "      <th>question1</th>\n",
       "      <th>question2</th>\n",
       "      <th>is_duplicate</th>\n",
       "      <th>q1_q2_intersect</th>\n",
       "      <th>q1_freq</th>\n",
       "      <th>q2_freq</th>\n",
       "    </tr>\n",
       "  </thead>\n",
       "  <tbody>\n",
       "    <tr>\n",
       "      <th>0</th>\n",
       "      <td>0</td>\n",
       "      <td>1</td>\n",
       "      <td>2</td>\n",
       "      <td>What is the step by step guide to invest in sh...</td>\n",
       "      <td>What is the step by step guide to invest in sh...</td>\n",
       "      <td>0</td>\n",
       "      <td>0</td>\n",
       "      <td>1</td>\n",
       "      <td>1</td>\n",
       "    </tr>\n",
       "    <tr>\n",
       "      <th>1</th>\n",
       "      <td>1</td>\n",
       "      <td>3</td>\n",
       "      <td>4</td>\n",
       "      <td>What is the story of Kohinoor (Koh-i-Noor) Dia...</td>\n",
       "      <td>What would happen if the Indian government sto...</td>\n",
       "      <td>0</td>\n",
       "      <td>0</td>\n",
       "      <td>4</td>\n",
       "      <td>2</td>\n",
       "    </tr>\n",
       "    <tr>\n",
       "      <th>2</th>\n",
       "      <td>2</td>\n",
       "      <td>5</td>\n",
       "      <td>6</td>\n",
       "      <td>How can I increase the speed of my internet co...</td>\n",
       "      <td>How can Internet speed be increased by hacking...</td>\n",
       "      <td>0</td>\n",
       "      <td>0</td>\n",
       "      <td>1</td>\n",
       "      <td>1</td>\n",
       "    </tr>\n",
       "    <tr>\n",
       "      <th>3</th>\n",
       "      <td>3</td>\n",
       "      <td>7</td>\n",
       "      <td>8</td>\n",
       "      <td>Why am I mentally very lonely? How can I solve...</td>\n",
       "      <td>Find the remainder when [math]23^{24}[/math] i...</td>\n",
       "      <td>0</td>\n",
       "      <td>0</td>\n",
       "      <td>1</td>\n",
       "      <td>1</td>\n",
       "    </tr>\n",
       "    <tr>\n",
       "      <th>4</th>\n",
       "      <td>4</td>\n",
       "      <td>9</td>\n",
       "      <td>10</td>\n",
       "      <td>Which one dissolve in water quikly sugar, salt...</td>\n",
       "      <td>Which fish would survive in salt water?</td>\n",
       "      <td>0</td>\n",
       "      <td>0</td>\n",
       "      <td>3</td>\n",
       "      <td>1</td>\n",
       "    </tr>\n",
       "  </tbody>\n",
       "</table>\n",
       "</div>"
      ],
      "text/plain": [
       "   id  qid1  qid2                                          question1  \\\n",
       "0   0     1     2  What is the step by step guide to invest in sh...   \n",
       "1   1     3     4  What is the story of Kohinoor (Koh-i-Noor) Dia...   \n",
       "2   2     5     6  How can I increase the speed of my internet co...   \n",
       "3   3     7     8  Why am I mentally very lonely? How can I solve...   \n",
       "4   4     9    10  Which one dissolve in water quikly sugar, salt...   \n",
       "\n",
       "                                           question2  is_duplicate  \\\n",
       "0  What is the step by step guide to invest in sh...             0   \n",
       "1  What would happen if the Indian government sto...             0   \n",
       "2  How can Internet speed be increased by hacking...             0   \n",
       "3  Find the remainder when [math]23^{24}[/math] i...             0   \n",
       "4            Which fish would survive in salt water?             0   \n",
       "\n",
       "   q1_q2_intersect  q1_freq  q2_freq  \n",
       "0                0        1        1  \n",
       "1                0        4        2  \n",
       "2                0        1        1  \n",
       "3                0        1        1  \n",
       "4                0        3        1  "
      ]
     },
     "execution_count": 32,
     "metadata": {},
     "output_type": "execute_result"
    }
   ],
   "source": [
    "train.head()"
   ]
  },
  {
   "cell_type": "markdown",
   "metadata": {},
   "source": [
    "Awesome. Now, I want to turn my leaks into a bunch of unique inputs. "
   ]
  },
  {
   "cell_type": "code",
   "execution_count": 33,
   "metadata": {
    "collapsed": false
   },
   "outputs": [],
   "source": [
    "leaks = train[['q1_q2_intersect', 'q1_freq', 'q2_freq']]"
   ]
  },
  {
   "cell_type": "markdown",
   "metadata": {},
   "source": [
    "I also want to normalize my leaks, so that there isn't a single variable which can overwhelm the neural networks (its worth noting that the embedding inputs for the words are also already normalized). I'll use sklearn's standard scaler to do this. "
   ]
  },
  {
   "cell_type": "code",
   "execution_count": 34,
   "metadata": {
    "collapsed": true
   },
   "outputs": [],
   "source": [
    "from sklearn.preprocessing import StandardScaler\n",
    "ss = StandardScaler()\n",
    "ss.fit(leaks)\n",
    "leaks = ss.transform(leaks)"
   ]
  },
  {
   "cell_type": "code",
   "execution_count": 35,
   "metadata": {
    "collapsed": false
   },
   "outputs": [
    {
     "data": {
      "text/plain": [
       "array([[-0.3400271 , -0.42538745, -0.38490439],\n",
       "       [-0.3400271 ,  0.02715722, -0.2585258 ],\n",
       "       [-0.3400271 , -0.42538745, -0.38490439],\n",
       "       ..., \n",
       "       [-0.3400271 , -0.42538745, -0.38490439],\n",
       "       [-0.3400271 , -0.42538745, -0.38490439],\n",
       "       [-0.3400271 , -0.42538745, -0.38490439]])"
      ]
     },
     "execution_count": 35,
     "metadata": {},
     "output_type": "execute_result"
    }
   ],
   "source": [
    "leaks"
   ]
  },
  {
   "cell_type": "markdown",
   "metadata": {},
   "source": [
    "Okay! Now, I just need to split this into train and validation sets (using the same mask as above), and add a 'leaks' input to my neural network."
   ]
  },
  {
   "cell_type": "code",
   "execution_count": 36,
   "metadata": {
    "collapsed": true
   },
   "outputs": [],
   "source": [
    "train_leaks = leaks[msk]\n",
    "valid_leaks = leaks[~msk]"
   ]
  },
  {
   "cell_type": "markdown",
   "metadata": {},
   "source": [
    "## My 3rd NLP Neural Network \n",
    "This one with leaky features! "
   ]
  },
  {
   "cell_type": "code",
   "execution_count": 50,
   "metadata": {
    "collapsed": false
   },
   "outputs": [],
   "source": [
    "leaks_input = Input(shape=(leaks.shape[1],))\n",
    "leaks_dense = Dense(50, activation='relu')(leaks_input)\n",
    "\n",
    "#########################\n",
    "\n",
    "clean_q1_input = Input(shape=(MAX_LENGTH,), dtype = 'int32')\n",
    "q1_embedded = clean_embedding_layer(clean_q1_input)\n",
    "\n",
    "q1 = LSTM(225, dropout_U = 0.2, dropout_W = 0.2, consume_less='gpu' )(q1_embedded)\n",
    "q1 = Dropout(0.5)(q1)\n",
    "\n",
    "#########################\n",
    "\n",
    "clean_q2_input = Input(shape=(MAX_LENGTH,), dtype = 'int32')\n",
    "q2_embedded = clean_embedding_layer(clean_q2_input)\n",
    "\n",
    "\n",
    "q2 = LSTM(225, dropout_U = 0.2, dropout_W = 0.2,  consume_less='gpu')(q2_embedded)\n",
    "q2 = Dropout(0.5)(q2)\n",
    "\n",
    "#########################\n",
    "\n",
    "x = merge([q1, q2, leaks_dense], mode = 'concat')\n",
    "x = BatchNormalization()(x)\n",
    "\n",
    "x = Dense(125)(x)\n",
    "x = Dropout(0.5)(x)\n",
    "x = BatchNormalization()(x)\n",
    "\n",
    "clean_preds = Dense(1, activation = 'sigmoid')(x)"
   ]
  },
  {
   "cell_type": "code",
   "execution_count": 51,
   "metadata": {
    "collapsed": true
   },
   "outputs": [],
   "source": [
    "leaky_nlp_nn = Model([clean_q1_input, clean_q2_input, leaks_input], clean_preds)"
   ]
  },
  {
   "cell_type": "code",
   "execution_count": 47,
   "metadata": {
    "collapsed": false
   },
   "outputs": [],
   "source": [
    "leaky_nlp_nn.compile(Adam(0.001), loss = 'binary_crossentropy')"
   ]
  },
  {
   "cell_type": "code",
   "execution_count": 48,
   "metadata": {
    "collapsed": false
   },
   "outputs": [
    {
     "name": "stdout",
     "output_type": "stream",
     "text": [
      "Train on 323402 samples, validate on 80886 samples\n",
      "Epoch 1/10\n",
      "323402/323402 [==============================] - 130s - loss: 0.7577 - val_loss: 1.8301\n",
      "Epoch 2/10\n",
      "323402/323402 [==============================] - 131s - loss: 0.6720 - val_loss: 1.2130\n",
      "Epoch 3/10\n",
      "323402/323402 [==============================] - 131s - loss: 0.6630 - val_loss: 1.0135\n",
      "Epoch 4/10\n",
      "323402/323402 [==============================] - 131s - loss: 0.6611 - val_loss: 0.8402\n",
      "Epoch 5/10\n",
      "323402/323402 [==============================] - 131s - loss: 0.6597 - val_loss: 0.7754\n",
      "Epoch 6/10\n",
      "323402/323402 [==============================] - 131s - loss: 0.6590 - val_loss: 0.7424\n",
      "Epoch 7/10\n",
      "323402/323402 [==============================] - 131s - loss: 0.6588 - val_loss: 0.7123\n",
      "Epoch 8/10\n",
      "323402/323402 [==============================] - 131s - loss: 0.6588 - val_loss: 0.7021\n",
      "Epoch 9/10\n",
      "323402/323402 [==============================] - 131s - loss: 0.6586 - val_loss: 0.6804\n",
      "Epoch 10/10\n",
      "323402/323402 [==============================] - 131s - loss: 0.6586 - val_loss: 0.6754\n"
     ]
    }
   ],
   "source": [
    "leaky_nlp_hist2 = leaky_nlp_nn.fit([clean_q1_train, clean_q2_train, train_leaks], clean_labels_train, batch_size = 2048, \n",
    "                                   nb_epoch = 10, \n",
    "                     validation_data=([clean_q1_valid, clean_q2_valid, valid_leaks],clean_labels_valid))"
   ]
  },
  {
   "cell_type": "code",
   "execution_count": 64,
   "metadata": {
    "collapsed": false
   },
   "outputs": [
    {
     "data": {
      "image/png": "[encoded data removed]",
      "text/plain": [
       "<matplotlib.figure.Figure at 0x7f3aa07381d0>"
      ]
     },
     "metadata": {},
     "output_type": "display_data"
    }
   ],
   "source": [
    "plt.plot(range(1,11), leaky_nlp_hist2.history['val_loss'], label = 'leaky val_loss')\n",
    "plt.plot(range(1,11), leaky_nlp_hist2.history['loss'], label = 'leaky loss')\n",
    "plt.title(\"My second NLP neural network \\n (with text cleaned!)\")\n",
    "plt.xlabel(\"Epochs\")\n",
    "plt.ylabel(\"Log Loss\")\n",
    "plt.legend()\n",
    "plt.show()"
   ]
  }
 ],
 "metadata": {
  "anaconda-cloud": {},
  "kernelspec": {
   "display_name": "Python [conda root]",
   "language": "python",
   "name": "conda-root-py"
  },
  "language_info": {
   "codemirror_mode": {
    "name": "ipython",
    "version": 2
   },
   "file_extension": ".py",
   "mimetype": "text/x-python",
   "name": "python",
   "nbconvert_exporter": "python",
   "pygments_lexer": "ipython2",
   "version": "2.7.12"
  }
 },
 "nbformat": 4,
 "nbformat_minor": 1
}
