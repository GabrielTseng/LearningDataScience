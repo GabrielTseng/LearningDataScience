{
 "cells": [
  {
   "cell_type": "markdown",
   "metadata": {},
   "source": [
    "# Kaggle: Invasive Species Competition "
   ]
  },
  {
   "cell_type": "markdown",
   "metadata": {},
   "source": [
    "## Setup"
   ]
  },
  {
   "cell_type": "code",
   "execution_count": 1,
   "metadata": {
    "collapsed": false
   },
   "outputs": [
    {
     "name": "stderr",
     "output_type": "stream",
     "text": [
      "Using Theano backend.\n",
      "WARNING (theano.sandbox.cuda): The cuda backend is deprecated and will be removed in the next release (v0.10).  Please switch to the gpuarray backend. You can get more information about how to switch at this URL:\n",
      " https://github.com/Theano/Theano/wiki/Converting-to-the-new-gpu-back-end%28gpuarray%29\n",
      "\n",
      "Using gpu device 0: Tesla K80 (CNMeM is disabled, cuDNN 5103)\n"
     ]
    }
   ],
   "source": [
    "% matplotlib inline \n",
    "\n",
    "from __future__ import division, print_function \n",
    "\n",
    "import os, json\n",
    "import numpy as np \n",
    "from matplotlib import pyplot as plt\n",
    "\n",
    "import pandas\n",
    "\n",
    "import cv2\n",
    " \n",
    "from keras.callbacks import History, ModelCheckpoint, EarlyStopping\n",
    "from keras.models import Sequential, load_model\n",
    "from keras.layers.core import Flatten, Dense, Dropout, Lambda\n",
    "from keras.layers.convolutional import Conv2D, MaxPooling2D, ZeroPadding2D\n",
    "from keras.optimizers import SGD\n",
    "from keras.utils.data_utils import get_file\n",
    "from keras.preprocessing import image\n",
    "from keras.optimizers import Adam\n",
    "from keras import models \n",
    "from keras.layers.normalization import BatchNormalization\n",
    "\n",
    "\n",
    "from sklearn import metrics"
   ]
  },
  {
   "cell_type": "markdown",
   "metadata": {},
   "source": [
    "# Making the VGG model"
   ]
  },
  {
   "cell_type": "markdown",
   "metadata": {},
   "source": [
    "Keras has a VGG model which I could directly import (I do this for the V3 model); I didn't use that model, because I wanted to add the pre-processing lambda layer, which includes the mean center method, into the model. "
   ]
  },
  {
   "cell_type": "code",
   "execution_count": 2,
   "metadata": {
    "collapsed": false
   },
   "outputs": [],
   "source": [
    "def Vgg(): \n",
    "    # it's going to be a sequential model - a stack of layers\n",
    "    # I can add layers to this model using the .add() method\n",
    "    \n",
    "    def ConvLayer(model, num_filters, **kwargs):\n",
    "        #As with any neural network, I need to add a bias node\n",
    "        #Since the input is an image, we'll use 2D padding and layers\n",
    "        model.add(ZeroPadding2D(padding = (1,1), **kwargs))\n",
    "        # The layers are 3x3 conv layers, with 64 - 512 filters\n",
    "        model.add(Conv2D(num_filters, 3, 3, activation = 'relu'))\n",
    "    \n",
    "    def FCL(model, num_filters):\n",
    "        # In Keras, a fully connected layer is called 'Dense' \n",
    "        model.add(Dense(num_filters, activation = 'relu'))\n",
    "        #A dropout layer for the FIRST TWO fully connected layers is added\n",
    "        # with a dropout ratio set at 0.5\n",
    "        model.add(Dropout(0.5))\n",
    "    \n",
    "    def mean_center(x):\n",
    "        vgg_mean = np.array([123.68, 116.779, 103.939]).reshape((3,1,1))\n",
    "        x = x - vgg_mean     # subtract mean\n",
    "        return x[:, ::-1]    # reverse axis bgr->rgb\n",
    "    \n",
    "    VGG_mean = np.array([123.68, 116.779, 103.939], dtype=np.float32).reshape((3,1,1))\n",
    "    \n",
    "    def vgg_preprocess(x, VGG_mean):\n",
    "        VGG_mean = np.asarray(VGG_mean)\n",
    "        x = x - VGG_mean\n",
    "        return x[:, ::-1] # reverse axis bgr->rgb\n",
    "    \n",
    "    model = Sequential()\n",
    "    \n",
    "    model.add(Lambda(vgg_preprocess, arguments={'VGG_mean': VGG_mean.tolist()}, input_shape = (3,224,224)))\n",
    "    \n",
    "    #Now, I add all the layers according to the architecture \n",
    "    #In the first layer, I need to define the input type of the images\n",
    "    \n",
    "    ConvLayer(model, 64, input_shape = (3,224,224))\n",
    "    ConvLayer(model, 64)\n",
    "    \n",
    "    #After every bunch of convolutional layers, there's a maxpooling layer \n",
    "    model.add(MaxPooling2D(pool_size=(2,2), strides = (2,2)))\n",
    "    \n",
    "    ConvLayer(model, 128)\n",
    "    ConvLayer(model, 128)\n",
    "    \n",
    "    model.add(MaxPooling2D(pool_size=(2,2), strides =(2,2)))\n",
    "    \n",
    "    ConvLayer(model, 256)\n",
    "    ConvLayer(model, 256)\n",
    "    ConvLayer(model, 256)\n",
    "    \n",
    "    model.add(MaxPooling2D(pool_size=(2,2), strides = (2,2)))\n",
    "    \n",
    "    ConvLayer(model, 512)\n",
    "    ConvLayer(model, 512)\n",
    "    ConvLayer(model, 512)\n",
    "    \n",
    "    model.add(MaxPooling2D(pool_size=(2,2), strides = (2,2)))\n",
    "        \n",
    "    ConvLayer(model, 512)\n",
    "    ConvLayer(model, 512)\n",
    "    ConvLayer(model, 512)\n",
    "    \n",
    "    model.add(MaxPooling2D(pool_size=(2,2), strides = (2,2)))\n",
    "    \n",
    "    #Now, as we go from the convolutional layer to the fully connected layer, this is in 1D not 3D\n",
    "    #So we have to flatten the inputs\n",
    "    \n",
    "    model.add(Flatten())\n",
    "    FCL(model, 4096)\n",
    "    FCL(model, 4096)\n",
    "    #Finally, the last layer, which is a softmax layer\n",
    "    model.add(Dense(1000, activation = 'softmax'))\n",
    "    \n",
    "    #Now, I need to add the weights\n",
    "\n",
    "    fpath = get_file('vgg16.h5', 'http://files.fast.ai/models/vgg16.h5', cache_subdir='models')\n",
    "    model.load_weights(fpath)\n",
    "        \n",
    "    return model"
   ]
  },
  {
   "cell_type": "markdown",
   "metadata": {},
   "source": [
    "## Applying this model to the invasive species competition\n",
    "\n",
    "### Augmenting the Data\n",
    "After an [initial investigation](https://medium.com/@gabrieltseng/learning-about-data-science-building-an-image-classifier-3f8252952329) into the data, its clear that the model overfits the data. \n",
    "\n",
    "One way to remedy this is to use Keras' Image Data Generator to augemnt the data. Specifically, the 6 arguments I call flip the image, and rotate/stretch it in various ways. \n",
    "\n",
    "More experimentation can be done on the ranges of the manipulations, to see if more data can be created without comprimising the strength of the model. "
   ]
  },
  {
   "cell_type": "code",
   "execution_count": 1,
   "metadata": {
    "collapsed": false
   },
   "outputs": [
    {
     "ename": "NameError",
     "evalue": "name 'image' is not defined",
     "output_type": "error",
     "traceback": [
      "\u001b[0;31m---------------------------------------------------------------------------\u001b[0m",
      "\u001b[0;31mNameError\u001b[0m                                 Traceback (most recent call last)",
      "\u001b[0;32m<ipython-input-1-2b24dbce7d20>\u001b[0m in \u001b[0;36m<module>\u001b[0;34m()\u001b[0m\n\u001b[1;32m      1\u001b[0m \u001b[0mbatch_size\u001b[0m \u001b[0;34m=\u001b[0m \u001b[0;36m32\u001b[0m\u001b[0;34m\u001b[0m\u001b[0m\n\u001b[1;32m      2\u001b[0m \u001b[0;34m\u001b[0m\u001b[0m\n\u001b[0;32m----> 3\u001b[0;31m train_gen = image.ImageDataGenerator(horizontal_flip = True,\n\u001b[0m\u001b[1;32m      4\u001b[0m                                \u001b[0mrotation_range\u001b[0m \u001b[0;34m=\u001b[0m \u001b[0;36m30\u001b[0m\u001b[0;34m,\u001b[0m\u001b[0;34m\u001b[0m\u001b[0m\n\u001b[1;32m      5\u001b[0m                                \u001b[0mshear_range\u001b[0m \u001b[0;34m=\u001b[0m \u001b[0;36m0.2\u001b[0m\u001b[0;34m,\u001b[0m\u001b[0;34m\u001b[0m\u001b[0m\n",
      "\u001b[0;31mNameError\u001b[0m: name 'image' is not defined"
     ]
    }
   ],
   "source": [
    "batch_size = 32\n",
    "\n",
    "train_gen = image.ImageDataGenerator(horizontal_flip = True,\n",
    "                               rotation_range = 30,\n",
    "                               shear_range = 0.2,\n",
    "                               zoom_range = 0.2,\n",
    "                                height_shift_range = 0.1,\n",
    "                                width_shift_range = 0.1\n",
    "\n",
    ")\n",
    "\n",
    "\n",
    "batches = train_gen.flow_from_directory(\"data/invasive/train\", \n",
    "                                        target_size = (224, 224), \n",
    "                                        batch_size = batch_size\n",
    "                                       )\n",
    "\n",
    "valid_gen = image.ImageDataGenerator()\n",
    "\n",
    "valid_batches = valid_gen.flow_from_directory(\"data/invasive/valid\", \n",
    "                                              target_size = (224, 224), \n",
    "                                              batch_size = batch_size\n",
    "                                             )"
   ]
  },
  {
   "cell_type": "markdown",
   "metadata": {},
   "source": [
    "### Using the data to train the model \n",
    "\n",
    "I can then use the augmented data to train my model. "
   ]
  },
  {
   "cell_type": "code",
   "execution_count": 4,
   "metadata": {
    "collapsed": false
   },
   "outputs": [
    {
     "name": "stderr",
     "output_type": "stream",
     "text": [
      "/home/ubuntu/anaconda2/lib/python2.7/site-packages/keras/backend/theano_backend.py:1282: UserWarning: DEPRECATION: the 'ds' parameter is not going to exist anymore as it is going to be replaced by the parameter 'ws'.\n",
      "  mode='max')\n",
      "/home/ubuntu/anaconda2/lib/python2.7/site-packages/keras/backend/theano_backend.py:1282: UserWarning: DEPRECATION: the 'st' parameter is not going to exist anymore as it is going to be replaced by the parameter 'stride'.\n",
      "  mode='max')\n",
      "/home/ubuntu/anaconda2/lib/python2.7/site-packages/keras/backend/theano_backend.py:1282: UserWarning: DEPRECATION: the 'padding' parameter is not going to exist anymore as it is going to be replaced by the parameter 'pad'.\n",
      "  mode='max')\n"
     ]
    },
    {
     "name": "stdout",
     "output_type": "stream",
     "text": [
      "Epoch 1/50\n",
      "2095/2095 [==============================] - 91s - loss: 0.4102 - acc: 0.8740 - val_loss: 0.1796 - val_acc: 0.9450\n",
      "Epoch 2/50\n",
      "2095/2095 [==============================] - 100s - loss: 0.2291 - acc: 0.9236 - val_loss: 0.2457 - val_acc: 0.9500\n",
      "Epoch 3/50\n",
      "2095/2095 [==============================] - 96s - loss: 0.1666 - acc: 0.9499 - val_loss: 0.1118 - val_acc: 0.9700\n",
      "Epoch 4/50\n",
      "2095/2095 [==============================] - 79s - loss: 0.1282 - acc: 0.9556 - val_loss: 0.1133 - val_acc: 0.9550\n",
      "Epoch 5/50\n",
      "2095/2095 [==============================] - 78s - loss: 0.0961 - acc: 0.9680 - val_loss: 0.1721 - val_acc: 0.9500\n",
      "Epoch 6/50\n",
      "2095/2095 [==============================] - 81s - loss: 0.1095 - acc: 0.9609 - val_loss: 0.1397 - val_acc: 0.9600\n",
      "Epoch 7/50\n",
      "2095/2095 [==============================] - 86s - loss: 0.1158 - acc: 0.9566 - val_loss: 0.0956 - val_acc: 0.9700\n",
      "Epoch 8/50\n",
      "2095/2095 [==============================] - 80s - loss: 0.1073 - acc: 0.9690 - val_loss: 0.1675 - val_acc: 0.9400\n",
      "Epoch 9/50\n",
      "2095/2095 [==============================] - 80s - loss: 0.0919 - acc: 0.9685 - val_loss: 0.1670 - val_acc: 0.9650\n"
     ]
    }
   ],
   "source": [
    "vgg = Vgg()\n",
    "\n",
    "vgg.pop()\n",
    "vgg.add(Dense(2, activation = 'softmax'))\n",
    "\n",
    "#only allowing the last layer to be trained: \n",
    "\n",
    "for layer in vgg.layers[:25]: layer.trainable = False\n",
    "    \n",
    "#compiling the model with my parameters: \n",
    "vgg.compile(optimizer=Adam(lr=0.0001),loss='categorical_crossentropy', metrics=['accuracy'])\n",
    "\n",
    "\n",
    "\n",
    "history = History()\n",
    "\n",
    "history = vgg.model.fit_generator(generator =batches, \n",
    "                                  samples_per_epoch=batches.nb_sample, \n",
    "                                  nb_epoch = 50, \n",
    "                                  validation_data=valid_batches, \n",
    "                                  nb_val_samples=valid_batches.nb_sample, \n",
    "                                  callbacks = ([history,\n",
    "                                                ModelCheckpoint('/home/ubuntu/INV-VGG1.model', \n",
    "                                                                monitor='val_acc', \n",
    "                                                                save_best_only=True),\n",
    "                                                EarlyStopping(monitor='val_acc', patience = 5)\n",
    "                                               ]))"
   ]
  },
  {
   "cell_type": "markdown",
   "metadata": {},
   "source": [
    "## Removing the dropout layers\n",
    "\n",
    "One approach I can take to improving this performance is to change the droput ratio, which is the ratio of weights which are zeroed (effectively ignoring some data). \n",
    "\n",
    "To do this, I'll need to remove the top fully connected layers, since they have the dropout layers. "
   ]
  },
  {
   "cell_type": "markdown",
   "metadata": {
    "collapsed": false
   },
   "source": [
    "prev_layers = prev_vgg.layers[:-5]\n",
    "new_vgg = Sequential(prev_layers)"
   ]
  },
  {
   "cell_type": "markdown",
   "metadata": {},
   "source": [
    "Now, given this 'topless' new_vgg, I want to add the top fully connected layers again, but with a different dropout ratios. I can define a FCL method not unlike the one I used in my original VGG model, and use this to fill my new model back up "
   ]
  },
  {
   "cell_type": "code",
   "execution_count": 29,
   "metadata": {
    "collapsed": true
   },
   "outputs": [],
   "source": [
    "def new_FCL(model, num_filters, dropout):\n",
    "        # In Keras, a fully connected layer is called 'Dense' \n",
    "        model.add(Dense(num_filters, activation = 'relu'))\n",
    "        #A dropout layer for the FIRST TWO fully connected layers is added\n",
    "        # with a dropout ratio to be defined\n",
    "        model.add(Dropout(dropout))"
   ]
  },
  {
   "cell_type": "code",
   "execution_count": 59,
   "metadata": {
    "collapsed": false
   },
   "outputs": [],
   "source": [
    "new_FCL(new_vgg, 4096, 0)\n",
    "new_FCL(new_vgg, 4096, 0)\n",
    "new_vgg.add(Dense(2, activation = 'softmax'))"
   ]
  },
  {
   "cell_type": "markdown",
   "metadata": {},
   "source": [
    "Since I changed the dropout ratio, I need to change the weights on these layers to reflect this (otherwise, they will significantly overfit the data):"
   ]
  },
  {
   "cell_type": "code",
   "execution_count": 60,
   "metadata": {
    "collapsed": false
   },
   "outputs": [],
   "source": [
    "for layer in zip(prev_vgg.layers[-5:], new_vgg.layers[-5:]):\n",
    "    # the new weights are the second element in the tuple\n",
    "    layer[1].set_weights([x/2 for x in layer[0].get_weights()])"
   ]
  },
  {
   "cell_type": "markdown",
   "metadata": {},
   "source": [
    "Now, I can train my model! I set the first layers to be un-trainable, since I only want to finetune the fully connected layers. "
   ]
  },
  {
   "cell_type": "code",
   "execution_count": 65,
   "metadata": {
    "collapsed": true
   },
   "outputs": [],
   "source": [
    "for layer in new_vgg.layers[:-5]: layer.trainable = False\n",
    "    \n",
    "new_vgg.compile(optimizer=Adam(lr=0.00001),\n",
    "                loss='categorical_crossentropy', \n",
    "                metrics=['accuracy'])"
   ]
  },
  {
   "cell_type": "code",
   "execution_count": 66,
   "metadata": {
    "collapsed": false
   },
   "outputs": [
    {
     "name": "stdout",
     "output_type": "stream",
     "text": [
      "Epoch 1/50\n",
      "2095/2095 [==============================] - 95s - loss: 0.0215 - acc: 0.9919 - val_loss: 0.1724 - val_acc: 0.9700\n",
      "Epoch 2/50\n",
      "2095/2095 [==============================] - 89s - loss: 0.0139 - acc: 0.9952 - val_loss: 0.1302 - val_acc: 0.9750\n",
      "Epoch 3/50\n",
      "2095/2095 [==============================] - 79s - loss: 0.0165 - acc: 0.9943 - val_loss: 0.1480 - val_acc: 0.9650\n",
      "Epoch 4/50\n",
      "2095/2095 [==============================] - 85s - loss: 0.0165 - acc: 0.9938 - val_loss: 0.2014 - val_acc: 0.9700\n",
      "Epoch 5/50\n",
      "2095/2095 [==============================] - 83s - loss: 0.0174 - acc: 0.9928 - val_loss: 0.1088 - val_acc: 0.9750\n",
      "Epoch 6/50\n",
      "2095/2095 [==============================] - 79s - loss: 0.0135 - acc: 0.9962 - val_loss: 0.1814 - val_acc: 0.9600\n",
      "Epoch 7/50\n",
      "2095/2095 [==============================] - 85s - loss: 0.0118 - acc: 0.9947 - val_loss: 0.0839 - val_acc: 0.9750\n",
      "Epoch 8/50\n",
      "2095/2095 [==============================] - 86s - loss: 0.0168 - acc: 0.9952 - val_loss: 0.1889 - val_acc: 0.9650\n"
     ]
    }
   ],
   "source": [
    "history = History()\n",
    "\n",
    "history = new_vgg.model.fit_generator(generator =batches, \n",
    "                                  samples_per_epoch=batches.nb_sample, \n",
    "                                  nb_epoch = 50, \n",
    "                                  validation_data=valid_batches, \n",
    "                                  nb_val_samples=valid_batches.nb_sample, \n",
    "                                  callbacks = ([history,\n",
    "                                                ModelCheckpoint('/home/ubuntu/invasive_new_vgg.model', \n",
    "                                                                monitor='val_acc', \n",
    "                                                                save_best_only=True),\n",
    "                                                EarlyStopping(monitor='val_acc', patience = 5)\n",
    "                                               ]))"
   ]
  },
  {
   "cell_type": "code",
   "execution_count": 82,
   "metadata": {
    "collapsed": false
   },
   "outputs": [
    {
     "data": {
      "image/png": "[encoded data removed]",
      "text/plain": [
       "<matplotlib.figure.Figure at 0x7f78870f83d0>"
      ]
     },
     "metadata": {},
     "output_type": "display_data"
    }
   ],
   "source": [
    "plt.plot(range(1,9), history.history['acc'], label = 'accuracy')\n",
    "plt.plot(range(1,9), history.history['val_acc'], label = 'validation accuracy')\n",
    "plt.legend(loc = 'lower left')\n",
    "plt.xlabel('Epoch')\n",
    "plt.ylabel('Accuracy (%)')\n",
    "plt.show()"
   ]
  },
  {
   "cell_type": "markdown",
   "metadata": {},
   "source": [
    "That was dissapointing; it seems that removing the dropout leads to overfitting. There is something else I can add to my model to improve it's performance: \n",
    "\n",
    "## Batch Normalization\n",
    "\n",
    "Like for dropout, I begin by taking a 'topless' VGG model, without the fully connected layers (where I want to add my Batch Normalization). "
   ]
  },
  {
   "cell_type": "code",
   "execution_count": 99,
   "metadata": {
    "collapsed": false,
    "scrolled": true
   },
   "outputs": [],
   "source": [
    "prev_layers = prev_vgg.layers[:-5]\n",
    "bn_vgg = Sequential(prev_layers)"
   ]
  },
  {
   "cell_type": "markdown",
   "metadata": {},
   "source": [
    "With sequential layers in Keras, I can just add the BatchNormalization between layers as follows:"
   ]
  },
  {
   "cell_type": "code",
   "execution_count": 100,
   "metadata": {
    "collapsed": true
   },
   "outputs": [],
   "source": [
    "from keras.layers.normalization import BatchNormalization\n",
    "\n",
    "new_FCL(bn_vgg, 4096, 0.5)\n",
    "BatchNormalization()\n",
    "new_FCL(bn_vgg, 4096, 0.5)\n",
    "BatchNormalization()\n",
    "bn_vgg.add(Dense(2, activation = 'softmax'))"
   ]
  },
  {
   "cell_type": "code",
   "execution_count": 88,
   "metadata": {
    "collapsed": false
   },
   "outputs": [
    {
     "data": {
      "text/plain": [
       "38"
      ]
     },
     "execution_count": 88,
     "metadata": {},
     "output_type": "execute_result"
    }
   ],
   "source": [
    "len(bn_vgg.layers)"
   ]
  },
  {
   "cell_type": "markdown",
   "metadata": {
    "collapsed": false
   },
   "source": [
    "Now, just as before, I can train the model:"
   ]
  },
  {
   "cell_type": "code",
   "execution_count": 101,
   "metadata": {
    "collapsed": false
   },
   "outputs": [],
   "source": [
    "for layer in zip(prev_vgg.layers[-5:], bn_vgg.layers[-5:]): \n",
    "    # the new weights are the second element in the tuple\n",
    "    layer[1].set_weights([x for x in layer[0].get_weights()])"
   ]
  },
  {
   "cell_type": "code",
   "execution_count": 102,
   "metadata": {
    "collapsed": true
   },
   "outputs": [],
   "source": [
    "for layer in bn_vgg.layers[:-5]: layer.trainable = False\n",
    "    \n",
    "bn_vgg.compile(optimizer=Adam(lr=0.00001),\n",
    "                loss='categorical_crossentropy', \n",
    "                metrics=['accuracy'])"
   ]
  },
  {
   "cell_type": "code",
   "execution_count": 103,
   "metadata": {
    "collapsed": false
   },
   "outputs": [
    {
     "name": "stdout",
     "output_type": "stream",
     "text": [
      "Epoch 1/50\n",
      "2095/2095 [==============================] - 104s - loss: 0.0233 - acc: 0.9952 - val_loss: 0.2120 - val_acc: 0.9600\n",
      "Epoch 2/50\n",
      "2095/2095 [==============================] - 83s - loss: 0.0102 - acc: 0.9952 - val_loss: 0.1656 - val_acc: 0.9550\n",
      "Epoch 3/50\n",
      "2095/2095 [==============================] - 81s - loss: 0.0146 - acc: 0.9938 - val_loss: 0.2405 - val_acc: 0.9550\n",
      "Epoch 4/50\n",
      "2095/2095 [==============================] - 99s - loss: 0.0361 - acc: 0.9928 - val_loss: 0.2645 - val_acc: 0.9700\n",
      "Epoch 5/50\n",
      "2095/2095 [==============================] - 96s - loss: 0.0260 - acc: 0.9909 - val_loss: 0.2120 - val_acc: 0.9750\n",
      "Epoch 6/50\n",
      "2095/2095 [==============================] - 98s - loss: 0.0196 - acc: 0.9938 - val_loss: 0.0871 - val_acc: 0.9800\n",
      "Epoch 7/50\n",
      "2095/2095 [==============================] - 77s - loss: 0.0128 - acc: 0.9952 - val_loss: 0.1820 - val_acc: 0.9700\n",
      "Epoch 8/50\n",
      "2095/2095 [==============================] - 83s - loss: 0.0103 - acc: 0.9971 - val_loss: 0.2692 - val_acc: 0.9650\n",
      "Epoch 9/50\n",
      "2095/2095 [==============================] - 84s - loss: 0.0175 - acc: 0.9938 - val_loss: 0.2660 - val_acc: 0.9650\n",
      "Epoch 10/50\n",
      "2095/2095 [==============================] - 96s - loss: 0.0246 - acc: 0.9947 - val_loss: 0.1407 - val_acc: 0.9900\n",
      "Epoch 11/50\n",
      "2095/2095 [==============================] - 87s - loss: 0.0059 - acc: 0.9976 - val_loss: 0.3692 - val_acc: 0.9550\n",
      "Epoch 12/50\n",
      "2095/2095 [==============================] - 82s - loss: 0.0168 - acc: 0.9938 - val_loss: 0.2569 - val_acc: 0.9700\n",
      "Epoch 13/50\n",
      "2095/2095 [==============================] - 85s - loss: 0.0115 - acc: 0.9957 - val_loss: 0.2609 - val_acc: 0.9700\n",
      "Epoch 14/50\n",
      "2095/2095 [==============================] - 84s - loss: 0.0135 - acc: 0.9957 - val_loss: 0.2848 - val_acc: 0.9650\n",
      "Epoch 15/50\n",
      "2095/2095 [==============================] - 83s - loss: 0.0301 - acc: 0.9943 - val_loss: 0.2306 - val_acc: 0.9750\n",
      "Epoch 16/50\n",
      "2095/2095 [==============================] - 83s - loss: 0.0142 - acc: 0.9947 - val_loss: 0.1384 - val_acc: 0.9650\n"
     ]
    }
   ],
   "source": [
    "bn_history = History()\n",
    "\n",
    "bn_history = bn_vgg.model.fit_generator(generator =batches, \n",
    "                                  samples_per_epoch=batches.nb_sample, \n",
    "                                  nb_epoch = 50, \n",
    "                                  validation_data=valid_batches, \n",
    "                                  nb_val_samples=valid_batches.nb_sample, \n",
    "                                  callbacks = ([bn_history,\n",
    "                                                ModelCheckpoint('/home/ubuntu/invasive_bn_vgg.model', \n",
    "                                                                monitor='val_acc', \n",
    "                                                                save_best_only=True),\n",
    "                                                EarlyStopping(monitor='val_acc', patience = 5)\n",
    "                                               ]))"
   ]
  },
  {
   "cell_type": "code",
   "execution_count": 108,
   "metadata": {
    "collapsed": true
   },
   "outputs": [],
   "source": [
    "final_vgg = load_model('/home/ubuntu/invasive_bn_vgg.model')"
   ]
  },
  {
   "cell_type": "markdown",
   "metadata": {},
   "source": [
    "### Creating data for Kaggle Submission"
   ]
  },
  {
   "cell_type": "code",
   "execution_count": 109,
   "metadata": {
    "collapsed": false
   },
   "outputs": [
    {
     "name": "stdout",
     "output_type": "stream",
     "text": [
      "Found 1531 images belonging to 1 classes.\n"
     ]
    },
    {
     "data": {
      "text/plain": [
       "{'inv': 0, 'non_inv': 1}"
      ]
     },
     "execution_count": 109,
     "metadata": {},
     "output_type": "execute_result"
    }
   ],
   "source": [
    "test_batches = valid_gen.flow_from_directory(\"data/invasive/Test\", \n",
    "                                             target_size=(224,224), \n",
    "                                             batch_size = 8, \n",
    "                                             shuffle = False)\n",
    "filenames = test_batches.filenames\n",
    "batches.class_indices"
   ]
  },
  {
   "cell_type": "code",
   "execution_count": 110,
   "metadata": {
    "collapsed": true
   },
   "outputs": [],
   "source": [
    "test_preds = final_vgg.predict_generator(test_batches, test_batches.nb_sample)"
   ]
  },
  {
   "cell_type": "code",
   "execution_count": 6,
   "metadata": {
    "collapsed": false
   },
   "outputs": [
    {
     "ename": "NameError",
     "evalue": "name 'test_preds' is not defined",
     "output_type": "error",
     "traceback": [
      "\u001b[0;31m---------------------------------------------------------------------------\u001b[0m",
      "\u001b[0;31mNameError\u001b[0m                                 Traceback (most recent call last)",
      "\u001b[0;32m<ipython-input-6-bf5244c98631>\u001b[0m in \u001b[0;36m<module>\u001b[0;34m()\u001b[0m\n\u001b[0;32m----> 1\u001b[0;31m \u001b[0mis_inv\u001b[0m \u001b[0;34m=\u001b[0m \u001b[0;34m[\u001b[0m\u001b[0;34m(\u001b[0m\u001b[0mi\u001b[0m\u001b[0;34m[\u001b[0m\u001b[0;36m0\u001b[0m\u001b[0;34m]\u001b[0m\u001b[0;34m)\u001b[0m \u001b[0;32mfor\u001b[0m \u001b[0mi\u001b[0m \u001b[0;32min\u001b[0m \u001b[0mtest_preds\u001b[0m\u001b[0;34m]\u001b[0m\u001b[0;34m\u001b[0m\u001b[0m\n\u001b[0m\u001b[1;32m      2\u001b[0m \u001b[0;31m#is_inv = np.clip(is_inv, 0.05, 0.95)\u001b[0m\u001b[0;34m\u001b[0m\u001b[0;34m\u001b[0m\u001b[0m\n\u001b[1;32m      3\u001b[0m \u001b[0mids\u001b[0m \u001b[0;34m=\u001b[0m \u001b[0;34m[\u001b[0m\u001b[0mint\u001b[0m\u001b[0;34m(\u001b[0m\u001b[0mf\u001b[0m\u001b[0;34m[\u001b[0m\u001b[0;36m5\u001b[0m\u001b[0;34m:\u001b[0m\u001b[0mf\u001b[0m\u001b[0;34m.\u001b[0m\u001b[0mfind\u001b[0m\u001b[0;34m(\u001b[0m\u001b[0;34m'.'\u001b[0m\u001b[0;34m)\u001b[0m\u001b[0;34m]\u001b[0m\u001b[0;34m)\u001b[0m \u001b[0;32mfor\u001b[0m \u001b[0mf\u001b[0m \u001b[0;32min\u001b[0m \u001b[0mfilenames\u001b[0m\u001b[0;34m]\u001b[0m\u001b[0;34m\u001b[0m\u001b[0m\n\u001b[1;32m      4\u001b[0m \u001b[0mcombined\u001b[0m \u001b[0;34m=\u001b[0m \u001b[0mnp\u001b[0m\u001b[0;34m.\u001b[0m\u001b[0mcolumn_stack\u001b[0m\u001b[0;34m(\u001b[0m\u001b[0;34m(\u001b[0m\u001b[0mids\u001b[0m\u001b[0;34m,\u001b[0m \u001b[0mis_inv\u001b[0m\u001b[0;34m)\u001b[0m\u001b[0;34m)\u001b[0m\u001b[0;34m\u001b[0m\u001b[0m\n",
      "\u001b[0;31mNameError\u001b[0m: name 'test_preds' is not defined"
     ]
    }
   ],
   "source": [
    "is_inv = [(i[0]) for i in test_preds]\n",
    "#is_inv = np.clip(is_inv, 0.05, 0.95)\n",
    "ids = [int(f[5:f.find('.')]) for f in filenames]\n",
    "combined = np.column_stack((ids, is_inv))"
   ]
  },
  {
   "cell_type": "code",
   "execution_count": 112,
   "metadata": {
    "collapsed": true
   },
   "outputs": [],
   "source": [
    "np.savetxt(\"data/invasive/submission3.csv\", combined, fmt=\"%d,%.5f\", header = 'name,invasive')"
   ]
  },
  {
   "cell_type": "code",
   "execution_count": null,
   "metadata": {
    "collapsed": true
   },
   "outputs": [],
   "source": []
  }
 ],
 "metadata": {
  "anaconda-cloud": {},
  "kernelspec": {
   "display_name": "Python 2",
   "language": "python",
   "name": "python2"
  },
  "language_info": {
   "codemirror_mode": {
    "name": "ipython",
    "version": 2
   },
   "file_extension": ".py",
   "mimetype": "text/x-python",
   "name": "python",
   "nbconvert_exporter": "python",
   "pygments_lexer": "ipython2",
   "version": "2.7.13"
  }
 },
 "nbformat": 4,
 "nbformat_minor": 1
}
