{
 "cells": [
  {
   "cell_type": "markdown",
   "metadata": {},
   "source": [
    "# Merging a ResNet and VGG model"
   ]
  },
  {
   "cell_type": "code",
   "execution_count": 1,
   "metadata": {
    "collapsed": false
   },
   "outputs": [
    {
     "name": "stderr",
     "output_type": "stream",
     "text": [
      "Using Theano backend.\n",
      "WARNING (theano.sandbox.cuda): The cuda backend is deprecated and will be removed in the next release (v0.10).  Please switch to the gpuarray backend. You can get more information about how to switch at this URL:\n",
      " https://github.com/Theano/Theano/wiki/Converting-to-the-new-gpu-back-end%28gpuarray%29\n",
      "\n",
      "Using gpu device 0: Tesla K80 (CNMeM is disabled, cuDNN 5103)\n"
     ]
    }
   ],
   "source": [
    "%matplotlib inline\n",
    "\n",
    "from __future__ import division, print_function\n",
    "\n",
    "import os, json\n",
    "from glob import glob\n",
    "import numpy as np\n",
    "from scipy import misc, ndimage\n",
    "from scipy.ndimage.interpolation import zoom\n",
    "\n",
    "\n",
    "from keras.preprocessing import image\n",
    "from keras.models import Model, load_model\n",
    "from keras.optimizers import Adam\n",
    "import keras.preprocessing.image as image\n",
    "from keras.utils.data_utils import get_file\n",
    "\n",
    " \n",
    "from keras.models import Sequential, load_model\n",
    "\n",
    "from keras import models \n",
    "from keras.layers.normalization import BatchNormalization\n",
    "\n",
    "\n",
    "from sklearn import metrics\n",
    "from sklearn import linear_model\n",
    "\n",
    "\n",
    "import numpy as np\n",
    "\n",
    "import matplotlib.pyplot as plt"
   ]
  },
  {
   "cell_type": "code",
   "execution_count": 5,
   "metadata": {
    "collapsed": false
   },
   "outputs": [],
   "source": [
    "ResNet = load_model('/home/ubuntu/INV-RES2.model')\n",
    "VGG = load_model('/home/ubuntu/courses/deeplearning1/nbs/data/invasive/invasive_vgg.model')         \n",
    "V3 = load_model('/home/ubuntu/INV-V31.model')"
   ]
  },
  {
   "cell_type": "markdown",
   "metadata": {},
   "source": [
    "## Merging the two models, using Scikit-learn"
   ]
  },
  {
   "cell_type": "markdown",
   "metadata": {},
   "source": [
    "I can't just merge a sequential and functional model, so I need to turn VGG into a functional model"
   ]
  },
  {
   "cell_type": "code",
   "execution_count": 6,
   "metadata": {
    "collapsed": false,
    "scrolled": true
   },
   "outputs": [],
   "source": [
    "def make_xy(model, path):\n",
    "    \n",
    "    #making the X values\n",
    "    for z in range(len(model)):\n",
    "    \n",
    "        gen = image.ImageDataGenerator()\n",
    "\n",
    "        batches = gen.flow_from_directory(path, \n",
    "                                          target_size = (224, 224), \n",
    "                                          batch_size = 32, \n",
    "                                          shuffle = False\n",
    "                                         )\n",
    "\n",
    "        #only works with this particular numbering \n",
    "        preds = model[z].predict_generator(batches, batches.nb_sample)\n",
    "\n",
    "        is_inv = [(i[0]) for i in preds] #because of how the classes are numbered\n",
    "        is_inv = np.asarray(is_inv)\n",
    "        \n",
    "        if z == 0:\n",
    "            X = is_inv\n",
    "        else: \n",
    "            X = np.vstack((X, is_inv))\n",
    "        print(X.shape)\n",
    "    return X.T, batches.classes"
   ]
  },
  {
   "cell_type": "code",
   "execution_count": 7,
   "metadata": {
    "collapsed": true
   },
   "outputs": [],
   "source": [
    "def ensemble_linreg(X, Y): \n",
    "    \n",
    "    linreg = linear_model.LinearRegression()\n",
    "    \n",
    "    linreg.fit(X, Y)\n",
    "    \n",
    "    return linreg"
   ]
  },
  {
   "cell_type": "code",
   "execution_count": 8,
   "metadata": {
    "collapsed": false,
    "scrolled": true
   },
   "outputs": [
    {
     "name": "stdout",
     "output_type": "stream",
     "text": [
      "Found 2095 images belonging to 2 classes.\n",
      "(2095,)\n",
      "Found 2095 images belonging to 2 classes.\n",
      "(2, 2095)\n",
      "Found 2095 images belonging to 2 classes.\n",
      "(3, 2095)\n"
     ]
    }
   ],
   "source": [
    "X_train, Y_train = make_xy([ResNet, VGG, V3], \"data/invasive/train\")"
   ]
  },
  {
   "cell_type": "code",
   "execution_count": 9,
   "metadata": {
    "collapsed": true
   },
   "outputs": [],
   "source": [
    "np.save(\"data/invasive/X_train2.npy\", X_train)\n",
    "np.save(\"data/invasive/Y_train2.npy\", Y_train)"
   ]
  },
  {
   "cell_type": "markdown",
   "metadata": {},
   "source": [
    "Make the model, trained on X_train and Y_train"
   ]
  },
  {
   "cell_type": "code",
   "execution_count": 7,
   "metadata": {
    "collapsed": false
   },
   "outputs": [],
   "source": [
    "ens_linreg = ensemble_linreg(X_train,Y_train)"
   ]
  },
  {
   "cell_type": "markdown",
   "metadata": {},
   "source": [
    "### Checking the strength of the model"
   ]
  },
  {
   "cell_type": "code",
   "execution_count": 10,
   "metadata": {
    "collapsed": false
   },
   "outputs": [
    {
     "name": "stdout",
     "output_type": "stream",
     "text": [
      "Found 200 images belonging to 2 classes.\n",
      "(200,)\n",
      "Found 200 images belonging to 2 classes.\n",
      "(2, 200)\n",
      "Found 200 images belonging to 2 classes.\n",
      "(3, 200)\n"
     ]
    }
   ],
   "source": [
    "X_val, Y_val = make_xy([ResNet, VGG, V3], \"data/invasive/valid\")"
   ]
  },
  {
   "cell_type": "code",
   "execution_count": 15,
   "metadata": {
    "collapsed": true
   },
   "outputs": [],
   "source": [
    "np.save(\"data/invasive/X_valid2.npy\", X_val)\n",
    "np.save(\"data/invasive/Y_valid2.npy\", Y_val)"
   ]
  },
  {
   "cell_type": "code",
   "execution_count": 9,
   "metadata": {
    "collapsed": false
   },
   "outputs": [],
   "source": [
    "Y_val_pred = ens_linreg.predict(X_val)"
   ]
  },
  {
   "cell_type": "code",
   "execution_count": 10,
   "metadata": {
    "collapsed": true
   },
   "outputs": [],
   "source": [
    "Y_val_pred[Y_val_pred < 0.5] = 0\n",
    "Y_val_pred[Y_val_pred >= 0.5] = 1"
   ]
  },
  {
   "cell_type": "code",
   "execution_count": 11,
   "metadata": {
    "collapsed": false
   },
   "outputs": [
    {
     "data": {
      "text/plain": [
       "0.97560975609756095"
      ]
     },
     "execution_count": 11,
     "metadata": {},
     "output_type": "execute_result"
    }
   ],
   "source": [
    "metrics.f1_score(Y_val, Y_val_pred)"
   ]
  },
  {
   "cell_type": "markdown",
   "metadata": {},
   "source": [
    "## Submitting to Kaggle"
   ]
  },
  {
   "cell_type": "code",
   "execution_count": 11,
   "metadata": {
    "collapsed": false
   },
   "outputs": [
    {
     "name": "stdout",
     "output_type": "stream",
     "text": [
      "Found 1531 images belonging to 1 classes.\n",
      "Found 200 images belonging to 2 classes.\n"
     ]
    },
    {
     "data": {
      "text/plain": [
       "{'inv': 0, 'non_inv': 1}"
      ]
     },
     "execution_count": 11,
     "metadata": {},
     "output_type": "execute_result"
    }
   ],
   "source": [
    "test_gen = image.ImageDataGenerator()\n",
    "test_batches = test_gen.flow_from_directory(\"data/invasive/Test\", \n",
    "                                             target_size=(224,224), \n",
    "                                             batch_size = 8, \n",
    "                                             shuffle = False)\n",
    "filenames = test_batches.filenames\n",
    "\n",
    "valid_batches = test_gen.flow_from_directory(\"data/invasive/valid\", \n",
    "                                             target_size=(224,224), \n",
    "                                             batch_size = 8, \n",
    "                                             shuffle = False)\n",
    "\n",
    "valid_batches.class_indices"
   ]
  },
  {
   "cell_type": "code",
   "execution_count": 12,
   "metadata": {
    "collapsed": false
   },
   "outputs": [
    {
     "name": "stdout",
     "output_type": "stream",
     "text": [
      "Found 1531 images belonging to 1 classes.\n",
      "(1531,)\n",
      "Found 1531 images belonging to 1 classes.\n",
      "(2, 1531)\n",
      "Found 1531 images belonging to 1 classes.\n",
      "(3, 1531)\n"
     ]
    }
   ],
   "source": [
    "X_test, test_classes = make_xy([ResNet, VGG, V3], \"data/invasive/Test\")"
   ]
  },
  {
   "cell_type": "code",
   "execution_count": 13,
   "metadata": {
    "collapsed": true
   },
   "outputs": [],
   "source": [
    "np.save(\"data/invasive/X_test2.npy\", X_test)"
   ]
  },
  {
   "cell_type": "code",
   "execution_count": 14,
   "metadata": {
    "collapsed": true
   },
   "outputs": [],
   "source": [
    "np.save(\"data/invasive/filenames_test2.npy\", filenames)"
   ]
  },
  {
   "cell_type": "code",
   "execution_count": 15,
   "metadata": {
    "collapsed": true
   },
   "outputs": [],
   "source": [
    "test_preds = ens_linreg.predict(X_test)"
   ]
  },
  {
   "cell_type": "code",
   "execution_count": 16,
   "metadata": {
    "collapsed": false
   },
   "outputs": [
    {
     "data": {
      "text/plain": [
       "array([-0.00569677,  0.97170637,  0.96196031, ...,  0.97553732,\n",
       "        0.97495138,  0.97276451])"
      ]
     },
     "execution_count": 16,
     "metadata": {},
     "output_type": "execute_result"
    }
   ],
   "source": [
    "test_preds"
   ]
  },
  {
   "cell_type": "code",
   "execution_count": 17,
   "metadata": {
    "collapsed": false
   },
   "outputs": [],
   "source": [
    "ids = [int(f[5:f.find('.')]) for f in filenames]\n",
    "combined = np.column_stack((ids, test_preds))"
   ]
  },
  {
   "cell_type": "code",
   "execution_count": 18,
   "metadata": {
    "collapsed": true
   },
   "outputs": [],
   "source": [
    "np.savetxt(\"data/invasive/INV3.csv\", combined, fmt=\"%d,%.5f\", header = 'name,invasive')"
   ]
  },
  {
   "cell_type": "code",
   "execution_count": null,
   "metadata": {
    "collapsed": true
   },
   "outputs": [],
   "source": []
  }
 ],
 "metadata": {
  "anaconda-cloud": {},
  "kernelspec": {
   "display_name": "Python 2",
   "language": "python",
   "name": "python2"
  },
  "language_info": {
   "codemirror_mode": {
    "name": "ipython",
    "version": 2
   },
   "file_extension": ".py",
   "mimetype": "text/x-python",
   "name": "python",
   "nbconvert_exporter": "python",
   "pygments_lexer": "ipython2",
   "version": "2.7.13"
  }
 },
 "nbformat": 4,
 "nbformat_minor": 1
}
