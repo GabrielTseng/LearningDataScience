{
 "cells": [
  {
   "cell_type": "markdown",
   "metadata": {},
   "source": [
    "# Exploring MovieLens : Collaborative Filtering\n",
    "## Adding word embeddings\n"
   ]
  },
  {
   "cell_type": "code",
   "execution_count": 1,
   "metadata": {
    "collapsed": false
   },
   "outputs": [],
   "source": [
    "import pandas as pd\n",
    "import numpy as np \n",
    "\n",
    "from sklearn.cluster import AffinityPropagation, KMeans\n",
    "from sklearn.decomposition import PCA\n",
    "from sklearn.manifold import TSNE\n",
    "\n",
    "from mpl_toolkits.mplot3d import Axes3D\n",
    "import matplotlib.pyplot as plt\n",
    "import matplotlib.lines as mlines\n",
    "\n",
    "from scipy import stats\n",
    "from scipy.spatial.distance import pdist\n",
    "\n",
    "from mpl_toolkits.axes_grid1.inset_locator import zoomed_inset_axes\n",
    "from mpl_toolkits.axes_grid1.inset_locator import mark_inset\n",
    "\n",
    "from itertools import cycle\n",
    "\n",
    "import string\n",
    "\n",
    "import os\n",
    "\n",
    "from collections import Counter\n",
    "\n",
    "from tqdm import *"
   ]
  },
  {
   "cell_type": "code",
   "execution_count": 2,
   "metadata": {
    "collapsed": false
   },
   "outputs": [
    {
     "name": "stderr",
     "output_type": "stream",
     "text": [
      "Using Theano backend.\n",
      "WARNING (theano.sandbox.cuda): The cuda backend is deprecated and will be removed in the next release (v0.10).  Please switch to the gpuarray backend. You can get more information about how to switch at this URL:\n",
      " https://github.com/Theano/Theano/wiki/Converting-to-the-new-gpu-back-end%28gpuarray%29\n",
      "\n",
      "Using gpu device 0: Tesla K80 (CNMeM is disabled, cuDNN 5103)\n"
     ]
    }
   ],
   "source": [
    "from keras.layers.embeddings import Embedding\n",
    "from keras.layers import Input, merge\n",
    "from keras.models import Model\n",
    "from keras.layers.core import Flatten, Dropout, Dense\n",
    "from keras.optimizers import Adam\n",
    "from keras.layers.normalization import BatchNormalization\n",
    "\n",
    "from keras.regularizers import l1, l2\n",
    "\n",
    "from keras.layers.recurrent import GRU, LSTM\n",
    "\n",
    "from keras import backend as K"
   ]
  },
  {
   "cell_type": "markdown",
   "metadata": {},
   "source": [
    "## Importing the data"
   ]
  },
  {
   "cell_type": "code",
   "execution_count": 3,
   "metadata": {
    "collapsed": false
   },
   "outputs": [
    {
     "data": {
      "text/plain": [
       "(   userId  movieId  rating   timestamp\n",
       " 0       1       31     2.5  1260759144\n",
       " 1       1     1029     3.0  1260759179\n",
       " 2       1     1061     3.0  1260759182\n",
       " 3       1     1129     2.0  1260759185\n",
       " 4       1     1172     4.0  1260759205,\n",
       "    movieId                               title  \\\n",
       " 0        1                    Toy Story (1995)   \n",
       " 1        2                      Jumanji (1995)   \n",
       " 2        3             Grumpier Old Men (1995)   \n",
       " 3        4            Waiting to Exhale (1995)   \n",
       " 4        5  Father of the Bride Part II (1995)   \n",
       " \n",
       "                                         genres  \n",
       " 0  Adventure|Animation|Children|Comedy|Fantasy  \n",
       " 1                   Adventure|Children|Fantasy  \n",
       " 2                               Comedy|Romance  \n",
       " 3                         Comedy|Drama|Romance  \n",
       " 4                                       Comedy  )"
      ]
     },
     "execution_count": 3,
     "metadata": {},
     "output_type": "execute_result"
    }
   ],
   "source": [
    "org_ratings = pd.read_csv('data/MovieLens/ratings.csv')\n",
    "org_movies = pd.read_csv('data/MovieLens/movies.csv')\n",
    "org_tags = pd.read_csv('data/MovieLens/tags.csv')\n",
    "org_ratings.head(), org_movies.head()\n"
   ]
  },
  {
   "cell_type": "code",
   "execution_count": 4,
   "metadata": {
    "collapsed": false
   },
   "outputs": [
    {
     "data": {
      "text/plain": [
       "(671, 9066, 10)"
      ]
     },
     "execution_count": 4,
     "metadata": {},
     "output_type": "execute_result"
    }
   ],
   "source": [
    "users = org_ratings.userId.unique()\n",
    "movies = org_ratings.movieId.unique()\n",
    "rating = org_ratings.rating.unique()\n",
    "len(users), len(movies), len(rating)"
   ]
  },
  {
   "cell_type": "code",
   "execution_count": 5,
   "metadata": {
    "collapsed": true
   },
   "outputs": [],
   "source": [
    "userid2idx = {o:i for i,o in enumerate(users)}\n",
    "useridx2id = {i:o for i,o in enumerate(users)}\n",
    "\n",
    "movieid2idx = {o:i for i,o in enumerate(movies)}\n",
    "movieidx2id = {i:o for i,o in enumerate(movies)}"
   ]
  },
  {
   "cell_type": "markdown",
   "metadata": {},
   "source": [
    "First, I want to make the movieIds and the userIds continuous"
   ]
  },
  {
   "cell_type": "code",
   "execution_count": 6,
   "metadata": {
    "collapsed": true
   },
   "outputs": [],
   "source": [
    "new_ratings = org_ratings.copy()\n",
    "\n",
    "new_ratings.movieId = org_ratings.movieId.apply(lambda x: movieid2idx[x])\n",
    "new_ratings.userId = org_ratings.userId.apply(lambda x: userid2idx[x])"
   ]
  },
  {
   "cell_type": "code",
   "execution_count": 7,
   "metadata": {
    "collapsed": true
   },
   "outputs": [],
   "source": [
    "new_ratings = new_ratings.drop('timestamp', axis = 1)"
   ]
  },
  {
   "cell_type": "code",
   "execution_count": 8,
   "metadata": {
    "collapsed": false
   },
   "outputs": [
    {
     "data": {
      "text/html": [
       "<div>\n",
       "<style>\n",
       "    .dataframe thead tr:only-child th {\n",
       "        text-align: right;\n",
       "    }\n",
       "\n",
       "    .dataframe thead th {\n",
       "        text-align: left;\n",
       "    }\n",
       "\n",
       "    .dataframe tbody tr th {\n",
       "        vertical-align: top;\n",
       "    }\n",
       "</style>\n",
       "<table border=\"1\" class=\"dataframe\">\n",
       "  <thead>\n",
       "    <tr style=\"text-align: right;\">\n",
       "      <th></th>\n",
       "      <th>userId</th>\n",
       "      <th>movieId</th>\n",
       "      <th>rating</th>\n",
       "    </tr>\n",
       "  </thead>\n",
       "  <tbody>\n",
       "    <tr>\n",
       "      <th>0</th>\n",
       "      <td>0</td>\n",
       "      <td>0</td>\n",
       "      <td>2.5</td>\n",
       "    </tr>\n",
       "    <tr>\n",
       "      <th>1</th>\n",
       "      <td>0</td>\n",
       "      <td>1</td>\n",
       "      <td>3.0</td>\n",
       "    </tr>\n",
       "    <tr>\n",
       "      <th>2</th>\n",
       "      <td>0</td>\n",
       "      <td>2</td>\n",
       "      <td>3.0</td>\n",
       "    </tr>\n",
       "    <tr>\n",
       "      <th>3</th>\n",
       "      <td>0</td>\n",
       "      <td>3</td>\n",
       "      <td>2.0</td>\n",
       "    </tr>\n",
       "    <tr>\n",
       "      <th>4</th>\n",
       "      <td>0</td>\n",
       "      <td>4</td>\n",
       "      <td>4.0</td>\n",
       "    </tr>\n",
       "  </tbody>\n",
       "</table>\n",
       "</div>"
      ],
      "text/plain": [
       "   userId  movieId  rating\n",
       "0       0        0     2.5\n",
       "1       0        1     3.0\n",
       "2       0        2     3.0\n",
       "3       0        3     2.0\n",
       "4       0        4     4.0"
      ]
     },
     "execution_count": 8,
     "metadata": {},
     "output_type": "execute_result"
    }
   ],
   "source": [
    "new_ratings.head()"
   ]
  },
  {
   "cell_type": "markdown",
   "metadata": {},
   "source": [
    "I now want to add one more thing: the tags given by each user to each movie (if one exists)"
   ]
  },
  {
   "cell_type": "code",
   "execution_count": 9,
   "metadata": {
    "collapsed": false
   },
   "outputs": [
    {
     "data": {
      "text/html": [
       "<div>\n",
       "<style>\n",
       "    .dataframe thead tr:only-child th {\n",
       "        text-align: right;\n",
       "    }\n",
       "\n",
       "    .dataframe thead th {\n",
       "        text-align: left;\n",
       "    }\n",
       "\n",
       "    .dataframe tbody tr th {\n",
       "        vertical-align: top;\n",
       "    }\n",
       "</style>\n",
       "<table border=\"1\" class=\"dataframe\">\n",
       "  <thead>\n",
       "    <tr style=\"text-align: right;\">\n",
       "      <th></th>\n",
       "      <th>userId</th>\n",
       "      <th>movieId</th>\n",
       "      <th>rating</th>\n",
       "      <th>tags</th>\n",
       "    </tr>\n",
       "  </thead>\n",
       "  <tbody>\n",
       "    <tr>\n",
       "      <th>0</th>\n",
       "      <td>0</td>\n",
       "      <td>0</td>\n",
       "      <td>2.5</td>\n",
       "      <td></td>\n",
       "    </tr>\n",
       "    <tr>\n",
       "      <th>1</th>\n",
       "      <td>0</td>\n",
       "      <td>1</td>\n",
       "      <td>3.0</td>\n",
       "      <td></td>\n",
       "    </tr>\n",
       "    <tr>\n",
       "      <th>2</th>\n",
       "      <td>0</td>\n",
       "      <td>2</td>\n",
       "      <td>3.0</td>\n",
       "      <td></td>\n",
       "    </tr>\n",
       "    <tr>\n",
       "      <th>3</th>\n",
       "      <td>0</td>\n",
       "      <td>3</td>\n",
       "      <td>2.0</td>\n",
       "      <td></td>\n",
       "    </tr>\n",
       "    <tr>\n",
       "      <th>4</th>\n",
       "      <td>0</td>\n",
       "      <td>4</td>\n",
       "      <td>4.0</td>\n",
       "      <td></td>\n",
       "    </tr>\n",
       "  </tbody>\n",
       "</table>\n",
       "</div>"
      ],
      "text/plain": [
       "   userId  movieId  rating tags\n",
       "0       0        0     2.5     \n",
       "1       0        1     3.0     \n",
       "2       0        2     3.0     \n",
       "3       0        3     2.0     \n",
       "4       0        4     4.0     "
      ]
     },
     "execution_count": 9,
     "metadata": {},
     "output_type": "execute_result"
    }
   ],
   "source": [
    "new_ratings['tags'] = \"\"\n",
    "new_ratings.head()"
   ]
  },
  {
   "cell_type": "markdown",
   "metadata": {},
   "source": [
    "Now, if a user has left a comment for a movie, I want to break down each word (this is appropriate since most of the comments are one or two words) and then use GloVe to get the embeddings for the word. This embedding should contain the sentiment of the word. "
   ]
  },
  {
   "cell_type": "markdown",
   "metadata": {},
   "source": [
    "There's some preprocessing to be done; I'm going to run it all in this single loop, so it will take a little to run. I've added a progress bar to track how it's doing. "
   ]
  },
  {
   "cell_type": "code",
   "execution_count": 10,
   "metadata": {
    "collapsed": true
   },
   "outputs": [],
   "source": [
    "new_tags = org_tags.copy()"
   ]
  },
  {
   "cell_type": "code",
   "execution_count": 11,
   "metadata": {
    "collapsed": false
   },
   "outputs": [
    {
     "name": "stderr",
     "output_type": "stream",
     "text": [
      "100%|██████████| 100004/100004 [01:07<00:00, 1474.42it/s]\n"
     ]
    }
   ],
   "source": [
    "for i in tqdm(range(len(new_ratings))): \n",
    "    old_movie_id = movieidx2id[new_ratings.movieId[i]]\n",
    "    old_user_id = useridx2id[new_ratings.userId[i]]\n",
    "    new_tags_idx = []\n",
    "    \n",
    "    new_tags_idx = np.where((new_tags.movieId == old_movie_id) & (new_tags.userId == old_user_id))[0]\n",
    "    if new_tags_idx.size > 0:\n",
    "        #make a string\n",
    "        temp_str  = ''\n",
    "        str_array = []\n",
    "        for i in range(len(new_tags_idx)): \n",
    "            temp_str += new_tags.tag[new_tags_idx[i]] + \" \"\n",
    "            \n",
    "        #removing punctuation, set all letters to lowercase\n",
    "        temp_str = temp_str.translate(None, string.punctuation).lower()\n",
    "        str_array = temp_str.split(\" \")\n",
    "        new_ratings.set_value(i, 'tags', str_array)"
   ]
  },
  {
   "cell_type": "code",
   "execution_count": 12,
   "metadata": {
    "collapsed": false
   },
   "outputs": [
    {
     "data": {
      "text/html": [
       "<div>\n",
       "<style>\n",
       "    .dataframe thead tr:only-child th {\n",
       "        text-align: right;\n",
       "    }\n",
       "\n",
       "    .dataframe thead th {\n",
       "        text-align: left;\n",
       "    }\n",
       "\n",
       "    .dataframe tbody tr th {\n",
       "        vertical-align: top;\n",
       "    }\n",
       "</style>\n",
       "<table border=\"1\" class=\"dataframe\">\n",
       "  <thead>\n",
       "    <tr style=\"text-align: right;\">\n",
       "      <th></th>\n",
       "      <th>userId</th>\n",
       "      <th>movieId</th>\n",
       "      <th>rating</th>\n",
       "      <th>tags</th>\n",
       "    </tr>\n",
       "  </thead>\n",
       "  <tbody>\n",
       "    <tr>\n",
       "      <th>0</th>\n",
       "      <td>0</td>\n",
       "      <td>0</td>\n",
       "      <td>2.5</td>\n",
       "      <td>[gay, ]</td>\n",
       "    </tr>\n",
       "    <tr>\n",
       "      <th>1</th>\n",
       "      <td>0</td>\n",
       "      <td>1</td>\n",
       "      <td>3.0</td>\n",
       "      <td>[imaginary, world, characters, story, philosop...</td>\n",
       "    </tr>\n",
       "    <tr>\n",
       "      <th>2</th>\n",
       "      <td>0</td>\n",
       "      <td>2</td>\n",
       "      <td>3.0</td>\n",
       "      <td>[meaning, of, life, philosophical, scifi, ]</td>\n",
       "    </tr>\n",
       "    <tr>\n",
       "      <th>3</th>\n",
       "      <td>0</td>\n",
       "      <td>3</td>\n",
       "      <td>2.0</td>\n",
       "      <td>[hijacking, ocean, pirates, suspense, ]</td>\n",
       "    </tr>\n",
       "    <tr>\n",
       "      <th>4</th>\n",
       "      <td>0</td>\n",
       "      <td>4</td>\n",
       "      <td>4.0</td>\n",
       "      <td>[fashion, new, york, city, nudity, topless, rs...</td>\n",
       "    </tr>\n",
       "  </tbody>\n",
       "</table>\n",
       "</div>"
      ],
      "text/plain": [
       "   userId  movieId  rating                                               tags\n",
       "0       0        0     2.5                                            [gay, ]\n",
       "1       0        1     3.0  [imaginary, world, characters, story, philosop...\n",
       "2       0        2     3.0        [meaning, of, life, philosophical, scifi, ]\n",
       "3       0        3     2.0            [hijacking, ocean, pirates, suspense, ]\n",
       "4       0        4     4.0  [fashion, new, york, city, nudity, topless, rs..."
      ]
     },
     "execution_count": 12,
     "metadata": {},
     "output_type": "execute_result"
    }
   ],
   "source": [
    "new_ratings.head()"
   ]
  },
  {
   "cell_type": "markdown",
   "metadata": {},
   "source": [
    "## Adding word embeddings \n",
    "Specifically, using GloVe, from the Tags used"
   ]
  },
  {
   "cell_type": "code",
   "execution_count": 13,
   "metadata": {
    "collapsed": false,
    "scrolled": true
   },
   "outputs": [
    {
     "name": "stdout",
     "output_type": "stream",
     "text": [
      "Found 400000 word vectors.\n"
     ]
    }
   ],
   "source": [
    "embeddings_index = {}\n",
    "f = open('data/glove.6B.50d.txt')\n",
    "for line in f:\n",
    "    values = line.split()\n",
    "    word = values[0]\n",
    "    coefs = np.asarray(values[1:], dtype='float32')\n",
    "    embeddings_index[word] = coefs\n",
    "f.close()\n",
    "\n",
    "print('Found %s word vectors.' % len(embeddings_index))"
   ]
  },
  {
   "cell_type": "markdown",
   "metadata": {},
   "source": [
    "Let's take a look at what a single dictionary entry looks like"
   ]
  },
  {
   "cell_type": "code",
   "execution_count": 14,
   "metadata": {
    "collapsed": false
   },
   "outputs": [
    {
     "data": {
      "text/plain": [
       "{'biennials': array([  7.53019989e-01,   8.01379979e-01,  -7.38770008e-01,\n",
       "         -4.98160005e-01,  -1.04830003e+00,  -5.86179972e-01,\n",
       "         -2.98530012e-01,  -1.42299998e+00,  -2.03960001e-01,\n",
       "          1.54980004e+00,  -1.24249998e-02,   5.02399981e-01,\n",
       "         -3.64179999e-01,  -4.30269986e-01,   7.28100002e-01,\n",
       "         -5.63510001e-01,  -2.22240001e-01,   7.02189982e-01,\n",
       "          1.08829997e-01,  -5.71190000e-01,  -1.41049996e-01,\n",
       "         -5.45710027e-01,  -3.61989997e-02,  -2.06680000e-01,\n",
       "         -7.77369976e-01,   1.19480002e+00,   6.10530004e-02,\n",
       "         -1.78829998e-01,  -5.05890012e-01,  -5.20990014e-01,\n",
       "         -1.10479999e+00,   7.11489975e-01,   4.37159985e-01,\n",
       "         -8.73380005e-01,   5.57649992e-02,   8.47259983e-02,\n",
       "         -2.53160000e-01,   1.12059999e+00,  -3.65579993e-01,\n",
       "          6.80499971e-02,  -7.84590025e-04,  -1.02470005e+00,\n",
       "          7.25030005e-01,   4.67220008e-01,   9.32569981e-01,\n",
       "          9.60820019e-01,   1.16779998e-01,  -3.62179995e-01,\n",
       "         -1.49790001e+00,  -6.20080009e-02], dtype=float32)}"
      ]
     },
     "execution_count": 14,
     "metadata": {},
     "output_type": "execute_result"
    }
   ],
   "source": [
    "dict(sorted(embeddings_index.items()[:1]))"
   ]
  },
  {
   "cell_type": "markdown",
   "metadata": {},
   "source": [
    "Now, I'm going to add an additional column, which will contain the embedding matrices for the movies"
   ]
  },
  {
   "cell_type": "code",
   "execution_count": 16,
   "metadata": {
    "collapsed": true
   },
   "outputs": [],
   "source": [
    "MAX_WORDS = np.amax([len(x) for x in new_ratings.tags])"
   ]
  },
  {
   "cell_type": "code",
   "execution_count": 17,
   "metadata": {
    "collapsed": false
   },
   "outputs": [
    {
     "data": {
      "text/plain": [
       "19"
      ]
     },
     "execution_count": 17,
     "metadata": {},
     "output_type": "execute_result"
    }
   ],
   "source": [
    "MAX_WORDS"
   ]
  },
  {
   "cell_type": "code",
   "execution_count": 46,
   "metadata": {
    "collapsed": false
   },
   "outputs": [],
   "source": [
    "new_ratings['tags_array'] = \"\""
   ]
  },
  {
   "cell_type": "code",
   "execution_count": 53,
   "metadata": {
    "collapsed": false
   },
   "outputs": [
    {
     "data": {
      "text/plain": [
       "(19, 50)"
      ]
     },
     "execution_count": 53,
     "metadata": {},
     "output_type": "execute_result"
    }
   ],
   "source": [
    "np.zeros((MAX_WORDS, 50), dtype = np.float32).shape"
   ]
  },
  {
   "cell_type": "code",
   "execution_count": 47,
   "metadata": {
    "collapsed": false
   },
   "outputs": [
    {
     "data": {
      "text/html": [
       "<div>\n",
       "<style>\n",
       "    .dataframe thead tr:only-child th {\n",
       "        text-align: right;\n",
       "    }\n",
       "\n",
       "    .dataframe thead th {\n",
       "        text-align: left;\n",
       "    }\n",
       "\n",
       "    .dataframe tbody tr th {\n",
       "        vertical-align: top;\n",
       "    }\n",
       "</style>\n",
       "<table border=\"1\" class=\"dataframe\">\n",
       "  <thead>\n",
       "    <tr style=\"text-align: right;\">\n",
       "      <th></th>\n",
       "      <th>userId</th>\n",
       "      <th>movieId</th>\n",
       "      <th>rating</th>\n",
       "      <th>tags</th>\n",
       "      <th>tags_array</th>\n",
       "    </tr>\n",
       "  </thead>\n",
       "  <tbody>\n",
       "    <tr>\n",
       "      <th>0</th>\n",
       "      <td>0</td>\n",
       "      <td>0</td>\n",
       "      <td>2.5</td>\n",
       "      <td>[gay, ]</td>\n",
       "      <td></td>\n",
       "    </tr>\n",
       "    <tr>\n",
       "      <th>1</th>\n",
       "      <td>0</td>\n",
       "      <td>1</td>\n",
       "      <td>3.0</td>\n",
       "      <td>[imaginary, world, characters, story, philosop...</td>\n",
       "      <td></td>\n",
       "    </tr>\n",
       "    <tr>\n",
       "      <th>2</th>\n",
       "      <td>0</td>\n",
       "      <td>2</td>\n",
       "      <td>3.0</td>\n",
       "      <td>[meaning, of, life, philosophical, scifi, ]</td>\n",
       "      <td></td>\n",
       "    </tr>\n",
       "    <tr>\n",
       "      <th>3</th>\n",
       "      <td>0</td>\n",
       "      <td>3</td>\n",
       "      <td>2.0</td>\n",
       "      <td>[hijacking, ocean, pirates, suspense, ]</td>\n",
       "      <td></td>\n",
       "    </tr>\n",
       "    <tr>\n",
       "      <th>4</th>\n",
       "      <td>0</td>\n",
       "      <td>4</td>\n",
       "      <td>4.0</td>\n",
       "      <td>[fashion, new, york, city, nudity, topless, rs...</td>\n",
       "      <td></td>\n",
       "    </tr>\n",
       "  </tbody>\n",
       "</table>\n",
       "</div>"
      ],
      "text/plain": [
       "   userId  movieId  rating                                               tags  \\\n",
       "0       0        0     2.5                                            [gay, ]   \n",
       "1       0        1     3.0  [imaginary, world, characters, story, philosop...   \n",
       "2       0        2     3.0        [meaning, of, life, philosophical, scifi, ]   \n",
       "3       0        3     2.0            [hijacking, ocean, pirates, suspense, ]   \n",
       "4       0        4     4.0  [fashion, new, york, city, nudity, topless, rs...   \n",
       "\n",
       "  tags_array  \n",
       "0             \n",
       "1             \n",
       "2             \n",
       "3             \n",
       "4             "
      ]
     },
     "execution_count": 47,
     "metadata": {},
     "output_type": "execute_result"
    }
   ],
   "source": [
    "new_ratings.head()"
   ]
  },
  {
   "cell_type": "code",
   "execution_count": 79,
   "metadata": {
    "collapsed": false
   },
   "outputs": [
    {
     "name": "stderr",
     "output_type": "stream",
     "text": [
      "\n",
      "  0%|          | 0/100004 [00:00<?, ?it/s]\u001b[A\n",
      "  4%|▍         | 4256/100004 [00:00<00:02, 42559.63it/s]\u001b[A\n",
      "  9%|▊         | 8531/100004 [00:00<00:02, 42610.84it/s]\u001b[A\n",
      " 13%|█▎        | 12810/100004 [00:00<00:02, 42664.04it/s]\u001b[A\n",
      " 17%|█▋        | 17047/100004 [00:00<00:01, 42572.60it/s]\u001b[A\n",
      " 21%|██▏       | 21375/100004 [00:00<00:01, 42780.34it/s]\u001b[A\n",
      " 26%|██▌       | 25708/100004 [00:00<00:01, 42943.50it/s]\u001b[A\n",
      " 30%|███       | 30063/100004 [00:00<00:01, 43118.67it/s]\u001b[A\n",
      " 34%|███▍      | 34432/100004 [00:00<00:01, 43286.82it/s]\u001b[A\n",
      " 39%|███▊      | 38686/100004 [00:00<00:01, 43058.09it/s]\u001b[A\n",
      " 43%|████▎     | 43034/100004 [00:01<00:01, 43183.78it/s]\u001b[A\n",
      "\n",
      " 47%|████▋     | 47295/100004 [00:01<00:01, 43006.91it/s]\u001b[A\n",
      " 52%|█████▏    | 51575/100004 [00:01<00:01, 42942.05it/s]\u001b[A\n",
      " 56%|█████▌    | 55878/100004 [00:01<00:01, 42967.36it/s]\u001b[A\n",
      " 60%|██████    | 60134/100004 [00:01<00:00, 42808.26it/s]\u001b[A\n",
      " 64%|██████▍   | 64495/100004 [00:01<00:00, 43042.61it/s]\u001b[A\n",
      " 69%|██████▉   | 68794/100004 [00:01<00:00, 43020.08it/s]\u001b[A\n",
      " 73%|███████▎  | 73218/100004 [00:01<00:00, 43373.44it/s]\u001b[A\n",
      " 78%|███████▊  | 77549/100004 [00:01<00:00, 43352.85it/s]\u001b[A\n",
      " 82%|████████▏ | 81936/100004 [00:01<00:00, 43505.27it/s]\u001b[A\n",
      " 86%|████████▋ | 86283/100004 [00:02<00:00, 43135.40it/s]\u001b[A\n",
      " 91%|█████████ | 90595/100004 [00:02<00:00, 42864.14it/s]\u001b[A\n",
      " 95%|█████████▍| 94915/100004 [00:02<00:00, 42962.96it/s]\u001b[A\n",
      " 99%|█████████▉| 99262/100004 [00:02<00:00, 43102.13it/s]\u001b[A\n",
      "100%|██████████| 100004/100004 [00:02<00:00, 43004.54it/s]\u001b[A"
     ]
    }
   ],
   "source": [
    "# because Pandas doesn't like having ndarrays in its elements - and this messes up my model - \n",
    "# I'm going to make a seperate 3D array for these embeddings\n",
    "tags_array = []\n",
    "for i in tqdm(range(len(new_ratings))):\n",
    "    word_matrix = np.zeros((MAX_WORDS, 50), dtype = np.float32)\n",
    "    words = new_ratings.tags[i]\n",
    "    for z in range(len(words)):\n",
    "        if words[z] in embeddings_index:\n",
    "            word_matrix[z] = np.asarray(embeddings_index[words[z]])\n",
    "    tags_array.append(word_matrix)\n",
    "tags_array = np.asarray(tags_array)"
   ]
  },
  {
   "cell_type": "code",
   "execution_count": 80,
   "metadata": {
    "collapsed": false
   },
   "outputs": [
    {
     "data": {
      "text/plain": [
       "(100004, 19, 50)"
      ]
     },
     "execution_count": 80,
     "metadata": {},
     "output_type": "execute_result"
    }
   ],
   "source": [
    "tags_array.shape"
   ]
  },
  {
   "cell_type": "markdown",
   "metadata": {},
   "source": [
    "Now that I have a new array, tags_array, which has all the word embeddings, I can use this as input to my neural network! Adding this as input to the 'wide' part of my neural net will make it a true 'deep and wide' neural net, instead of what it is currently (which is closer to a 'deep and shallow' net). "
   ]
  },
  {
   "cell_type": "markdown",
   "metadata": {},
   "source": [
    "## Finally, preparing the train and validation sets"
   ]
  },
  {
   "cell_type": "code",
   "execution_count": 82,
   "metadata": {
    "collapsed": true
   },
   "outputs": [],
   "source": [
    "msk = np.random.rand(len(new_ratings)) < 0.8\n",
    "\n",
    "train = new_ratings[msk]\n",
    "valid = new_ratings[~msk]\n",
    "\n",
    "train_tags_array = tags_array[msk]\n",
    "valid_tags_array = tags_array[~msk]"
   ]
  },
  {
   "cell_type": "code",
   "execution_count": 83,
   "metadata": {
    "collapsed": false
   },
   "outputs": [
    {
     "name": "stdout",
     "output_type": "stream",
     "text": [
      "((79912, 5), (20092, 5), (79912, 19, 50), (20092, 19, 50))\n",
      "   userId  movieId  rating                                               tags  \\\n",
      "0       0        0     2.5                                            [gay, ]   \n",
      "1       0        1     3.0  [imaginary, world, characters, story, philosop...   \n",
      "2       0        2     3.0        [meaning, of, life, philosophical, scifi, ]   \n",
      "3       0        3     2.0            [hijacking, ocean, pirates, suspense, ]   \n",
      "5       0        5     2.0  [funny, jack, black, music, not, only, for, ki...   \n",
      "\n",
      "                                          tags_array  \n",
      "0  [[-0.48266, 0.70319, -0.87568, -0.41409, 0.295...  \n",
      "1  [[0.65537, 0.38191, -0.29002, 0.19434, 1.1022,...  \n",
      "2  [[0.20642, 0.76389, -0.41878, -0.45034, 0.9656...  \n",
      "3  [[1.3278, -0.52208, -0.2149, 0.46184, -0.19956...  \n",
      "5  [[-0.014547, -0.20208, -0.75278, -0.20272, 0.7...  \n"
     ]
    }
   ],
   "source": [
    "print(train.shape, valid.shape, train_tags_array.shape, valid_tags_array.shape)\n",
    "print(train.head())"
   ]
  },
  {
   "cell_type": "markdown",
   "metadata": {},
   "source": [
    "## Training a wide an deep neural net "
   ]
  },
  {
   "cell_type": "code",
   "execution_count": 119,
   "metadata": {
    "collapsed": false
   },
   "outputs": [],
   "source": [
    "# Multi layer LSTM model\n",
    "\n",
    "user_input = Input(shape=(1,), dtype='float32', name='user_input')\n",
    "movie_input = Input(shape = (1,), dtype = 'float32', name = 'movie_input')\n",
    "tags_input = Input(shape = (19,50,), dtype = 'float32', name = 'tags_input')\n",
    "\n",
    "#The 'deep' part of the neural net\n",
    "user_embed = Embedding(len(users), 55, input_length =1, W_regularizer = l2(1e4))(user_input)\n",
    "movie_embed = Embedding(len(movies), 55, input_length =1, W_regularizer = l2(1e4))(movie_input)\n",
    "x = merge([user_embed, movie_embed], mode='concat')\n",
    "\n",
    "x = Dropout(0.8)(x)\n",
    "BatchNormalization()\n",
    "x = LSTM(40)(x)\n",
    "x = Dropout(0.8)(x)\n",
    "BatchNormalization()\n",
    "\n",
    "#The 'wide' part of the neural net \n",
    "\n",
    "\n",
    "y = Flatten()(tags_input)\n",
    "BatchNormalization()\n",
    "\n",
    "final = merge([x, y], mode = 'concat', name = 'final_merge')\n",
    "BatchNormalization()\n",
    "\n",
    "preds = Dense(1)(final)\n",
    "\n",
    "deepwide_nn = Model([tags_input, user_input, movie_input], preds)\n",
    "deepwide_nn.compile(Adam(0.0001), loss='mse')"
   ]
  },
  {
   "cell_type": "code",
   "execution_count": 120,
   "metadata": {
    "collapsed": false,
    "scrolled": true
   },
   "outputs": [
    {
     "name": "stdout",
     "output_type": "stream",
     "text": [
      "Train on 79912 samples, validate on 20092 samples\n",
      "Epoch 1/10\n",
      "79912/79912 [==============================] - 15s - loss: 538991.3876 - val_loss: 31.7670\n",
      "Epoch 2/10\n",
      "79912/79912 [==============================] - 15s - loss: 8.6528 - val_loss: 4.6827\n",
      "Epoch 3/10\n",
      "79912/79912 [==============================] - 15s - loss: 3.3091 - val_loss: 1.7056\n",
      "Epoch 4/10\n",
      "79912/79912 [==============================] - 15s - loss: 2.1255 - val_loss: 1.2213\n",
      "Epoch 5/10\n",
      "79912/79912 [==============================] - 15s - loss: 2.0461 - val_loss: 1.1861\n",
      "Epoch 6/10\n",
      "79912/79912 [==============================] - 15s - loss: 2.0026 - val_loss: 1.1819\n",
      "Epoch 7/10\n",
      "79912/79912 [==============================] - 15s - loss: 1.9695 - val_loss: 1.1814\n",
      "Epoch 8/10\n",
      "79912/79912 [==============================] - 15s - loss: 1.9154 - val_loss: 1.1762\n",
      "Epoch 9/10\n",
      "79912/79912 [==============================] - 15s - loss: 1.8596 - val_loss: 1.1730\n",
      "Epoch 10/10\n",
      "79912/79912 [==============================] - 15s - loss: 1.8220 - val_loss: 1.1708\n"
     ]
    }
   ],
   "source": [
    "deepwide_hist = deepwide_nn.fit([train_tags_array, train.userId, train.movieId], train.rating, batch_size=64, nb_epoch=10, \n",
    "          validation_data=([valid_tags_array, valid.userId, valid.movieId], valid.rating))"
   ]
  },
  {
   "cell_type": "code",
   "execution_count": 121,
   "metadata": {
    "collapsed": true
   },
   "outputs": [],
   "source": [
    "deepwide_nn.compile(Adam(0.00005), loss='mse')"
   ]
  },
  {
   "cell_type": "code",
   "execution_count": 122,
   "metadata": {
    "collapsed": false
   },
   "outputs": [
    {
     "name": "stdout",
     "output_type": "stream",
     "text": [
      "Train on 79912 samples, validate on 20092 samples\n",
      "Epoch 1/10\n",
      "79912/79912 [==============================] - 15s - loss: 1.8269 - val_loss: 1.2023\n",
      "Epoch 2/10\n",
      "79912/79912 [==============================] - 15s - loss: 1.7901 - val_loss: 1.1884\n",
      "Epoch 3/10\n",
      "79912/79912 [==============================] - 15s - loss: 1.7509 - val_loss: 1.1827\n",
      "Epoch 4/10\n",
      "79912/79912 [==============================] - 15s - loss: 1.7332 - val_loss: 1.1783\n",
      "Epoch 5/10\n",
      "79912/79912 [==============================] - 15s - loss: 1.7079 - val_loss: 1.1706\n",
      "Epoch 6/10\n",
      "79912/79912 [==============================] - 15s - loss: 1.6848 - val_loss: 1.1685\n",
      "Epoch 7/10\n",
      "79912/79912 [==============================] - 15s - loss: 1.6581 - val_loss: 1.1672\n",
      "Epoch 8/10\n",
      "79912/79912 [==============================] - 15s - loss: 1.6320 - val_loss: 1.1641\n",
      "Epoch 9/10\n",
      "79912/79912 [==============================] - 15s - loss: 1.6182 - val_loss: 1.1640\n",
      "Epoch 10/10\n",
      "79912/79912 [==============================] - 15s - loss: 1.5973 - val_loss: 1.1603\n"
     ]
    }
   ],
   "source": [
    "deepwide_hist2 = deepwide_nn.fit([train_tags_array, train.userId, train.movieId], train.rating, batch_size=64, nb_epoch=10, \n",
    "          validation_data=([valid_tags_array, valid.userId, valid.movieId], valid.rating))"
   ]
  },
  {
   "cell_type": "code",
   "execution_count": 125,
   "metadata": {
    "collapsed": true
   },
   "outputs": [],
   "source": [
    "deepwide_nn.compile(Adam(0.00001), loss='mse')"
   ]
  },
  {
   "cell_type": "code",
   "execution_count": 128,
   "metadata": {
    "collapsed": false
   },
   "outputs": [
    {
     "name": "stdout",
     "output_type": "stream",
     "text": [
      "Train on 79912 samples, validate on 20092 samples\n",
      "Epoch 1/10\n",
      "79912/79912 [==============================] - 16s - loss: 1.5658 - val_loss: 1.1452\n",
      "Epoch 2/10\n",
      "79912/79912 [==============================] - 15s - loss: 1.5623 - val_loss: 1.1453\n",
      "Epoch 3/10\n",
      "79912/79912 [==============================] - 15s - loss: 1.5595 - val_loss: 1.1447\n",
      "Epoch 4/10\n",
      "79912/79912 [==============================] - 15s - loss: 1.5480 - val_loss: 1.1447\n",
      "Epoch 5/10\n",
      "79912/79912 [==============================] - 15s - loss: 1.5425 - val_loss: 1.1439\n",
      "Epoch 6/10\n",
      "79912/79912 [==============================] - 15s - loss: 1.5533 - val_loss: 1.1440\n",
      "Epoch 7/10\n",
      "79912/79912 [==============================] - 15s - loss: 1.5382 - val_loss: 1.1433\n",
      "Epoch 8/10\n",
      "79912/79912 [==============================] - 15s - loss: 1.5470 - val_loss: 1.1437\n",
      "Epoch 9/10\n",
      "79912/79912 [==============================] - 15s - loss: 1.5303 - val_loss: 1.1427\n",
      "Epoch 10/10\n",
      "79912/79912 [==============================] - 15s - loss: 1.5381 - val_loss: 1.1430\n"
     ]
    }
   ],
   "source": [
    "deepwide_hist3 = deepwide_nn.fit([train_tags_array, train.userId, train.movieId], train.rating, batch_size=64, nb_epoch=10, \n",
    "          validation_data=([valid_tags_array, valid.userId, valid.movieId], valid.rating))"
   ]
  },
  {
   "cell_type": "code",
   "execution_count": 129,
   "metadata": {
    "collapsed": true
   },
   "outputs": [],
   "source": [
    "deepwide_nn.compile(Adam(0.000005), loss='mse')"
   ]
  },
  {
   "cell_type": "code",
   "execution_count": 130,
   "metadata": {
    "collapsed": false
   },
   "outputs": [
    {
     "name": "stdout",
     "output_type": "stream",
     "text": [
      "Train on 79912 samples, validate on 20092 samples\n",
      "Epoch 1/10\n",
      "79912/79912 [==============================] - 15s - loss: 1.5368 - val_loss: 1.1421\n",
      "Epoch 2/10\n",
      "79912/79912 [==============================] - 15s - loss: 1.5243 - val_loss: 1.1420\n",
      "Epoch 3/10\n",
      "79912/79912 [==============================] - 15s - loss: 1.5165 - val_loss: 1.1417\n",
      "Epoch 4/10\n",
      "79912/79912 [==============================] - 15s - loss: 1.5360 - val_loss: 1.1416\n",
      "Epoch 5/10\n",
      "79912/79912 [==============================] - 15s - loss: 1.5234 - val_loss: 1.1417\n",
      "Epoch 6/10\n",
      "79912/79912 [==============================] - 15s - loss: 1.5163 - val_loss: 1.1414\n",
      "Epoch 7/10\n",
      "79912/79912 [==============================] - 15s - loss: 1.5171 - val_loss: 1.1412\n",
      "Epoch 8/10\n",
      "79912/79912 [==============================] - 15s - loss: 1.5207 - val_loss: 1.1410\n",
      "Epoch 9/10\n",
      "79912/79912 [==============================] - 15s - loss: 1.5132 - val_loss: 1.1407\n",
      "Epoch 10/10\n",
      "79912/79912 [==============================] - 15s - loss: 1.5217 - val_loss: 1.1407\n"
     ]
    }
   ],
   "source": [
    "deepwide_hist4 = deepwide_nn.fit([train_tags_array, train.userId, train.movieId], train.rating, batch_size=64, nb_epoch=10, \n",
    "          validation_data=([valid_tags_array, valid.userId, valid.movieId], valid.rating))"
   ]
  },
  {
   "cell_type": "code",
   "execution_count": 131,
   "metadata": {
    "collapsed": true
   },
   "outputs": [],
   "source": [
    "deepwide_nn.compile(Adam(0.000001), loss='mse')"
   ]
  },
  {
   "cell_type": "code",
   "execution_count": 132,
   "metadata": {
    "collapsed": false
   },
   "outputs": [
    {
     "name": "stdout",
     "output_type": "stream",
     "text": [
      "Train on 79912 samples, validate on 20092 samples\n",
      "Epoch 1/10\n",
      "79912/79912 [==============================] - 15s - loss: 1.5258 - val_loss: 1.1402\n",
      "Epoch 2/10\n",
      "79912/79912 [==============================] - 15s - loss: 1.5175 - val_loss: 1.1402\n",
      "Epoch 3/10\n",
      "79912/79912 [==============================] - 15s - loss: 1.5056 - val_loss: 1.1401\n",
      "Epoch 4/10\n",
      "79912/79912 [==============================] - 15s - loss: 1.5142 - val_loss: 1.1401\n",
      "Epoch 5/10\n",
      "79912/79912 [==============================] - 15s - loss: 1.5152 - val_loss: 1.1401\n",
      "Epoch 6/10\n",
      "79912/79912 [==============================] - 15s - loss: 1.5096 - val_loss: 1.1401\n",
      "Epoch 7/10\n",
      "79912/79912 [==============================] - 15s - loss: 1.5158 - val_loss: 1.1401\n",
      "Epoch 8/10\n",
      "79912/79912 [==============================] - 15s - loss: 1.5134 - val_loss: 1.1401\n",
      "Epoch 9/10\n",
      "79912/79912 [==============================] - 15s - loss: 1.5155 - val_loss: 1.1401\n",
      "Epoch 10/10\n",
      "79912/79912 [==============================] - 15s - loss: 1.5097 - val_loss: 1.1400\n"
     ]
    }
   ],
   "source": [
    "deepwide_hist5 = deepwide_nn.fit([train_tags_array, train.userId, train.movieId], train.rating, batch_size=64, nb_epoch=10, \n",
    "          validation_data=([valid_tags_array, valid.userId, valid.movieId], valid.rating))"
   ]
  },
  {
   "cell_type": "code",
   "execution_count": 133,
   "metadata": {
    "collapsed": false
   },
   "outputs": [
    {
     "data": {
      "text/plain": [
       "<matplotlib.figure.Figure at 0x7f45f5894350>"
      ]
     },
     "metadata": {},
     "output_type": "display_data"
    },
    {
     "data": {
      "image/png": "[encoded data removed]",
      "text/plain": [
       "<matplotlib.figure.Figure at 0x7f45f5894f90>"
      ]
     },
     "metadata": {},
     "output_type": "display_data"
    }
   ],
   "source": [
    "val_loss = deepwide_hist2.history['val_loss'] + deepwide_hist3.history['val_loss'] + deepwide_hist4.history['val_loss'] + deepwide_hist5.history['val_loss']  \n",
    "\n",
    "loss = deepwide_hist2.history['loss'] + deepwide_hist3.history['loss'] + deepwide_hist4.history['loss'] + deepwide_hist5.history['loss']    \n",
    "    \n",
    "plt.clf()\n",
    "plt.figure(figsize = (10,7))\n",
    "plt.plot(val_loss, label = 'validation loss')\n",
    "plt.plot(loss, label = 'loss')\n",
    "plt.legend()\n",
    "plt.xlabel('Epochs')\n",
    "plt.ylabel('MSE loss')\n",
    "plt.show()"
   ]
  }
 ],
 "metadata": {
  "anaconda-cloud": {},
  "kernelspec": {
   "display_name": "Python 2",
   "language": "python",
   "name": "python2"
  },
  "language_info": {
   "codemirror_mode": {
    "name": "ipython",
    "version": 2
   },
   "file_extension": ".py",
   "mimetype": "text/x-python",
   "name": "python",
   "nbconvert_exporter": "python",
   "pygments_lexer": "ipython2",
   "version": "2.7.13"
  }
 },
 "nbformat": 4,
 "nbformat_minor": 1
}
