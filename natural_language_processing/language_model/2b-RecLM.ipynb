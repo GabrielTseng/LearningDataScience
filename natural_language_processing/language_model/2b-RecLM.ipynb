{
 "cells": [
  {
   "cell_type": "markdown",
   "metadata": {},
   "source": [
    "# RecLM\n",
    "\n",
    "A recurrent language model is trained, with the following features:\n",
    "\n",
    "1. WeightDrop on the RNN layers\n",
    "2. Variational dropout on the embedding layer\n",
    "3. Weight tie in between the embedding layer, and final linear layer which outputs a one-hot encoding\n",
    "4. Variable back propagation through time\n",
    "5. Independent embedding sizes and hidden sizes\n",
    "6. Activation Regularization and Temporal Activation Regularization\n",
    "7. Variational dropout on all other layers\n",
    "\n",
    "This is effectively the language model described in [this paper](https://arxiv.org/abs/1708.02182)"
   ]
  },
  {
   "cell_type": "code",
   "execution_count": 1,
   "metadata": {},
   "outputs": [],
   "source": [
    "# % load_ext autoreload\n",
    "# % autoreload 2\n",
    "% matplotlib inline"
   ]
  },
  {
   "cell_type": "code",
   "execution_count": 2,
   "metadata": {},
   "outputs": [],
   "source": [
    "from pathlib import Path\n",
    "import pickle\n",
    "import numpy as np\n",
    "from tqdm import tqdm\n",
    "from collections import defaultdict\n",
    "import matplotlib.pyplot as plt\n",
    "\n",
    "import torch\n",
    "from torch import nn"
   ]
  },
  {
   "cell_type": "code",
   "execution_count": 3,
   "metadata": {},
   "outputs": [],
   "source": [
    "from lm.data import LMDataLoader\n",
    "from lm.models import RecLM, ARTAR, accuracy\n",
    "from lm.schedulers import OneCycle"
   ]
  },
  {
   "cell_type": "code",
   "execution_count": 4,
   "metadata": {},
   "outputs": [],
   "source": [
    "device = torch.device(\"cuda:0\")\n",
    "# device = torch.device('cpu')"
   ]
  },
  {
   "cell_type": "markdown",
   "metadata": {},
   "source": [
    "Loading the data, making dataloaders"
   ]
  },
  {
   "cell_type": "code",
   "execution_count": 5,
   "metadata": {},
   "outputs": [],
   "source": [
    "dict_path = Path('word2int.pickle')\n",
    "with dict_path.open('rb') as file:\n",
    "    d = pickle.load(file)"
   ]
  },
  {
   "cell_type": "code",
   "execution_count": 6,
   "metadata": {},
   "outputs": [],
   "source": [
    "xtrain = np.load('wikitext_train_int_tokens.npy')\n",
    "xval = np.load('wikitext_valtest_int_tokens.npy')"
   ]
  },
  {
   "cell_type": "code",
   "execution_count": 7,
   "metadata": {},
   "outputs": [],
   "source": [
    "xtrain_tensor = torch.from_numpy(xtrain).long()\n",
    "xval_tensor = torch.from_numpy(xval).long()\n",
    "\n",
    "if device.type == 'cuda':\n",
    "    xtrain_tensor = xtrain_tensor.cuda()\n",
    "    xval_tensor = xval_tensor.cuda()"
   ]
  },
  {
   "cell_type": "code",
   "execution_count": 8,
   "metadata": {},
   "outputs": [],
   "source": [
    "train_dataloader = LMDataLoader(xtrain_tensor, 70, 64)\n",
    "val_dataloader = LMDataLoader(xval_tensor, 70, 64)"
   ]
  },
  {
   "cell_type": "code",
   "execution_count": 9,
   "metadata": {},
   "outputs": [],
   "source": [
    "vocab_size = len(d)\n",
    "padding_idx = d['_pad_']"
   ]
  },
  {
   "cell_type": "code",
   "execution_count": 10,
   "metadata": {},
   "outputs": [],
   "source": [
    "model = RecLM(vocab_size=vocab_size, padding_idx=padding_idx).cuda()"
   ]
  },
  {
   "cell_type": "code",
   "execution_count": 11,
   "metadata": {},
   "outputs": [
    {
     "data": {
      "text/plain": [
       "RecLM(\n",
       "  (embedding): VDEmbedding(\n",
       "    (embedding): Embedding(30002, 400, padding_idx=0)\n",
       "  )\n",
       "  (wdrnn_0): WDLSTM(\n",
       "    (lstm): LSTM(400, 1150)\n",
       "  )\n",
       "  (wdrnn_1): WDLSTM(\n",
       "    (lstm): LSTM(1150, 1150)\n",
       "  )\n",
       "  (wdrnn_2): WDLSTM(\n",
       "    (lstm): LSTM(1150, 400)\n",
       "  )\n",
       "  (decoder): Linear(in_features=400, out_features=30002, bias=True)\n",
       "  (emb_drop): VariationalDropout()\n",
       "  (final_rnn_drop): VariationalDropout()\n",
       ")"
      ]
     },
     "execution_count": 11,
     "metadata": {},
     "output_type": "execute_result"
    }
   ],
   "source": [
    "model"
   ]
  },
  {
   "cell_type": "markdown",
   "metadata": {},
   "source": [
    "Finally, define our losses"
   ]
  },
  {
   "cell_type": "code",
   "execution_count": 12,
   "metadata": {},
   "outputs": [],
   "source": [
    "crit = nn.CrossEntropyLoss()\n",
    "regularizing_loss = ARTAR()"
   ]
  },
  {
   "cell_type": "markdown",
   "metadata": {},
   "source": [
    "I kept getting out of memory errors when finding the min and max learning rates (presumably from removing `flatten_parameters`), but I was able to figure out a `max_lr` of `0.03`"
   ]
  },
  {
   "cell_type": "markdown",
   "metadata": {},
   "source": [
    "First, lets just train the embedding layer for one epoch"
   ]
  },
  {
   "cell_type": "code",
   "execution_count": 13,
   "metadata": {},
   "outputs": [],
   "source": [
    "emb_optimizer = torch.optim.Adam([pam for name, pam in model.named_parameters() if 'embedding' in name])"
   ]
  },
  {
   "cell_type": "code",
   "execution_count": 14,
   "metadata": {},
   "outputs": [],
   "source": [
    "emb_scheduler = OneCycle(emb_optimizer, len(train_dataloader), upswing=0.1, downswing=0.9, min_lr=1e-5,\n",
    "                         max_lr=0.03)"
   ]
  },
  {
   "cell_type": "code",
   "execution_count": 15,
   "metadata": {},
   "outputs": [],
   "source": [
    "hidden = [None, None, None]"
   ]
  },
  {
   "cell_type": "code",
   "execution_count": 18,
   "metadata": {},
   "outputs": [
    {
     "name": "stderr",
     "output_type": "stream",
     "text": [
      "  0%|          | 0/514 [00:00<?, ?it/s]/home/ubuntu/workdir/language_model/lm/models/awd_lstm.py:63: UserWarning: RNN module weights are not part of single contiguous chunk of memory. This means they need to be compacted at every call, possibly greatly increasing memory usage. To compact weights again call flatten_parameters().\n",
      "  output, (hn, cn) = self.lstm(x, h0)\n",
      " 91%|█████████▏| 470/514 [03:37<00:20,  2.16it/s]\n"
     ]
    },
    {
     "name": "stdout",
     "output_type": "stream",
     "text": [
      "TRAINING: loss: 10.50497, reg: 176.50127, accuracy: 0.02287\n",
      "VALIDATION: loss: 9.91312026977539, accuracy: 0.0317\n"
     ]
    }
   ],
   "source": [
    "# set the model to train\n",
    "model.train()\n",
    "# keep track of training scores, so they can be displayed later\n",
    "train_scores = defaultdict(list)\n",
    "\n",
    "for batch_number, batch in (enumerate(tqdm(train_dataloader))):\n",
    "    # Zero the gradients of my optimizer - 'reset' it\n",
    "    emb_optimizer.zero_grad()\n",
    "\n",
    "    x, y = batch\n",
    "    pred, hidden, finals = model(x, hidden)\n",
    "\n",
    "    loss = crit(pred, y)\n",
    "    acc = accuracy(pred, y)\n",
    "    reg = regularizing_loss(finals)\n",
    "\n",
    "    train_scores['loss'].append(loss.item())\n",
    "    train_scores['reg'].append(reg.item())\n",
    "    train_scores['accuracy'].append(acc)\n",
    "\n",
    "    total_loss = loss + reg\n",
    "    total_loss.backward()\n",
    "    emb_optimizer.step()\n",
    "    emb_scheduler.step()\n",
    "\n",
    "train_output_strings = []\n",
    "for key, val in train_scores.items():\n",
    "    mean_value = np.array(val).mean()\n",
    "    train_output_strings.append('{}: {}'.format(key, round(mean_value, 5)))\n",
    "\n",
    "if val_dataloader:\n",
    "    model.eval()\n",
    "    val_scores = defaultdict(list)\n",
    "    with torch.no_grad():\n",
    "        for batch_number, batch in enumerate(val_dataloader):\n",
    "            x, y = batch\n",
    "            pred = model(x, hidden)\n",
    "            val_loss = crit(pred, y)\n",
    "            acc = accuracy(pred, y)\n",
    "\n",
    "            val_scores['loss'].append(val_loss)\n",
    "            val_scores['accuracy'].append(acc)\n",
    "\n",
    "    val_output_strings = []\n",
    "    for key, val in val_scores.items():\n",
    "        mean_value = np.array(val).mean()\n",
    "        val_output_strings.append('{}: {}'.format(key, round(mean_value, 5)))\n",
    "print('TRAINING: {}, {}, {}'.format(*train_output_strings))\n",
    "print('VALIDATION: {}, {}'.format(*val_output_strings))"
   ]
  },
  {
   "cell_type": "markdown",
   "metadata": {},
   "source": [
    "Then, everything"
   ]
  },
  {
   "cell_type": "code",
   "execution_count": 19,
   "metadata": {},
   "outputs": [],
   "source": [
    "optimizer = torch.optim.Adam(model.parameters())"
   ]
  },
  {
   "cell_type": "code",
   "execution_count": 21,
   "metadata": {},
   "outputs": [],
   "source": [
    "scheduler = OneCycle(optimizer, len(train_dataloader), upswing=2, downswing=18, min_lr=1e-5,\n",
    "                         max_lr=0.03)"
   ]
  },
  {
   "cell_type": "code",
   "execution_count": 22,
   "metadata": {},
   "outputs": [],
   "source": [
    "num_epochs = scheduler.num_epochs()"
   ]
  },
  {
   "cell_type": "code",
   "execution_count": 23,
   "metadata": {},
   "outputs": [],
   "source": [
    "hidden = [None, None, None]"
   ]
  },
  {
   "cell_type": "code",
   "execution_count": 24,
   "metadata": {
    "scrolled": false
   },
   "outputs": [
    {
     "name": "stderr",
     "output_type": "stream",
     "text": [
      "  0%|          | 0/514 [00:00<?, ?it/s]/home/ubuntu/workdir/language_model/lm/models/awd_lstm.py:63: UserWarning: RNN module weights are not part of single contiguous chunk of memory. This means they need to be compacted at every call, possibly greatly increasing memory usage. To compact weights again call flatten_parameters().\n",
      "  output, (hn, cn) = self.lstm(x, h0)\n",
      " 92%|█████████▏| 474/514 [03:39<00:18,  2.16it/s]\n",
      "  0%|          | 0/514 [00:00<?, ?it/s]"
     ]
    },
    {
     "name": "stdout",
     "output_type": "stream",
     "text": [
      "TRAINING: loss: 9.32187, reg: 2.86542, accuracy: 0.04938\n",
      "VALIDATION: loss: 7.926199913024902, accuracy: 0.06518\n"
     ]
    },
    {
     "name": "stderr",
     "output_type": "stream",
     "text": [
      " 93%|█████████▎| 479/514 [03:41<00:16,  2.16it/s]\n",
      "  0%|          | 0/514 [00:00<?, ?it/s]"
     ]
    },
    {
     "name": "stdout",
     "output_type": "stream",
     "text": [
      "TRAINING: loss: 7.33905, reg: 0.00886, accuracy: 0.06292\n",
      "VALIDATION: loss: 6.890789985656738, accuracy: 0.06265\n"
     ]
    },
    {
     "name": "stderr",
     "output_type": "stream",
     "text": [
      " 92%|█████████▏| 472/514 [03:41<00:19,  2.13it/s]\n",
      "  0%|          | 0/514 [00:00<?, ?it/s]"
     ]
    },
    {
     "name": "stdout",
     "output_type": "stream",
     "text": [
      "TRAINING: loss: 7.11299, reg: 0.00013, accuracy: 0.06207\n",
      "VALIDATION: loss: 6.9276299476623535, accuracy: 0.06265\n"
     ]
    },
    {
     "name": "stderr",
     "output_type": "stream",
     "text": [
      " 92%|█████████▏| 473/514 [03:42<00:19,  2.13it/s]\n",
      "  0%|          | 0/514 [00:00<?, ?it/s]"
     ]
    },
    {
     "name": "stdout",
     "output_type": "stream",
     "text": [
      "TRAINING: loss: 7.11002, reg: 9e-05, accuracy: 0.06164\n",
      "VALIDATION: loss: 6.868390083312988, accuracy: 0.06533\n"
     ]
    },
    {
     "name": "stderr",
     "output_type": "stream",
     "text": [
      " 93%|█████████▎| 476/514 [03:41<00:17,  2.15it/s]\n",
      "  0%|          | 0/514 [00:00<?, ?it/s]"
     ]
    },
    {
     "name": "stdout",
     "output_type": "stream",
     "text": [
      "TRAINING: loss: 7.10361, reg: 6e-05, accuracy: 0.06214\n",
      "VALIDATION: loss: 6.9255900382995605, accuracy: 0.06696\n"
     ]
    },
    {
     "name": "stderr",
     "output_type": "stream",
     "text": [
      " 92%|█████████▏| 472/514 [03:41<00:19,  2.13it/s]\n",
      "  0%|          | 0/514 [00:00<?, ?it/s]"
     ]
    },
    {
     "name": "stdout",
     "output_type": "stream",
     "text": [
      "TRAINING: loss: 7.10758, reg: 3e-05, accuracy: 0.06389\n",
      "VALIDATION: loss: 6.898859977722168, accuracy: 0.06611\n"
     ]
    },
    {
     "name": "stderr",
     "output_type": "stream",
     "text": [
      " 92%|█████████▏| 471/514 [03:40<00:20,  2.14it/s]\n",
      "  0%|          | 0/514 [00:00<?, ?it/s]"
     ]
    },
    {
     "name": "stdout",
     "output_type": "stream",
     "text": [
      "TRAINING: loss: 7.07384, reg: 2e-05, accuracy: 0.06124\n",
      "VALIDATION: loss: 6.827139854431152, accuracy: 0.06682\n"
     ]
    },
    {
     "name": "stderr",
     "output_type": "stream",
     "text": [
      " 92%|█████████▏| 473/514 [03:40<00:19,  2.14it/s]\n",
      "  0%|          | 0/514 [00:00<?, ?it/s]"
     ]
    },
    {
     "name": "stdout",
     "output_type": "stream",
     "text": [
      "TRAINING: loss: 7.10515, reg: 4e-05, accuracy: 0.06257\n",
      "VALIDATION: loss: 6.804969787597656, accuracy: 0.06177\n"
     ]
    },
    {
     "name": "stderr",
     "output_type": "stream",
     "text": [
      " 91%|█████████ | 468/514 [03:39<00:21,  2.13it/s]\n",
      "  0%|          | 0/514 [00:00<?, ?it/s]"
     ]
    },
    {
     "name": "stdout",
     "output_type": "stream",
     "text": [
      "TRAINING: loss: 7.09353, reg: 2e-05, accuracy: 0.06083\n",
      "VALIDATION: loss: 6.895440101623535, accuracy: 0.06607\n"
     ]
    },
    {
     "name": "stderr",
     "output_type": "stream",
     "text": [
      " 92%|█████████▏| 474/514 [03:40<00:18,  2.15it/s]\n",
      "  0%|          | 0/514 [00:00<?, ?it/s]"
     ]
    },
    {
     "name": "stdout",
     "output_type": "stream",
     "text": [
      "TRAINING: loss: 7.11622, reg: 0.00015, accuracy: 0.06234\n",
      "VALIDATION: loss: 6.842700004577637, accuracy: 0.06553\n"
     ]
    },
    {
     "name": "stderr",
     "output_type": "stream",
     "text": [
      " 93%|█████████▎| 477/514 [03:39<00:17,  2.17it/s]\n",
      "  0%|          | 0/514 [00:00<?, ?it/s]"
     ]
    },
    {
     "name": "stdout",
     "output_type": "stream",
     "text": [
      "TRAINING: loss: 7.08299, reg: 0.01554, accuracy: 0.06283\n",
      "VALIDATION: loss: 6.821400165557861, accuracy: 0.0682\n"
     ]
    },
    {
     "name": "stderr",
     "output_type": "stream",
     "text": [
      " 92%|█████████▏| 471/514 [03:41<00:20,  2.13it/s]\n",
      "  0%|          | 0/514 [00:00<?, ?it/s]"
     ]
    },
    {
     "name": "stdout",
     "output_type": "stream",
     "text": [
      "TRAINING: loss: 7.0662, reg: 0.0, accuracy: 0.06423\n",
      "VALIDATION: loss: 6.924379825592041, accuracy: 0.06235\n"
     ]
    },
    {
     "name": "stderr",
     "output_type": "stream",
     "text": [
      " 92%|█████████▏| 474/514 [03:40<00:18,  2.15it/s]\n",
      "  0%|          | 0/514 [00:00<?, ?it/s]"
     ]
    },
    {
     "name": "stdout",
     "output_type": "stream",
     "text": [
      "TRAINING: loss: 7.06299, reg: 0.0, accuracy: 0.06194\n",
      "VALIDATION: loss: 6.890039920806885, accuracy: 0.0616\n"
     ]
    },
    {
     "name": "stderr",
     "output_type": "stream",
     "text": [
      " 92%|█████████▏| 475/514 [03:42<00:18,  2.14it/s]\n",
      "  0%|          | 0/514 [00:00<?, ?it/s]"
     ]
    },
    {
     "name": "stdout",
     "output_type": "stream",
     "text": [
      "TRAINING: loss: 7.0505, reg: 0.0, accuracy: 0.06211\n",
      "VALIDATION: loss: 6.826089859008789, accuracy: 0.06958\n"
     ]
    },
    {
     "name": "stderr",
     "output_type": "stream",
     "text": [
      " 93%|█████████▎| 477/514 [03:42<00:17,  2.15it/s]\n",
      "  0%|          | 0/514 [00:00<?, ?it/s]"
     ]
    },
    {
     "name": "stdout",
     "output_type": "stream",
     "text": [
      "TRAINING: loss: 7.06006, reg: 0.0, accuracy: 0.0605\n",
      "VALIDATION: loss: 6.833539962768555, accuracy: 0.05997\n"
     ]
    },
    {
     "name": "stderr",
     "output_type": "stream",
     "text": [
      " 91%|█████████▏| 470/514 [03:40<00:20,  2.13it/s]\n",
      "  0%|          | 0/514 [00:00<?, ?it/s]"
     ]
    },
    {
     "name": "stdout",
     "output_type": "stream",
     "text": [
      "TRAINING: loss: 7.07822, reg: 0.0, accuracy: 0.062\n",
      "VALIDATION: loss: 6.824190139770508, accuracy: 0.06503\n"
     ]
    },
    {
     "name": "stderr",
     "output_type": "stream",
     "text": [
      " 92%|█████████▏| 474/514 [03:40<00:18,  2.15it/s]\n",
      "  0%|          | 0/514 [00:00<?, ?it/s]"
     ]
    },
    {
     "name": "stdout",
     "output_type": "stream",
     "text": [
      "TRAINING: loss: 7.04108, reg: 0.0, accuracy: 0.06276\n",
      "VALIDATION: loss: 6.858349800109863, accuracy: 0.06553\n"
     ]
    },
    {
     "name": "stderr",
     "output_type": "stream",
     "text": [
      " 92%|█████████▏| 474/514 [03:42<00:18,  2.13it/s]\n",
      "  0%|          | 0/514 [00:00<?, ?it/s]"
     ]
    },
    {
     "name": "stdout",
     "output_type": "stream",
     "text": [
      "TRAINING: loss: 7.08471, reg: 0.0, accuracy: 0.0621\n",
      "VALIDATION: loss: 6.773670196533203, accuracy: 0.07181\n"
     ]
    },
    {
     "name": "stderr",
     "output_type": "stream",
     "text": [
      " 92%|█████████▏| 474/514 [03:41<00:18,  2.14it/s]\n",
      "  0%|          | 0/514 [00:00<?, ?it/s]"
     ]
    },
    {
     "name": "stdout",
     "output_type": "stream",
     "text": [
      "TRAINING: loss: 7.05181, reg: 0.0, accuracy: 0.06266\n",
      "VALIDATION: loss: 6.871200084686279, accuracy: 0.06265\n"
     ]
    },
    {
     "name": "stderr",
     "output_type": "stream",
     "text": [
      " 91%|█████████ | 469/514 [03:39<00:21,  2.14it/s]\n"
     ]
    },
    {
     "name": "stdout",
     "output_type": "stream",
     "text": [
      "TRAINING: loss: 7.08383, reg: 0.0, accuracy: 0.06197\n",
      "VALIDATION: loss: 6.793970108032227, accuracy: 0.06711\n"
     ]
    }
   ],
   "source": [
    "overall_train = defaultdict(list)\n",
    "overall_val = defaultdict(list)\n",
    "\n",
    "for epoch in range(num_epochs):\n",
    "    # set the model to train\n",
    "    model.train()\n",
    "    # keep track of training scores, so they can be displayed later\n",
    "    train_scores = defaultdict(list)\n",
    "    \n",
    "    for batch_number, batch in (enumerate(tqdm(train_dataloader))):\n",
    "        # Zero the gradients of my optimizer - 'reset' it\n",
    "        optimizer.zero_grad()\n",
    "        \n",
    "        x, y = batch\n",
    "        pred, hidden, finals = model(x, hidden)\n",
    "        \n",
    "        loss = crit(pred, y)\n",
    "        acc = accuracy(pred, y)\n",
    "        reg = regularizing_loss(finals)\n",
    "        \n",
    "        train_scores['loss'].append(loss.item())\n",
    "        train_scores['reg'].append(reg.item())\n",
    "        train_scores['accuracy'].append(acc)\n",
    "        \n",
    "        total_loss = loss + reg\n",
    "        total_loss.backward()\n",
    "        optimizer.step()\n",
    "        scheduler.step()\n",
    "        \n",
    "    train_output_strings = []\n",
    "    for key, val in train_scores.items():\n",
    "        mean_value = np.array(val).mean()\n",
    "        train_output_strings.append('{}: {}'.format(key, round(mean_value, 5)))\n",
    "        overall_train[key].append(mean_value)\n",
    "        \n",
    "    if val_dataloader:\n",
    "        model.eval()\n",
    "        val_scores = defaultdict(list)\n",
    "        with torch.no_grad():\n",
    "            for batch_number, batch in enumerate(val_dataloader):\n",
    "                x, y = batch\n",
    "                pred = model(x, hidden)\n",
    "                val_loss = crit(pred, y)\n",
    "                acc = accuracy(pred, y)\n",
    "                \n",
    "                val_scores['loss'].append(val_loss)\n",
    "                val_scores['accuracy'].append(acc)\n",
    "                \n",
    "        val_output_strings = []\n",
    "        for key, val in val_scores.items():\n",
    "            mean_value = np.array(val).mean()\n",
    "            val_output_strings.append('{}: {}'.format(key, round(mean_value, 5)))\n",
    "            overall_val[key].append(mean_value)\n",
    "        print('TRAINING: {}, {}, {}'.format(*train_output_strings))\n",
    "        print('VALIDATION: {}, {}'.format(*val_output_strings))"
   ]
  },
  {
   "cell_type": "code",
   "execution_count": 25,
   "metadata": {},
   "outputs": [],
   "source": [
    "model_information = {'state_dict': model.state_dict(),\n",
    "                     'val_acc': overall_val['accuracy'],\n",
    "                     'val_loss': overall_val['loss'],\n",
    "                     'train_acc': overall_train['accuracy'],\n",
    "                     'train_loss': overall_train['loss'],}\n",
    "torch.save(model_information, 'RecLM_L3.pth.tar')"
   ]
  },
  {
   "cell_type": "code",
   "execution_count": 26,
   "metadata": {},
   "outputs": [],
   "source": [
    "from lm.models import perplexity"
   ]
  },
  {
   "cell_type": "code",
   "execution_count": 27,
   "metadata": {},
   "outputs": [
    {
     "data": {
      "text/plain": [
       "<matplotlib.legend.Legend at 0x7fd18de0a160>"
      ]
     },
     "execution_count": 27,
     "metadata": {},
     "output_type": "execute_result"
    },
    {
     "data": {
      "image/png": "[encoded data removed]",
      "text/plain": [
       "<Figure size 1296x360 with 3 Axes>"
      ]
     },
     "metadata": {},
     "output_type": "display_data"
    }
   ],
   "source": [
    "fig, axes = plt.subplots(1, 3, figsize=(18,5))\n",
    "\n",
    "# First, lets plot accuracy\n",
    "axes[0].plot(range(len(overall_val['accuracy'])), overall_val['accuracy'], label='Validation')\n",
    "axes[0].plot(range(len(overall_train['accuracy'])), overall_train['accuracy'], label='Train')\n",
    "axes[0].set_xlabel('Epoch')\n",
    "axes[0].set_ylabel('Accuracy')\n",
    "axes[0].legend()\n",
    "\n",
    "# then, loss\n",
    "axes[1].plot(range(len(overall_val['loss'])), overall_val['loss'], label='Validation')\n",
    "axes[1].plot(range(len(overall_train['loss'])), overall_train['loss'], label='Train')\n",
    "axes[1].set_xlabel('Epoch')\n",
    "axes[1].set_ylabel('Loss')\n",
    "axes[1].legend()\n",
    "\n",
    "# Finally, perplexity\n",
    "val_perplexity = [perplexity(x) for x in overall_val['loss']]\n",
    "train_perplexity = [perplexity(x) for x in overall_train['loss']]\n",
    "axes[2].plot(range(len(val_perplexity)), val_perplexity, label='Validation')\n",
    "axes[2].plot(range(len(train_perplexity)), train_perplexity, label='Train')\n",
    "axes[2].set_xlabel('Epoch')\n",
    "axes[2].set_ylabel('Perplexity')\n",
    "axes[2].legend()"
   ]
  }
 ],
 "metadata": {
  "kernelspec": {
   "display_name": "Environment (conda_fastai)",
   "language": "python",
   "name": "conda_fastai"
  },
  "language_info": {
   "codemirror_mode": {
    "name": "ipython",
    "version": 3
   },
   "file_extension": ".py",
   "mimetype": "text/x-python",
   "name": "python",
   "nbconvert_exporter": "python",
   "pygments_lexer": "ipython3",
   "version": "3.6.6"
  }
 },
 "nbformat": 4,
 "nbformat_minor": 2
}
