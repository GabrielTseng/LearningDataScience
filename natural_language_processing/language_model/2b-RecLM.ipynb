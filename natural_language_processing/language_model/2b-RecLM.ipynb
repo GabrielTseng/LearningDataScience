{
 "cells": [
  {
   "cell_type": "markdown",
   "metadata": {},
   "source": [
    "# RecLM\n",
    "\n",
    "A recurrent language model is trained, with the following features:\n",
    "\n",
    "1. WeightDrop on the RNN layers\n",
    "2. Variational dropout on the embedding layer\n",
    "3. Weight tie in between the embedding layer, and final linear layer which outputs a one-hot encoding\n",
    "4. Variable back propagation through time\n",
    "5. Independent embedding sizes and hidden sizes\n",
    "6. Activation Regularization and Temporal Activation Regularization\n",
    "7. Variational dropout on all other layers\n",
    "\n",
    "This is effectively the language model described in [this paper](https://arxiv.org/abs/1708.02182)"
   ]
  },
  {
   "cell_type": "code",
   "execution_count": 21,
   "metadata": {},
   "outputs": [],
   "source": [
    "# % load_ext autoreload\n",
    "# % autoreload 2\n",
    "% matplotlib inline"
   ]
  },
  {
   "cell_type": "code",
   "execution_count": 22,
   "metadata": {},
   "outputs": [],
   "source": [
    "from pathlib import Path\n",
    "import pickle\n",
    "import numpy as np\n",
    "from tqdm import tqdm\n",
    "from collections import defaultdict\n",
    "import matplotlib.pyplot as plt\n",
    "\n",
    "import torch\n",
    "from torch import nn"
   ]
  },
  {
   "cell_type": "code",
   "execution_count": 3,
   "metadata": {},
   "outputs": [],
   "source": [
    "from lm.data import LMDataLoader\n",
    "from lm.models import RecLM, ARTAR, accuracy\n",
    "from lm.schedulers import OneCycle"
   ]
  },
  {
   "cell_type": "code",
   "execution_count": 4,
   "metadata": {},
   "outputs": [],
   "source": [
    "device = torch.device(\"cuda:0\")\n",
    "# device = torch.device('cpu')"
   ]
  },
  {
   "cell_type": "markdown",
   "metadata": {},
   "source": [
    "Loading the data, making dataloaders"
   ]
  },
  {
   "cell_type": "code",
   "execution_count": 5,
   "metadata": {},
   "outputs": [],
   "source": [
    "dict_path = Path('word2int.pickle')\n",
    "with dict_path.open('rb') as file:\n",
    "    d = pickle.load(file)"
   ]
  },
  {
   "cell_type": "code",
   "execution_count": 6,
   "metadata": {},
   "outputs": [],
   "source": [
    "xtrain = np.load('wikitext_train_int_tokens.npy')\n",
    "xval = np.load('wikitext_valtest_int_tokens.npy')"
   ]
  },
  {
   "cell_type": "code",
   "execution_count": 7,
   "metadata": {},
   "outputs": [],
   "source": [
    "xtrain_tensor = torch.from_numpy(xtrain).long()\n",
    "xval_tensor = torch.from_numpy(xval).long()\n",
    "\n",
    "if device.type == 'cuda':\n",
    "    xtrain_tensor = xtrain_tensor.cuda()\n",
    "    xval_tensor = xval_tensor.cuda()"
   ]
  },
  {
   "cell_type": "code",
   "execution_count": 8,
   "metadata": {},
   "outputs": [],
   "source": [
    "train_dataloader = LMDataLoader(xtrain_tensor, 70, 64)\n",
    "val_dataloader = LMDataLoader(xval_tensor, 70, 64)"
   ]
  },
  {
   "cell_type": "code",
   "execution_count": 9,
   "metadata": {},
   "outputs": [],
   "source": [
    "vocab_size = len(d)\n",
    "padding_idx = d['_pad_']"
   ]
  },
  {
   "cell_type": "code",
   "execution_count": 10,
   "metadata": {},
   "outputs": [],
   "source": [
    "model = RecLM(vocab_size=vocab_size, padding_idx=padding_idx).cuda()"
   ]
  },
  {
   "cell_type": "code",
   "execution_count": 11,
   "metadata": {},
   "outputs": [
    {
     "data": {
      "text/plain": [
       "RecLM(\n",
       "  (embedding): VDEmbedding(\n",
       "    (embedding): Embedding(30002, 400, padding_idx=0)\n",
       "  )\n",
       "  (wdrnn_0): WDLSTM(\n",
       "    (lstm): LSTM(400, 1150)\n",
       "  )\n",
       "  (wdrnn_1): WDLSTM(\n",
       "    (lstm): LSTM(1150, 1150)\n",
       "  )\n",
       "  (wdrnn_2): WDLSTM(\n",
       "    (lstm): LSTM(1150, 400)\n",
       "  )\n",
       "  (decoder): Linear(in_features=400, out_features=30002, bias=True)\n",
       "  (emb_drop): VariationalDropout()\n",
       "  (final_rnn_drop): VariationalDropout()\n",
       ")"
      ]
     },
     "execution_count": 11,
     "metadata": {},
     "output_type": "execute_result"
    }
   ],
   "source": [
    "model"
   ]
  },
  {
   "cell_type": "markdown",
   "metadata": {},
   "source": [
    "Finally, define our losses"
   ]
  },
  {
   "cell_type": "code",
   "execution_count": 12,
   "metadata": {},
   "outputs": [],
   "source": [
    "crit = nn.CrossEntropyLoss()\n",
    "regularizing_loss = ARTAR()"
   ]
  },
  {
   "cell_type": "markdown",
   "metadata": {},
   "source": [
    "Now, a first round of training, to make sure everything actually works."
   ]
  },
  {
   "cell_type": "code",
   "execution_count": 13,
   "metadata": {},
   "outputs": [],
   "source": [
    "optimizer = torch.optim.Adam(model.parameters())"
   ]
  },
  {
   "cell_type": "markdown",
   "metadata": {},
   "source": [
    "I kept getting out of memory errors when finding the min and max learning rates (presumably from removing `flatten_parameters`), but I was able to figure out a `max_lr` of `0.03`"
   ]
  },
  {
   "cell_type": "code",
   "execution_count": 15,
   "metadata": {},
   "outputs": [],
   "source": [
    "scheduler = OneCycle(optimizer, len(train_dataloader), upswing=2, downswing=18, min_lr=1e-5,\n",
    "                     max_lr=0.03)"
   ]
  },
  {
   "cell_type": "code",
   "execution_count": 16,
   "metadata": {},
   "outputs": [],
   "source": [
    "num_epochs = scheduler.num_epochs()"
   ]
  },
  {
   "cell_type": "code",
   "execution_count": 17,
   "metadata": {},
   "outputs": [],
   "source": [
    "hidden = [None, None, None]"
   ]
  },
  {
   "cell_type": "code",
   "execution_count": 18,
   "metadata": {
    "scrolled": false
   },
   "outputs": [
    {
     "name": "stderr",
     "output_type": "stream",
     "text": [
      "  0%|          | 0/514 [00:00<?, ?it/s]/home/ubuntu/workdir/language_model/lm/models/awd_lstm.py:63: UserWarning: RNN module weights are not part of single contiguous chunk of memory. This means they need to be compacted at every call, possibly greatly increasing memory usage. To compact weights again call flatten_parameters().\n",
      "  output, (hn, cn) = self.lstm(x, h0)\n",
      " 92%|█████████▏| 473/514 [03:48<00:19,  2.07it/s]\n",
      "  0%|          | 0/514 [00:00<?, ?it/s]"
     ]
    },
    {
     "name": "stdout",
     "output_type": "stream",
     "text": [
      "TRAINING: loss: 9.39743, reg: 3.53294, accuracy: 0.04096\n",
      "VALIDATION: loss: 7.917140007019043, accuracy: 0.04793\n"
     ]
    },
    {
     "name": "stderr",
     "output_type": "stream",
     "text": [
      " 92%|█████████▏| 473/514 [03:50<00:19,  2.05it/s]\n",
      "  0%|          | 0/514 [00:00<?, ?it/s]"
     ]
    },
    {
     "name": "stdout",
     "output_type": "stream",
     "text": [
      "TRAINING: loss: 7.30337, reg: 0.00034, accuracy: 0.05906\n",
      "VALIDATION: loss: 6.9092302322387695, accuracy: 0.06042\n"
     ]
    },
    {
     "name": "stderr",
     "output_type": "stream",
     "text": [
      " 92%|█████████▏| 473/514 [03:48<00:19,  2.07it/s]\n",
      "  0%|          | 0/514 [00:00<?, ?it/s]"
     ]
    },
    {
     "name": "stdout",
     "output_type": "stream",
     "text": [
      "TRAINING: loss: 7.11521, reg: 3e-05, accuracy: 0.0624\n",
      "VALIDATION: loss: 6.797530174255371, accuracy: 0.06979\n"
     ]
    },
    {
     "name": "stderr",
     "output_type": "stream",
     "text": [
      " 92%|█████████▏| 473/514 [03:50<00:19,  2.05it/s]\n",
      "  0%|          | 0/514 [00:00<?, ?it/s]"
     ]
    },
    {
     "name": "stdout",
     "output_type": "stream",
     "text": [
      "TRAINING: loss: 7.12331, reg: 0.00033, accuracy: 0.06101\n",
      "VALIDATION: loss: 6.944940090179443, accuracy: 0.06324\n"
     ]
    },
    {
     "name": "stderr",
     "output_type": "stream",
     "text": [
      " 92%|█████████▏| 474/514 [03:49<00:19,  2.07it/s]\n",
      "  0%|          | 0/514 [00:00<?, ?it/s]"
     ]
    },
    {
     "name": "stdout",
     "output_type": "stream",
     "text": [
      "TRAINING: loss: 7.11028, reg: 0.00325, accuracy: 0.06379\n",
      "VALIDATION: loss: 6.906489849090576, accuracy: 0.0628\n"
     ]
    },
    {
     "name": "stderr",
     "output_type": "stream",
     "text": [
      " 92%|█████████▏| 472/514 [03:49<00:20,  2.06it/s]\n",
      "  0%|          | 0/514 [00:00<?, ?it/s]"
     ]
    },
    {
     "name": "stdout",
     "output_type": "stream",
     "text": [
      "TRAINING: loss: 7.13713, reg: 2e-05, accuracy: 0.06134\n",
      "VALIDATION: loss: 6.9008002281188965, accuracy: 0.06611\n"
     ]
    },
    {
     "name": "stderr",
     "output_type": "stream",
     "text": [
      " 92%|█████████▏| 474/514 [03:49<00:19,  2.07it/s]\n",
      "  0%|          | 0/514 [00:00<?, ?it/s]"
     ]
    },
    {
     "name": "stdout",
     "output_type": "stream",
     "text": [
      "TRAINING: loss: 7.07108, reg: 2e-05, accuracy: 0.06428\n",
      "VALIDATION: loss: 6.918019771575928, accuracy: 0.06353\n"
     ]
    },
    {
     "name": "stderr",
     "output_type": "stream",
     "text": [
      " 93%|█████████▎| 476/514 [03:49<00:18,  2.08it/s]\n",
      "  0%|          | 0/514 [00:00<?, ?it/s]"
     ]
    },
    {
     "name": "stdout",
     "output_type": "stream",
     "text": [
      "TRAINING: loss: 7.09352, reg: 0.00023, accuracy: 0.06204\n",
      "VALIDATION: loss: 6.860879898071289, accuracy: 0.06936\n"
     ]
    },
    {
     "name": "stderr",
     "output_type": "stream",
     "text": [
      " 92%|█████████▏| 474/514 [03:48<00:19,  2.07it/s]\n",
      "  0%|          | 0/514 [00:00<?, ?it/s]"
     ]
    },
    {
     "name": "stdout",
     "output_type": "stream",
     "text": [
      "TRAINING: loss: 7.06866, reg: 3e-05, accuracy: 0.06075\n",
      "VALIDATION: loss: 6.910319805145264, accuracy: 0.06383\n"
     ]
    },
    {
     "name": "stderr",
     "output_type": "stream",
     "text": [
      " 92%|█████████▏| 471/514 [03:50<00:21,  2.05it/s]\n",
      "  0%|          | 0/514 [00:00<?, ?it/s]"
     ]
    },
    {
     "name": "stdout",
     "output_type": "stream",
     "text": [
      "TRAINING: loss: 7.07027, reg: 7e-05, accuracy: 0.0631\n",
      "VALIDATION: loss: 6.895810127258301, accuracy: 0.06863\n"
     ]
    },
    {
     "name": "stderr",
     "output_type": "stream",
     "text": [
      " 92%|█████████▏| 473/514 [03:49<00:19,  2.06it/s]\n",
      "  0%|          | 0/514 [00:00<?, ?it/s]"
     ]
    },
    {
     "name": "stdout",
     "output_type": "stream",
     "text": [
      "TRAINING: loss: 7.05918, reg: 0.00021, accuracy: 0.06082\n",
      "VALIDATION: loss: 6.899219989776611, accuracy: 0.06515\n"
     ]
    },
    {
     "name": "stderr",
     "output_type": "stream",
     "text": [
      " 91%|█████████ | 469/514 [03:48<00:21,  2.05it/s]\n",
      "  0%|          | 0/514 [00:00<?, ?it/s]"
     ]
    },
    {
     "name": "stdout",
     "output_type": "stream",
     "text": [
      "TRAINING: loss: 7.03911, reg: 3e-05, accuracy: 0.0639\n",
      "VALIDATION: loss: 6.859930038452148, accuracy: 0.0612\n"
     ]
    },
    {
     "name": "stderr",
     "output_type": "stream",
     "text": [
      " 91%|█████████ | 469/514 [03:48<00:21,  2.05it/s]\n",
      "  0%|          | 0/514 [00:00<?, ?it/s]"
     ]
    },
    {
     "name": "stdout",
     "output_type": "stream",
     "text": [
      "TRAINING: loss: 7.08462, reg: 0.0001, accuracy: 0.0625\n",
      "VALIDATION: loss: 6.823339939117432, accuracy: 0.06412\n"
     ]
    },
    {
     "name": "stderr",
     "output_type": "stream",
     "text": [
      " 92%|█████████▏| 473/514 [03:49<00:19,  2.06it/s]\n",
      "  0%|          | 0/514 [00:00<?, ?it/s]"
     ]
    },
    {
     "name": "stdout",
     "output_type": "stream",
     "text": [
      "TRAINING: loss: 7.08604, reg: 0.00182, accuracy: 0.06075\n",
      "VALIDATION: loss: 6.850170135498047, accuracy: 0.06935\n"
     ]
    },
    {
     "name": "stderr",
     "output_type": "stream",
     "text": [
      " 93%|█████████▎| 476/514 [03:50<00:18,  2.06it/s]\n",
      "  0%|          | 0/514 [00:00<?, ?it/s]"
     ]
    },
    {
     "name": "stdout",
     "output_type": "stream",
     "text": [
      "TRAINING: loss: 7.07977, reg: 0.0, accuracy: 0.05912\n",
      "VALIDATION: loss: 6.83882999420166, accuracy: 0.07017\n"
     ]
    },
    {
     "name": "stderr",
     "output_type": "stream",
     "text": [
      " 92%|█████████▏| 474/514 [03:47<00:19,  2.08it/s]\n",
      "  0%|          | 0/514 [00:00<?, ?it/s]"
     ]
    },
    {
     "name": "stdout",
     "output_type": "stream",
     "text": [
      "TRAINING: loss: 7.01917, reg: 1e-05, accuracy: 0.06197\n",
      "VALIDATION: loss: 6.83096981048584, accuracy: 0.06707\n"
     ]
    },
    {
     "name": "stderr",
     "output_type": "stream",
     "text": [
      " 92%|█████████▏| 475/514 [03:48<00:18,  2.08it/s]\n",
      "  0%|          | 0/514 [00:00<?, ?it/s]"
     ]
    },
    {
     "name": "stdout",
     "output_type": "stream",
     "text": [
      "TRAINING: loss: 7.06655, reg: 0.0, accuracy: 0.06099\n",
      "VALIDATION: loss: 6.837140083312988, accuracy: 0.07068\n"
     ]
    },
    {
     "name": "stderr",
     "output_type": "stream",
     "text": [
      " 92%|█████████▏| 473/514 [03:47<00:19,  2.08it/s]\n",
      "  0%|          | 0/514 [00:00<?, ?it/s]"
     ]
    },
    {
     "name": "stdout",
     "output_type": "stream",
     "text": [
      "TRAINING: loss: 7.04966, reg: 1e-05, accuracy: 0.06233\n",
      "VALIDATION: loss: 6.852980136871338, accuracy: 0.06518\n"
     ]
    },
    {
     "name": "stderr",
     "output_type": "stream",
     "text": [
      " 92%|█████████▏| 471/514 [03:49<00:20,  2.06it/s]\n",
      "  0%|          | 0/514 [00:00<?, ?it/s]"
     ]
    },
    {
     "name": "stdout",
     "output_type": "stream",
     "text": [
      "TRAINING: loss: 7.06386, reg: 4e-05, accuracy: 0.06316\n",
      "VALIDATION: loss: 6.84876012802124, accuracy: 0.06663\n"
     ]
    },
    {
     "name": "stderr",
     "output_type": "stream",
     "text": [
      " 92%|█████████▏| 472/514 [03:47<00:20,  2.07it/s]\n"
     ]
    },
    {
     "name": "stdout",
     "output_type": "stream",
     "text": [
      "TRAINING: loss: 7.05933, reg: 0.0, accuracy: 0.062\n",
      "VALIDATION: loss: 6.850649833679199, accuracy: 0.06801\n"
     ]
    }
   ],
   "source": [
    "overall_train = defaultdict(list)\n",
    "overall_val = defaultdict(list)\n",
    "\n",
    "for epoch in range(num_epochs):\n",
    "    # set the model to train\n",
    "    model.train()\n",
    "    # keep track of training scores, so they can be displayed later\n",
    "    train_scores = defaultdict(list)\n",
    "    \n",
    "    for batch_number, batch in (enumerate(tqdm(train_dataloader))):\n",
    "        # Zero the gradients of my optimizer - 'reset' it\n",
    "        optimizer.zero_grad()\n",
    "        \n",
    "        x, y = batch\n",
    "        pred, hidden, finals = model(x, hidden)\n",
    "        \n",
    "        loss = crit(pred, y)\n",
    "        acc = accuracy(pred, y)\n",
    "        reg = regularizing_loss(finals)\n",
    "        \n",
    "        train_scores['loss'].append(loss.item())\n",
    "        train_scores['reg'].append(reg.item())\n",
    "        train_scores['accuracy'].append(acc)\n",
    "        \n",
    "        total_loss = loss + reg\n",
    "        total_loss.backward()\n",
    "        optimizer.step()\n",
    "        scheduler.step()\n",
    "        \n",
    "    train_output_strings = []\n",
    "    for key, val in train_scores.items():\n",
    "        mean_value = np.array(val).mean()\n",
    "        train_output_strings.append('{}: {}'.format(key, round(mean_value, 5)))\n",
    "        overall_train[key].append(mean_value)\n",
    "        \n",
    "    if val_dataloader:\n",
    "        model.eval()\n",
    "        val_scores = defaultdict(list)\n",
    "        with torch.no_grad():\n",
    "            for batch_number, batch in enumerate(val_dataloader):\n",
    "                x, y = batch\n",
    "                pred = model(x, hidden)\n",
    "                val_loss = crit(pred, y)\n",
    "                acc = accuracy(pred, y)\n",
    "                \n",
    "                val_scores['loss'].append(val_loss)\n",
    "                val_scores['accuracy'].append(acc)\n",
    "                \n",
    "        val_output_strings = []\n",
    "        for key, val in val_scores.items():\n",
    "            mean_value = np.array(val).mean()\n",
    "            val_output_strings.append('{}: {}'.format(key, round(mean_value, 5)))\n",
    "            overall_val[key].append(mean_value)\n",
    "        print('TRAINING: {}, {}, {}'.format(*train_output_strings))\n",
    "        print('VALIDATION: {}, {}'.format(*val_output_strings))"
   ]
  },
  {
   "cell_type": "code",
   "execution_count": 19,
   "metadata": {},
   "outputs": [],
   "source": [
    "model_information = {'state_dict': model.state_dict()}\n",
    "torch.save(model_information, 'RecLM_01.pth.tar')"
   ]
  },
  {
   "cell_type": "code",
   "execution_count": 23,
   "metadata": {},
   "outputs": [
    {
     "data": {
      "text/plain": [
       "<matplotlib.legend.Legend at 0x7fb6646d0898>"
      ]
     },
     "execution_count": 23,
     "metadata": {},
     "output_type": "execute_result"
    },
    {
     "data": {
      "image/png": "[encoded data removed]",
      "text/plain": [
       "<Figure size 864x360 with 2 Axes>"
      ]
     },
     "metadata": {},
     "output_type": "display_data"
    }
   ],
   "source": [
    "fig, axes = plt.subplots(1, 2, figsize=(12,5))\n",
    "\n",
    "# First, lets plot accuracy\n",
    "axes[0].plot(range(len(overall_val['accuracy'])), overall_val['accuracy'], label='Validation')\n",
    "axes[0].plot(range(len(overall_train['accuracy'])), overall_train['accuracy'], label='Train')\n",
    "axes[0].set_xlabel('Epoch')\n",
    "axes[0].set_ylabel('Accuracy')\n",
    "axes[0].legend()\n",
    "\n",
    "# then, loss\n",
    "axes[1].plot(range(len(overall_val['loss'])), overall_val['loss'], label='Validation')\n",
    "axes[1].plot(range(len(overall_train['loss'])), overall_train['loss'], label='Train')\n",
    "axes[1].set_xlabel('Epoch')\n",
    "axes[1].set_ylabel('Loss')\n",
    "axes[1].legend()"
   ]
  }
 ],
 "metadata": {
  "kernelspec": {
   "display_name": "Environment (conda_fastai)",
   "language": "python",
   "name": "conda_fastai"
  },
  "language_info": {
   "codemirror_mode": {
    "name": "ipython",
    "version": 3
   },
   "file_extension": ".py",
   "mimetype": "text/x-python",
   "name": "python",
   "nbconvert_exporter": "python",
   "pygments_lexer": "ipython3",
   "version": "3.6.6"
  }
 },
 "nbformat": 4,
 "nbformat_minor": 2
}
