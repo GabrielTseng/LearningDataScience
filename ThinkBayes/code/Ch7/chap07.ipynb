{
 "cells": [
  {
   "cell_type": "markdown",
   "metadata": {},
   "source": [
    "# Think Bayes: Chapter 7\n",
    "\n",
    "This notebook presents code and exercises from Think Bayes, second edition.\n",
    "\n",
    "Copyright 2016 Allen B. Downey\n",
    "\n",
    "MIT License: https://opensource.org/licenses/MIT"
   ]
  },
  {
   "cell_type": "code",
   "execution_count": 1,
   "metadata": {
    "collapsed": true
   },
   "outputs": [],
   "source": [
    "from __future__ import print_function, division\n",
    "\n",
    "% matplotlib inline\n",
    "import warnings\n",
    "warnings.filterwarnings('ignore')\n",
    "\n",
    "import math\n",
    "import numpy as np\n",
    "\n",
    "import os, sys\n",
    "\n",
    "sys.path.insert(1, os.path.join(sys.path[0], '..'))\n",
    "from thinkbayes2 import Pmf, Cdf, Suite, Joint\n",
    "import thinkplot"
   ]
  },
  {
   "cell_type": "markdown",
   "metadata": {},
   "source": [
    "## Warm-up exercises"
   ]
  },
  {
   "cell_type": "markdown",
   "metadata": {},
   "source": [
    "**Exercise:** Suppose that goal scoring in hockey is well modeled by a \n",
    "Poisson process, and that the long-run goal-scoring rate of the\n",
    "Boston Bruins against the Vancouver Canucks is 2.9 goals per game.\n",
    "In their next game, what is the probability\n",
    "that the Bruins score exactly 3 goals?  Plot the PMF of `k`, the number\n",
    "of goals they score in a game."
   ]
  },
  {
   "cell_type": "markdown",
   "metadata": {},
   "source": [
    "**Solution**\n",
    "\n",
    "Since $\\lambda$ is well defined here as 2.9, we can simply model this as a Poisson Pmf."
   ]
  },
  {
   "cell_type": "code",
   "execution_count": 2,
   "metadata": {
    "collapsed": true
   },
   "outputs": [],
   "source": [
    "from thinkbayes2 import MakePoissonPmf"
   ]
  },
  {
   "cell_type": "code",
   "execution_count": 3,
   "metadata": {
    "collapsed": true
   },
   "outputs": [],
   "source": [
    "bruins = MakePoissonPmf(lam=2.9, high=10)"
   ]
  },
  {
   "cell_type": "code",
   "execution_count": 4,
   "metadata": {},
   "outputs": [
    {
     "data": {
      "image/png": "[encoded data removed]",
      "text/plain": [
       "<matplotlib.figure.Figure at 0x104b84390>"
      ]
     },
     "metadata": {},
     "output_type": "display_data"
    }
   ],
   "source": [
    "thinkplot.Pmf(bruins)\n",
    "thinkplot.Config(xlabel='Goals per game',\n",
    "                ylabel='Probability')"
   ]
  },
  {
   "cell_type": "markdown",
   "metadata": {},
   "source": [
    "Calculating the probability of 3 goals,"
   ]
  },
  {
   "cell_type": "code",
   "execution_count": 5,
   "metadata": {},
   "outputs": [
    {
     "data": {
      "text/plain": [
       "0.22370948147445013"
      ]
     },
     "execution_count": 5,
     "metadata": {},
     "output_type": "execute_result"
    }
   ],
   "source": [
    "bruins.Prob(3)"
   ]
  },
  {
   "cell_type": "markdown",
   "metadata": {},
   "source": [
    "**Exercise:**  Assuming again that the goal scoring rate is 2.9, what is the probability of scoring a total of 9 goals in three games?  Answer this question two ways:\n",
    "\n",
    "1.  Compute the distribution of goals scored in one game and then add it to itself twice to find the distribution of goals scored in 3 games.\n",
    "\n",
    "2.  Use the Poisson PMF with parameter $\\lambda t$, where $\\lambda$ is the rate in goals per game and $t$ is the duration in games."
   ]
  },
  {
   "cell_type": "markdown",
   "metadata": {},
   "source": [
    "** Solution 1: Adding distributions** "
   ]
  },
  {
   "cell_type": "code",
   "execution_count": 6,
   "metadata": {
    "collapsed": true
   },
   "outputs": [],
   "source": [
    "bruins = MakePoissonPmf(lam=2.9, high=10)"
   ]
  },
  {
   "cell_type": "code",
   "execution_count": 7,
   "metadata": {
    "collapsed": true
   },
   "outputs": [],
   "source": [
    "bruins_in_3_games = bruins + bruins + bruins"
   ]
  },
  {
   "cell_type": "code",
   "execution_count": 8,
   "metadata": {},
   "outputs": [
    {
     "data": {
      "image/png": "[encoded data removed]",
      "text/plain": [
       "<matplotlib.figure.Figure at 0x1a0f14ab10>"
      ]
     },
     "metadata": {},
     "output_type": "display_data"
    }
   ],
   "source": [
    "thinkplot.Pmf(bruins_in_3_games)\n",
    "thinkplot.Config(xlabel='Goals in 3 games',\n",
    "                ylabel='Probability')"
   ]
  },
  {
   "cell_type": "code",
   "execution_count": 9,
   "metadata": {},
   "outputs": [
    {
     "data": {
      "text/plain": [
       "0.13117020107678168"
      ]
     },
     "execution_count": 9,
     "metadata": {},
     "output_type": "execute_result"
    }
   ],
   "source": [
    "bruins_in_3_games.Prob(9)"
   ]
  },
  {
   "cell_type": "markdown",
   "metadata": {},
   "source": [
    "** Solution 2 **\n",
    "\n",
    "So now, I want a single distribution which represents the number of goals in 3 games.\n",
    "\n",
    "If the Bruins score 2.9 goals per game, then they should on average score $3 \\times 2.9$ goals in 3 games."
   ]
  },
  {
   "cell_type": "code",
   "execution_count": 10,
   "metadata": {
    "collapsed": true
   },
   "outputs": [],
   "source": [
    "bruins_in_3_games = MakePoissonPmf(lam=3*2.9, high=30)"
   ]
  },
  {
   "cell_type": "code",
   "execution_count": 11,
   "metadata": {},
   "outputs": [
    {
     "data": {
      "image/png": "[encoded data removed]",
      "text/plain": [
       "<matplotlib.figure.Figure at 0x1a12529750>"
      ]
     },
     "metadata": {},
     "output_type": "display_data"
    }
   ],
   "source": [
    "thinkplot.Pmf(bruins_in_3_games)\n",
    "thinkplot.Config(xlabel='Goals in 3 games',\n",
    "                ylabel='Probability')"
   ]
  },
  {
   "cell_type": "code",
   "execution_count": 12,
   "metadata": {},
   "outputs": [
    {
     "data": {
      "text/plain": [
       "0.13108356669746379"
      ]
     },
     "execution_count": 12,
     "metadata": {},
     "output_type": "execute_result"
    }
   ],
   "source": [
    "bruins_in_3_games.Prob(9)"
   ]
  },
  {
   "cell_type": "markdown",
   "metadata": {},
   "source": [
    "Yielding a similar (but not identical) solution. I would go with the first solution, as the average $\\lambda$ is calculated on a per game basis, and may not translate to 3 games so simply."
   ]
  },
  {
   "cell_type": "markdown",
   "metadata": {
    "collapsed": true
   },
   "source": [
    "**Exercise:** Suppose that the long-run goal-scoring rate of the\n",
    "Canucks against the Bruins is 2.6 goals per game.  Plot the distribution\n",
    "of `t`, the time until the Canucks score their first goal.\n",
    "In their next game, what is the probability that the Canucks score\n",
    "during the first period (that is, the first third of the game)?\n",
    "\n",
    "Hint: `thinkbayes2` provides `MakeExponentialPmf` and `EvalExponentialCdf`."
   ]
  },
  {
   "cell_type": "markdown",
   "metadata": {},
   "source": [
    "**Solution **\n",
    "\n",
    "Once again, $\\lambda$ is a single value (2.6 now, instead of 2.9)."
   ]
  },
  {
   "cell_type": "code",
   "execution_count": 13,
   "metadata": {
    "collapsed": true
   },
   "outputs": [],
   "source": [
    "from thinkbayes2 import MakeExponentialPmf, EvalExponentialCdf"
   ]
  },
  {
   "cell_type": "code",
   "execution_count": 14,
   "metadata": {
    "collapsed": true
   },
   "outputs": [],
   "source": [
    "canucks = MakeExponentialPmf(lam=2.6, high=3)"
   ]
  },
  {
   "cell_type": "code",
   "execution_count": 15,
   "metadata": {},
   "outputs": [
    {
     "data": {
      "image/png": "[encoded data removed]",
      "text/plain": [
       "<matplotlib.figure.Figure at 0x1a12577590>"
      ]
     },
     "metadata": {},
     "output_type": "display_data"
    }
   ],
   "source": [
    "thinkplot.Pmf(canucks)\n",
    "thinkplot.Config(xlabel='Time to score a goal (in games)',\n",
    "                ylabel='Probability')"
   ]
  },
  {
   "cell_type": "markdown",
   "metadata": {},
   "source": [
    "And to find the chance that they will score in the first third of the game"
   ]
  },
  {
   "cell_type": "code",
   "execution_count": 16,
   "metadata": {},
   "outputs": [
    {
     "data": {
      "text/plain": [
       "0.5415939886947765"
      ]
     },
     "execution_count": 16,
     "metadata": {},
     "output_type": "execute_result"
    }
   ],
   "source": [
    "EvalExponentialCdf(lam=2.6, x=0.3)"
   ]
  },
  {
   "cell_type": "markdown",
   "metadata": {
    "collapsed": true
   },
   "source": [
    "**Exercise:** Assuming again that the goal scoring rate is 2.8, what is the probability that the Canucks get shut out (that is, don't score for an entire game)?  Answer this question two ways, using the CDF of the exponential distribution and the PMF of the Poisson distribution."
   ]
  },
  {
   "cell_type": "markdown",
   "metadata": {},
   "source": [
    "** Solution 1, using the CDF**"
   ]
  },
  {
   "cell_type": "code",
   "execution_count": 17,
   "metadata": {},
   "outputs": [
    {
     "data": {
      "text/plain": [
       "0.07427357821433389"
      ]
     },
     "execution_count": 17,
     "metadata": {},
     "output_type": "execute_result"
    }
   ],
   "source": [
    "1 - EvalExponentialCdf(lam=2.6, x=1)"
   ]
  },
  {
   "cell_type": "markdown",
   "metadata": {},
   "source": [
    "** Solution 2, using the PMF of the Poisson distribution **"
   ]
  },
  {
   "cell_type": "code",
   "execution_count": 18,
   "metadata": {
    "collapsed": true
   },
   "outputs": [],
   "source": [
    "canucks = MakePoissonPmf(lam=2.6, high=10)"
   ]
  },
  {
   "cell_type": "code",
   "execution_count": 19,
   "metadata": {},
   "outputs": [
    {
     "data": {
      "text/plain": [
       "0.074280019341808556"
      ]
     },
     "execution_count": 19,
     "metadata": {},
     "output_type": "execute_result"
    }
   ],
   "source": [
    "canucks.Prob(0)"
   ]
  },
  {
   "cell_type": "markdown",
   "metadata": {},
   "source": [
    "**Exercise:** In the 2014 FIFA World Cup, Germany played Brazil in a semifinal match. Germany scored after 11 minutes and again at the 23 minute mark. At that point in the match, how many goals would you expect Germany to score after 90 minutes? What was the probability that they would score 5 more goals (as, in fact, they did)?\n",
    "\n",
    "Note: for this one you will need a new suite that provides a Likelihood function that takes as data the time between goals, rather than the number of goals in a game. "
   ]
  },
  {
   "cell_type": "markdown",
   "metadata": {},
   "source": [
    "**Solution**\n",
    "\n",
    "As with the hockey problem in the book, I need to start by modelling what I believe the $\\lambda$ constant will be for this game, since the exponential distribution will depend on this.\n",
    "\n",
    "`TODO: find lambda from world cup data`\n",
    "\n",
    "For now, from [this statistics website](https://www.statista.com/statistics/269031/goals-scored-per-game-at-the-fifa-world-cup-since-1930/), I get a $\\lambda$ of 2.7; since this is similar to the stats for hockey, lets assume a standard deviation of 0.3 as well."
   ]
  },
  {
   "cell_type": "code",
   "execution_count": 20,
   "metadata": {
    "collapsed": true
   },
   "outputs": [],
   "source": [
    "import scipy\n",
    "from thinkbayes2 import EvalExponentialPdf"
   ]
  },
  {
   "cell_type": "code",
   "execution_count": 21,
   "metadata": {
    "collapsed": true
   },
   "outputs": [],
   "source": [
    "def MakeGaussianPmf(mu, sigma, num_sigmas, n=101):\n",
    "    pmf = Pmf()\n",
    "    low = mu - num_sigmas*sigma\n",
    "    high = mu + num_sigmas*sigma\n",
    "    for x in np.linspace(low, high, n):\n",
    "        p = scipy.stats.norm.pdf(x, mu, sigma)\n",
    "        pmf.Set(x, p)\n",
    "    pmf.Normalize()\n",
    "    return pmf"
   ]
  },
  {
   "cell_type": "code",
   "execution_count": 22,
   "metadata": {
    "collapsed": true
   },
   "outputs": [],
   "source": [
    "class football_lam(Suite):\n",
    "    \n",
    "    def __init__(self):\n",
    "        pmf = MakeGaussianPmf(2.7, 0.3, 4)\n",
    "        Suite.__init__(self, pmf)\n",
    "        \n",
    "    def Likelihood(self, data, hypo):\n",
    "        lam = hypo\n",
    "        # turn k into a fraction of a match\n",
    "        k = data / 90\n",
    "        like = EvalExponentialPdf(x=k, lam=lam)\n",
    "        return like"
   ]
  },
  {
   "cell_type": "code",
   "execution_count": 23,
   "metadata": {
    "scrolled": false
   },
   "outputs": [
    {
     "data": {
      "text/plain": [
       "3.6503175904404794"
      ]
     },
     "execution_count": 23,
     "metadata": {},
     "output_type": "execute_result"
    }
   ],
   "source": [
    "germany_lam = football_lam()\n",
    "germany_lam.UpdateSet([11, 12])"
   ]
  },
  {
   "cell_type": "code",
   "execution_count": 24,
   "metadata": {},
   "outputs": [
    {
     "data": {
      "image/png": "[encoded data removed]",
      "text/plain": [
       "<matplotlib.figure.Figure at 0x1a12799d50>"
      ]
     },
     "metadata": {},
     "output_type": "display_data"
    }
   ],
   "source": [
    "thinkplot.Pmf(germany_lam, label='Posterior')\n",
    "thinkplot.Pmf(MakeGaussianPmf(2.7, 0.3, 4), label='Prior')\n",
    "thinkplot.Config(xlabel='Values of $\\lambda$', ylabel='Probability')"
   ]
  },
  {
   "cell_type": "markdown",
   "metadata": {},
   "source": [
    "Now that we have a distribution for $\\lambda$, we can use it to predict the probability that they will score 5 more goals in the rest of the game."
   ]
  },
  {
   "cell_type": "code",
   "execution_count": 25,
   "metadata": {
    "collapsed": true
   },
   "outputs": [],
   "source": [
    "from thinkbayes2 import MakeMixture"
   ]
  },
  {
   "cell_type": "markdown",
   "metadata": {},
   "source": [
    "However, there is a snag; there is only part of the game left. Specifically, there are $90 - 23 = 66$ minutes remaining in the game. As I did in the warmup exercise, I can adjust the $\\lambda$ value accordingly to reflect the fact that I am only considering $\\frac{66}{90} = 0.73$ of the game."
   ]
  },
  {
   "cell_type": "code",
   "execution_count": 26,
   "metadata": {
    "collapsed": true
   },
   "outputs": [],
   "source": [
    "def make_weighted_poisson_distributions(lambda_distribution, weight):\n",
    "    poissons = Pmf()\n",
    "    \n",
    "    for lam, probability in lambda_distribution.Items():\n",
    "        poisson = MakePoissonPmf(lam=weight*lam, high=10)\n",
    "        poissons.Set(poisson, probability)\n",
    "    mix = MakeMixture(poissons)\n",
    "    return mix"
   ]
  },
  {
   "cell_type": "code",
   "execution_count": 27,
   "metadata": {
    "collapsed": true
   },
   "outputs": [],
   "source": [
    "part_game = make_weighted_poisson_distributions(germany_lam, 66/90)"
   ]
  },
  {
   "cell_type": "code",
   "execution_count": 28,
   "metadata": {},
   "outputs": [
    {
     "data": {
      "image/png": "[encoded data removed]",
      "text/plain": [
       "<matplotlib.figure.Figure at 0x1a127a5a90>"
      ]
     },
     "metadata": {},
     "output_type": "display_data"
    }
   ],
   "source": [
    "thinkplot.Pmf(part_game)\n",
    "thinkplot.Config(xlabel='Goals per game', ylabel='Probability')"
   ]
  },
  {
   "cell_type": "markdown",
   "metadata": {},
   "source": [
    "This allows me to find the how many more goals I expect Germany to score"
   ]
  },
  {
   "cell_type": "code",
   "execution_count": 29,
   "metadata": {},
   "outputs": [
    {
     "data": {
      "text/plain": [
       "1"
      ]
     },
     "execution_count": 29,
     "metadata": {},
     "output_type": "execute_result"
    }
   ],
   "source": [
    "part_game.Mode()"
   ]
  },
  {
   "cell_type": "markdown",
   "metadata": {},
   "source": [
    "And their chance of scoring 5 goals"
   ]
  },
  {
   "cell_type": "code",
   "execution_count": 30,
   "metadata": {},
   "outputs": [
    {
     "data": {
      "text/plain": [
       "0.037557996503539519"
      ]
     },
     "execution_count": 30,
     "metadata": {},
     "output_type": "execute_result"
    }
   ],
   "source": [
    "part_game.Prob(5)"
   ]
  },
  {
   "cell_type": "markdown",
   "metadata": {},
   "source": [
    "These seem low, but we only have 2 datapoints with which to update the hypotheses, which means the posterior lambda distribution is very similar to the prior lambda distribution, explaining these results."
   ]
  },
  {
   "cell_type": "markdown",
   "metadata": {},
   "source": [
    "**Exercise:** Which is a better way to break a tie: overtime or penalty shots?"
   ]
  },
  {
   "cell_type": "markdown",
   "metadata": {},
   "source": [
    "**Solution**\n",
    "\n",
    "Overtime consists of a certain amount of extra time. I'll assume most people would prefer to watch the game being played, instead of penalty shots, but that a tie needs to be broken eventually.\n",
    "\n",
    "Therefore, if - in the event of a tie - the game will go on for another 30 minutes without a team winning, this indicates penalty shots would have been better. \n",
    "\n",
    "Reusing the $\\lambda$ from the football stats: "
   ]
  },
  {
   "cell_type": "code",
   "execution_count": 31,
   "metadata": {
    "collapsed": true
   },
   "outputs": [],
   "source": [
    "team1_lam = football_lam()\n",
    "team2_lam = football_lam()"
   ]
  },
  {
   "cell_type": "code",
   "execution_count": 32,
   "metadata": {},
   "outputs": [
    {
     "data": {
      "text/plain": [
       "2.6192479234493895"
      ]
     },
     "execution_count": 32,
     "metadata": {},
     "output_type": "execute_result"
    }
   ],
   "source": [
    "# Simulating a tie\n",
    "team1_lam.Update(1)\n",
    "team2_lam.Update(1)"
   ]
  },
  {
   "cell_type": "code",
   "execution_count": 33,
   "metadata": {
    "collapsed": true
   },
   "outputs": [],
   "source": [
    "team1_overtime = make_weighted_poisson_distributions(team1_lam, 30/90)\n",
    "team2_overtime = make_weighted_poisson_distributions(team2_lam, 30/90)"
   ]
  },
  {
   "cell_type": "markdown",
   "metadata": {},
   "source": [
    "Now, I want to find the probability that one team will score more goals than the other, which I can do simply by subtracting their distributions"
   ]
  },
  {
   "cell_type": "code",
   "execution_count": 34,
   "metadata": {
    "collapsed": true
   },
   "outputs": [],
   "source": [
    "goal_diff = team1_overtime - team2_overtime"
   ]
  },
  {
   "cell_type": "code",
   "execution_count": 35,
   "metadata": {},
   "outputs": [
    {
     "data": {
      "image/png": "[encoded data removed]",
      "text/plain": [
       "<matplotlib.figure.Figure at 0x1a12520650>"
      ]
     },
     "metadata": {},
     "output_type": "display_data"
    }
   ],
   "source": [
    "thinkplot.Pmf(goal_diff)\n",
    "thinkplot.Config(xlabel='Goal difference in overtime', ylabel='Probability')"
   ]
  },
  {
   "cell_type": "markdown",
   "metadata": {},
   "source": [
    "And now, find the probability that the goal difference is not 0"
   ]
  },
  {
   "cell_type": "code",
   "execution_count": 36,
   "metadata": {},
   "outputs": [
    {
     "data": {
      "text/plain": [
       "0.67369784867444138"
      ]
     },
     "execution_count": 36,
     "metadata": {},
     "output_type": "execute_result"
    }
   ],
   "source": [
    "1 - goal_diff.Prob(0)"
   ]
  },
  {
   "cell_type": "markdown",
   "metadata": {},
   "source": [
    "So there's a 67 % chance of a tie-breaker in overtime; this seems like the more entertaining way to go!\n",
    "\n",
    "Of course, I can also do this for a different number of tied goals."
   ]
  },
  {
   "cell_type": "code",
   "execution_count": 37,
   "metadata": {
    "collapsed": true
   },
   "outputs": [],
   "source": [
    "def PenaltyOrOvertime(num_goals):\n",
    "    team1_lam = football_lam()\n",
    "    team2_lam = football_lam()\n",
    "    \n",
    "    # Simulating a tie\n",
    "    team1_lam.Update(num_goals)\n",
    "    team2_lam.Update(num_goals)\n",
    "    \n",
    "    team1_overtime = make_weighted_poisson_distributions(team1_lam, 30/90)\n",
    "    team2_overtime = make_weighted_poisson_distributions(team2_lam, 30/90)\n",
    "    \n",
    "    goal_diff = team1_overtime - team2_overtime\n",
    "    \n",
    "    return (1 - goal_diff.Prob(0))"
   ]
  },
  {
   "cell_type": "code",
   "execution_count": 38,
   "metadata": {},
   "outputs": [
    {
     "data": {
      "text/plain": [
       "0.67362576423609943"
      ]
     },
     "execution_count": 38,
     "metadata": {},
     "output_type": "execute_result"
    }
   ],
   "source": [
    "PenaltyOrOvertime(2)"
   ]
  },
  {
   "cell_type": "code",
   "execution_count": 39,
   "metadata": {},
   "outputs": [
    {
     "data": {
      "text/plain": [
       "0.67355363689454784"
      ]
     },
     "execution_count": 39,
     "metadata": {},
     "output_type": "execute_result"
    }
   ],
   "source": [
    "PenaltyOrOvertime(3)"
   ]
  },
  {
   "cell_type": "markdown",
   "metadata": {},
   "source": [
    "So it seems that the outcome of overtime remains relatively stable as the number of goals changes"
   ]
  },
  {
   "cell_type": "code",
   "execution_count": 40,
   "metadata": {},
   "outputs": [
    {
     "data": {
      "text/plain": [
       "0.67304754205255568"
      ]
     },
     "execution_count": 40,
     "metadata": {},
     "output_type": "execute_result"
    }
   ],
   "source": [
    "PenaltyOrOvertime(10)"
   ]
  },
  {
   "cell_type": "markdown",
   "metadata": {},
   "source": [
    "**Exercise:** Suppose that you are an ecologist sampling the insect population in a new environment. You deploy 100 traps in a test area and come back the next day to check on them. You find that 37 traps have been triggered, trapping an insect inside. Once a trap triggers, it cannot trap another insect until it has been reset.\n",
    "If you reset the traps and come back in two days, how many traps do you expect to find triggered? Compute a posterior predictive distribution for the number of traps."
   ]
  },
  {
   "cell_type": "markdown",
   "metadata": {
    "collapsed": true
   },
   "source": [
    "** Solution **\n",
    "\n",
    "I can model the triggering of traps as a Poisson process. I need to predict a value for $\\lambda$, and then update this estimate based on what has been observed. Here, my value for $\\lambda$ is the number of traps which will be triggered - on average - within the one day period.\n",
    "\n",
    "Since I have no idea how many insects are in the area to begin with - and their propensity for being trapped - I'll start with a uniform prior for $\\lambda$."
   ]
  },
  {
   "cell_type": "code",
   "execution_count": 46,
   "metadata": {
    "collapsed": true
   },
   "outputs": [],
   "source": [
    "from thinkbayes2 import MakeUniformPmf, EvalPoissonPmf"
   ]
  },
  {
   "cell_type": "code",
   "execution_count": 51,
   "metadata": {},
   "outputs": [],
   "source": [
    "class InsectLam(Suite):\n",
    "    \n",
    "        \n",
    "    def __init__(self):\n",
    "        pmf = MakeUniformPmf(low=0, high=100, n=101)\n",
    "        Suite.__init__(self, pmf)\n",
    "        \n",
    "    def Likelihood(self, data, hypo):\n",
    "        lam = hypo\n",
    "        like = EvalPoissonPmf(k=data, lam=lam)\n",
    "        return like"
   ]
  },
  {
   "cell_type": "code",
   "execution_count": 52,
   "metadata": {},
   "outputs": [
    {
     "data": {
      "text/plain": [
       "0.0099009900990071516"
      ]
     },
     "execution_count": 52,
     "metadata": {},
     "output_type": "execute_result"
    }
   ],
   "source": [
    "insect_lam = InsectLam()\n",
    "insect_lam.Update(37)"
   ]
  },
  {
   "cell_type": "code",
   "execution_count": 54,
   "metadata": {},
   "outputs": [
    {
     "data": {
      "image/png": "[encoded data removed]",
      "text/plain": [
       "<matplotlib.figure.Figure at 0x1a1243bb10>"
      ]
     },
     "metadata": {},
     "output_type": "display_data"
    }
   ],
   "source": [
    "thinkplot.Pmf(MakeUniformPmf(low=0, high=100, n=101), label='Prior')\n",
    "thinkplot.Pmf(insect_lam, label='Posterior')\n",
    "thinkplot.Config(xlabel='$\\lambda$', ylabel='probability')"
   ]
  },
  {
   "cell_type": "markdown",
   "metadata": {},
   "source": [
    "Next, I can use this distribution of lambda to make a mixture of likely outcomes. Note, since I'm coming back 2 days later, I can add two distributions for one day together, or multiply $\\lambda$ by 2 (as we saw before in the Bruins problem, the result is similar)."
   ]
  },
  {
   "cell_type": "code",
   "execution_count": 58,
   "metadata": {
    "collapsed": true
   },
   "outputs": [],
   "source": [
    "def make_poisson_distributions(lambda_distribution):\n",
    "    poissons = Pmf()\n",
    "    \n",
    "    for lam, probability in lambda_distribution.Items():\n",
    "        poisson = MakePoissonPmf(lam=lam, high=100)\n",
    "        poissons.Set(poisson, probability)\n",
    "    mix = MakeMixture(poissons)\n",
    "    return mix"
   ]
  },
  {
   "cell_type": "code",
   "execution_count": 59,
   "metadata": {
    "collapsed": true
   },
   "outputs": [],
   "source": [
    "day1 = make_poisson_distributions(insect_lam)\n",
    "day2 = make_poisson_distributions(insect_lam)\n",
    "\n",
    "result = day1 + day2"
   ]
  },
  {
   "cell_type": "markdown",
   "metadata": {},
   "source": [
    "Note: it's not completely fair to simply add them together, since strictly speaking the $\\lambda$ distribution changes for day 2 when less traps are untriggered, but given how much information we have, this seems like a fair approximation."
   ]
  },
  {
   "cell_type": "code",
   "execution_count": 62,
   "metadata": {},
   "outputs": [
    {
     "data": {
      "image/png": "[encoded data removed]",
      "text/plain": [
       "<matplotlib.figure.Figure at 0x1a12ccc090>"
      ]
     },
     "metadata": {},
     "output_type": "display_data"
    }
   ],
   "source": [
    "thinkplot.Pmf(result)\n",
    "thinkplot.Config(xlabel='Number of insect caught', ylabel='probability', xlim=(0,100))"
   ]
  }
 ],
 "metadata": {
  "kernelspec": {
   "display_name": "Python [default]",
   "language": "python",
   "name": "python2"
  },
  "language_info": {
   "codemirror_mode": {
    "name": "ipython",
    "version": 2
   },
   "file_extension": ".py",
   "mimetype": "text/x-python",
   "name": "python",
   "nbconvert_exporter": "python",
   "pygments_lexer": "ipython2",
   "version": "2.7.13"
  }
 },
 "nbformat": 4,
 "nbformat_minor": 1
}
