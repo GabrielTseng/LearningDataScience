{
 "cells": [
  {
   "cell_type": "markdown",
   "metadata": {},
   "source": [
    "# Think Bayes: Chapter 14\n",
    "\n",
    "Note: this exercise has been taken from the Think Bayes [book](http://www.greenteapress.com/thinkbayes/thinkbayes.pdf)"
   ]
  },
  {
   "cell_type": "code",
   "execution_count": 1,
   "metadata": {
    "collapsed": true
   },
   "outputs": [],
   "source": [
    "from __future__ import print_function, division\n",
    "\n",
    "% matplotlib inline\n",
    "import warnings\n",
    "warnings.filterwarnings('ignore')\n",
    "\n",
    "import math\n",
    "import numpy as np\n",
    "\n",
    "import os, sys\n",
    "\n",
    "sys.path.insert(1, os.path.join(sys.path[0], '..'))\n",
    "from thinkbayes2 import Pmf, Cdf, Suite, Joint\n",
    "import thinkplot"
   ]
  },
  {
   "cell_type": "markdown",
   "metadata": {},
   "source": [
    "** Question **\n",
    "\n",
    "This exercise is inspired by an example in Jaynes, Probability\n",
    "Theory.\n",
    "\n",
    "Suppose you buy a mosquito trap that is supposed to reduce the population of\n",
    "mosquitoes near your house. Each week, you empty the trap and count the number\n",
    "of mosquitoes captured. After the first week, you count 30 mosquitoes. After\n",
    "the second week, you count 20 mosquitoes. Estimate the percentage change in the\n",
    "number of mosquitoes in your yard.\n",
    "\n",
    "To answer this question, you have to make some modeling decisions. Here are some\n",
    "suggestions:\n",
    "\n",
    "• Suppose that each week a large number of mosquitoes, N, is bred in a wetland\n",
    "near your home.\n",
    "\n",
    "• During the week, some fraction of them, f1, wander into your yard, and of\n",
    "those some fraction, f2, are caught in the trap.\n",
    "\n",
    "• Your solution should take into account your prior belief about how much N\n",
    "is likely to change from one week to the next. You can do that by adding a\n",
    "level to the hierarchy to model the percent change in N."
   ]
  },
  {
   "cell_type": "markdown",
   "metadata": {},
   "source": [
    "** Solution **\n",
    "\n",
    "First, lets consider the causal relationship between these variables.\n",
    "\n",
    "Given some number of mosquitos who have bred, f1 will go to my home. Let's assume each mosquito acts independently, in which case this can be described using a binomial distribution; given that each mosquito has a probability p1 of going to my home, f1 is a binomial distribution with parameters p1 and N.\n",
    "\n",
    "Equally, assuming independence in the traps, and a probability p2 of being trapped, the mosquitos who are trapped can be described by a binomial distribution with parameters p2 and f1.\n",
    "\n",
    "Finally, I need to have some prior belief in how N will change from one week to the next. Let's assume that they halve from one week to the next, since the trap worked (hopefully)."
   ]
  },
  {
   "cell_type": "markdown",
   "metadata": {},
   "source": [
    "** Step 1: ratio of mosquitos trapped **\n",
    "\n",
    "Let's assume for this step that **p2** is 100."
   ]
  },
  {
   "cell_type": "code",
   "execution_count": 2,
   "metadata": {
    "collapsed": true
   },
   "outputs": [],
   "source": [
    "from thinkbayes2 import MakeUniformPmf, EvalBinomialPmf, MakeBinomialPmf"
   ]
  },
  {
   "cell_type": "code",
   "execution_count": 30,
   "metadata": {},
   "outputs": [],
   "source": [
    "class Trapped(Suite):\n",
    "    \"\"\"\n",
    "    Calculate the distribution of f2, the fraction of\n",
    "    mosquitoes caught in the trap\n",
    "    \"\"\"\n",
    "    def __init__(self, f1, N, low=0, high=1, n=10):\n",
    "        pmf = MakeUniformPmf(low, high, n)\n",
    "        Suite.__init__(self, pmf)\n",
    "        \n",
    "        self.f1 = f1\n",
    "        self.N = N\n",
    "    \n",
    "    def Likelihood(self, data, hypo):\n",
    "        k = data\n",
    "        f2 = hypo\n",
    "        f1 = self.f1\n",
    "        N = self.N\n",
    "        \n",
    "        # first, we calculate how many mosquitoes\n",
    "        # went into the yard\n",
    "        p1_dist = MakeBinomialPmf(N, f1)\n",
    "        \n",
    "        like = 0\n",
    "        for p1, prob in p1_dist.Items():\n",
    "            if (p1 > k) & (prob > 0):\n",
    "                like += (prob * EvalBinomialPmf(k, p1, f2))\n",
    "        return like\n",
    "    \n",
    "    def LogLikelihood(self, data, hypo):\n",
    "        like = self.Likelihood(data, hypo)\n",
    "        return np.log(like)"
   ]
  },
  {
   "cell_type": "code",
   "execution_count": 26,
   "metadata": {},
   "outputs": [
    {
     "data": {
      "text/plain": [
       "0.0063595582206627099"
      ]
     },
     "execution_count": 26,
     "metadata": {},
     "output_type": "execute_result"
    }
   ],
   "source": [
    "trapped_day_one = Trapped(f1=0.3, N=500)\n",
    "trapped_day_one.Update(30)"
   ]
  },
  {
   "cell_type": "code",
   "execution_count": 5,
   "metadata": {},
   "outputs": [
    {
     "data": {
      "image/png": "[encoded data removed]",
      "text/plain": [
       "<matplotlib.figure.Figure at 0x10a33ecd0>"
      ]
     },
     "metadata": {},
     "output_type": "display_data"
    }
   ],
   "source": [
    "thinkplot.Pmf(trapped_day_one)\n",
    "thinkplot.Config(xlabel='f2', ylabel='pmf')"
   ]
  },
  {
   "cell_type": "markdown",
   "metadata": {},
   "source": [
    "** Step 2: the ratio of mosquitoes who wandered into my yard **\n",
    "\n",
    "I now want to calculate f1. Let's assume the population of mosquitoes N is 500."
   ]
  },
  {
   "cell_type": "code",
   "execution_count": 6,
   "metadata": {},
   "outputs": [],
   "source": [
    "from thinkbayes2 import MakePmfFromItems"
   ]
  },
  {
   "cell_type": "code",
   "execution_count": 91,
   "metadata": {},
   "outputs": [],
   "source": [
    "class Wandered(Suite):\n",
    "    \"\"\"\n",
    "    Calculate the distribution of p1, the mosquitoes who\n",
    "    wander into my yard\n",
    "    \"\"\"\n",
    "    def __init__(self, f1s, N=1000):\n",
    "        traps = [Trapped(f1, N) for f1 in f1s]\n",
    "        Suite.__init__(self, traps)\n",
    "        \n",
    "        self.N = N\n",
    "    \n",
    "    def Likelihood(self, data, hypo):\n",
    "        hypo.Log()\n",
    "        hypo.LogUpdate(data)\n",
    "        hypo.Exp()\n",
    "        \n",
    "        normalizing_factor = hypo.Normalize()\n",
    "        return normalizing_factor if not np.isnan(normalizing_factor) else 0\n",
    "    \n",
    "    def DistOfR(self):\n",
    "        # This allows me to plot the posterior of p1\n",
    "        items = [(trapped.f1, prob) for trapped, prob in self.Items()]\n",
    "        return MakePmfFromItems(items)"
   ]
  },
  {
   "cell_type": "markdown",
   "metadata": {},
   "source": [
    "For instance, let's assume that p1 is any value between [30, 100]"
   ]
  },
  {
   "cell_type": "code",
   "execution_count": 79,
   "metadata": {
    "collapsed": true
   },
   "outputs": [],
   "source": [
    "f1s = np.linspace(0, 1, 10)"
   ]
  },
  {
   "cell_type": "code",
   "execution_count": 70,
   "metadata": {},
   "outputs": [
    {
     "data": {
      "text/plain": [
       "0.9858648517726624"
      ]
     },
     "execution_count": 70,
     "metadata": {},
     "output_type": "execute_result"
    }
   ],
   "source": [
    "wandering = Wandered(f1s=f1s)\n",
    "wandering.Update(30)"
   ]
  },
  {
   "cell_type": "code",
   "execution_count": 65,
   "metadata": {},
   "outputs": [],
   "source": [
    "post_wand = wandering.DistOfR()"
   ]
  },
  {
   "cell_type": "code",
   "execution_count": 114,
   "metadata": {},
   "outputs": [
    {
     "data": {
      "text/plain": [
       "Pmf({0.0: 0.0, 1.0: 0.10143378153728895, 0.77777777777777768: 0.10143378153728895, 0.1111111111111111: 0.18681259522017998, 0.55555555555555558: 0.10143378153728895, 0.88888888888888884: 0.10143378153728895, 0.44444444444444442: 0.10143378153729263, 0.33333333333333331: 0.10143378480876215, 0.22222222222222221: 0.10315093074732042, 0.66666666666666663: 0.10143378153728895})"
      ]
     },
     "execution_count": 114,
     "metadata": {},
     "output_type": "execute_result"
    }
   ],
   "source": [
    "post_wand"
   ]
  },
  {
   "cell_type": "code",
   "execution_count": 67,
   "metadata": {},
   "outputs": [
    {
     "data": {
      "image/png": "[encoded data removed]",
      "text/plain": [
       "<matplotlib.figure.Figure at 0x10a7b1d90>"
      ]
     },
     "metadata": {},
     "output_type": "display_data"
    }
   ],
   "source": [
    "post_wand = wandering.DistOfR()\n",
    "thinkplot.Pmf(post_wand)\n",
    "thinkplot.Config(xlabel='f1 (ratio of mosquitoes who went to the yard)', ylabel='Pmf')"
   ]
  },
  {
   "cell_type": "markdown",
   "metadata": {},
   "source": [
    "** Step 3: The number of mosquitoes in the wetland **"
   ]
  },
  {
   "cell_type": "code",
   "execution_count": 130,
   "metadata": {
    "collapsed": true
   },
   "outputs": [],
   "source": [
    "class Total(Suite):\n",
    "    \"\"\"\n",
    "    Calculate the distribution of p1, the mosquitoes who\n",
    "    wander into my yard\n",
    "    \"\"\"\n",
    "    def __init__(self, f1s, Ns, probs):\n",
    "        Pmf.__init__(self)\n",
    "        wanders = [Wandered(f1s, N) for N in Ns]\n",
    "        for prob, hypo in zip(probs, wanders):\n",
    "            self.Set(hypo, prob)\n",
    "        self.Normalize()  \n",
    "    \n",
    "    def Likelihood(self, data, hypo):\n",
    "        return hypo.Update(data)\n",
    "    \n",
    "    def DistOfR(self):\n",
    "        # This allows me to plot the posterior of N\n",
    "        items = [(wanders.N, prob) for wanders, prob in self.Items()]\n",
    "        return MakePmfFromItems(items)"
   ]
  },
  {
   "cell_type": "code",
   "execution_count": 131,
   "metadata": {},
   "outputs": [],
   "source": [
    "Ns = np.linspace(100, 1000, 10, dtype=np.int)\n",
    "probs = np.ones_like(Ns)"
   ]
  },
  {
   "cell_type": "code",
   "execution_count": 132,
   "metadata": {},
   "outputs": [],
   "source": [
    "total = Total(f1s, Ns, probs)"
   ]
  },
  {
   "cell_type": "code",
   "execution_count": 133,
   "metadata": {},
   "outputs": [
    {
     "data": {
      "text/plain": [
       "1.1092154885716332"
      ]
     },
     "execution_count": 133,
     "metadata": {},
     "output_type": "execute_result"
    }
   ],
   "source": [
    "total.Update(30)"
   ]
  },
  {
   "cell_type": "code",
   "execution_count": 134,
   "metadata": {},
   "outputs": [
    {
     "data": {
      "image/png": "[encoded data removed]",
      "text/plain": [
       "<matplotlib.figure.Figure at 0x10a911ad0>"
      ]
     },
     "metadata": {},
     "output_type": "display_data"
    }
   ],
   "source": [
    "total_N = total.DistOfR()\n",
    "thinkplot.Pmf(total_N)\n",
    "thinkplot.Config(xlabel='N', ylabel='Pmf')"
   ]
  },
  {
   "cell_type": "markdown",
   "metadata": {},
   "source": [
    "** Step 4: Generating a prior for week 2 **"
   ]
  },
  {
   "cell_type": "markdown",
   "metadata": {},
   "source": [
    "Great! Now that I have a posterior distribution for N the first week, I want to get my prior distribution for N during my second week. I expect the number of mosquitoes to have halved; let's adjust my posterior N from week 1 accordingly, to make a prior N for week 2."
   ]
  },
  {
   "cell_type": "code",
   "execution_count": 137,
   "metadata": {},
   "outputs": [],
   "source": [
    "prior_week2 = total_N / 2"
   ]
  },
  {
   "cell_type": "code",
   "execution_count": 145,
   "metadata": {},
   "outputs": [],
   "source": [
    "Ns_prior = []\n",
    "probs_prior = []\n",
    "\n",
    "for N, prob in prior_week2.Items():\n",
    "    Ns_prior.append(int(N))\n",
    "    probs_prior.append(prob)"
   ]
  },
  {
   "cell_type": "markdown",
   "metadata": {},
   "source": [
    "Finally, run the update step again"
   ]
  },
  {
   "cell_type": "code",
   "execution_count": 146,
   "metadata": {
    "collapsed": true
   },
   "outputs": [],
   "source": [
    "total_week2 = Total(f1s, Ns_prior, probs_prior)"
   ]
  },
  {
   "cell_type": "code",
   "execution_count": 147,
   "metadata": {},
   "outputs": [
    {
     "data": {
      "text/plain": [
       "1.3104511321453696"
      ]
     },
     "execution_count": 147,
     "metadata": {},
     "output_type": "execute_result"
    }
   ],
   "source": [
    "total_week2.Update(20)"
   ]
  },
  {
   "cell_type": "code",
   "execution_count": 148,
   "metadata": {},
   "outputs": [
    {
     "data": {
      "image/png": "[encoded data removed]",
      "text/plain": [
       "<matplotlib.figure.Figure at 0x10a7a2ad0>"
      ]
     },
     "metadata": {},
     "output_type": "display_data"
    }
   ],
   "source": [
    "total_N2 = total_week2.DistOfR()\n",
    "thinkplot.Pmf(total_N2)\n",
    "thinkplot.Config(xlabel='N', ylabel='Pmf')"
   ]
  },
  {
   "cell_type": "markdown",
   "metadata": {},
   "source": [
    "Finally, I can calculate how much the population is likely to have changed from one week to the next:"
   ]
  },
  {
   "cell_type": "code",
   "execution_count": 149,
   "metadata": {
    "collapsed": true
   },
   "outputs": [],
   "source": [
    "diff = total_N - total_N2"
   ]
  },
  {
   "cell_type": "code",
   "execution_count": 152,
   "metadata": {},
   "outputs": [
    {
     "data": {
      "image/png": "[encoded data removed]",
      "text/plain": [
       "<matplotlib.figure.Figure at 0x10aaf0050>"
      ]
     },
     "metadata": {},
     "output_type": "display_data"
    }
   ],
   "source": [
    "thinkplot.Pmf(diff)\n",
    "thinkplot.Config(xlabel='week 1 - week 2', ylabel='Pmf')"
   ]
  }
 ],
 "metadata": {
  "kernelspec": {
   "display_name": "Python 3",
   "language": "python",
   "name": "python3"
  },
  "language_info": {
   "codemirror_mode": {
    "name": "ipython",
    "version": 2
   },
   "file_extension": ".py",
   "mimetype": "text/x-python",
   "name": "python",
   "nbconvert_exporter": "python",
   "pygments_lexer": "ipython2",
   "version": "2.7.13"
  }
 },
 "nbformat": 4,
 "nbformat_minor": 2
}
