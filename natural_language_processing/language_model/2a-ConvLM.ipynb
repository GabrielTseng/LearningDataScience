{
 "cells": [
  {
   "cell_type": "markdown",
   "metadata": {},
   "source": [
    "# ConvLM\n",
    "\n",
    "A temporal convolutional language model is trained"
   ]
  },
  {
   "cell_type": "code",
   "execution_count": 1,
   "metadata": {},
   "outputs": [],
   "source": [
    "# % load_ext autoreload\n",
    "# % autoreload 2\n",
    "%matplotlib inline"
   ]
  },
  {
   "cell_type": "code",
   "execution_count": 2,
   "metadata": {},
   "outputs": [],
   "source": [
    "from pathlib import Path\n",
    "import pickle\n",
    "import numpy as np\n",
    "from tqdm import tqdm\n",
    "from collections import defaultdict\n",
    "import matplotlib.pyplot as plt\n",
    "\n",
    "import torch\n",
    "from torch import nn"
   ]
  },
  {
   "cell_type": "code",
   "execution_count": 3,
   "metadata": {},
   "outputs": [],
   "source": [
    "from lm.data import LMDataLoader\n",
    "from lm.models import ConvLM, accuracy, perplexity\n",
    "from lm.schedulers import OneCycle"
   ]
  },
  {
   "cell_type": "code",
   "execution_count": 4,
   "metadata": {},
   "outputs": [],
   "source": [
    "device = torch.device(\"cuda:0\")\n",
    "# device = torch.device('cpu')"
   ]
  },
  {
   "cell_type": "markdown",
   "metadata": {},
   "source": [
    "Loading the data, making dataloaders"
   ]
  },
  {
   "cell_type": "code",
   "execution_count": 5,
   "metadata": {},
   "outputs": [],
   "source": [
    "dict_path = Path('word2int.pickle')\n",
    "with dict_path.open('rb') as file:\n",
    "    d = pickle.load(file)"
   ]
  },
  {
   "cell_type": "code",
   "execution_count": 6,
   "metadata": {},
   "outputs": [],
   "source": [
    "xtrain = np.load('wikitext_train_int_tokens.npy')\n",
    "xval = np.load('wikitext_valtest_int_tokens.npy')"
   ]
  },
  {
   "cell_type": "code",
   "execution_count": 7,
   "metadata": {},
   "outputs": [],
   "source": [
    "xtrain_tensor = torch.from_numpy(xtrain).long()\n",
    "xval_tensor = torch.from_numpy(xval).long()\n",
    "\n",
    "if device.type == 'cuda':\n",
    "    xtrain_tensor = xtrain_tensor.cuda()\n",
    "    xval_tensor = xval_tensor.cuda()"
   ]
  },
  {
   "cell_type": "code",
   "execution_count": 8,
   "metadata": {},
   "outputs": [],
   "source": [
    "train_dataloader = LMDataLoader(xtrain_tensor, 70, 64)\n",
    "val_dataloader = LMDataLoader(xval_tensor, 70, 64)"
   ]
  },
  {
   "cell_type": "code",
   "execution_count": 9,
   "metadata": {},
   "outputs": [],
   "source": [
    "vocab_size = len(d)\n",
    "padding_idx = d['_pad_']"
   ]
  },
  {
   "cell_type": "code",
   "execution_count": 10,
   "metadata": {},
   "outputs": [],
   "source": [
    "embedding_dropout=0.1\n",
    "num_blocks=3\n",
    "kernel_size=2\n",
    "num_layers=3"
   ]
  },
  {
   "cell_type": "code",
   "execution_count": 11,
   "metadata": {},
   "outputs": [],
   "source": [
    "model = ConvLM(num_layers=num_layers, embedding_dropout=embedding_dropout, num_blocks=num_blocks, \n",
    "               vocab_size=vocab_size, kernel_size=kernel_size, padding_idx=padding_idx).cuda()"
   ]
  },
  {
   "cell_type": "code",
   "execution_count": 12,
   "metadata": {},
   "outputs": [
    {
     "data": {
      "text/plain": [
       "ConvLM(\n",
       "  (embedding): VDEmbedding(\n",
       "    (embedding): Embedding(30002, 400, padding_idx=0)\n",
       "  )\n",
       "  (TCNBlock_0): TCNBlock(\n",
       "    (conv1): WDConv(\n",
       "      (conv): Conv1d(400, 1150, kernel_size=(2,), stride=(1,), padding=(1,))\n",
       "    )\n",
       "    (conv2): WDConv(\n",
       "      (conv): Conv1d(1150, 1150, kernel_size=(2,), stride=(1,), padding=(1,))\n",
       "    )\n",
       "    (conv3): WDConv(\n",
       "      (conv): Conv1d(1150, 400, kernel_size=(2,), stride=(1,), padding=(1,))\n",
       "    )\n",
       "  )\n",
       "  (TCNBlock_1): TCNBlock(\n",
       "    (conv1): WDConv(\n",
       "      (conv): Conv1d(400, 1150, kernel_size=(2,), stride=(1,), padding=(2,), dilation=(2,))\n",
       "    )\n",
       "    (conv2): WDConv(\n",
       "      (conv): Conv1d(1150, 1150, kernel_size=(2,), stride=(1,), padding=(2,), dilation=(2,))\n",
       "    )\n",
       "    (conv3): WDConv(\n",
       "      (conv): Conv1d(1150, 400, kernel_size=(2,), stride=(1,), padding=(2,), dilation=(2,))\n",
       "    )\n",
       "  )\n",
       "  (TCNBlock_2): TCNBlock(\n",
       "    (conv1): WDConv(\n",
       "      (conv): Conv1d(400, 1150, kernel_size=(2,), stride=(1,), padding=(4,), dilation=(4,))\n",
       "    )\n",
       "    (conv2): WDConv(\n",
       "      (conv): Conv1d(1150, 1150, kernel_size=(2,), stride=(1,), padding=(4,), dilation=(4,))\n",
       "    )\n",
       "    (conv3): WDConv(\n",
       "      (conv): Conv1d(1150, 400, kernel_size=(2,), stride=(1,), padding=(4,), dilation=(4,))\n",
       "    )\n",
       "  )\n",
       "  (decoder): Linear(in_features=400, out_features=30002, bias=True)\n",
       "  (emb_drop): VariationalDropout()\n",
       ")"
      ]
     },
     "execution_count": 12,
     "metadata": {},
     "output_type": "execute_result"
    }
   ],
   "source": [
    "model"
   ]
  },
  {
   "cell_type": "markdown",
   "metadata": {},
   "source": [
    "Finally, define our losses"
   ]
  },
  {
   "cell_type": "code",
   "execution_count": 13,
   "metadata": {},
   "outputs": [],
   "source": [
    "crit = nn.CrossEntropyLoss()"
   ]
  },
  {
   "cell_type": "markdown",
   "metadata": {},
   "source": [
    "Now, lets find the maximum and minimum learning rates"
   ]
  },
  {
   "cell_type": "code",
   "execution_count": 14,
   "metadata": {},
   "outputs": [],
   "source": [
    "optimizer = torch.optim.Adam(model.parameters())"
   ]
  },
  {
   "cell_type": "code",
   "execution_count": 15,
   "metadata": {},
   "outputs": [
    {
     "name": "stderr",
     "output_type": "stream",
     "text": [
      " 92%|█████████▏| 471/514 [00:50<00:04,  9.26it/s]\n"
     ]
    }
   ],
   "source": [
    "starting_learning_rate = 1e-5\n",
    "ending_learning_rate = 1\n",
    "\n",
    "info = defaultdict(list)\n",
    "\n",
    "for batch_number, batch in (enumerate(tqdm(train_dataloader))):\n",
    "    \n",
    "    addition = (batch_number / len(train_dataloader)) * (ending_learning_rate - starting_learning_rate)\n",
    "    learning_rate = starting_learning_rate + addition\n",
    "    # update the optimizer learning rates\n",
    "    for g in optimizer.param_groups:\n",
    "        g['lr'] = learning_rate\n",
    "    info['lr'].append(learning_rate)\n",
    "    # Zero the gradients of my optimizer - 'reset' it\n",
    "    optimizer.zero_grad()\n",
    "\n",
    "    x, y = batch\n",
    "    pred = model(x)\n",
    "\n",
    "    loss = crit(pred, y)\n",
    "    acc = accuracy(pred, y)\n",
    "\n",
    "    info['loss'].append(loss.item())\n",
    "    info['accuracy'].append(acc)\n",
    "    \n",
    "    loss.backward()\n",
    "    optimizer.step()"
   ]
  },
  {
   "cell_type": "code",
   "execution_count": 16,
   "metadata": {},
   "outputs": [
    {
     "data": {
      "image/png": "[encoded data removed]",
      "text/plain": [
       "<Figure size 720x360 with 2 Axes>"
      ]
     },
     "metadata": {},
     "output_type": "display_data"
    }
   ],
   "source": [
    "fig, axes = plt.subplots(1, 2, figsize=(10,5))\n",
    "\n",
    "# First, lets plot the results from the whole test\n",
    "axes[0].plot(info['lr'], info['loss'])\n",
    "axes[0].set_xlabel('Learning Rate')\n",
    "axes[0].set_ylabel('Total loss')\n",
    "axes[0].set_xscale('log')\n",
    "\n",
    "# then, clipped\n",
    "axes[1].plot(info['lr'][:12], info['loss'][:12])\n",
    "axes[1].set_xlabel('Learning Rate')\n",
    "axes[1].set_ylabel('Total loss')\n",
    "axes[1].set_xscale('log')"
   ]
  },
  {
   "cell_type": "markdown",
   "metadata": {},
   "source": [
    "Next, lets pretrain the embedding layers only for one epoch"
   ]
  },
  {
   "cell_type": "code",
   "execution_count": 14,
   "metadata": {},
   "outputs": [],
   "source": [
    "emb_optimizer = torch.optim.Adam([pam for name, pam in model.named_parameters() if 'embedding' in name])"
   ]
  },
  {
   "cell_type": "code",
   "execution_count": 15,
   "metadata": {},
   "outputs": [],
   "source": [
    "emb_scheduler = OneCycle(emb_optimizer, len(train_dataloader), upswing=0.1, downswing=0.9, min_lr=1e-5,\n",
    "                         max_lr=1e-2)"
   ]
  },
  {
   "cell_type": "code",
   "execution_count": 16,
   "metadata": {},
   "outputs": [
    {
     "name": "stderr",
     "output_type": "stream",
     "text": [
      " 92%|█████████▏| 472/514 [02:40<00:14,  2.94it/s]\n"
     ]
    },
    {
     "name": "stdout",
     "output_type": "stream",
     "text": [
      "TRAINING: loss: 8.75012, accuracy: 0.05118, perplexity: 477.37187\n",
      "VALIDATION: loss: 8.130260467529297, accuracy: 0.07753, perplexity: 301.89972\n"
     ]
    }
   ],
   "source": [
    "# set the model to train\n",
    "model.train()\n",
    "# keep track of training scores, so they can be displayed later\n",
    "train_scores = defaultdict(list)\n",
    "\n",
    "for batch_number, batch in (enumerate(tqdm(train_dataloader))):\n",
    "    # Zero the gradients of my optimizer - 'reset' it\n",
    "    emb_optimizer.zero_grad()\n",
    "\n",
    "    x, y = batch\n",
    "    pred = model(x)\n",
    "\n",
    "    loss = crit(pred, y)\n",
    "    acc = accuracy(pred, y)\n",
    "\n",
    "    train_scores['loss'].append(loss.item())\n",
    "    train_scores['accuracy'].append(acc)\n",
    "    train_scores['perplexity'].append(perplexity(loss))\n",
    "\n",
    "    total_loss = loss\n",
    "    total_loss.backward()\n",
    "    emb_optimizer.step()\n",
    "    emb_scheduler.step()\n",
    "\n",
    "train_output_strings = []\n",
    "for key, val in train_scores.items():\n",
    "    mean_value = np.array(val).mean()\n",
    "    train_output_strings.append('{}: {}'.format(key, round(mean_value, 5)))\n",
    "\n",
    "if val_dataloader:\n",
    "    model.eval()\n",
    "    val_scores = defaultdict(list)\n",
    "    with torch.no_grad():\n",
    "        for batch_number, batch in enumerate(val_dataloader):\n",
    "            x, y = batch\n",
    "            pred = model(x)\n",
    "            val_loss = crit(pred, y)\n",
    "            acc = accuracy(pred, y)\n",
    "\n",
    "            val_scores['loss'].append(val_loss)\n",
    "            val_scores['accuracy'].append(acc)\n",
    "            val_scores['perplexity'].append(perplexity(val_loss))\n",
    "\n",
    "    val_output_strings = []\n",
    "    for key, val in val_scores.items():\n",
    "        mean_value = np.array(val).mean()\n",
    "        val_output_strings.append('{}: {}'.format(key, round(mean_value, 5)))\n",
    "print('TRAINING: {}, {}, {}'.format(*train_output_strings))\n",
    "print('VALIDATION: {}, {}, {}'.format(*val_output_strings))"
   ]
  },
  {
   "cell_type": "markdown",
   "metadata": {},
   "source": [
    "Then, everything"
   ]
  },
  {
   "cell_type": "code",
   "execution_count": 17,
   "metadata": {},
   "outputs": [],
   "source": [
    "optimizer = torch.optim.Adam(model.parameters())"
   ]
  },
  {
   "cell_type": "code",
   "execution_count": 18,
   "metadata": {},
   "outputs": [],
   "source": [
    "scheduler = OneCycle(optimizer, len(train_dataloader), upswing=2, downswing=18, min_lr=1e-5,\n",
    "                     max_lr=1e-2)"
   ]
  },
  {
   "cell_type": "code",
   "execution_count": 19,
   "metadata": {},
   "outputs": [],
   "source": [
    "num_epochs = scheduler.num_epochs()"
   ]
  },
  {
   "cell_type": "code",
   "execution_count": 20,
   "metadata": {
    "scrolled": false
   },
   "outputs": [
    {
     "name": "stderr",
     "output_type": "stream",
     "text": [
      " 91%|█████████▏| 470/514 [02:40<00:15,  2.93it/s]\n",
      "  0%|          | 0/514 [00:00<?, ?it/s]"
     ]
    },
    {
     "name": "stdout",
     "output_type": "stream",
     "text": [
      "TRAINING: loss: 7.78576, accuracy: 0.06526, perplexity: 238.46112\n",
      "VALIDATION: loss: 7.398240089416504, accuracy: 0.0692, perplexity: 177.22494\n"
     ]
    },
    {
     "name": "stderr",
     "output_type": "stream",
     "text": [
      " 92%|█████████▏| 471/514 [02:38<00:14,  2.96it/s]\n",
      "  0%|          | 0/514 [00:00<?, ?it/s]"
     ]
    },
    {
     "name": "stdout",
     "output_type": "stream",
     "text": [
      "TRAINING: loss: 7.52159, accuracy: 0.06973, perplexity: 194.93447\n",
      "VALIDATION: loss: 7.254260063171387, accuracy: 0.06692, perplexity: 161.69307\n"
     ]
    },
    {
     "name": "stderr",
     "output_type": "stream",
     "text": [
      " 93%|█████████▎| 476/514 [02:37<00:12,  3.02it/s]\n",
      "  0%|          | 0/514 [00:00<?, ?it/s]"
     ]
    },
    {
     "name": "stdout",
     "output_type": "stream",
     "text": [
      "TRAINING: loss: 7.45812, accuracy: 0.06792, perplexity: 186.32264\n",
      "VALIDATION: loss: 7.210090160369873, accuracy: 0.07238, perplexity: 158.82756\n"
     ]
    },
    {
     "name": "stderr",
     "output_type": "stream",
     "text": [
      " 92%|█████████▏| 474/514 [02:37<00:13,  3.02it/s]\n",
      "  0%|          | 0/514 [00:00<?, ?it/s]"
     ]
    },
    {
     "name": "stdout",
     "output_type": "stream",
     "text": [
      "TRAINING: loss: 7.37561, accuracy: 0.06916, perplexity: 176.04389\n",
      "VALIDATION: loss: 7.100150108337402, accuracy: 0.07282, perplexity: 143.45009\n"
     ]
    },
    {
     "name": "stderr",
     "output_type": "stream",
     "text": [
      " 91%|█████████▏| 470/514 [02:36<00:14,  3.01it/s]\n",
      "  0%|          | 0/514 [00:00<?, ?it/s]"
     ]
    },
    {
     "name": "stdout",
     "output_type": "stream",
     "text": [
      "TRAINING: loss: 7.33166, accuracy: 0.07011, perplexity: 169.38233\n",
      "VALIDATION: loss: 7.010270118713379, accuracy: 0.07097, perplexity: 135.07738\n"
     ]
    },
    {
     "name": "stderr",
     "output_type": "stream",
     "text": [
      " 92%|█████████▏| 471/514 [02:36<00:14,  3.01it/s]\n",
      "  0%|          | 1/514 [00:00<01:39,  5.17it/s]"
     ]
    },
    {
     "name": "stdout",
     "output_type": "stream",
     "text": [
      "TRAINING: loss: 7.29698, accuracy: 0.06943, perplexity: 165.42722\n",
      "VALIDATION: loss: 7.061389923095703, accuracy: 0.07385, perplexity: 142.66875\n"
     ]
    },
    {
     "name": "stderr",
     "output_type": "stream",
     "text": [
      " 92%|█████████▏| 471/514 [02:36<00:14,  3.01it/s]\n",
      "  0%|          | 0/514 [00:00<?, ?it/s]"
     ]
    },
    {
     "name": "stdout",
     "output_type": "stream",
     "text": [
      "TRAINING: loss: 7.25115, accuracy: 0.06967, perplexity: 160.46277\n",
      "VALIDATION: loss: 7.033160209655762, accuracy: 0.07234, perplexity: 140.19251\n"
     ]
    },
    {
     "name": "stderr",
     "output_type": "stream",
     "text": [
      " 92%|█████████▏| 471/514 [02:36<00:14,  3.01it/s]\n",
      "  0%|          | 0/514 [00:00<?, ?it/s]"
     ]
    },
    {
     "name": "stdout",
     "output_type": "stream",
     "text": [
      "TRAINING: loss: 7.27158, accuracy: 0.06688, perplexity: 163.00137\n",
      "VALIDATION: loss: 7.0100297927856445, accuracy: 0.07223, perplexity: 134.92942\n"
     ]
    },
    {
     "name": "stderr",
     "output_type": "stream",
     "text": [
      " 91%|█████████ | 468/514 [02:36<00:15,  3.00it/s]\n",
      "  0%|          | 0/514 [00:00<?, ?it/s]"
     ]
    },
    {
     "name": "stdout",
     "output_type": "stream",
     "text": [
      "TRAINING: loss: 7.1929, accuracy: 0.07128, perplexity: 153.82501\n",
      "VALIDATION: loss: 6.997910022735596, accuracy: 0.07482, perplexity: 135.26363\n"
     ]
    },
    {
     "name": "stderr",
     "output_type": "stream",
     "text": [
      " 92%|█████████▏| 471/514 [02:36<00:14,  3.02it/s]\n",
      "  0%|          | 0/514 [00:00<?, ?it/s]"
     ]
    },
    {
     "name": "stdout",
     "output_type": "stream",
     "text": [
      "TRAINING: loss: 7.22393, accuracy: 0.06811, perplexity: 157.14056\n",
      "VALIDATION: loss: 7.077000141143799, accuracy: 0.06943, perplexity: 141.62924\n"
     ]
    },
    {
     "name": "stderr",
     "output_type": "stream",
     "text": [
      " 91%|█████████▏| 470/514 [02:36<00:14,  3.01it/s]\n",
      "  0%|          | 0/514 [00:00<?, ?it/s]"
     ]
    },
    {
     "name": "stdout",
     "output_type": "stream",
     "text": [
      "TRAINING: loss: 7.22703, accuracy: 0.06666, perplexity: 160.12025\n",
      "VALIDATION: loss: 7.055980205535889, accuracy: 0.08119, perplexity: 139.34022\n"
     ]
    },
    {
     "name": "stderr",
     "output_type": "stream",
     "text": [
      " 92%|█████████▏| 472/514 [02:35<00:13,  3.03it/s]\n",
      "  0%|          | 0/514 [00:00<?, ?it/s]"
     ]
    },
    {
     "name": "stdout",
     "output_type": "stream",
     "text": [
      "TRAINING: loss: 7.17986, accuracy: 0.06892, perplexity: 151.67999\n",
      "VALIDATION: loss: 7.04019021987915, accuracy: 0.06899, perplexity: 137.9728\n"
     ]
    },
    {
     "name": "stderr",
     "output_type": "stream",
     "text": [
      " 92%|█████████▏| 471/514 [02:36<00:14,  3.02it/s]\n",
      "  0%|          | 0/514 [00:00<?, ?it/s]"
     ]
    },
    {
     "name": "stdout",
     "output_type": "stream",
     "text": [
      "TRAINING: loss: 7.2133, accuracy: 0.06542, perplexity: 155.86626\n",
      "VALIDATION: loss: 6.951109886169434, accuracy: 0.06978, perplexity: 129.13653\n"
     ]
    },
    {
     "name": "stderr",
     "output_type": "stream",
     "text": [
      " 92%|█████████▏| 472/514 [02:36<00:13,  3.02it/s]\n",
      "  0%|          | 0/514 [00:00<?, ?it/s]"
     ]
    },
    {
     "name": "stdout",
     "output_type": "stream",
     "text": [
      "TRAINING: loss: 7.16567, accuracy: 0.06905, perplexity: 151.401\n",
      "VALIDATION: loss: 6.936960220336914, accuracy: 0.06746, perplexity: 127.58035\n"
     ]
    },
    {
     "name": "stderr",
     "output_type": "stream",
     "text": [
      " 93%|█████████▎| 477/514 [02:36<00:12,  3.05it/s]\n",
      "  0%|          | 0/514 [00:00<?, ?it/s]"
     ]
    },
    {
     "name": "stdout",
     "output_type": "stream",
     "text": [
      "TRAINING: loss: 7.1747, accuracy: 0.06653, perplexity: 151.13826\n",
      "VALIDATION: loss: 6.930930137634277, accuracy: 0.07242, perplexity: 126.87478\n"
     ]
    },
    {
     "name": "stderr",
     "output_type": "stream",
     "text": [
      " 92%|█████████▏| 472/514 [02:36<00:13,  3.02it/s]\n",
      "  0%|          | 0/514 [00:00<?, ?it/s]"
     ]
    },
    {
     "name": "stdout",
     "output_type": "stream",
     "text": [
      "TRAINING: loss: 7.1479, accuracy: 0.06849, perplexity: 149.40525\n",
      "VALIDATION: loss: 6.9286298751831055, accuracy: 0.07429, perplexity: 126.16701\n"
     ]
    },
    {
     "name": "stderr",
     "output_type": "stream",
     "text": [
      " 91%|█████████ | 468/514 [02:36<00:15,  2.99it/s]\n",
      "  0%|          | 0/514 [00:00<?, ?it/s]"
     ]
    },
    {
     "name": "stdout",
     "output_type": "stream",
     "text": [
      "TRAINING: loss: 7.14078, accuracy: 0.06761, perplexity: 147.95229\n",
      "VALIDATION: loss: 6.919990062713623, accuracy: 0.06922, perplexity: 128.56475\n"
     ]
    },
    {
     "name": "stderr",
     "output_type": "stream",
     "text": [
      " 92%|█████████▏| 475/514 [02:37<00:12,  3.02it/s]\n",
      "  0%|          | 0/514 [00:00<?, ?it/s]"
     ]
    },
    {
     "name": "stdout",
     "output_type": "stream",
     "text": [
      "TRAINING: loss: 7.11955, accuracy: 0.06688, perplexity: 145.86096\n",
      "VALIDATION: loss: 6.871319770812988, accuracy: 0.07491, perplexity: 121.97034\n"
     ]
    },
    {
     "name": "stderr",
     "output_type": "stream",
     "text": [
      " 91%|█████████ | 468/514 [02:36<00:15,  2.99it/s]\n",
      "  0%|          | 0/514 [00:00<?, ?it/s]"
     ]
    },
    {
     "name": "stdout",
     "output_type": "stream",
     "text": [
      "TRAINING: loss: 7.13449, accuracy: 0.06774, perplexity: 147.25866\n",
      "VALIDATION: loss: 6.989620208740234, accuracy: 0.06562, perplexity: 133.64206\n"
     ]
    },
    {
     "name": "stderr",
     "output_type": "stream",
     "text": [
      " 93%|█████████▎| 477/514 [02:36<00:12,  3.05it/s]\n"
     ]
    },
    {
     "name": "stdout",
     "output_type": "stream",
     "text": [
      "TRAINING: loss: 7.17454, accuracy: 0.06502, perplexity: 151.78928\n",
      "VALIDATION: loss: 6.907800197601318, accuracy: 0.071, perplexity: 125.24823\n"
     ]
    }
   ],
   "source": [
    "overall_train = defaultdict(list)\n",
    "overall_val = defaultdict(list)\n",
    "\n",
    "for epoch in range(num_epochs):\n",
    "    # set the model to train\n",
    "    model.train()\n",
    "    # keep track of training scores, so they can be displayed later\n",
    "    train_scores = defaultdict(list)\n",
    "    \n",
    "    for batch_number, batch in (enumerate(tqdm(train_dataloader))):\n",
    "        # Zero the gradients of my optimizer - 'reset' it\n",
    "        optimizer.zero_grad()\n",
    "        \n",
    "        x, y = batch\n",
    "        pred = model(x)\n",
    "        \n",
    "        loss = crit(pred, y)\n",
    "        acc = accuracy(pred, y)\n",
    "        \n",
    "        train_scores['loss'].append(loss.item())\n",
    "        train_scores['accuracy'].append(acc)\n",
    "        train_scores['perplexity'].append(perplexity(loss))\n",
    "        \n",
    "        total_loss = loss\n",
    "        total_loss.backward()\n",
    "        optimizer.step()\n",
    "        scheduler.step()\n",
    "        \n",
    "    train_output_strings = []\n",
    "    for key, val in train_scores.items():\n",
    "        mean_value = np.array(val).mean()\n",
    "        train_output_strings.append('{}: {}'.format(key, round(mean_value, 5)))\n",
    "        overall_train[key].append(mean_value)\n",
    "        \n",
    "    if val_dataloader:\n",
    "        model.eval()\n",
    "        val_scores = defaultdict(list)\n",
    "        with torch.no_grad():\n",
    "            for batch_number, batch in enumerate(val_dataloader):\n",
    "                x, y = batch\n",
    "                pred = model(x)\n",
    "                val_loss = crit(pred, y)\n",
    "                acc = accuracy(pred, y)\n",
    "                \n",
    "                val_scores['loss'].append(val_loss)\n",
    "                val_scores['accuracy'].append(acc)\n",
    "                val_scores['perplexity'].append(perplexity(val_loss))\n",
    "                \n",
    "        val_output_strings = []\n",
    "        for key, val in val_scores.items():\n",
    "            mean_value = np.array(val).mean()\n",
    "            val_output_strings.append('{}: {}'.format(key, round(mean_value, 5)))\n",
    "            overall_val[key].append(mean_value)\n",
    "        print('TRAINING: {}, {}, {}'.format(*train_output_strings))\n",
    "        print('VALIDATION: {}, {}, {}'.format(*val_output_strings))"
   ]
  },
  {
   "cell_type": "code",
   "execution_count": 21,
   "metadata": {},
   "outputs": [],
   "source": [
    "model_information = {'state_dict': model.state_dict(),\n",
    "                     'val_acc': overall_val['accuracy'],\n",
    "                      'val_loss': overall_val['loss'],\n",
    "                      'train_acc': overall_train['accuracy'],\n",
    "                    'train_loss': overall_train['loss'],\n",
    "                    'num_blocks': num_blocks,\n",
    "                    'embedding_dropout': embedding_dropout,\n",
    "                    'kernel_size': kernel_size,\n",
    "                    'num_layers': num_layers}\n",
    "torch.save(model_information, 'ConvLM_B3_L3_K2.pth.tar')"
   ]
  },
  {
   "cell_type": "code",
   "execution_count": 22,
   "metadata": {},
   "outputs": [
    {
     "data": {
      "text/plain": [
       "<matplotlib.legend.Legend at 0x7f5f92829c18>"
      ]
     },
     "execution_count": 22,
     "metadata": {},
     "output_type": "execute_result"
    },
    {
     "data": {
      "image/png": "[encoded data removed]",
      "text/plain": [
       "<Figure size 1296x360 with 3 Axes>"
      ]
     },
     "metadata": {},
     "output_type": "display_data"
    }
   ],
   "source": [
    "fig, axes = plt.subplots(1, 3, figsize=(18,5))\n",
    "\n",
    "# First, lets plot accuracy\n",
    "axes[0].plot(range(len(overall_val['accuracy'])), overall_val['accuracy'], label='Validation')\n",
    "axes[0].plot(range(len(overall_train['accuracy'])), overall_train['accuracy'], label='Train')\n",
    "axes[0].set_xlabel('Epoch')\n",
    "axes[0].set_ylabel('Accuracy')\n",
    "axes[0].legend()\n",
    "\n",
    "# then, loss\n",
    "axes[1].plot(range(len(overall_val['loss'])), overall_val['loss'], label='Validation')\n",
    "axes[1].plot(range(len(overall_train['loss'])), overall_train['loss'], label='Train')\n",
    "axes[1].set_xlabel('Epoch')\n",
    "axes[1].set_ylabel('Loss')\n",
    "axes[1].legend()\n",
    "\n",
    "# finally, perplexity\n",
    "axes[2].plot(range(len(overall_val['perplexity'])), overall_val['perplexity'], label='Validation')\n",
    "axes[2].plot(range(len(overall_train['perplexity'])), overall_train['perplexity'], label='Train')\n",
    "axes[2].set_xlabel('Epoch')\n",
    "axes[2].set_ylabel('Perplexity')\n",
    "axes[2].legend()"
   ]
  }
 ],
 "metadata": {
  "kernelspec": {
   "display_name": "Environment (conda_fastai)",
   "language": "python",
   "name": "conda_fastai"
  },
  "language_info": {
   "codemirror_mode": {
    "name": "ipython",
    "version": 3
   },
   "file_extension": ".py",
   "mimetype": "text/x-python",
   "name": "python",
   "nbconvert_exporter": "python",
   "pygments_lexer": "ipython3",
   "version": "3.6.6"
  }
 },
 "nbformat": 4,
 "nbformat_minor": 2
}
